{
 "cells": [
  {
   "cell_type": "code",
   "execution_count": 2,
   "id": "bd25afd7",
   "metadata": {},
   "outputs": [
    {
     "name": "stdout",
     "output_type": "stream",
     "text": [
      "\n",
      "============================================================\n",
      "File: 2014 County Health Rankings Data - v6.xls\n",
      "Number of columns: 28\n",
      "Column names:\n",
      "  1. FIPS\n",
      "  2. State\n",
      "  3. County\n",
      "  4. pre mature Deaths\n",
      "  5. % Fair or Poor Health\n",
      "  6. Physically Unhealthy Days\n",
      "  7. Mentally Unhealthy Days\n",
      "  8. % low birth weight\n",
      "  9. % Smokers\n",
      "  10. % Obese\n",
      "  11. Food Environment Index\n",
      "  12. % With Access\n",
      "  13. % Excessive Drinking\n",
      "  14. # Alcohol-Impaired Driving Deaths\n",
      "  15. # Driving Deaths\n",
      "  16. Teen Birth Rate\n",
      "  17. # Uninsured\n",
      "  18. % Uninsured\n",
      "  19. PCP Rate\n",
      "  20. # Medicare enrollees\n",
      "  21. % Some College\n",
      "  22. % Unemployed\n",
      "  23. % Children in Poverty\n",
      "  24. % Single-Parent Households\n",
      "  25. Violent Crime Rate\n",
      "  26. % Severe Housing Problems\n",
      "  27. % Drive Alone\n",
      "  28. Long Commute - Drives Alone\n",
      "\n",
      "============================================================\n",
      "File: 2015 County Health Rankings Data - v3.xls\n",
      "Number of columns: 31\n",
      "Column names:\n",
      "  1. FIPS\n",
      "  2. State\n",
      "  3. County\n",
      "  4. premature Deaths\n",
      "  5. % Fair/Poor\n",
      "  6. Physically Unhealthy Days\n",
      "  7. Mentally Unhealthy Days\n",
      "  8. % low birth weight\n",
      "  9. % Smokers\n",
      "  10. % Obese\n",
      "  11. Food Environment Index\n",
      "  12. % With Access\n",
      "  13. % Excessive Drinking\n",
      "  14. # Alcohol-Impaired Driving Deaths\n",
      "  15. # Driving Deaths\n",
      "  16. Teen Birth Rate\n",
      "  17. # Uninsured\n",
      "  18. % Uninsured\n",
      "  19. PCP Rate\n",
      "  20. # Medicare Enrollees\n",
      "  21. Preventable Hosp. Rate\n",
      "  22. % Some College\n",
      "  23. % Unemployed\n",
      "  24. % Children in Poverty\n",
      "  25. Income Ratio\n",
      "  26. % Single-Parent Households\n",
      "  27. Association Rate\n",
      "  28. Violent Crime Rate\n",
      "  29. % Severe Housing Problems\n",
      "  30. % Drive Alone\n",
      "  31. % Long Commute - Drives Alone\n",
      "\n",
      "============================================================\n",
      "File: 2016 County Health Rankings Data - v3.xls\n",
      "Number of columns: 30\n",
      "Column names:\n",
      "  1. FIPS\n",
      "  2. State\n",
      "  3. County\n",
      "  4. Premature death\n",
      "  5. % Fair/Poor\n",
      "  6. Physically Unhealthy Days\n",
      "  7. Mentally Unhealthy Days\n",
      "  8. % LBW\n",
      "  9. % Smokers\n",
      "  10. % Obese\n",
      "  11. Food Environment Index\n",
      "  12. % With Access\n",
      "  13. % Excessive Drinking\n",
      "  14. # Alcohol-Impaired Driving Deaths\n",
      "  15. # Driving Deaths\n",
      "  16. Teen Birth Rate\n",
      "  17. % Uninsured\n",
      "  18. PCP Rate\n",
      "  19. # Medicare Enrollees\n",
      "  20. Preventable Hosp. Rate\n",
      "  21. % Some College\n",
      "  22. % Unemployed\n",
      "  23. % Children in Poverty\n",
      "  24. Income Ratio\n",
      "  25. % Single-Parent Households\n",
      "  26. Association Rate\n",
      "  27. Violent Crime Rate\n",
      "  28. % Severe Housing Problems\n",
      "  29. % Drive Alone\n",
      "  30. % Long Commute - Drives Alone\n",
      "\n",
      "============================================================\n",
      "File: 2017CountyHealthRankingsData.xls\n",
      "Number of columns: 30\n",
      "Column names:\n",
      "  1. FIPS\n",
      "  2. State\n",
      "  3. County\n",
      "  4. # Deaths\n",
      "  5. % Fair/Poor\n",
      "  6. Physically Unhealthy Days\n",
      "  7. Mentally Unhealthy Days\n",
      "  8. % LBW\n",
      "  9. % Smokers\n",
      "  10. % Obese\n",
      "  11. Food Environment Index\n",
      "  12. % With Access exercise \n",
      "  13. % Excessive Drinking\n",
      "  14. # Alcohol-Impaired Driving Deaths\n",
      "  15. # Driving Deaths\n",
      "  16. Teen Birth Rate\n",
      "  17. % Uninsured\n",
      "  18. PCP Rate\n",
      "  19. # Medicare Enrollees\n",
      "  20. Preventable Hosp. Rate\n",
      "  21. % Some College\n",
      "  22. % Unemployed\n",
      "  23. % Children in Poverty\n",
      "  24. Income Ratio\n",
      "  25. % Single-Parent Households\n",
      "  26. Association Rate\n",
      "  27. Violent Crime Rate\n",
      "  28. % Severe Housing Problems\n",
      "  29. % Drive Alone\n",
      "  30. % Long Commute - Drives Alone\n",
      "\n",
      "============================================================\n",
      "File: 2018 County Health Rankings Data - v2.xls\n",
      "Number of columns: 29\n",
      "Column names:\n",
      "  1. FIPS\n",
      "  2. State\n",
      "  3. County\n",
      "  4. % Fair/Poor\n",
      "  5. Physically Unhealthy Days\n",
      "  6. Mentally Unhealthy Days\n",
      "  7. % LBW\n",
      "  8. % Smokers\n",
      "  9. % Obese\n",
      "  10. Food Environment Index\n",
      "  11. % With Access\n",
      "  12. % Excessive Drinking\n",
      "  13. # Alcohol-Impaired Driving Deaths\n",
      "  14. # Driving Deaths\n",
      "  15. Teen Birth Rate\n",
      "  16. % Uninsured\n",
      "  17. PCP Rate\n",
      "  18. # Medicare Enrollees\n",
      "  19. Preventable Hosp. Rate\n",
      "  20. % Some College\n",
      "  21. % Unemployed\n",
      "  22. % Children in Poverty\n",
      "  23. Income Ratio\n",
      "  24. % Single-Parent Households\n",
      "  25. Association Rate\n",
      "  26. Violent Crime Rate\n",
      "  27. % Severe Housing Problems\n",
      "  28. % Drive Alone\n",
      "  29. % Long Commute - Drives Alone\n",
      "\n",
      "============================================================\n",
      "File: 2019 County Health Rankings Data - v3.xls\n",
      "Number of columns: 28\n",
      "Column names:\n",
      "  1. FIPS\n",
      "  2. State\n",
      "  3. County\n",
      "  4. % Fair/Poor\n",
      "  5. Physically Unhealthy Days\n",
      "  6. Mentally Unhealthy Days\n",
      "  7. % LBW\n",
      "  8. % Smokers\n",
      "  9. % Obese\n",
      "  10. Food Environment Index\n",
      "  11. % With Access\n",
      "  12. % Excessive Drinking\n",
      "  13. # Alcohol-Impaired Driving Deaths\n",
      "  14. # Driving Deaths\n",
      "  15. Teen Birth Rate\n",
      "  16. % Uninsured\n",
      "  17. PCP Rate\n",
      "  18. Preventable Hosp. Rate\n",
      "  19. % Some College\n",
      "  20. % Unemployed\n",
      "  21. % Children in Poverty\n",
      "  22. Income Ratio\n",
      "  23. % Single-Parent Households\n",
      "  24. Association Rate\n",
      "  25. Violent Crime Rate\n",
      "  26. % Severe Housing Problems\n",
      "  27. % Drive Alone\n",
      "  28. % Long Commute - Drives Alone\n",
      "\n",
      "============================================================\n",
      "File: 2020 County Health Rankings Data - v2.xlsx\n",
      "Number of columns: 30\n",
      "Column names:\n",
      "  1. FIPS\n",
      "  2. State\n",
      "  3. County\n",
      "  4. Deaths\n",
      "  5. % Fair or Poor Health\n",
      "  6. Average Number of Physically Unhealthy Days\n",
      "  7. Average Number of Mentally Unhealthy Days\n",
      "  8. % Low Birthweight\n",
      "  9. % Smokers\n",
      "  10. % Adults with Obesity\n",
      "  11. Food Environment Index\n",
      "  12. % Physically Inactive\n",
      "  13. % With Access to Exercise Opportunities\n",
      "  14. % Excessive Drinking\n",
      "  15. # Alcohol-Impaired Driving Deaths\n",
      "  16. # Driving Deaths\n",
      "  17. Teen Birth Rate\n",
      "  18. % Uninsured\n",
      "  19. Primary Care Physicians Ratio\n",
      "  20. Preventable Hospitalization Rate\n",
      "  21. % Some College\n",
      "  22. % Unemployed\n",
      "  23. % Children in Poverty\n",
      "  24. Income Ratio\n",
      "  25. % Single-Parent Households\n",
      "  26. Social Association Rate\n",
      "  27. Violent Crime Rate\n",
      "  28. % Severe Housing Problems\n",
      "  29. % Drive Alone to Work\n",
      "  30. % Long Commute - Drives Alone\n",
      "\n",
      "============================================================\n",
      "File: 2021 County Health Rankings Data - v1.xlsx\n",
      "Number of columns: 29\n",
      "Column names:\n",
      "  1. FIPS\n",
      "  2. State\n",
      "  3. County\n",
      "  4. Deaths\n",
      "  5. % Fair or Poor Health\n",
      "  6. Average Number of Physically Unhealthy Days\n",
      "  7. Average Number of Mentally Unhealthy Days\n",
      "  8. % Low birthweight\n",
      "  9. % Smokers\n",
      "  10. % Adults with Obesity\n",
      "  11. Food Environment Index\n",
      "  12. % With Access to Exercise Opportunities\n",
      "  13. % Excessive Drinking\n",
      "  14. # Alcohol-Impaired Driving Deaths\n",
      "  15. # Driving Deaths\n",
      "  16. Teen Birth Rate\n",
      "  17. % Uninsured\n",
      "  18. Primary Care Physicians Ratio\n",
      "  19. Preventable Hospitalization Rate\n",
      "  20. % Some College\n",
      "  21. % Unemployed\n",
      "  22. % Children in Poverty\n",
      "  23. Income Ratio\n",
      "  24. % Children in Single-Parent Households\n",
      "  25. Social Association Rate\n",
      "  26. Violent Crime Rate\n",
      "  27. % Severe Housing Problems\n",
      "  28. % Drive Alone to Work\n",
      "  29. % Long Commute - Drives Alone\n",
      "\n",
      "============================================================\n",
      "File: 2022 County Health Rankings Data - v1.xlsx\n",
      "Number of columns: 29\n",
      "Column names:\n",
      "  1. FIPS\n",
      "  2. State\n",
      "  3. County\n",
      "  4. Deaths\n",
      "  5. % Fair or Poor Health\n",
      "  6. Average Number of Physically Unhealthy Days\n",
      "  7. Average Number of Mentally Unhealthy Days\n",
      "  8. % Low birthweight\n",
      "  9. % Smokers\n",
      "  10. % Adults with Obesity\n",
      "  11. Food Environment Index\n",
      "  12. % With Access to Exercise Opportunities\n",
      "  13. % Excessive Drinking\n",
      "  14. # Alcohol-Impaired Driving Deaths\n",
      "  15. # Driving Deaths\n",
      "  16. Teen Birth Rate\n",
      "  17. % Uninsured\n",
      "  18. Primary Care Physicians Ratio\n",
      "  19. Preventable Hospitalization Rate\n",
      "  20. % Some College\n",
      "  21. % Unemployed\n",
      "  22. % Children in Poverty\n",
      "  23. Income Ratio\n",
      "  24. % Children in Single-Parent Households\n",
      "  25. Social Association Rate\n",
      "  26. Violent Crime Rate\n",
      "  27. % Severe Housing Problems\n",
      "  28. % Drive Alone to Work\n",
      "  29. % Long Commute - Drives Alone\n",
      "\n",
      "============================================================\n",
      "File: 2023 County Health Rankings Data - v2.xlsx\n",
      "Number of columns: 31\n",
      "Column names:\n",
      "  1. FIPS\n",
      "  2. State\n",
      "  3. County\n",
      "  4. Deaths\n",
      "  5. % Fair or Poor Health\n",
      "  6. Average Number of Physically Unhealthy Days\n",
      "  7. Average Number of Mentally Unhealthy Days\n",
      "  8. % Low Birthweight\n",
      "  9. % Adults Reporting Currently Smoking\n",
      "  10. % Adults with Obesity\n",
      "  11. Food Environment Index\n",
      "  12. % With Access to Exercise Opportunities\n",
      "  13. % Excessive Drinking\n",
      "  14. # Alcohol-Impaired Driving Deaths\n",
      "  15. # Driving Deaths\n",
      "  16. Teen Birth Rate\n",
      "  17. % Uninsured\n",
      "  18. Primary Care Physicians Ratio\n",
      "  19. Quartile\n",
      "  20. # Dentists\n",
      "  21. Dentist Rate\n",
      "  22. Dentist Ratio\n",
      "  23. Preventable Hospitalization Rate\n",
      "  24. % Some College\n",
      "  25. % Unemployed\n",
      "  26. % Children in Poverty\n",
      "  27. Income Ratio\n",
      "  28. % Children in Single-Parent Households\n",
      "  29. Social Association Rate\n",
      "  30. % Severe Housing Problems\n",
      "  31. % Long Commute - Drives Alone\n",
      "\n",
      "============================================================\n",
      "File: 2024_county_health_release_data_-_v1 (1).xlsx\n",
      "Number of columns: 29\n",
      "Column names:\n",
      "  1. FIPS\n",
      "  2. State\n",
      "  3. County\n",
      "  4. premature Deaths\n",
      "  5. % Fair or Poor Health\n",
      "  6. Average Number of Physically Unhealthy Days\n",
      "  7. Average Number of Mentally Unhealthy Days\n",
      "  8. % Low Birthweight\n",
      "  9. % Adults Reporting Currently Smoking\n",
      "  10. % Adults with Obesity\n",
      "  11. Food Environment Index\n",
      "  12. % With Access to Exercise Opportunities\n",
      "  13. % Excessive Drinking\n",
      "  14. # Alcohol-Impaired Driving Deaths\n",
      "  15. # Driving Deaths\n",
      "  16. Teen Birth Rate\n",
      "  17. # Uninsured\n",
      "  18. % Uninsured\n",
      "  19. Primary Care Physicians Rate\n",
      "  20. Preventable Hospitalization Rate\n",
      "  21. % Some College\n",
      "  22. % Unemployed\n",
      "  23. % Children in Poverty\n",
      "  24. Income Ratio\n",
      "  25. % Children in Single-Parent Households\n",
      "  26. Social Association Rate\n",
      "  27. % Severe Housing Problems\n",
      "  28. % Drive Alone to Work\n",
      "  29. % Long Commute - Drives Alone\n"
     ]
    }
   ],
   "source": [
    "import pandas as pd\n",
    "import os\n",
    "from pathlib import Path\n",
    "\n",
    "# Define the folder path\n",
    "folder_path = r\"C:\\Users\\liuc\\Desktop\\talent rentention\\Healthdata2\"\n",
    "\n",
    "# Get all Excel files in the folder\n",
    "excel_files = [f for f in os.listdir(folder_path) if f.endswith(('.xlsx', '.xls'))]\n",
    "\n",
    "# Sort files by name to maintain chronological order\n",
    "excel_files.sort()\n",
    "\n",
    "# Dictionary to store column names for each file\n",
    "column_info = {}\n",
    "\n",
    "# Loop through each file\n",
    "for file in excel_files:\n",
    "    file_path = os.path.join(folder_path, file)\n",
    "    \n",
    "    try:\n",
    "        # Read the specific sheet \"Ranked Measure Selected\"\n",
    "        df = pd.read_excel(file_path, sheet_name='Ranked Measure Data')\n",
    "        \n",
    "        # Get column names\n",
    "        columns = df.columns.tolist()\n",
    "        \n",
    "        # Store in dictionary\n",
    "        column_info[file] = columns\n",
    "        \n",
    "        print(f\"\\n{'='*60}\")\n",
    "        print(f\"File: {file}\")\n",
    "        print(f\"Number of columns: {len(columns)}\")\n",
    "        print(f\"Column names:\")\n",
    "        for i, col in enumerate(columns, 1):\n",
    "            print(f\"  {i}. {col}\")\n",
    "            \n",
    "    except Exception as e:\n",
    "        print(f\"\\nError reading {file}: {str(e)}\")\n",
    "        column_info[file] = f\"Error: {str(e)}\"\n"
   ]
  },
  {
   "cell_type": "code",
   "execution_count": 4,
   "id": "39a00f0f",
   "metadata": {},
   "outputs": [
    {
     "name": "stdout",
     "output_type": "stream",
     "text": [
      "Processed 2014 County Health Rankings Data - v6.xls: 3141 rows, Year: 2014\n",
      "Processed 2015 County Health Rankings Data - v3.xls: 3141 rows, Year: 2015\n",
      "Processed 2016 County Health Rankings Data - v3.xls: 3141 rows, Year: 2016\n",
      "Processed 2017CountyHealthRankingsData.xls: 3136 rows, Year: 2017\n",
      "Processed 2018 County Health Rankings Data - v2.xls: 3142 rows, Year: 2018\n",
      "Processed 2019 County Health Rankings Data - v3.xls: 3142 rows, Year: 2019\n",
      "Processed 2020 County Health Rankings Data - v2.xlsx: 3193 rows, Year: 2020\n",
      "Processed 2021 County Health Rankings Data - v1.xlsx: 3193 rows, Year: 2021\n",
      "Processed 2022 County Health Rankings Data - v1.xlsx: 3193 rows, Year: 2022\n",
      "Processed 2023 County Health Rankings Data - v2.xlsx: 3193 rows, Year: 2023\n",
      "Processed 2024_county_health_release_data_-_v1 (1).xlsx: 3201 rows, Year: 2024\n"
     ]
    }
   ],
   "source": [
    "import pandas as pd\n",
    "import os\n",
    "import numpy as np\n",
    "\n",
    "# Define the folder path\n",
    "folder_path = r\"C:\\Users\\liuc\\Desktop\\talent rentention\\Healthdata2\"\n",
    "\n",
    "# Get all Excel files\n",
    "excel_files = sorted([f for f in os.listdir(folder_path) if f.endswith(('.xlsx', '.xls'))])\n",
    "\n",
    "# Column name mapping dictionary to standardize names\n",
    "column_mapping = {\n",
    "    # FIPS, State, County (consistent)\n",
    "    'FIPS': 'FIPS',\n",
    "    'State': 'State',\n",
    "    'County': 'County',\n",
    "    \n",
    "    # Deaths/Premature Deaths variations\n",
    "    'pre mature Deaths': 'Premature Deaths',\n",
    "    'premature Deaths': 'Premature Deaths',\n",
    "    'Premature death': 'Premature Deaths',\n",
    "    '# Deaths': 'Premature Deaths',\n",
    "    'Deaths': 'Premature Deaths',\n",
    "    \n",
    "    # Fair/Poor Health variations\n",
    "    '% Fair or Poor Health': '% Fair or Poor Health',\n",
    "    '% Fair/Poor': '% Fair or Poor Health',\n",
    "    \n",
    "    # Physically Unhealthy Days\n",
    "    'Physically Unhealthy Days': 'Physically Unhealthy Days',\n",
    "    'Average Number of Physically Unhealthy Days': 'Physically Unhealthy Days',\n",
    "    \n",
    "    # Mentally Unhealthy Days\n",
    "    'Mentally Unhealthy Days': 'Mentally Unhealthy Days',\n",
    "    'Average Number of Mentally Unhealthy Days': 'Mentally Unhealthy Days',\n",
    "    \n",
    "    # Low Birth Weight\n",
    "    '% low birth weight': '% Low Birthweight',\n",
    "    '% Low birthweight': '% Low Birthweight',\n",
    "    '% Low Birthweight': '% Low Birthweight',\n",
    "    '% LBW': '% Low Birthweight',\n",
    "    \n",
    "    # Smoking\n",
    "    '% Smokers': '% Smokers',\n",
    "    '% Adults Reporting Currently Smoking': '% Smokers',\n",
    "    \n",
    "    # Obesity\n",
    "    '% Obese': '% Adults with Obesity',\n",
    "    '% Adults with Obesity': '% Adults with Obesity',\n",
    "    \n",
    "    # Food Environment Index (consistent)\n",
    "    'Food Environment Index': 'Food Environment Index',\n",
    "    \n",
    "    # Physical Activity/Exercise Access\n",
    "    '% With Access': '% With Access to Exercise Opportunities',\n",
    "    '% With Access exercise': '% With Access to Exercise Opportunities',\n",
    "    '% With Access to Exercise Opportunities': '% With Access to Exercise Opportunities',\n",
    "    '% Physically Inactive': '% Physically Inactive',\n",
    "    \n",
    "    # Excessive Drinking (consistent)\n",
    "    '% Excessive Drinking': '% Excessive Drinking',\n",
    "    \n",
    "    # Driving Deaths\n",
    "    '# Alcohol-Impaired Driving Deaths': '# Alcohol-Impaired Driving Deaths',\n",
    "    '# Driving Deaths': '# Driving Deaths',\n",
    "    \n",
    "    # Teen Birth Rate (consistent)\n",
    "    'Teen Birth Rate': 'Teen Birth Rate',\n",
    "    \n",
    "    # Uninsured\n",
    "    '# Uninsured': '# Uninsured',\n",
    "    '% Uninsured': '% Uninsured',\n",
    "    \n",
    "    # Primary Care Physicians\n",
    "    'PCP Rate': 'Primary Care Physicians Rate',\n",
    "    'Primary Care Physicians Ratio': 'Primary Care Physicians Rate',\n",
    "    'Primary Care Physicians Rate': 'Primary Care Physicians Rate',\n",
    "    \n",
    "    # Medicare\n",
    "    '# Medicare enrollees': '# Medicare Enrollees',\n",
    "    '# Medicare Enrollees': '# Medicare Enrollees',\n",
    "    \n",
    "    # Preventable Hospitalizations\n",
    "    'Preventable Hosp. Rate': 'Preventable Hospitalization Rate',\n",
    "    'Preventable Hospitalization Rate': 'Preventable Hospitalization Rate',\n",
    "    \n",
    "    # Education\n",
    "    '% Some College': '% Some College',\n",
    "    \n",
    "    # Unemployment\n",
    "    '% Unemployed': '% Unemployed',\n",
    "    \n",
    "    # Child Poverty\n",
    "    '% Children in Poverty': '% Children in Poverty',\n",
    "    \n",
    "    # Income Ratio\n",
    "    'Income Ratio': 'Income Ratio',\n",
    "    \n",
    "    # Single-Parent Households\n",
    "    '% Single-Parent Households': '% Children in Single-Parent Households',\n",
    "    '% Children in Single-Parent Households': '% Children in Single-Parent Households',\n",
    "    \n",
    "    # Social Association\n",
    "    'Association Rate': 'Social Association Rate',\n",
    "    'Social Association Rate': 'Social Association Rate',\n",
    "    \n",
    "    # Crime\n",
    "    'Violent Crime Rate': 'Violent Crime Rate',\n",
    "    \n",
    "    # Housing\n",
    "    '% Severe Housing Problems': '% Severe Housing Problems',\n",
    "    \n",
    "    # Commuting\n",
    "    '% Drive Alone': '% Drive Alone to Work',\n",
    "    '% Drive Alone to Work': '% Drive Alone to Work',\n",
    "    'Long Commute - Drives Alone': '% Long Commute - Drives Alone',\n",
    "    '% Long Commute - Drives Alone': '% Long Commute - Drives Alone',\n",
    "    \n",
    "    # Dentist columns (2023 specific)\n",
    "    'Quartile': 'Quartile',\n",
    "    '# Dentists': '# Dentists',\n",
    "    'Dentist Rate': 'Dentist Rate',\n",
    "    'Dentist Ratio': 'Dentist Ratio'\n",
    "}\n",
    "\n",
    "# List to store all dataframes\n",
    "all_dfs = []\n",
    "\n",
    "# Process each file\n",
    "for file in excel_files:\n",
    "    file_path = os.path.join(folder_path, file)\n",
    "    \n",
    "    try:\n",
    "        # Extract year from filename\n",
    "        if '2014' in file:\n",
    "            year = 2014\n",
    "        elif '2015' in file:\n",
    "            year = 2015\n",
    "        elif '2016' in file:\n",
    "            year = 2016\n",
    "        elif '2017' in file:\n",
    "            year = 2017\n",
    "        elif '2018' in file:\n",
    "            year = 2018\n",
    "        elif '2019' in file:\n",
    "            year = 2019\n",
    "        elif '2020' in file:\n",
    "            year = 2020\n",
    "        elif '2021' in file:\n",
    "            year = 2021\n",
    "        elif '2022' in file:\n",
    "            year = 2022\n",
    "        elif '2023' in file:\n",
    "            year = 2023\n",
    "        elif '2024' in file:\n",
    "            year = 2024\n",
    "        else:\n",
    "            year = 'Unknown'\n",
    "        \n",
    "        # Read the Excel file\n",
    "        df = pd.read_excel(file_path, sheet_name='Ranked Measure Data')\n",
    "        \n",
    "        # Add year column\n",
    "        df['Year'] = year\n",
    "        \n",
    "        # Rename columns using the mapping\n",
    "        df = df.rename(columns=column_mapping)\n",
    "        \n",
    "        # Add to list\n",
    "        all_dfs.append(df)\n",
    "        \n",
    "        print(f\"Processed {file}: {len(df)} rows, Year: {year}\")\n",
    "        \n",
    "    except Exception as e:\n",
    "        print(f\"Error processing {file}: {str(e)}\")\n",
    "\n",
    "# Get all unique columns across all dataframes\n",
    "all_columns = set()\n",
    "for df in all_dfs:\n",
    "    all_columns.update(df.columns)\n",
    "\n",
    "# Remove 'Year' from all_columns as we'll add it at a specific position\n",
    "all_columns.discard('Year')\n",
    "\n",
    "# Define the order of columns (put most important ones first)\n",
    "column_order = ['Year', 'FIPS', 'State', 'County'] + sorted(list(all_columns - {'FIPS', 'State', 'County'}))\n",
    "\n",
    "# Standardize all dataframes to have the same columns\n",
    "standardized_dfs = []\n",
    "for df in all_dfs:\n",
    "    # Add missing columns with NaN\n",
    "    for col in column_order:\n",
    "        if col not in df.columns:\n",
    "            df[col] = np.nan\n",
    "    \n",
    "    # Reorder columns\n",
    "    df = df[column_order]\n",
    "    standardized_dfs.append(df)\n",
    "\n",
    "# Combine all dataframes\n",
    "combined_df = pd.concat(standardized_dfs, ignore_index=True)\n",
    "\n",
    "# Sort by Year, State, and County\n",
    "combined_df = combined_df.sort_values(['Year', 'State', 'County'])\n"
   ]
  },
  {
   "cell_type": "code",
   "execution_count": 6,
   "id": "ad6bec48",
   "metadata": {},
   "outputs": [
    {
     "name": "stdout",
     "output_type": "stream",
     "text": [
      "Original shape: (34816, 38)\n",
      "Rows with null County: 255\n",
      "After removing null counties: (34561, 38)\n",
      "\n",
      "============================================================\n",
      "Columns with missing data:\n",
      "============================================================\n",
      "                                     Column  Missing_Count  Total_Rows  \\\n",
      "25                             Dentist Rate          31505       34561   \n",
      "5                                # Dentists          31505       34561   \n",
      "26                            Dentist Ratio          31505       34561   \n",
      "23                  % With Access exercise           31498       34561   \n",
      "34                                 Quartile          31479       34561   \n",
      "17                    % Physically Inactive          31419       34561   \n",
      "8                               # Uninsured          25139       34561   \n",
      "7                      # Medicare Enrollees          19499       34561   \n",
      "31                         Premature Deaths           8309       34561   \n",
      "37                       Violent Crime Rate           7921       34561   \n",
      "32         Preventable Hospitalization Rate           3913       34561   \n",
      "24  % With Access to Exercise Opportunities           3461       34561   \n",
      "28                             Income Ratio           3184       34561   \n",
      "12                    % Drive Alone to Work           3152       34561   \n",
      "35                  Social Association Rate           3148       34561   \n",
      "13                     % Excessive Drinking           1842       34561   \n",
      "36                          Teen Birth Rate           1602       34561   \n",
      "33             Primary Care Physicians Rate           1578       34561   \n",
      "16                        % Low Birthweight           1258       34561   \n",
      "29                  Mentally Unhealthy Days           1114       34561   \n",
      "19                                % Smokers            870       34561   \n",
      "14                    % Fair or Poor Health            810       34561   \n",
      "30                Physically Unhealthy Days            678       34561   \n",
      "4         # Alcohol-Impaired Driving Deaths            306       34561   \n",
      "6                          # Driving Deaths            306       34561   \n",
      "27                   Food Environment Index            184       34561   \n",
      "11   % Children in Single-Parent Households             21       34561   \n",
      "10                    % Children in Poverty             19       34561   \n",
      "21                             % Unemployed             19       34561   \n",
      "22                              % Uninsured             18       34561   \n",
      "15            % Long Commute - Drives Alone              9       34561   \n",
      "9                     % Adults with Obesity              9       34561   \n",
      "20                           % Some College              8       34561   \n",
      "18                % Severe Housing Problems              7       34561   \n",
      "\n",
      "    Missing_Percentage  \n",
      "25           91.157663  \n",
      "5            91.157663  \n",
      "26           91.157663  \n",
      "23           91.137409  \n",
      "34           91.082434  \n",
      "17           90.908828  \n",
      "8            72.738057  \n",
      "7            56.419085  \n",
      "31           24.041550  \n",
      "37           22.918897  \n",
      "32           11.322010  \n",
      "24           10.014178  \n",
      "28            9.212696  \n",
      "12            9.120106  \n",
      "35            9.108533  \n",
      "13            5.329707  \n",
      "36            4.635283  \n",
      "33            4.565840  \n",
      "16            3.639941  \n",
      "29            3.223286  \n",
      "19            2.517288  \n",
      "14            2.343682  \n",
      "30            1.961749  \n",
      "4             0.885391  \n",
      "6             0.885391  \n",
      "27            0.532392  \n",
      "11            0.060762  \n",
      "10            0.054975  \n",
      "21            0.054975  \n",
      "22            0.052082  \n",
      "15            0.026041  \n",
      "9             0.026041  \n",
      "20            0.023147  \n",
      "18            0.020254  \n",
      "\n",
      "============================================================\n",
      "Columns to remove (>50% missing): 8\n",
      "============================================================\n",
      "  - # Dentists: 91.2% missing\n",
      "  - # Medicare Enrollees: 56.4% missing\n",
      "  - # Uninsured: 72.7% missing\n",
      "  - % Physically Inactive: 90.9% missing\n",
      "  - % With Access exercise : 91.1% missing\n",
      "  - Dentist Rate: 91.2% missing\n",
      "  - Dentist Ratio: 91.2% missing\n",
      "  - Quartile: 91.1% missing\n",
      "\n",
      "============================================================\n",
      "Final cleaned dataset summary:\n",
      "============================================================\n",
      "Shape: (34561, 30)\n",
      "Rows: 34561\n",
      "Columns: 30\n",
      "\n",
      "Remaining columns (30):\n",
      "   1. Year                                               (100.0% data available)\n",
      "   2. FIPS                                               (100.0% data available)\n",
      "   3. State                                              (100.0% data available)\n",
      "   4. County                                             (100.0% data available)\n",
      "   5. # Alcohol-Impaired Driving Deaths                  (99.1% data available)\n",
      "   6. # Driving Deaths                                   (99.1% data available)\n",
      "   7. % Adults with Obesity                              (100.0% data available)\n",
      "   8. % Children in Poverty                              (99.9% data available)\n",
      "   9. % Children in Single-Parent Households             (99.9% data available)\n",
      "  10. % Drive Alone to Work                              (90.9% data available)\n",
      "  11. % Excessive Drinking                               (94.7% data available)\n",
      "  12. % Fair or Poor Health                              (97.7% data available)\n",
      "  13. % Long Commute - Drives Alone                      (100.0% data available)\n",
      "  14. % Low Birthweight                                  (96.4% data available)\n",
      "  15. % Severe Housing Problems                          (100.0% data available)\n",
      "  16. % Smokers                                          (97.5% data available)\n",
      "  17. % Some College                                     (100.0% data available)\n",
      "  18. % Unemployed                                       (99.9% data available)\n",
      "  19. % Uninsured                                        (99.9% data available)\n",
      "  20. % With Access to Exercise Opportunities            (90.0% data available)\n",
      "  21. Food Environment Index                             (99.5% data available)\n",
      "  22. Income Ratio                                       (90.8% data available)\n",
      "  23. Mentally Unhealthy Days                            (96.8% data available)\n",
      "  24. Physically Unhealthy Days                          (98.0% data available)\n",
      "  25. Premature Deaths                                   (76.0% data available)\n",
      "  26. Preventable Hospitalization Rate                   (88.7% data available)\n",
      "  27. Primary Care Physicians Rate                       (95.4% data available)\n",
      "  28. Social Association Rate                            (90.9% data available)\n",
      "  29. Teen Birth Rate                                    (95.4% data available)\n",
      "  30. Violent Crime Rate                                 (77.1% data available)\n"
     ]
    }
   ],
   "source": [
    "# Remove rows where County is null\n",
    "print(f\"Original shape: {combined_df.shape}\")\n",
    "print(f\"Rows with null County: {combined_df['County'].isna().sum()}\")\n",
    "\n",
    "# Remove rows where County is null\n",
    "combined_df_cleaned = combined_df[combined_df['County'].notna()].copy()\n",
    "\n",
    "print(f\"After removing null counties: {combined_df_cleaned.shape}\")\n",
    "\n",
    "# Calculate missing percentage for each column\n",
    "missing_percent = (combined_df_cleaned.isna().sum() / len(combined_df_cleaned)) * 100\n",
    "\n",
    "# Create a summary of missing data\n",
    "missing_summary = pd.DataFrame({\n",
    "    'Column': missing_percent.index,\n",
    "    'Missing_Count': combined_df_cleaned.isna().sum().values,\n",
    "    'Total_Rows': len(combined_df_cleaned),\n",
    "    'Missing_Percentage': missing_percent.values\n",
    "}).sort_values('Missing_Percentage', ascending=False)\n",
    "\n",
    "print(f\"\\n{'='*60}\")\n",
    "print(\"Columns with missing data:\")\n",
    "print(f\"{'='*60}\")\n",
    "print(missing_summary[missing_summary['Missing_Percentage'] > 0])\n",
    "\n",
    "# Identify columns to keep (less than or equal to 50% missing)\n",
    "columns_to_keep = missing_percent[missing_percent <= 50].index.tolist()\n",
    "columns_to_remove = missing_percent[missing_percent > 50].index.tolist()\n",
    "\n",
    "print(f\"\\n{'='*60}\")\n",
    "print(f\"Columns to remove (>50% missing): {len(columns_to_remove)}\")\n",
    "print(f\"{'='*60}\")\n",
    "for col in columns_to_remove:\n",
    "    print(f\"  - {col}: {missing_percent[col]:.1f}% missing\")\n",
    "\n",
    "# Keep only columns with <=50% missing data\n",
    "combined_df_cleaned = combined_df_cleaned[columns_to_keep]\n",
    "\n",
    "print(f\"\\n{'='*60}\")\n",
    "print(\"Final cleaned dataset summary:\")\n",
    "print(f\"{'='*60}\")\n",
    "print(f\"Shape: {combined_df_cleaned.shape}\")\n",
    "print(f\"Rows: {len(combined_df_cleaned)}\")\n",
    "print(f\"Columns: {len(combined_df_cleaned.columns)}\")\n",
    "print(f\"\\nRemaining columns ({len(combined_df_cleaned.columns)}):\")\n",
    "for i, col in enumerate(combined_df_cleaned.columns, 1):\n",
    "    non_missing = combined_df_cleaned[col].notna().sum()\n",
    "    pct_available = (non_missing / len(combined_df_cleaned)) * 100\n",
    "    print(f\"  {i:2d}. {col:<50} ({pct_available:.1f}% data available)\")\n"
   ]
  },
  {
   "cell_type": "code",
   "execution_count": 7,
   "id": "854cde15",
   "metadata": {},
   "outputs": [
    {
     "data": {
      "text/html": [
       "<div>\n",
       "<style scoped>\n",
       "    .dataframe tbody tr th:only-of-type {\n",
       "        vertical-align: middle;\n",
       "    }\n",
       "\n",
       "    .dataframe tbody tr th {\n",
       "        vertical-align: top;\n",
       "    }\n",
       "\n",
       "    .dataframe thead th {\n",
       "        text-align: right;\n",
       "    }\n",
       "</style>\n",
       "<table border=\"1\" class=\"dataframe\">\n",
       "  <thead>\n",
       "    <tr style=\"text-align: right;\">\n",
       "      <th></th>\n",
       "      <th>Year</th>\n",
       "      <th>FIPS</th>\n",
       "      <th>State</th>\n",
       "      <th>County</th>\n",
       "      <th># Alcohol-Impaired Driving Deaths</th>\n",
       "      <th># Driving Deaths</th>\n",
       "      <th>% Adults with Obesity</th>\n",
       "      <th>% Children in Poverty</th>\n",
       "      <th>% Children in Single-Parent Households</th>\n",
       "      <th>% Drive Alone to Work</th>\n",
       "      <th>...</th>\n",
       "      <th>Food Environment Index</th>\n",
       "      <th>Income Ratio</th>\n",
       "      <th>Mentally Unhealthy Days</th>\n",
       "      <th>Physically Unhealthy Days</th>\n",
       "      <th>Premature Deaths</th>\n",
       "      <th>Preventable Hospitalization Rate</th>\n",
       "      <th>Primary Care Physicians Rate</th>\n",
       "      <th>Social Association Rate</th>\n",
       "      <th>Teen Birth Rate</th>\n",
       "      <th>Violent Crime Rate</th>\n",
       "    </tr>\n",
       "  </thead>\n",
       "  <tbody>\n",
       "    <tr>\n",
       "      <th>0</th>\n",
       "      <td>2014</td>\n",
       "      <td>1001</td>\n",
       "      <td>Alabama</td>\n",
       "      <td>Autauga</td>\n",
       "      <td>13.0</td>\n",
       "      <td>51.0</td>\n",
       "      <td>30.5</td>\n",
       "      <td>18.5</td>\n",
       "      <td>30.124949</td>\n",
       "      <td>87.787763</td>\n",
       "      <td>...</td>\n",
       "      <td>7.445189</td>\n",
       "      <td>NaN</td>\n",
       "      <td>3.600000</td>\n",
       "      <td>5.100000</td>\n",
       "      <td>729.0</td>\n",
       "      <td>NaN</td>\n",
       "      <td>37.99736</td>\n",
       "      <td>NaN</td>\n",
       "      <td>38.992409</td>\n",
       "      <td>302.909674</td>\n",
       "    </tr>\n",
       "    <tr>\n",
       "      <th>1</th>\n",
       "      <td>2014</td>\n",
       "      <td>1003</td>\n",
       "      <td>Alabama</td>\n",
       "      <td>Baldwin</td>\n",
       "      <td>43.0</td>\n",
       "      <td>135.0</td>\n",
       "      <td>26.6</td>\n",
       "      <td>20.5</td>\n",
       "      <td>27.879987</td>\n",
       "      <td>83.164547</td>\n",
       "      <td>...</td>\n",
       "      <td>7.993461</td>\n",
       "      <td>NaN</td>\n",
       "      <td>3.800000</td>\n",
       "      <td>3.300000</td>\n",
       "      <td>2325.0</td>\n",
       "      <td>NaN</td>\n",
       "      <td>74.97978</td>\n",
       "      <td>NaN</td>\n",
       "      <td>46.396536</td>\n",
       "      <td>213.301026</td>\n",
       "    </tr>\n",
       "    <tr>\n",
       "      <th>2</th>\n",
       "      <td>2014</td>\n",
       "      <td>1005</td>\n",
       "      <td>Alabama</td>\n",
       "      <td>Barbour</td>\n",
       "      <td>10.0</td>\n",
       "      <td>21.0</td>\n",
       "      <td>37.3</td>\n",
       "      <td>47.0</td>\n",
       "      <td>55.907877</td>\n",
       "      <td>82.658509</td>\n",
       "      <td>...</td>\n",
       "      <td>5.403317</td>\n",
       "      <td>NaN</td>\n",
       "      <td>4.300000</td>\n",
       "      <td>4.800000</td>\n",
       "      <td>422.0</td>\n",
       "      <td>NaN</td>\n",
       "      <td>44.24942</td>\n",
       "      <td>NaN</td>\n",
       "      <td>73.779983</td>\n",
       "      <td>154.326484</td>\n",
       "    </tr>\n",
       "    <tr>\n",
       "      <th>3</th>\n",
       "      <td>2014</td>\n",
       "      <td>1007</td>\n",
       "      <td>Alabama</td>\n",
       "      <td>Bibb</td>\n",
       "      <td>8.0</td>\n",
       "      <td>29.0</td>\n",
       "      <td>34.3</td>\n",
       "      <td>27.2</td>\n",
       "      <td>39.281642</td>\n",
       "      <td>82.333254</td>\n",
       "      <td>...</td>\n",
       "      <td>7.798603</td>\n",
       "      <td>NaN</td>\n",
       "      <td>5.100000</td>\n",
       "      <td>4.700000</td>\n",
       "      <td>390.0</td>\n",
       "      <td>NaN</td>\n",
       "      <td>21.96258</td>\n",
       "      <td>NaN</td>\n",
       "      <td>49.276496</td>\n",
       "      <td>254.237288</td>\n",
       "    </tr>\n",
       "    <tr>\n",
       "      <th>4</th>\n",
       "      <td>2014</td>\n",
       "      <td>1009</td>\n",
       "      <td>Alabama</td>\n",
       "      <td>Blount</td>\n",
       "      <td>14.0</td>\n",
       "      <td>60.0</td>\n",
       "      <td>30.4</td>\n",
       "      <td>23.1</td>\n",
       "      <td>25.336291</td>\n",
       "      <td>80.486222</td>\n",
       "      <td>...</td>\n",
       "      <td>8.648064</td>\n",
       "      <td>NaN</td>\n",
       "      <td>3.900000</td>\n",
       "      <td>5.900000</td>\n",
       "      <td>826.0</td>\n",
       "      <td>NaN</td>\n",
       "      <td>19.07173</td>\n",
       "      <td>NaN</td>\n",
       "      <td>47.567484</td>\n",
       "      <td>164.463718</td>\n",
       "    </tr>\n",
       "    <tr>\n",
       "      <th>...</th>\n",
       "      <td>...</td>\n",
       "      <td>...</td>\n",
       "      <td>...</td>\n",
       "      <td>...</td>\n",
       "      <td>...</td>\n",
       "      <td>...</td>\n",
       "      <td>...</td>\n",
       "      <td>...</td>\n",
       "      <td>...</td>\n",
       "      <td>...</td>\n",
       "      <td>...</td>\n",
       "      <td>...</td>\n",
       "      <td>...</td>\n",
       "      <td>...</td>\n",
       "      <td>...</td>\n",
       "      <td>...</td>\n",
       "      <td>...</td>\n",
       "      <td>...</td>\n",
       "      <td>...</td>\n",
       "      <td>...</td>\n",
       "      <td>...</td>\n",
       "    </tr>\n",
       "    <tr>\n",
       "      <th>34811</th>\n",
       "      <td>2024</td>\n",
       "      <td>56037</td>\n",
       "      <td>Wyoming</td>\n",
       "      <td>Sweetwater</td>\n",
       "      <td>11.0</td>\n",
       "      <td>62.0</td>\n",
       "      <td>34.3</td>\n",
       "      <td>14.9</td>\n",
       "      <td>15.526095</td>\n",
       "      <td>77.269208</td>\n",
       "      <td>...</td>\n",
       "      <td>7.900000</td>\n",
       "      <td>4.352631</td>\n",
       "      <td>5.213634</td>\n",
       "      <td>3.637753</td>\n",
       "      <td>672.0</td>\n",
       "      <td>1167.0</td>\n",
       "      <td>43.25467</td>\n",
       "      <td>8.891239</td>\n",
       "      <td>22.072468</td>\n",
       "      <td>NaN</td>\n",
       "    </tr>\n",
       "    <tr>\n",
       "      <th>34812</th>\n",
       "      <td>2024</td>\n",
       "      <td>56039</td>\n",
       "      <td>Wyoming</td>\n",
       "      <td>Teton</td>\n",
       "      <td>4.0</td>\n",
       "      <td>12.0</td>\n",
       "      <td>21.7</td>\n",
       "      <td>5.3</td>\n",
       "      <td>15.761267</td>\n",
       "      <td>59.936844</td>\n",
       "      <td>...</td>\n",
       "      <td>8.700000</td>\n",
       "      <td>3.682240</td>\n",
       "      <td>4.105952</td>\n",
       "      <td>2.544521</td>\n",
       "      <td>123.0</td>\n",
       "      <td>1772.0</td>\n",
       "      <td>93.31919</td>\n",
       "      <td>18.239661</td>\n",
       "      <td>7.357269</td>\n",
       "      <td>NaN</td>\n",
       "    </tr>\n",
       "    <tr>\n",
       "      <th>34813</th>\n",
       "      <td>2024</td>\n",
       "      <td>56041</td>\n",
       "      <td>Wyoming</td>\n",
       "      <td>Uinta</td>\n",
       "      <td>3.0</td>\n",
       "      <td>24.0</td>\n",
       "      <td>33.3</td>\n",
       "      <td>13.2</td>\n",
       "      <td>10.143910</td>\n",
       "      <td>79.689480</td>\n",
       "      <td>...</td>\n",
       "      <td>8.500000</td>\n",
       "      <td>3.471518</td>\n",
       "      <td>4.957677</td>\n",
       "      <td>3.405617</td>\n",
       "      <td>320.0</td>\n",
       "      <td>2196.0</td>\n",
       "      <td>58.15362</td>\n",
       "      <td>3.392295</td>\n",
       "      <td>22.658913</td>\n",
       "      <td>NaN</td>\n",
       "    </tr>\n",
       "    <tr>\n",
       "      <th>34814</th>\n",
       "      <td>2024</td>\n",
       "      <td>56043</td>\n",
       "      <td>Wyoming</td>\n",
       "      <td>Washakie</td>\n",
       "      <td>0.0</td>\n",
       "      <td>6.0</td>\n",
       "      <td>33.6</td>\n",
       "      <td>14.3</td>\n",
       "      <td>9.356015</td>\n",
       "      <td>78.291536</td>\n",
       "      <td>...</td>\n",
       "      <td>8.600000</td>\n",
       "      <td>4.325974</td>\n",
       "      <td>4.623766</td>\n",
       "      <td>3.378598</td>\n",
       "      <td>130.0</td>\n",
       "      <td>2261.0</td>\n",
       "      <td>103.82868</td>\n",
       "      <td>15.574302</td>\n",
       "      <td>17.595308</td>\n",
       "      <td>NaN</td>\n",
       "    </tr>\n",
       "    <tr>\n",
       "      <th>34815</th>\n",
       "      <td>2024</td>\n",
       "      <td>56045</td>\n",
       "      <td>Wyoming</td>\n",
       "      <td>Weston</td>\n",
       "      <td>1.0</td>\n",
       "      <td>5.0</td>\n",
       "      <td>34.6</td>\n",
       "      <td>14.3</td>\n",
       "      <td>18.104063</td>\n",
       "      <td>67.676080</td>\n",
       "      <td>...</td>\n",
       "      <td>7.800000</td>\n",
       "      <td>4.783588</td>\n",
       "      <td>5.179947</td>\n",
       "      <td>3.564866</td>\n",
       "      <td>88.0</td>\n",
       "      <td>2045.0</td>\n",
       "      <td>29.65159</td>\n",
       "      <td>10.378058</td>\n",
       "      <td>18.760196</td>\n",
       "      <td>NaN</td>\n",
       "    </tr>\n",
       "  </tbody>\n",
       "</table>\n",
       "<p>34561 rows × 30 columns</p>\n",
       "</div>"
      ],
      "text/plain": [
       "       Year   FIPS    State      County  # Alcohol-Impaired Driving Deaths  \\\n",
       "0      2014   1001  Alabama     Autauga                               13.0   \n",
       "1      2014   1003  Alabama     Baldwin                               43.0   \n",
       "2      2014   1005  Alabama     Barbour                               10.0   \n",
       "3      2014   1007  Alabama        Bibb                                8.0   \n",
       "4      2014   1009  Alabama      Blount                               14.0   \n",
       "...     ...    ...      ...         ...                                ...   \n",
       "34811  2024  56037  Wyoming  Sweetwater                               11.0   \n",
       "34812  2024  56039  Wyoming       Teton                                4.0   \n",
       "34813  2024  56041  Wyoming       Uinta                                3.0   \n",
       "34814  2024  56043  Wyoming    Washakie                                0.0   \n",
       "34815  2024  56045  Wyoming      Weston                                1.0   \n",
       "\n",
       "       # Driving Deaths  % Adults with Obesity  % Children in Poverty  \\\n",
       "0                  51.0                   30.5                   18.5   \n",
       "1                 135.0                   26.6                   20.5   \n",
       "2                  21.0                   37.3                   47.0   \n",
       "3                  29.0                   34.3                   27.2   \n",
       "4                  60.0                   30.4                   23.1   \n",
       "...                 ...                    ...                    ...   \n",
       "34811              62.0                   34.3                   14.9   \n",
       "34812              12.0                   21.7                    5.3   \n",
       "34813              24.0                   33.3                   13.2   \n",
       "34814               6.0                   33.6                   14.3   \n",
       "34815               5.0                   34.6                   14.3   \n",
       "\n",
       "       % Children in Single-Parent Households  % Drive Alone to Work  ...  \\\n",
       "0                                   30.124949              87.787763  ...   \n",
       "1                                   27.879987              83.164547  ...   \n",
       "2                                   55.907877              82.658509  ...   \n",
       "3                                   39.281642              82.333254  ...   \n",
       "4                                   25.336291              80.486222  ...   \n",
       "...                                       ...                    ...  ...   \n",
       "34811                               15.526095              77.269208  ...   \n",
       "34812                               15.761267              59.936844  ...   \n",
       "34813                               10.143910              79.689480  ...   \n",
       "34814                                9.356015              78.291536  ...   \n",
       "34815                               18.104063              67.676080  ...   \n",
       "\n",
       "       Food Environment Index  Income Ratio  Mentally Unhealthy Days  \\\n",
       "0                    7.445189           NaN                 3.600000   \n",
       "1                    7.993461           NaN                 3.800000   \n",
       "2                    5.403317           NaN                 4.300000   \n",
       "3                    7.798603           NaN                 5.100000   \n",
       "4                    8.648064           NaN                 3.900000   \n",
       "...                       ...           ...                      ...   \n",
       "34811                7.900000      4.352631                 5.213634   \n",
       "34812                8.700000      3.682240                 4.105952   \n",
       "34813                8.500000      3.471518                 4.957677   \n",
       "34814                8.600000      4.325974                 4.623766   \n",
       "34815                7.800000      4.783588                 5.179947   \n",
       "\n",
       "       Physically Unhealthy Days  Premature Deaths  \\\n",
       "0                       5.100000             729.0   \n",
       "1                       3.300000            2325.0   \n",
       "2                       4.800000             422.0   \n",
       "3                       4.700000             390.0   \n",
       "4                       5.900000             826.0   \n",
       "...                          ...               ...   \n",
       "34811                   3.637753             672.0   \n",
       "34812                   2.544521             123.0   \n",
       "34813                   3.405617             320.0   \n",
       "34814                   3.378598             130.0   \n",
       "34815                   3.564866              88.0   \n",
       "\n",
       "       Preventable Hospitalization Rate  Primary Care Physicians Rate  \\\n",
       "0                                   NaN                      37.99736   \n",
       "1                                   NaN                      74.97978   \n",
       "2                                   NaN                      44.24942   \n",
       "3                                   NaN                      21.96258   \n",
       "4                                   NaN                      19.07173   \n",
       "...                                 ...                           ...   \n",
       "34811                            1167.0                      43.25467   \n",
       "34812                            1772.0                      93.31919   \n",
       "34813                            2196.0                      58.15362   \n",
       "34814                            2261.0                     103.82868   \n",
       "34815                            2045.0                      29.65159   \n",
       "\n",
       "       Social Association Rate  Teen Birth Rate  Violent Crime Rate  \n",
       "0                          NaN        38.992409          302.909674  \n",
       "1                          NaN        46.396536          213.301026  \n",
       "2                          NaN        73.779983          154.326484  \n",
       "3                          NaN        49.276496          254.237288  \n",
       "4                          NaN        47.567484          164.463718  \n",
       "...                        ...              ...                 ...  \n",
       "34811                 8.891239        22.072468                 NaN  \n",
       "34812                18.239661         7.357269                 NaN  \n",
       "34813                 3.392295        22.658913                 NaN  \n",
       "34814                15.574302        17.595308                 NaN  \n",
       "34815                10.378058        18.760196                 NaN  \n",
       "\n",
       "[34561 rows x 30 columns]"
      ]
     },
     "execution_count": 7,
     "metadata": {},
     "output_type": "execute_result"
    }
   ],
   "source": [
    "combined_df_cleaned"
   ]
  },
  {
   "cell_type": "code",
   "execution_count": 9,
   "id": "2fcc9cc9",
   "metadata": {},
   "outputs": [
    {
     "name": "stdout",
     "output_type": "stream",
     "text": [
      "QWI Data Shape: (2642015, 24)\n",
      "\n",
      "Unique years: [2014, 2015, 2016, 2017, 2018, 2019, 2020, 2021, 2022, 2023, 2024]\n",
      "Number of unique counties (FIPS): 3222\n",
      "Number of unique industries: 21\n",
      "Suppressed EarnBeg: 11305 records\n",
      "Suppressed Emp: 259199 records\n",
      "Suppressed HirA: 287103 records\n",
      "\n",
      "Original health data shape: (34561, 30)\n",
      "Quarterly health data shape: (138244, 31)\n",
      "\n",
      "Merged data shape: (2573811, 54)\n",
      "Number of columns: 54\n",
      "\n",
      "=== MERGE QUALITY CHECK ===\n",
      "Unique FIPS in health data: 3150\n",
      "Unique FIPS in QWI data: 3222\n",
      "Unique FIPS in merged data: 3127\n",
      "\n",
      "Records per industry in merged data:\n",
      "industry\n",
      "00       135584\n",
      "44-45    135348\n",
      "23       134964\n",
      "62       134904\n",
      "72       134797\n",
      "Name: count, dtype: int64\n",
      "\n",
      "Year coverage in merged data:\n",
      "Year\n",
      "2014    236893\n",
      "2015    236832\n",
      "2016    236126\n",
      "2017    235371\n",
      "2018    235487\n",
      "2019    235625\n",
      "2020    235622\n",
      "2021    235941\n",
      "2022    230093\n",
      "2023    230257\n",
      "2024    225564\n",
      "Name: count, dtype: int64\n",
      "\n",
      "=== WORKFORCE METRICS SUMMARY ===\n",
      "                   Emp                      EarnBeg                  \\\n",
      "                  mean  median   count         mean  median   count   \n",
      "industry                                                              \n",
      "00        39179.571764  6320.0  135535  3546.003326  3367.0  135583   \n",
      "11          418.916579   124.0  125795  3019.946179  2883.0  132384   \n",
      "21          403.201091    83.0   65642  5422.420119  5023.0  104418   \n",
      "22          280.050694    82.0   80621  7267.053973  7065.0  120022   \n",
      "23         2345.758641   405.0  132769  3918.102888  3762.0  134846   \n",
      "\n",
      "                 HirA                  \n",
      "                 mean  median   count  \n",
      "industry                               \n",
      "00        7432.224494  1229.0  135545  \n",
      "11         207.062057    25.0  122016  \n",
      "21          49.473474     8.0   73098  \n",
      "22          13.468592     3.0   83196  \n",
      "23         511.466443    93.0  130897  \n",
      "\n",
      "County retention rate: 99.3%\n",
      "\n",
      "Final dataset: 2,573,811 records\n",
      "Unique county-year-quarter-industry combinations\n"
     ]
    }
   ],
   "source": [
    "import pandas as pd\n",
    "import numpy as np\n",
    "\n",
    "# Read the QWI data\n",
    "qwi_path = r\"C:\\Users\\liuc\\Downloads\\qwi_47eb6eafd6f449ccbab042fc81879bc1.csv\"\n",
    "qwi_df = pd.read_csv(qwi_path)\n",
    "\n",
    "print(\"QWI Data Shape:\", qwi_df.shape)\n",
    "print(f\"\\nUnique years: {sorted(qwi_df['year'].unique())}\")\n",
    "print(f\"Number of unique counties (FIPS): {qwi_df['geography'].nunique()}\")\n",
    "print(f\"Number of unique industries: {qwi_df['industry'].nunique()}\")\n",
    "\n",
    "# Handle FIPS codes\n",
    "qwi_df['FIPS'] = qwi_df['geography'].astype(str).str.zfill(5)\n",
    "\n",
    "# Handle suppressed data\n",
    "value_cols = ['EarnBeg', 'Emp', 'HirA']\n",
    "suppression_cols = ['sEarnBeg', 'sEmp', 'sHirA']\n",
    "\n",
    "for val_col, supp_col in zip(value_cols, suppression_cols):\n",
    "    qwi_df.loc[qwi_df[supp_col] == 5, val_col] = np.nan\n",
    "    print(f\"Suppressed {val_col}: {(qwi_df[supp_col] == 5).sum()} records\")\n",
    "\n",
    "# Create quarterly version of health data\n",
    "quarters = [1, 2, 3, 4]\n",
    "health_quarterly_list = []\n",
    "\n",
    "for quarter in quarters:\n",
    "    health_q = combined_df_cleaned.copy()\n",
    "    health_q['quarter'] = quarter\n",
    "    health_quarterly_list.append(health_q)\n",
    "\n",
    "health_quarterly = pd.concat(health_quarterly_list, ignore_index=True)\n",
    "\n",
    "print(f\"\\nOriginal health data shape: {combined_df_cleaned.shape}\")\n",
    "print(f\"Quarterly health data shape: {health_quarterly.shape}\")\n",
    "\n",
    "# Ensure FIPS formatting in health data\n",
    "health_quarterly['FIPS'] = health_quarterly['FIPS'].astype(str).str.zfill(5)\n",
    "\n",
    "# Merge - note the lowercase 'year' in QWI data\n",
    "merged_df = pd.merge(\n",
    "    health_quarterly,\n",
    "    qwi_df,\n",
    "    left_on=['FIPS', 'Year', 'quarter'],\n",
    "    right_on=['FIPS', 'year', 'quarter'],\n",
    "    how='inner',\n",
    "    suffixes=('_health', '_qwi')\n",
    ")\n",
    "\n",
    "print(f\"\\nMerged data shape: {merged_df.shape}\")\n",
    "print(f\"Number of columns: {len(merged_df.columns)}\")\n",
    "\n",
    "# Check merge quality\n",
    "print(\"\\n=== MERGE QUALITY CHECK ===\")\n",
    "print(f\"Unique FIPS in health data: {health_quarterly['FIPS'].nunique()}\")\n",
    "print(f\"Unique FIPS in QWI data: {qwi_df['FIPS'].nunique()}\")\n",
    "print(f\"Unique FIPS in merged data: {merged_df['FIPS'].nunique()}\")\n",
    "\n",
    "# Check industries in merged data\n",
    "print(f\"\\nRecords per industry in merged data:\")\n",
    "print(merged_df['industry'].value_counts().head())\n",
    "\n",
    "# Check year coverage\n",
    "print(f\"\\nYear coverage in merged data:\")\n",
    "print(merged_df['Year'].value_counts().sort_index())\n",
    "\n",
    "# Basic statistics on workforce metrics\n",
    "print(\"\\n=== WORKFORCE METRICS SUMMARY ===\")\n",
    "workforce_metrics = merged_df.groupby('industry')[['Emp', 'EarnBeg', 'HirA']].agg(['mean', 'median', 'count'])\n",
    "print(workforce_metrics.head())\n",
    "\n",
    "# Check how much data we retained\n",
    "retention_rate = (merged_df['FIPS'].nunique() / health_quarterly['FIPS'].nunique()) * 100\n",
    "print(f\"\\nCounty retention rate: {retention_rate:.1f}%\")\n",
    "\n",
    "print(f\"\\nFinal dataset: {len(merged_df):,} records\")\n",
    "print(f\"Unique county-year-quarter-industry combinations\")"
   ]
  },
  {
   "cell_type": "code",
   "execution_count": 14,
   "id": "11af4535",
   "metadata": {},
   "outputs": [],
   "source": [
    "health_columns = [col for col in combined_df_cleaned.columns if col != 'quarter']\n",
    "\n",
    "# From QWI data: only the specific columns you mentioned\n",
    "qwi_columns = ['quarter', 'EarnBeg', 'Emp', 'HirA', 'sEarnBeg', 'sEmp', 'sHirA', 'industry']\n",
    "\n",
    "# Combine the column lists\n",
    "columns_to_keep = health_columns + qwi_columns\n",
    "\n",
    "# Filter the merged dataframe\n",
    "merged_df_filtered = merged_df[columns_to_keep].copy()"
   ]
  },
  {
   "cell_type": "code",
   "execution_count": 15,
   "id": "635756fd",
   "metadata": {},
   "outputs": [
    {
     "data": {
      "text/html": [
       "<div>\n",
       "<style scoped>\n",
       "    .dataframe tbody tr th:only-of-type {\n",
       "        vertical-align: middle;\n",
       "    }\n",
       "\n",
       "    .dataframe tbody tr th {\n",
       "        vertical-align: top;\n",
       "    }\n",
       "\n",
       "    .dataframe thead th {\n",
       "        text-align: right;\n",
       "    }\n",
       "</style>\n",
       "<table border=\"1\" class=\"dataframe\">\n",
       "  <thead>\n",
       "    <tr style=\"text-align: right;\">\n",
       "      <th></th>\n",
       "      <th>Year</th>\n",
       "      <th>FIPS</th>\n",
       "      <th>State</th>\n",
       "      <th>County</th>\n",
       "      <th># Alcohol-Impaired Driving Deaths</th>\n",
       "      <th># Driving Deaths</th>\n",
       "      <th>% Adults with Obesity</th>\n",
       "      <th>% Children in Poverty</th>\n",
       "      <th>% Children in Single-Parent Households</th>\n",
       "      <th>% Drive Alone to Work</th>\n",
       "      <th>...</th>\n",
       "      <th>Teen Birth Rate</th>\n",
       "      <th>Violent Crime Rate</th>\n",
       "      <th>quarter</th>\n",
       "      <th>EarnBeg</th>\n",
       "      <th>Emp</th>\n",
       "      <th>HirA</th>\n",
       "      <th>sEarnBeg</th>\n",
       "      <th>sEmp</th>\n",
       "      <th>sHirA</th>\n",
       "      <th>industry</th>\n",
       "    </tr>\n",
       "  </thead>\n",
       "  <tbody>\n",
       "    <tr>\n",
       "      <th>0</th>\n",
       "      <td>2014</td>\n",
       "      <td>01001</td>\n",
       "      <td>Alabama</td>\n",
       "      <td>Autauga</td>\n",
       "      <td>13.0</td>\n",
       "      <td>51.0</td>\n",
       "      <td>30.5</td>\n",
       "      <td>18.5</td>\n",
       "      <td>30.124949</td>\n",
       "      <td>87.787763</td>\n",
       "      <td>...</td>\n",
       "      <td>38.992409</td>\n",
       "      <td>302.909674</td>\n",
       "      <td>1</td>\n",
       "      <td>2753.0</td>\n",
       "      <td>8495.0</td>\n",
       "      <td>1352.0</td>\n",
       "      <td>1</td>\n",
       "      <td>1</td>\n",
       "      <td>1</td>\n",
       "      <td>00</td>\n",
       "    </tr>\n",
       "    <tr>\n",
       "      <th>1</th>\n",
       "      <td>2014</td>\n",
       "      <td>01001</td>\n",
       "      <td>Alabama</td>\n",
       "      <td>Autauga</td>\n",
       "      <td>13.0</td>\n",
       "      <td>51.0</td>\n",
       "      <td>30.5</td>\n",
       "      <td>18.5</td>\n",
       "      <td>30.124949</td>\n",
       "      <td>87.787763</td>\n",
       "      <td>...</td>\n",
       "      <td>38.992409</td>\n",
       "      <td>302.909674</td>\n",
       "      <td>1</td>\n",
       "      <td>2874.0</td>\n",
       "      <td>106.0</td>\n",
       "      <td>27.0</td>\n",
       "      <td>1</td>\n",
       "      <td>1</td>\n",
       "      <td>1</td>\n",
       "      <td>11</td>\n",
       "    </tr>\n",
       "    <tr>\n",
       "      <th>2</th>\n",
       "      <td>2014</td>\n",
       "      <td>01001</td>\n",
       "      <td>Alabama</td>\n",
       "      <td>Autauga</td>\n",
       "      <td>13.0</td>\n",
       "      <td>51.0</td>\n",
       "      <td>30.5</td>\n",
       "      <td>18.5</td>\n",
       "      <td>30.124949</td>\n",
       "      <td>87.787763</td>\n",
       "      <td>...</td>\n",
       "      <td>38.992409</td>\n",
       "      <td>302.909674</td>\n",
       "      <td>1</td>\n",
       "      <td>3412.0</td>\n",
       "      <td>75.0</td>\n",
       "      <td>8.0</td>\n",
       "      <td>1</td>\n",
       "      <td>1</td>\n",
       "      <td>1</td>\n",
       "      <td>21</td>\n",
       "    </tr>\n",
       "    <tr>\n",
       "      <th>3</th>\n",
       "      <td>2014</td>\n",
       "      <td>01001</td>\n",
       "      <td>Alabama</td>\n",
       "      <td>Autauga</td>\n",
       "      <td>13.0</td>\n",
       "      <td>51.0</td>\n",
       "      <td>30.5</td>\n",
       "      <td>18.5</td>\n",
       "      <td>30.124949</td>\n",
       "      <td>87.787763</td>\n",
       "      <td>...</td>\n",
       "      <td>38.992409</td>\n",
       "      <td>302.909674</td>\n",
       "      <td>1</td>\n",
       "      <td>8457.0</td>\n",
       "      <td>79.0</td>\n",
       "      <td>NaN</td>\n",
       "      <td>1</td>\n",
       "      <td>1</td>\n",
       "      <td>5</td>\n",
       "      <td>22</td>\n",
       "    </tr>\n",
       "    <tr>\n",
       "      <th>4</th>\n",
       "      <td>2014</td>\n",
       "      <td>01001</td>\n",
       "      <td>Alabama</td>\n",
       "      <td>Autauga</td>\n",
       "      <td>13.0</td>\n",
       "      <td>51.0</td>\n",
       "      <td>30.5</td>\n",
       "      <td>18.5</td>\n",
       "      <td>30.124949</td>\n",
       "      <td>87.787763</td>\n",
       "      <td>...</td>\n",
       "      <td>38.992409</td>\n",
       "      <td>302.909674</td>\n",
       "      <td>1</td>\n",
       "      <td>2943.0</td>\n",
       "      <td>408.0</td>\n",
       "      <td>87.0</td>\n",
       "      <td>1</td>\n",
       "      <td>1</td>\n",
       "      <td>1</td>\n",
       "      <td>23</td>\n",
       "    </tr>\n",
       "    <tr>\n",
       "      <th>...</th>\n",
       "      <td>...</td>\n",
       "      <td>...</td>\n",
       "      <td>...</td>\n",
       "      <td>...</td>\n",
       "      <td>...</td>\n",
       "      <td>...</td>\n",
       "      <td>...</td>\n",
       "      <td>...</td>\n",
       "      <td>...</td>\n",
       "      <td>...</td>\n",
       "      <td>...</td>\n",
       "      <td>...</td>\n",
       "      <td>...</td>\n",
       "      <td>...</td>\n",
       "      <td>...</td>\n",
       "      <td>...</td>\n",
       "      <td>...</td>\n",
       "      <td>...</td>\n",
       "      <td>...</td>\n",
       "      <td>...</td>\n",
       "      <td>...</td>\n",
       "    </tr>\n",
       "    <tr>\n",
       "      <th>2573806</th>\n",
       "      <td>2024</td>\n",
       "      <td>56045</td>\n",
       "      <td>Wyoming</td>\n",
       "      <td>Weston</td>\n",
       "      <td>1.0</td>\n",
       "      <td>5.0</td>\n",
       "      <td>34.6</td>\n",
       "      <td>14.3</td>\n",
       "      <td>18.104063</td>\n",
       "      <td>67.676080</td>\n",
       "      <td>...</td>\n",
       "      <td>18.760196</td>\n",
       "      <td>NaN</td>\n",
       "      <td>4</td>\n",
       "      <td>5011.0</td>\n",
       "      <td>90.0</td>\n",
       "      <td>42.0</td>\n",
       "      <td>1</td>\n",
       "      <td>1</td>\n",
       "      <td>1</td>\n",
       "      <td>56</td>\n",
       "    </tr>\n",
       "    <tr>\n",
       "      <th>2573807</th>\n",
       "      <td>2024</td>\n",
       "      <td>56045</td>\n",
       "      <td>Wyoming</td>\n",
       "      <td>Weston</td>\n",
       "      <td>1.0</td>\n",
       "      <td>5.0</td>\n",
       "      <td>34.6</td>\n",
       "      <td>14.3</td>\n",
       "      <td>18.104063</td>\n",
       "      <td>67.676080</td>\n",
       "      <td>...</td>\n",
       "      <td>18.760196</td>\n",
       "      <td>NaN</td>\n",
       "      <td>4</td>\n",
       "      <td>3060.0</td>\n",
       "      <td>152.0</td>\n",
       "      <td>21.0</td>\n",
       "      <td>1</td>\n",
       "      <td>1</td>\n",
       "      <td>1</td>\n",
       "      <td>62</td>\n",
       "    </tr>\n",
       "    <tr>\n",
       "      <th>2573808</th>\n",
       "      <td>2024</td>\n",
       "      <td>56045</td>\n",
       "      <td>Wyoming</td>\n",
       "      <td>Weston</td>\n",
       "      <td>1.0</td>\n",
       "      <td>5.0</td>\n",
       "      <td>34.6</td>\n",
       "      <td>14.3</td>\n",
       "      <td>18.104063</td>\n",
       "      <td>67.676080</td>\n",
       "      <td>...</td>\n",
       "      <td>18.760196</td>\n",
       "      <td>NaN</td>\n",
       "      <td>4</td>\n",
       "      <td>1514.0</td>\n",
       "      <td>NaN</td>\n",
       "      <td>NaN</td>\n",
       "      <td>1</td>\n",
       "      <td>5</td>\n",
       "      <td>5</td>\n",
       "      <td>71</td>\n",
       "    </tr>\n",
       "    <tr>\n",
       "      <th>2573809</th>\n",
       "      <td>2024</td>\n",
       "      <td>56045</td>\n",
       "      <td>Wyoming</td>\n",
       "      <td>Weston</td>\n",
       "      <td>1.0</td>\n",
       "      <td>5.0</td>\n",
       "      <td>34.6</td>\n",
       "      <td>14.3</td>\n",
       "      <td>18.104063</td>\n",
       "      <td>67.676080</td>\n",
       "      <td>...</td>\n",
       "      <td>18.760196</td>\n",
       "      <td>NaN</td>\n",
       "      <td>4</td>\n",
       "      <td>1168.0</td>\n",
       "      <td>212.0</td>\n",
       "      <td>38.0</td>\n",
       "      <td>1</td>\n",
       "      <td>1</td>\n",
       "      <td>1</td>\n",
       "      <td>72</td>\n",
       "    </tr>\n",
       "    <tr>\n",
       "      <th>2573810</th>\n",
       "      <td>2024</td>\n",
       "      <td>56045</td>\n",
       "      <td>Wyoming</td>\n",
       "      <td>Weston</td>\n",
       "      <td>1.0</td>\n",
       "      <td>5.0</td>\n",
       "      <td>34.6</td>\n",
       "      <td>14.3</td>\n",
       "      <td>18.104063</td>\n",
       "      <td>67.676080</td>\n",
       "      <td>...</td>\n",
       "      <td>18.760196</td>\n",
       "      <td>NaN</td>\n",
       "      <td>4</td>\n",
       "      <td>4803.0</td>\n",
       "      <td>37.0</td>\n",
       "      <td>7.0</td>\n",
       "      <td>1</td>\n",
       "      <td>1</td>\n",
       "      <td>1</td>\n",
       "      <td>81</td>\n",
       "    </tr>\n",
       "  </tbody>\n",
       "</table>\n",
       "<p>2573811 rows × 38 columns</p>\n",
       "</div>"
      ],
      "text/plain": [
       "         Year   FIPS    State   County  # Alcohol-Impaired Driving Deaths  \\\n",
       "0        2014  01001  Alabama  Autauga                               13.0   \n",
       "1        2014  01001  Alabama  Autauga                               13.0   \n",
       "2        2014  01001  Alabama  Autauga                               13.0   \n",
       "3        2014  01001  Alabama  Autauga                               13.0   \n",
       "4        2014  01001  Alabama  Autauga                               13.0   \n",
       "...       ...    ...      ...      ...                                ...   \n",
       "2573806  2024  56045  Wyoming   Weston                                1.0   \n",
       "2573807  2024  56045  Wyoming   Weston                                1.0   \n",
       "2573808  2024  56045  Wyoming   Weston                                1.0   \n",
       "2573809  2024  56045  Wyoming   Weston                                1.0   \n",
       "2573810  2024  56045  Wyoming   Weston                                1.0   \n",
       "\n",
       "         # Driving Deaths  % Adults with Obesity  % Children in Poverty  \\\n",
       "0                    51.0                   30.5                   18.5   \n",
       "1                    51.0                   30.5                   18.5   \n",
       "2                    51.0                   30.5                   18.5   \n",
       "3                    51.0                   30.5                   18.5   \n",
       "4                    51.0                   30.5                   18.5   \n",
       "...                   ...                    ...                    ...   \n",
       "2573806               5.0                   34.6                   14.3   \n",
       "2573807               5.0                   34.6                   14.3   \n",
       "2573808               5.0                   34.6                   14.3   \n",
       "2573809               5.0                   34.6                   14.3   \n",
       "2573810               5.0                   34.6                   14.3   \n",
       "\n",
       "         % Children in Single-Parent Households  % Drive Alone to Work  ...  \\\n",
       "0                                     30.124949              87.787763  ...   \n",
       "1                                     30.124949              87.787763  ...   \n",
       "2                                     30.124949              87.787763  ...   \n",
       "3                                     30.124949              87.787763  ...   \n",
       "4                                     30.124949              87.787763  ...   \n",
       "...                                         ...                    ...  ...   \n",
       "2573806                               18.104063              67.676080  ...   \n",
       "2573807                               18.104063              67.676080  ...   \n",
       "2573808                               18.104063              67.676080  ...   \n",
       "2573809                               18.104063              67.676080  ...   \n",
       "2573810                               18.104063              67.676080  ...   \n",
       "\n",
       "         Teen Birth Rate  Violent Crime Rate  quarter  EarnBeg     Emp  \\\n",
       "0              38.992409          302.909674        1   2753.0  8495.0   \n",
       "1              38.992409          302.909674        1   2874.0   106.0   \n",
       "2              38.992409          302.909674        1   3412.0    75.0   \n",
       "3              38.992409          302.909674        1   8457.0    79.0   \n",
       "4              38.992409          302.909674        1   2943.0   408.0   \n",
       "...                  ...                 ...      ...      ...     ...   \n",
       "2573806        18.760196                 NaN        4   5011.0    90.0   \n",
       "2573807        18.760196                 NaN        4   3060.0   152.0   \n",
       "2573808        18.760196                 NaN        4   1514.0     NaN   \n",
       "2573809        18.760196                 NaN        4   1168.0   212.0   \n",
       "2573810        18.760196                 NaN        4   4803.0    37.0   \n",
       "\n",
       "           HirA  sEarnBeg  sEmp  sHirA  industry  \n",
       "0        1352.0         1     1      1        00  \n",
       "1          27.0         1     1      1        11  \n",
       "2           8.0         1     1      1        21  \n",
       "3           NaN         1     1      5        22  \n",
       "4          87.0         1     1      1        23  \n",
       "...         ...       ...   ...    ...       ...  \n",
       "2573806    42.0         1     1      1        56  \n",
       "2573807    21.0         1     1      1        62  \n",
       "2573808     NaN         1     5      5        71  \n",
       "2573809    38.0         1     1      1        72  \n",
       "2573810     7.0         1     1      1        81  \n",
       "\n",
       "[2573811 rows x 38 columns]"
      ]
     },
     "execution_count": 15,
     "metadata": {},
     "output_type": "execute_result"
    }
   ],
   "source": [
    "merged_df_filtered"
   ]
  },
  {
   "cell_type": "code",
   "execution_count": 1,
   "id": "0511cab7",
   "metadata": {},
   "outputs": [
    {
     "name": "stderr",
     "output_type": "stream",
     "text": [
      "C:\\Users\\liuc\\AppData\\Local\\Temp\\ipykernel_31204\\2272494464.py:12: DtypeWarning: Columns (38) have mixed types. Specify dtype option on import or set low_memory=False.\n",
      "  for chunk in pd.read_csv(path, chunksize=chunk_size):\n"
     ]
    },
    {
     "name": "stdout",
     "output_type": "stream",
     "text": [
      "Processed chunk, found 100000 rows after 2014\n"
     ]
    },
    {
     "name": "stderr",
     "output_type": "stream",
     "text": [
      "C:\\Users\\liuc\\AppData\\Local\\Temp\\ipykernel_31204\\2272494464.py:12: DtypeWarning: Columns (38,74) have mixed types. Specify dtype option on import or set low_memory=False.\n",
      "  for chunk in pd.read_csv(path, chunksize=chunk_size):\n"
     ]
    },
    {
     "name": "stdout",
     "output_type": "stream",
     "text": [
      "Processed chunk, found 100000 rows after 2014\n"
     ]
    },
    {
     "name": "stderr",
     "output_type": "stream",
     "text": [
      "C:\\Users\\liuc\\AppData\\Local\\Temp\\ipykernel_31204\\2272494464.py:12: DtypeWarning: Columns (10,38) have mixed types. Specify dtype option on import or set low_memory=False.\n",
      "  for chunk in pd.read_csv(path, chunksize=chunk_size):\n"
     ]
    },
    {
     "name": "stdout",
     "output_type": "stream",
     "text": [
      "Processed chunk, found 100000 rows after 2014\n"
     ]
    },
    {
     "name": "stderr",
     "output_type": "stream",
     "text": [
      "C:\\Users\\liuc\\AppData\\Local\\Temp\\ipykernel_31204\\2272494464.py:12: DtypeWarning: Columns (38,74) have mixed types. Specify dtype option on import or set low_memory=False.\n",
      "  for chunk in pd.read_csv(path, chunksize=chunk_size):\n"
     ]
    },
    {
     "name": "stdout",
     "output_type": "stream",
     "text": [
      "Processed chunk, found 100000 rows after 2014\n"
     ]
    },
    {
     "name": "stderr",
     "output_type": "stream",
     "text": [
      "C:\\Users\\liuc\\AppData\\Local\\Temp\\ipykernel_31204\\2272494464.py:12: DtypeWarning: Columns (10,38) have mixed types. Specify dtype option on import or set low_memory=False.\n",
      "  for chunk in pd.read_csv(path, chunksize=chunk_size):\n"
     ]
    },
    {
     "name": "stdout",
     "output_type": "stream",
     "text": [
      "Processed chunk, found 100000 rows after 2014\n"
     ]
    },
    {
     "name": "stderr",
     "output_type": "stream",
     "text": [
      "C:\\Users\\liuc\\AppData\\Local\\Temp\\ipykernel_31204\\2272494464.py:12: DtypeWarning: Columns (10,38) have mixed types. Specify dtype option on import or set low_memory=False.\n",
      "  for chunk in pd.read_csv(path, chunksize=chunk_size):\n"
     ]
    },
    {
     "name": "stdout",
     "output_type": "stream",
     "text": [
      "Processed chunk, found 100000 rows after 2014\n"
     ]
    },
    {
     "name": "stderr",
     "output_type": "stream",
     "text": [
      "C:\\Users\\liuc\\AppData\\Local\\Temp\\ipykernel_31204\\2272494464.py:12: DtypeWarning: Columns (38) have mixed types. Specify dtype option on import or set low_memory=False.\n",
      "  for chunk in pd.read_csv(path, chunksize=chunk_size):\n"
     ]
    },
    {
     "name": "stdout",
     "output_type": "stream",
     "text": [
      "Processed chunk, found 100000 rows after 2014\n"
     ]
    },
    {
     "name": "stderr",
     "output_type": "stream",
     "text": [
      "C:\\Users\\liuc\\AppData\\Local\\Temp\\ipykernel_31204\\2272494464.py:12: DtypeWarning: Columns (38) have mixed types. Specify dtype option on import or set low_memory=False.\n",
      "  for chunk in pd.read_csv(path, chunksize=chunk_size):\n"
     ]
    },
    {
     "name": "stdout",
     "output_type": "stream",
     "text": [
      "Processed chunk, found 100000 rows after 2014\n"
     ]
    },
    {
     "name": "stderr",
     "output_type": "stream",
     "text": [
      "C:\\Users\\liuc\\AppData\\Local\\Temp\\ipykernel_31204\\2272494464.py:12: DtypeWarning: Columns (38) have mixed types. Specify dtype option on import or set low_memory=False.\n",
      "  for chunk in pd.read_csv(path, chunksize=chunk_size):\n"
     ]
    },
    {
     "name": "stdout",
     "output_type": "stream",
     "text": [
      "Processed chunk, found 100000 rows after 2014\n",
      "Processed chunk, found 100000 rows after 2014\n"
     ]
    },
    {
     "name": "stderr",
     "output_type": "stream",
     "text": [
      "C:\\Users\\liuc\\AppData\\Local\\Temp\\ipykernel_31204\\2272494464.py:12: DtypeWarning: Columns (38) have mixed types. Specify dtype option on import or set low_memory=False.\n",
      "  for chunk in pd.read_csv(path, chunksize=chunk_size):\n"
     ]
    },
    {
     "name": "stdout",
     "output_type": "stream",
     "text": [
      "Processed chunk, found 100000 rows after 2014\n"
     ]
    },
    {
     "name": "stderr",
     "output_type": "stream",
     "text": [
      "C:\\Users\\liuc\\AppData\\Local\\Temp\\ipykernel_31204\\2272494464.py:12: DtypeWarning: Columns (38) have mixed types. Specify dtype option on import or set low_memory=False.\n",
      "  for chunk in pd.read_csv(path, chunksize=chunk_size):\n"
     ]
    },
    {
     "name": "stdout",
     "output_type": "stream",
     "text": [
      "Processed chunk, found 100000 rows after 2014\n"
     ]
    },
    {
     "name": "stderr",
     "output_type": "stream",
     "text": [
      "C:\\Users\\liuc\\AppData\\Local\\Temp\\ipykernel_31204\\2272494464.py:12: DtypeWarning: Columns (38) have mixed types. Specify dtype option on import or set low_memory=False.\n",
      "  for chunk in pd.read_csv(path, chunksize=chunk_size):\n"
     ]
    },
    {
     "name": "stdout",
     "output_type": "stream",
     "text": [
      "Processed chunk, found 100000 rows after 2014\n"
     ]
    },
    {
     "name": "stderr",
     "output_type": "stream",
     "text": [
      "C:\\Users\\liuc\\AppData\\Local\\Temp\\ipykernel_31204\\2272494464.py:12: DtypeWarning: Columns (38) have mixed types. Specify dtype option on import or set low_memory=False.\n",
      "  for chunk in pd.read_csv(path, chunksize=chunk_size):\n"
     ]
    },
    {
     "name": "stdout",
     "output_type": "stream",
     "text": [
      "Processed chunk, found 100000 rows after 2014\n"
     ]
    },
    {
     "name": "stderr",
     "output_type": "stream",
     "text": [
      "C:\\Users\\liuc\\AppData\\Local\\Temp\\ipykernel_31204\\2272494464.py:12: DtypeWarning: Columns (38) have mixed types. Specify dtype option on import or set low_memory=False.\n",
      "  for chunk in pd.read_csv(path, chunksize=chunk_size):\n"
     ]
    },
    {
     "name": "stdout",
     "output_type": "stream",
     "text": [
      "Processed chunk, found 100000 rows after 2014\n"
     ]
    },
    {
     "name": "stderr",
     "output_type": "stream",
     "text": [
      "C:\\Users\\liuc\\AppData\\Local\\Temp\\ipykernel_31204\\2272494464.py:12: DtypeWarning: Columns (10,38) have mixed types. Specify dtype option on import or set low_memory=False.\n",
      "  for chunk in pd.read_csv(path, chunksize=chunk_size):\n"
     ]
    },
    {
     "name": "stdout",
     "output_type": "stream",
     "text": [
      "Processed chunk, found 100000 rows after 2014\n"
     ]
    },
    {
     "name": "stderr",
     "output_type": "stream",
     "text": [
      "C:\\Users\\liuc\\AppData\\Local\\Temp\\ipykernel_31204\\2272494464.py:12: DtypeWarning: Columns (38) have mixed types. Specify dtype option on import or set low_memory=False.\n",
      "  for chunk in pd.read_csv(path, chunksize=chunk_size):\n"
     ]
    },
    {
     "name": "stdout",
     "output_type": "stream",
     "text": [
      "Processed chunk, found 100000 rows after 2014\n"
     ]
    },
    {
     "name": "stderr",
     "output_type": "stream",
     "text": [
      "C:\\Users\\liuc\\AppData\\Local\\Temp\\ipykernel_31204\\2272494464.py:12: DtypeWarning: Columns (10,38) have mixed types. Specify dtype option on import or set low_memory=False.\n",
      "  for chunk in pd.read_csv(path, chunksize=chunk_size):\n"
     ]
    },
    {
     "name": "stdout",
     "output_type": "stream",
     "text": [
      "Processed chunk, found 100000 rows after 2014\n"
     ]
    },
    {
     "name": "stderr",
     "output_type": "stream",
     "text": [
      "C:\\Users\\liuc\\AppData\\Local\\Temp\\ipykernel_31204\\2272494464.py:12: DtypeWarning: Columns (38) have mixed types. Specify dtype option on import or set low_memory=False.\n",
      "  for chunk in pd.read_csv(path, chunksize=chunk_size):\n"
     ]
    },
    {
     "name": "stdout",
     "output_type": "stream",
     "text": [
      "Processed chunk, found 100000 rows after 2014\n"
     ]
    },
    {
     "name": "stderr",
     "output_type": "stream",
     "text": [
      "C:\\Users\\liuc\\AppData\\Local\\Temp\\ipykernel_31204\\2272494464.py:12: DtypeWarning: Columns (38) have mixed types. Specify dtype option on import or set low_memory=False.\n",
      "  for chunk in pd.read_csv(path, chunksize=chunk_size):\n"
     ]
    },
    {
     "name": "stdout",
     "output_type": "stream",
     "text": [
      "Processed chunk, found 100000 rows after 2014\n",
      "Processed chunk, found 100000 rows after 2014\n"
     ]
    },
    {
     "name": "stderr",
     "output_type": "stream",
     "text": [
      "C:\\Users\\liuc\\AppData\\Local\\Temp\\ipykernel_31204\\2272494464.py:12: DtypeWarning: Columns (10,38) have mixed types. Specify dtype option on import or set low_memory=False.\n",
      "  for chunk in pd.read_csv(path, chunksize=chunk_size):\n"
     ]
    },
    {
     "name": "stdout",
     "output_type": "stream",
     "text": [
      "Processed chunk, found 100000 rows after 2014\n"
     ]
    },
    {
     "name": "stderr",
     "output_type": "stream",
     "text": [
      "C:\\Users\\liuc\\AppData\\Local\\Temp\\ipykernel_31204\\2272494464.py:12: DtypeWarning: Columns (38) have mixed types. Specify dtype option on import or set low_memory=False.\n",
      "  for chunk in pd.read_csv(path, chunksize=chunk_size):\n"
     ]
    },
    {
     "name": "stdout",
     "output_type": "stream",
     "text": [
      "Processed chunk, found 100000 rows after 2014\n"
     ]
    },
    {
     "name": "stderr",
     "output_type": "stream",
     "text": [
      "C:\\Users\\liuc\\AppData\\Local\\Temp\\ipykernel_31204\\2272494464.py:12: DtypeWarning: Columns (38) have mixed types. Specify dtype option on import or set low_memory=False.\n",
      "  for chunk in pd.read_csv(path, chunksize=chunk_size):\n"
     ]
    },
    {
     "name": "stdout",
     "output_type": "stream",
     "text": [
      "Processed chunk, found 100000 rows after 2014\n"
     ]
    },
    {
     "name": "stderr",
     "output_type": "stream",
     "text": [
      "C:\\Users\\liuc\\AppData\\Local\\Temp\\ipykernel_31204\\2272494464.py:12: DtypeWarning: Columns (38) have mixed types. Specify dtype option on import or set low_memory=False.\n",
      "  for chunk in pd.read_csv(path, chunksize=chunk_size):\n"
     ]
    },
    {
     "name": "stdout",
     "output_type": "stream",
     "text": [
      "Processed chunk, found 100000 rows after 2014\n"
     ]
    },
    {
     "name": "stderr",
     "output_type": "stream",
     "text": [
      "C:\\Users\\liuc\\AppData\\Local\\Temp\\ipykernel_31204\\2272494464.py:12: DtypeWarning: Columns (10,38,74) have mixed types. Specify dtype option on import or set low_memory=False.\n",
      "  for chunk in pd.read_csv(path, chunksize=chunk_size):\n"
     ]
    },
    {
     "name": "stdout",
     "output_type": "stream",
     "text": [
      "Processed chunk, found 100000 rows after 2014\n"
     ]
    },
    {
     "name": "stderr",
     "output_type": "stream",
     "text": [
      "C:\\Users\\liuc\\AppData\\Local\\Temp\\ipykernel_31204\\2272494464.py:12: DtypeWarning: Columns (38) have mixed types. Specify dtype option on import or set low_memory=False.\n",
      "  for chunk in pd.read_csv(path, chunksize=chunk_size):\n"
     ]
    },
    {
     "name": "stdout",
     "output_type": "stream",
     "text": [
      "Processed chunk, found 100000 rows after 2014\n"
     ]
    },
    {
     "name": "stderr",
     "output_type": "stream",
     "text": [
      "C:\\Users\\liuc\\AppData\\Local\\Temp\\ipykernel_31204\\2272494464.py:12: DtypeWarning: Columns (38) have mixed types. Specify dtype option on import or set low_memory=False.\n",
      "  for chunk in pd.read_csv(path, chunksize=chunk_size):\n"
     ]
    },
    {
     "name": "stdout",
     "output_type": "stream",
     "text": [
      "Processed chunk, found 100000 rows after 2014\n"
     ]
    },
    {
     "name": "stderr",
     "output_type": "stream",
     "text": [
      "C:\\Users\\liuc\\AppData\\Local\\Temp\\ipykernel_31204\\2272494464.py:12: DtypeWarning: Columns (38) have mixed types. Specify dtype option on import or set low_memory=False.\n",
      "  for chunk in pd.read_csv(path, chunksize=chunk_size):\n"
     ]
    },
    {
     "name": "stdout",
     "output_type": "stream",
     "text": [
      "Processed chunk, found 100000 rows after 2014\n"
     ]
    },
    {
     "name": "stderr",
     "output_type": "stream",
     "text": [
      "C:\\Users\\liuc\\AppData\\Local\\Temp\\ipykernel_31204\\2272494464.py:12: DtypeWarning: Columns (38) have mixed types. Specify dtype option on import or set low_memory=False.\n",
      "  for chunk in pd.read_csv(path, chunksize=chunk_size):\n"
     ]
    },
    {
     "name": "stdout",
     "output_type": "stream",
     "text": [
      "Processed chunk, found 100000 rows after 2014\n"
     ]
    },
    {
     "name": "stderr",
     "output_type": "stream",
     "text": [
      "C:\\Users\\liuc\\AppData\\Local\\Temp\\ipykernel_31204\\2272494464.py:12: DtypeWarning: Columns (38) have mixed types. Specify dtype option on import or set low_memory=False.\n",
      "  for chunk in pd.read_csv(path, chunksize=chunk_size):\n"
     ]
    },
    {
     "name": "stdout",
     "output_type": "stream",
     "text": [
      "Processed chunk, found 100000 rows after 2014\n"
     ]
    },
    {
     "name": "stderr",
     "output_type": "stream",
     "text": [
      "C:\\Users\\liuc\\AppData\\Local\\Temp\\ipykernel_31204\\2272494464.py:12: DtypeWarning: Columns (38) have mixed types. Specify dtype option on import or set low_memory=False.\n",
      "  for chunk in pd.read_csv(path, chunksize=chunk_size):\n"
     ]
    },
    {
     "name": "stdout",
     "output_type": "stream",
     "text": [
      "Processed chunk, found 100000 rows after 2014\n"
     ]
    },
    {
     "name": "stderr",
     "output_type": "stream",
     "text": [
      "C:\\Users\\liuc\\AppData\\Local\\Temp\\ipykernel_31204\\2272494464.py:12: DtypeWarning: Columns (38) have mixed types. Specify dtype option on import or set low_memory=False.\n",
      "  for chunk in pd.read_csv(path, chunksize=chunk_size):\n"
     ]
    },
    {
     "name": "stdout",
     "output_type": "stream",
     "text": [
      "Processed chunk, found 100000 rows after 2014\n"
     ]
    },
    {
     "name": "stderr",
     "output_type": "stream",
     "text": [
      "C:\\Users\\liuc\\AppData\\Local\\Temp\\ipykernel_31204\\2272494464.py:12: DtypeWarning: Columns (38) have mixed types. Specify dtype option on import or set low_memory=False.\n",
      "  for chunk in pd.read_csv(path, chunksize=chunk_size):\n"
     ]
    },
    {
     "name": "stdout",
     "output_type": "stream",
     "text": [
      "Processed chunk, found 100000 rows after 2014\n"
     ]
    },
    {
     "name": "stderr",
     "output_type": "stream",
     "text": [
      "C:\\Users\\liuc\\AppData\\Local\\Temp\\ipykernel_31204\\2272494464.py:12: DtypeWarning: Columns (38) have mixed types. Specify dtype option on import or set low_memory=False.\n",
      "  for chunk in pd.read_csv(path, chunksize=chunk_size):\n"
     ]
    },
    {
     "name": "stdout",
     "output_type": "stream",
     "text": [
      "Processed chunk, found 100000 rows after 2014\n"
     ]
    },
    {
     "name": "stderr",
     "output_type": "stream",
     "text": [
      "C:\\Users\\liuc\\AppData\\Local\\Temp\\ipykernel_31204\\2272494464.py:12: DtypeWarning: Columns (38) have mixed types. Specify dtype option on import or set low_memory=False.\n",
      "  for chunk in pd.read_csv(path, chunksize=chunk_size):\n"
     ]
    },
    {
     "name": "stdout",
     "output_type": "stream",
     "text": [
      "Processed chunk, found 100000 rows after 2014\n"
     ]
    },
    {
     "name": "stderr",
     "output_type": "stream",
     "text": [
      "C:\\Users\\liuc\\AppData\\Local\\Temp\\ipykernel_31204\\2272494464.py:12: DtypeWarning: Columns (10,38) have mixed types. Specify dtype option on import or set low_memory=False.\n",
      "  for chunk in pd.read_csv(path, chunksize=chunk_size):\n"
     ]
    },
    {
     "name": "stdout",
     "output_type": "stream",
     "text": [
      "Processed chunk, found 100000 rows after 2014\n"
     ]
    },
    {
     "name": "stderr",
     "output_type": "stream",
     "text": [
      "C:\\Users\\liuc\\AppData\\Local\\Temp\\ipykernel_31204\\2272494464.py:12: DtypeWarning: Columns (10,38) have mixed types. Specify dtype option on import or set low_memory=False.\n",
      "  for chunk in pd.read_csv(path, chunksize=chunk_size):\n"
     ]
    },
    {
     "name": "stdout",
     "output_type": "stream",
     "text": [
      "Processed chunk, found 100000 rows after 2014\n"
     ]
    },
    {
     "name": "stderr",
     "output_type": "stream",
     "text": [
      "C:\\Users\\liuc\\AppData\\Local\\Temp\\ipykernel_31204\\2272494464.py:12: DtypeWarning: Columns (3,10,38) have mixed types. Specify dtype option on import or set low_memory=False.\n",
      "  for chunk in pd.read_csv(path, chunksize=chunk_size):\n"
     ]
    },
    {
     "name": "stdout",
     "output_type": "stream",
     "text": [
      "Processed chunk, found 100000 rows after 2014\n"
     ]
    },
    {
     "name": "stderr",
     "output_type": "stream",
     "text": [
      "C:\\Users\\liuc\\AppData\\Local\\Temp\\ipykernel_31204\\2272494464.py:12: DtypeWarning: Columns (38) have mixed types. Specify dtype option on import or set low_memory=False.\n",
      "  for chunk in pd.read_csv(path, chunksize=chunk_size):\n"
     ]
    },
    {
     "name": "stdout",
     "output_type": "stream",
     "text": [
      "Processed chunk, found 100000 rows after 2014\n"
     ]
    },
    {
     "name": "stderr",
     "output_type": "stream",
     "text": [
      "C:\\Users\\liuc\\AppData\\Local\\Temp\\ipykernel_31204\\2272494464.py:12: DtypeWarning: Columns (10) have mixed types. Specify dtype option on import or set low_memory=False.\n",
      "  for chunk in pd.read_csv(path, chunksize=chunk_size):\n"
     ]
    },
    {
     "name": "stdout",
     "output_type": "stream",
     "text": [
      "Processed chunk, found 100000 rows after 2014\n"
     ]
    },
    {
     "name": "stderr",
     "output_type": "stream",
     "text": [
      "C:\\Users\\liuc\\AppData\\Local\\Temp\\ipykernel_31204\\2272494464.py:12: DtypeWarning: Columns (10) have mixed types. Specify dtype option on import or set low_memory=False.\n",
      "  for chunk in pd.read_csv(path, chunksize=chunk_size):\n"
     ]
    },
    {
     "name": "stdout",
     "output_type": "stream",
     "text": [
      "Processed chunk, found 100000 rows after 2014\n"
     ]
    },
    {
     "name": "stderr",
     "output_type": "stream",
     "text": [
      "C:\\Users\\liuc\\AppData\\Local\\Temp\\ipykernel_31204\\2272494464.py:12: DtypeWarning: Columns (38,74) have mixed types. Specify dtype option on import or set low_memory=False.\n",
      "  for chunk in pd.read_csv(path, chunksize=chunk_size):\n"
     ]
    },
    {
     "name": "stdout",
     "output_type": "stream",
     "text": [
      "Processed chunk, found 100000 rows after 2014\n"
     ]
    },
    {
     "name": "stderr",
     "output_type": "stream",
     "text": [
      "C:\\Users\\liuc\\AppData\\Local\\Temp\\ipykernel_31204\\2272494464.py:12: DtypeWarning: Columns (38) have mixed types. Specify dtype option on import or set low_memory=False.\n",
      "  for chunk in pd.read_csv(path, chunksize=chunk_size):\n"
     ]
    },
    {
     "name": "stdout",
     "output_type": "stream",
     "text": [
      "Processed chunk, found 100000 rows after 2014\n"
     ]
    },
    {
     "name": "stderr",
     "output_type": "stream",
     "text": [
      "C:\\Users\\liuc\\AppData\\Local\\Temp\\ipykernel_31204\\2272494464.py:12: DtypeWarning: Columns (38) have mixed types. Specify dtype option on import or set low_memory=False.\n",
      "  for chunk in pd.read_csv(path, chunksize=chunk_size):\n"
     ]
    },
    {
     "name": "stdout",
     "output_type": "stream",
     "text": [
      "Processed chunk, found 100000 rows after 2014\n"
     ]
    },
    {
     "name": "stderr",
     "output_type": "stream",
     "text": [
      "C:\\Users\\liuc\\AppData\\Local\\Temp\\ipykernel_31204\\2272494464.py:12: DtypeWarning: Columns (10) have mixed types. Specify dtype option on import or set low_memory=False.\n",
      "  for chunk in pd.read_csv(path, chunksize=chunk_size):\n"
     ]
    },
    {
     "name": "stdout",
     "output_type": "stream",
     "text": [
      "Processed chunk, found 100000 rows after 2014\n"
     ]
    },
    {
     "name": "stderr",
     "output_type": "stream",
     "text": [
      "C:\\Users\\liuc\\AppData\\Local\\Temp\\ipykernel_31204\\2272494464.py:12: DtypeWarning: Columns (38) have mixed types. Specify dtype option on import or set low_memory=False.\n",
      "  for chunk in pd.read_csv(path, chunksize=chunk_size):\n"
     ]
    },
    {
     "name": "stdout",
     "output_type": "stream",
     "text": [
      "Processed chunk, found 100000 rows after 2014\n"
     ]
    },
    {
     "name": "stderr",
     "output_type": "stream",
     "text": [
      "C:\\Users\\liuc\\AppData\\Local\\Temp\\ipykernel_31204\\2272494464.py:12: DtypeWarning: Columns (3,38) have mixed types. Specify dtype option on import or set low_memory=False.\n",
      "  for chunk in pd.read_csv(path, chunksize=chunk_size):\n"
     ]
    },
    {
     "name": "stdout",
     "output_type": "stream",
     "text": [
      "Processed chunk, found 100000 rows after 2014\n",
      "Processed chunk, found 100000 rows after 2014\n"
     ]
    },
    {
     "name": "stderr",
     "output_type": "stream",
     "text": [
      "C:\\Users\\liuc\\AppData\\Local\\Temp\\ipykernel_31204\\2272494464.py:12: DtypeWarning: Columns (38,74) have mixed types. Specify dtype option on import or set low_memory=False.\n",
      "  for chunk in pd.read_csv(path, chunksize=chunk_size):\n"
     ]
    },
    {
     "name": "stdout",
     "output_type": "stream",
     "text": [
      "Processed chunk, found 100000 rows after 2014\n"
     ]
    },
    {
     "name": "stderr",
     "output_type": "stream",
     "text": [
      "C:\\Users\\liuc\\AppData\\Local\\Temp\\ipykernel_31204\\2272494464.py:12: DtypeWarning: Columns (38) have mixed types. Specify dtype option on import or set low_memory=False.\n",
      "  for chunk in pd.read_csv(path, chunksize=chunk_size):\n"
     ]
    },
    {
     "name": "stdout",
     "output_type": "stream",
     "text": [
      "Processed chunk, found 100000 rows after 2014\n"
     ]
    },
    {
     "name": "stderr",
     "output_type": "stream",
     "text": [
      "C:\\Users\\liuc\\AppData\\Local\\Temp\\ipykernel_31204\\2272494464.py:12: DtypeWarning: Columns (3,10,38) have mixed types. Specify dtype option on import or set low_memory=False.\n",
      "  for chunk in pd.read_csv(path, chunksize=chunk_size):\n"
     ]
    },
    {
     "name": "stdout",
     "output_type": "stream",
     "text": [
      "Processed chunk, found 100000 rows after 2014\n",
      "Processed chunk, found 100000 rows after 2014\n"
     ]
    },
    {
     "name": "stderr",
     "output_type": "stream",
     "text": [
      "C:\\Users\\liuc\\AppData\\Local\\Temp\\ipykernel_31204\\2272494464.py:12: DtypeWarning: Columns (10,38,68) have mixed types. Specify dtype option on import or set low_memory=False.\n",
      "  for chunk in pd.read_csv(path, chunksize=chunk_size):\n"
     ]
    },
    {
     "name": "stdout",
     "output_type": "stream",
     "text": [
      "Processed chunk, found 100000 rows after 2014\n"
     ]
    },
    {
     "name": "stderr",
     "output_type": "stream",
     "text": [
      "C:\\Users\\liuc\\AppData\\Local\\Temp\\ipykernel_31204\\2272494464.py:12: DtypeWarning: Columns (38) have mixed types. Specify dtype option on import or set low_memory=False.\n",
      "  for chunk in pd.read_csv(path, chunksize=chunk_size):\n"
     ]
    },
    {
     "name": "stdout",
     "output_type": "stream",
     "text": [
      "Processed chunk, found 100000 rows after 2014\n"
     ]
    },
    {
     "name": "stderr",
     "output_type": "stream",
     "text": [
      "C:\\Users\\liuc\\AppData\\Local\\Temp\\ipykernel_31204\\2272494464.py:12: DtypeWarning: Columns (3,10,38) have mixed types. Specify dtype option on import or set low_memory=False.\n",
      "  for chunk in pd.read_csv(path, chunksize=chunk_size):\n"
     ]
    },
    {
     "name": "stdout",
     "output_type": "stream",
     "text": [
      "Processed chunk, found 100000 rows after 2014\n"
     ]
    },
    {
     "name": "stderr",
     "output_type": "stream",
     "text": [
      "C:\\Users\\liuc\\AppData\\Local\\Temp\\ipykernel_31204\\2272494464.py:12: DtypeWarning: Columns (3,10,38) have mixed types. Specify dtype option on import or set low_memory=False.\n",
      "  for chunk in pd.read_csv(path, chunksize=chunk_size):\n"
     ]
    },
    {
     "name": "stdout",
     "output_type": "stream",
     "text": [
      "Processed chunk, found 100000 rows after 2014\n"
     ]
    },
    {
     "name": "stderr",
     "output_type": "stream",
     "text": [
      "C:\\Users\\liuc\\AppData\\Local\\Temp\\ipykernel_31204\\2272494464.py:12: DtypeWarning: Columns (38) have mixed types. Specify dtype option on import or set low_memory=False.\n",
      "  for chunk in pd.read_csv(path, chunksize=chunk_size):\n"
     ]
    },
    {
     "name": "stdout",
     "output_type": "stream",
     "text": [
      "Processed chunk, found 100000 rows after 2014\n"
     ]
    },
    {
     "name": "stderr",
     "output_type": "stream",
     "text": [
      "C:\\Users\\liuc\\AppData\\Local\\Temp\\ipykernel_31204\\2272494464.py:12: DtypeWarning: Columns (10,38) have mixed types. Specify dtype option on import or set low_memory=False.\n",
      "  for chunk in pd.read_csv(path, chunksize=chunk_size):\n"
     ]
    },
    {
     "name": "stdout",
     "output_type": "stream",
     "text": [
      "Processed chunk, found 100000 rows after 2014\n"
     ]
    },
    {
     "name": "stderr",
     "output_type": "stream",
     "text": [
      "C:\\Users\\liuc\\AppData\\Local\\Temp\\ipykernel_31204\\2272494464.py:12: DtypeWarning: Columns (10,38) have mixed types. Specify dtype option on import or set low_memory=False.\n",
      "  for chunk in pd.read_csv(path, chunksize=chunk_size):\n"
     ]
    },
    {
     "name": "stdout",
     "output_type": "stream",
     "text": [
      "Processed chunk, found 100000 rows after 2014\n"
     ]
    },
    {
     "name": "stderr",
     "output_type": "stream",
     "text": [
      "C:\\Users\\liuc\\AppData\\Local\\Temp\\ipykernel_31204\\2272494464.py:12: DtypeWarning: Columns (10,38) have mixed types. Specify dtype option on import or set low_memory=False.\n",
      "  for chunk in pd.read_csv(path, chunksize=chunk_size):\n"
     ]
    },
    {
     "name": "stdout",
     "output_type": "stream",
     "text": [
      "Processed chunk, found 100000 rows after 2014\n"
     ]
    },
    {
     "name": "stderr",
     "output_type": "stream",
     "text": [
      "C:\\Users\\liuc\\AppData\\Local\\Temp\\ipykernel_31204\\2272494464.py:12: DtypeWarning: Columns (10,38,68) have mixed types. Specify dtype option on import or set low_memory=False.\n",
      "  for chunk in pd.read_csv(path, chunksize=chunk_size):\n"
     ]
    },
    {
     "name": "stdout",
     "output_type": "stream",
     "text": [
      "Processed chunk, found 100000 rows after 2014\n"
     ]
    },
    {
     "name": "stderr",
     "output_type": "stream",
     "text": [
      "C:\\Users\\liuc\\AppData\\Local\\Temp\\ipykernel_31204\\2272494464.py:12: DtypeWarning: Columns (10,38,68) have mixed types. Specify dtype option on import or set low_memory=False.\n",
      "  for chunk in pd.read_csv(path, chunksize=chunk_size):\n"
     ]
    },
    {
     "name": "stdout",
     "output_type": "stream",
     "text": [
      "Processed chunk, found 100000 rows after 2014\n"
     ]
    },
    {
     "name": "stderr",
     "output_type": "stream",
     "text": [
      "C:\\Users\\liuc\\AppData\\Local\\Temp\\ipykernel_31204\\2272494464.py:12: DtypeWarning: Columns (38,68) have mixed types. Specify dtype option on import or set low_memory=False.\n",
      "  for chunk in pd.read_csv(path, chunksize=chunk_size):\n"
     ]
    },
    {
     "name": "stdout",
     "output_type": "stream",
     "text": [
      "Processed chunk, found 100000 rows after 2014\n"
     ]
    },
    {
     "name": "stderr",
     "output_type": "stream",
     "text": [
      "C:\\Users\\liuc\\AppData\\Local\\Temp\\ipykernel_31204\\2272494464.py:12: DtypeWarning: Columns (3,38,74) have mixed types. Specify dtype option on import or set low_memory=False.\n",
      "  for chunk in pd.read_csv(path, chunksize=chunk_size):\n"
     ]
    },
    {
     "name": "stdout",
     "output_type": "stream",
     "text": [
      "Processed chunk, found 100000 rows after 2014\n"
     ]
    },
    {
     "name": "stderr",
     "output_type": "stream",
     "text": [
      "C:\\Users\\liuc\\AppData\\Local\\Temp\\ipykernel_31204\\2272494464.py:12: DtypeWarning: Columns (10) have mixed types. Specify dtype option on import or set low_memory=False.\n",
      "  for chunk in pd.read_csv(path, chunksize=chunk_size):\n"
     ]
    },
    {
     "name": "stdout",
     "output_type": "stream",
     "text": [
      "Processed chunk, found 100000 rows after 2014\n"
     ]
    },
    {
     "name": "stderr",
     "output_type": "stream",
     "text": [
      "C:\\Users\\liuc\\AppData\\Local\\Temp\\ipykernel_31204\\2272494464.py:12: DtypeWarning: Columns (10,38) have mixed types. Specify dtype option on import or set low_memory=False.\n",
      "  for chunk in pd.read_csv(path, chunksize=chunk_size):\n"
     ]
    },
    {
     "name": "stdout",
     "output_type": "stream",
     "text": [
      "Processed chunk, found 100000 rows after 2014\n"
     ]
    },
    {
     "name": "stderr",
     "output_type": "stream",
     "text": [
      "C:\\Users\\liuc\\AppData\\Local\\Temp\\ipykernel_31204\\2272494464.py:12: DtypeWarning: Columns (10,38) have mixed types. Specify dtype option on import or set low_memory=False.\n",
      "  for chunk in pd.read_csv(path, chunksize=chunk_size):\n"
     ]
    },
    {
     "name": "stdout",
     "output_type": "stream",
     "text": [
      "Processed chunk, found 100000 rows after 2014\n"
     ]
    },
    {
     "name": "stderr",
     "output_type": "stream",
     "text": [
      "C:\\Users\\liuc\\AppData\\Local\\Temp\\ipykernel_31204\\2272494464.py:12: DtypeWarning: Columns (10,38) have mixed types. Specify dtype option on import or set low_memory=False.\n",
      "  for chunk in pd.read_csv(path, chunksize=chunk_size):\n"
     ]
    },
    {
     "name": "stdout",
     "output_type": "stream",
     "text": [
      "Processed chunk, found 100000 rows after 2014\n"
     ]
    },
    {
     "name": "stderr",
     "output_type": "stream",
     "text": [
      "C:\\Users\\liuc\\AppData\\Local\\Temp\\ipykernel_31204\\2272494464.py:12: DtypeWarning: Columns (3,38) have mixed types. Specify dtype option on import or set low_memory=False.\n",
      "  for chunk in pd.read_csv(path, chunksize=chunk_size):\n"
     ]
    },
    {
     "name": "stdout",
     "output_type": "stream",
     "text": [
      "Processed chunk, found 100000 rows after 2014\n"
     ]
    },
    {
     "name": "stderr",
     "output_type": "stream",
     "text": [
      "C:\\Users\\liuc\\AppData\\Local\\Temp\\ipykernel_31204\\2272494464.py:12: DtypeWarning: Columns (10,38) have mixed types. Specify dtype option on import or set low_memory=False.\n",
      "  for chunk in pd.read_csv(path, chunksize=chunk_size):\n"
     ]
    },
    {
     "name": "stdout",
     "output_type": "stream",
     "text": [
      "Processed chunk, found 100000 rows after 2014\n"
     ]
    },
    {
     "name": "stderr",
     "output_type": "stream",
     "text": [
      "C:\\Users\\liuc\\AppData\\Local\\Temp\\ipykernel_31204\\2272494464.py:12: DtypeWarning: Columns (10,38) have mixed types. Specify dtype option on import or set low_memory=False.\n",
      "  for chunk in pd.read_csv(path, chunksize=chunk_size):\n"
     ]
    },
    {
     "name": "stdout",
     "output_type": "stream",
     "text": [
      "Processed chunk, found 100000 rows after 2014\n"
     ]
    },
    {
     "name": "stderr",
     "output_type": "stream",
     "text": [
      "C:\\Users\\liuc\\AppData\\Local\\Temp\\ipykernel_31204\\2272494464.py:12: DtypeWarning: Columns (38) have mixed types. Specify dtype option on import or set low_memory=False.\n",
      "  for chunk in pd.read_csv(path, chunksize=chunk_size):\n"
     ]
    },
    {
     "name": "stdout",
     "output_type": "stream",
     "text": [
      "Processed chunk, found 100000 rows after 2014\n"
     ]
    },
    {
     "name": "stderr",
     "output_type": "stream",
     "text": [
      "C:\\Users\\liuc\\AppData\\Local\\Temp\\ipykernel_31204\\2272494464.py:12: DtypeWarning: Columns (10,38,68) have mixed types. Specify dtype option on import or set low_memory=False.\n",
      "  for chunk in pd.read_csv(path, chunksize=chunk_size):\n"
     ]
    },
    {
     "name": "stdout",
     "output_type": "stream",
     "text": [
      "Processed chunk, found 100000 rows after 2014\n"
     ]
    },
    {
     "name": "stderr",
     "output_type": "stream",
     "text": [
      "C:\\Users\\liuc\\AppData\\Local\\Temp\\ipykernel_31204\\2272494464.py:12: DtypeWarning: Columns (10,38,68) have mixed types. Specify dtype option on import or set low_memory=False.\n",
      "  for chunk in pd.read_csv(path, chunksize=chunk_size):\n"
     ]
    },
    {
     "name": "stdout",
     "output_type": "stream",
     "text": [
      "Processed chunk, found 100000 rows after 2014\n"
     ]
    },
    {
     "name": "stderr",
     "output_type": "stream",
     "text": [
      "C:\\Users\\liuc\\AppData\\Local\\Temp\\ipykernel_31204\\2272494464.py:12: DtypeWarning: Columns (38) have mixed types. Specify dtype option on import or set low_memory=False.\n",
      "  for chunk in pd.read_csv(path, chunksize=chunk_size):\n"
     ]
    },
    {
     "name": "stdout",
     "output_type": "stream",
     "text": [
      "Processed chunk, found 100000 rows after 2014\n"
     ]
    },
    {
     "name": "stderr",
     "output_type": "stream",
     "text": [
      "C:\\Users\\liuc\\AppData\\Local\\Temp\\ipykernel_31204\\2272494464.py:12: DtypeWarning: Columns (3,38) have mixed types. Specify dtype option on import or set low_memory=False.\n",
      "  for chunk in pd.read_csv(path, chunksize=chunk_size):\n"
     ]
    },
    {
     "name": "stdout",
     "output_type": "stream",
     "text": [
      "Processed chunk, found 100000 rows after 2014\n"
     ]
    },
    {
     "name": "stderr",
     "output_type": "stream",
     "text": [
      "C:\\Users\\liuc\\AppData\\Local\\Temp\\ipykernel_31204\\2272494464.py:12: DtypeWarning: Columns (38) have mixed types. Specify dtype option on import or set low_memory=False.\n",
      "  for chunk in pd.read_csv(path, chunksize=chunk_size):\n"
     ]
    },
    {
     "name": "stdout",
     "output_type": "stream",
     "text": [
      "Processed chunk, found 100000 rows after 2014\n"
     ]
    },
    {
     "name": "stderr",
     "output_type": "stream",
     "text": [
      "C:\\Users\\liuc\\AppData\\Local\\Temp\\ipykernel_31204\\2272494464.py:12: DtypeWarning: Columns (38) have mixed types. Specify dtype option on import or set low_memory=False.\n",
      "  for chunk in pd.read_csv(path, chunksize=chunk_size):\n"
     ]
    },
    {
     "name": "stdout",
     "output_type": "stream",
     "text": [
      "Processed chunk, found 100000 rows after 2014\n"
     ]
    },
    {
     "name": "stderr",
     "output_type": "stream",
     "text": [
      "C:\\Users\\liuc\\AppData\\Local\\Temp\\ipykernel_31204\\2272494464.py:12: DtypeWarning: Columns (10,38) have mixed types. Specify dtype option on import or set low_memory=False.\n",
      "  for chunk in pd.read_csv(path, chunksize=chunk_size):\n"
     ]
    },
    {
     "name": "stdout",
     "output_type": "stream",
     "text": [
      "Processed chunk, found 100000 rows after 2014\n"
     ]
    },
    {
     "name": "stderr",
     "output_type": "stream",
     "text": [
      "C:\\Users\\liuc\\AppData\\Local\\Temp\\ipykernel_31204\\2272494464.py:12: DtypeWarning: Columns (38) have mixed types. Specify dtype option on import or set low_memory=False.\n",
      "  for chunk in pd.read_csv(path, chunksize=chunk_size):\n"
     ]
    },
    {
     "name": "stdout",
     "output_type": "stream",
     "text": [
      "Processed chunk, found 100000 rows after 2014\n"
     ]
    },
    {
     "name": "stderr",
     "output_type": "stream",
     "text": [
      "C:\\Users\\liuc\\AppData\\Local\\Temp\\ipykernel_31204\\2272494464.py:12: DtypeWarning: Columns (10,38) have mixed types. Specify dtype option on import or set low_memory=False.\n",
      "  for chunk in pd.read_csv(path, chunksize=chunk_size):\n"
     ]
    },
    {
     "name": "stdout",
     "output_type": "stream",
     "text": [
      "Processed chunk, found 100000 rows after 2014\n"
     ]
    },
    {
     "name": "stderr",
     "output_type": "stream",
     "text": [
      "C:\\Users\\liuc\\AppData\\Local\\Temp\\ipykernel_31204\\2272494464.py:12: DtypeWarning: Columns (10,38) have mixed types. Specify dtype option on import or set low_memory=False.\n",
      "  for chunk in pd.read_csv(path, chunksize=chunk_size):\n"
     ]
    },
    {
     "name": "stdout",
     "output_type": "stream",
     "text": [
      "Processed chunk, found 100000 rows after 2014\n"
     ]
    },
    {
     "name": "stderr",
     "output_type": "stream",
     "text": [
      "C:\\Users\\liuc\\AppData\\Local\\Temp\\ipykernel_31204\\2272494464.py:12: DtypeWarning: Columns (38) have mixed types. Specify dtype option on import or set low_memory=False.\n",
      "  for chunk in pd.read_csv(path, chunksize=chunk_size):\n"
     ]
    },
    {
     "name": "stdout",
     "output_type": "stream",
     "text": [
      "Processed chunk, found 100000 rows after 2014\n"
     ]
    },
    {
     "name": "stderr",
     "output_type": "stream",
     "text": [
      "C:\\Users\\liuc\\AppData\\Local\\Temp\\ipykernel_31204\\2272494464.py:12: DtypeWarning: Columns (38) have mixed types. Specify dtype option on import or set low_memory=False.\n",
      "  for chunk in pd.read_csv(path, chunksize=chunk_size):\n"
     ]
    },
    {
     "name": "stdout",
     "output_type": "stream",
     "text": [
      "Processed chunk, found 100000 rows after 2014\n"
     ]
    },
    {
     "name": "stderr",
     "output_type": "stream",
     "text": [
      "C:\\Users\\liuc\\AppData\\Local\\Temp\\ipykernel_31204\\2272494464.py:12: DtypeWarning: Columns (38,74) have mixed types. Specify dtype option on import or set low_memory=False.\n",
      "  for chunk in pd.read_csv(path, chunksize=chunk_size):\n"
     ]
    },
    {
     "name": "stdout",
     "output_type": "stream",
     "text": [
      "Processed chunk, found 100000 rows after 2014\n"
     ]
    },
    {
     "name": "stderr",
     "output_type": "stream",
     "text": [
      "C:\\Users\\liuc\\AppData\\Local\\Temp\\ipykernel_31204\\2272494464.py:12: DtypeWarning: Columns (38,68) have mixed types. Specify dtype option on import or set low_memory=False.\n",
      "  for chunk in pd.read_csv(path, chunksize=chunk_size):\n"
     ]
    },
    {
     "name": "stdout",
     "output_type": "stream",
     "text": [
      "Processed chunk, found 100000 rows after 2014\n"
     ]
    },
    {
     "name": "stderr",
     "output_type": "stream",
     "text": [
      "C:\\Users\\liuc\\AppData\\Local\\Temp\\ipykernel_31204\\2272494464.py:12: DtypeWarning: Columns (38) have mixed types. Specify dtype option on import or set low_memory=False.\n",
      "  for chunk in pd.read_csv(path, chunksize=chunk_size):\n"
     ]
    },
    {
     "name": "stdout",
     "output_type": "stream",
     "text": [
      "Processed chunk, found 100000 rows after 2014\n"
     ]
    },
    {
     "name": "stderr",
     "output_type": "stream",
     "text": [
      "C:\\Users\\liuc\\AppData\\Local\\Temp\\ipykernel_31204\\2272494464.py:12: DtypeWarning: Columns (38) have mixed types. Specify dtype option on import or set low_memory=False.\n",
      "  for chunk in pd.read_csv(path, chunksize=chunk_size):\n"
     ]
    },
    {
     "name": "stdout",
     "output_type": "stream",
     "text": [
      "Processed chunk, found 100000 rows after 2014\n"
     ]
    },
    {
     "name": "stderr",
     "output_type": "stream",
     "text": [
      "C:\\Users\\liuc\\AppData\\Local\\Temp\\ipykernel_31204\\2272494464.py:12: DtypeWarning: Columns (10,38) have mixed types. Specify dtype option on import or set low_memory=False.\n",
      "  for chunk in pd.read_csv(path, chunksize=chunk_size):\n"
     ]
    },
    {
     "name": "stdout",
     "output_type": "stream",
     "text": [
      "Processed chunk, found 100000 rows after 2014\n"
     ]
    },
    {
     "name": "stderr",
     "output_type": "stream",
     "text": [
      "C:\\Users\\liuc\\AppData\\Local\\Temp\\ipykernel_31204\\2272494464.py:12: DtypeWarning: Columns (38) have mixed types. Specify dtype option on import or set low_memory=False.\n",
      "  for chunk in pd.read_csv(path, chunksize=chunk_size):\n"
     ]
    },
    {
     "name": "stdout",
     "output_type": "stream",
     "text": [
      "Processed chunk, found 100000 rows after 2014\n"
     ]
    },
    {
     "name": "stderr",
     "output_type": "stream",
     "text": [
      "C:\\Users\\liuc\\AppData\\Local\\Temp\\ipykernel_31204\\2272494464.py:12: DtypeWarning: Columns (38) have mixed types. Specify dtype option on import or set low_memory=False.\n",
      "  for chunk in pd.read_csv(path, chunksize=chunk_size):\n"
     ]
    },
    {
     "name": "stdout",
     "output_type": "stream",
     "text": [
      "Processed chunk, found 100000 rows after 2014\n"
     ]
    },
    {
     "name": "stderr",
     "output_type": "stream",
     "text": [
      "C:\\Users\\liuc\\AppData\\Local\\Temp\\ipykernel_31204\\2272494464.py:12: DtypeWarning: Columns (38,74) have mixed types. Specify dtype option on import or set low_memory=False.\n",
      "  for chunk in pd.read_csv(path, chunksize=chunk_size):\n"
     ]
    },
    {
     "name": "stdout",
     "output_type": "stream",
     "text": [
      "Processed chunk, found 100000 rows after 2014\n"
     ]
    },
    {
     "name": "stderr",
     "output_type": "stream",
     "text": [
      "C:\\Users\\liuc\\AppData\\Local\\Temp\\ipykernel_31204\\2272494464.py:12: DtypeWarning: Columns (10,38) have mixed types. Specify dtype option on import or set low_memory=False.\n",
      "  for chunk in pd.read_csv(path, chunksize=chunk_size):\n"
     ]
    },
    {
     "name": "stdout",
     "output_type": "stream",
     "text": [
      "Processed chunk, found 100000 rows after 2014\n"
     ]
    },
    {
     "name": "stderr",
     "output_type": "stream",
     "text": [
      "C:\\Users\\liuc\\AppData\\Local\\Temp\\ipykernel_31204\\2272494464.py:12: DtypeWarning: Columns (10,38) have mixed types. Specify dtype option on import or set low_memory=False.\n",
      "  for chunk in pd.read_csv(path, chunksize=chunk_size):\n"
     ]
    },
    {
     "name": "stdout",
     "output_type": "stream",
     "text": [
      "Processed chunk, found 100000 rows after 2014\n"
     ]
    },
    {
     "name": "stderr",
     "output_type": "stream",
     "text": [
      "C:\\Users\\liuc\\AppData\\Local\\Temp\\ipykernel_31204\\2272494464.py:12: DtypeWarning: Columns (38) have mixed types. Specify dtype option on import or set low_memory=False.\n",
      "  for chunk in pd.read_csv(path, chunksize=chunk_size):\n"
     ]
    },
    {
     "name": "stdout",
     "output_type": "stream",
     "text": [
      "Processed chunk, found 100000 rows after 2014\n"
     ]
    },
    {
     "name": "stderr",
     "output_type": "stream",
     "text": [
      "C:\\Users\\liuc\\AppData\\Local\\Temp\\ipykernel_31204\\2272494464.py:12: DtypeWarning: Columns (38) have mixed types. Specify dtype option on import or set low_memory=False.\n",
      "  for chunk in pd.read_csv(path, chunksize=chunk_size):\n"
     ]
    },
    {
     "name": "stdout",
     "output_type": "stream",
     "text": [
      "Processed chunk, found 100000 rows after 2014\n"
     ]
    },
    {
     "name": "stderr",
     "output_type": "stream",
     "text": [
      "C:\\Users\\liuc\\AppData\\Local\\Temp\\ipykernel_31204\\2272494464.py:12: DtypeWarning: Columns (38) have mixed types. Specify dtype option on import or set low_memory=False.\n",
      "  for chunk in pd.read_csv(path, chunksize=chunk_size):\n"
     ]
    },
    {
     "name": "stdout",
     "output_type": "stream",
     "text": [
      "Processed chunk, found 100000 rows after 2014\n"
     ]
    },
    {
     "name": "stderr",
     "output_type": "stream",
     "text": [
      "C:\\Users\\liuc\\AppData\\Local\\Temp\\ipykernel_31204\\2272494464.py:12: DtypeWarning: Columns (38) have mixed types. Specify dtype option on import or set low_memory=False.\n",
      "  for chunk in pd.read_csv(path, chunksize=chunk_size):\n"
     ]
    },
    {
     "name": "stdout",
     "output_type": "stream",
     "text": [
      "Processed chunk, found 100000 rows after 2014\n"
     ]
    },
    {
     "name": "stderr",
     "output_type": "stream",
     "text": [
      "C:\\Users\\liuc\\AppData\\Local\\Temp\\ipykernel_31204\\2272494464.py:12: DtypeWarning: Columns (10,38,68) have mixed types. Specify dtype option on import or set low_memory=False.\n",
      "  for chunk in pd.read_csv(path, chunksize=chunk_size):\n"
     ]
    },
    {
     "name": "stdout",
     "output_type": "stream",
     "text": [
      "Processed chunk, found 100000 rows after 2014\n"
     ]
    },
    {
     "name": "stderr",
     "output_type": "stream",
     "text": [
      "C:\\Users\\liuc\\AppData\\Local\\Temp\\ipykernel_31204\\2272494464.py:12: DtypeWarning: Columns (38) have mixed types. Specify dtype option on import or set low_memory=False.\n",
      "  for chunk in pd.read_csv(path, chunksize=chunk_size):\n"
     ]
    },
    {
     "name": "stdout",
     "output_type": "stream",
     "text": [
      "Processed chunk, found 100000 rows after 2014\n"
     ]
    },
    {
     "name": "stderr",
     "output_type": "stream",
     "text": [
      "C:\\Users\\liuc\\AppData\\Local\\Temp\\ipykernel_31204\\2272494464.py:12: DtypeWarning: Columns (38) have mixed types. Specify dtype option on import or set low_memory=False.\n",
      "  for chunk in pd.read_csv(path, chunksize=chunk_size):\n"
     ]
    },
    {
     "name": "stdout",
     "output_type": "stream",
     "text": [
      "Processed chunk, found 100000 rows after 2014\n"
     ]
    },
    {
     "name": "stderr",
     "output_type": "stream",
     "text": [
      "C:\\Users\\liuc\\AppData\\Local\\Temp\\ipykernel_31204\\2272494464.py:12: DtypeWarning: Columns (38) have mixed types. Specify dtype option on import or set low_memory=False.\n",
      "  for chunk in pd.read_csv(path, chunksize=chunk_size):\n"
     ]
    },
    {
     "name": "stdout",
     "output_type": "stream",
     "text": [
      "Processed chunk, found 100000 rows after 2014\n"
     ]
    },
    {
     "name": "stderr",
     "output_type": "stream",
     "text": [
      "C:\\Users\\liuc\\AppData\\Local\\Temp\\ipykernel_31204\\2272494464.py:12: DtypeWarning: Columns (38) have mixed types. Specify dtype option on import or set low_memory=False.\n",
      "  for chunk in pd.read_csv(path, chunksize=chunk_size):\n"
     ]
    },
    {
     "name": "stdout",
     "output_type": "stream",
     "text": [
      "Processed chunk, found 100000 rows after 2014\n"
     ]
    },
    {
     "name": "stderr",
     "output_type": "stream",
     "text": [
      "C:\\Users\\liuc\\AppData\\Local\\Temp\\ipykernel_31204\\2272494464.py:12: DtypeWarning: Columns (38) have mixed types. Specify dtype option on import or set low_memory=False.\n",
      "  for chunk in pd.read_csv(path, chunksize=chunk_size):\n"
     ]
    },
    {
     "name": "stdout",
     "output_type": "stream",
     "text": [
      "Processed chunk, found 100000 rows after 2014\n"
     ]
    },
    {
     "name": "stderr",
     "output_type": "stream",
     "text": [
      "C:\\Users\\liuc\\AppData\\Local\\Temp\\ipykernel_31204\\2272494464.py:12: DtypeWarning: Columns (10,38,68) have mixed types. Specify dtype option on import or set low_memory=False.\n",
      "  for chunk in pd.read_csv(path, chunksize=chunk_size):\n"
     ]
    },
    {
     "name": "stdout",
     "output_type": "stream",
     "text": [
      "Processed chunk, found 100000 rows after 2014\n"
     ]
    },
    {
     "name": "stderr",
     "output_type": "stream",
     "text": [
      "C:\\Users\\liuc\\AppData\\Local\\Temp\\ipykernel_31204\\2272494464.py:12: DtypeWarning: Columns (38) have mixed types. Specify dtype option on import or set low_memory=False.\n",
      "  for chunk in pd.read_csv(path, chunksize=chunk_size):\n"
     ]
    },
    {
     "name": "stdout",
     "output_type": "stream",
     "text": [
      "Processed chunk, found 100000 rows after 2014\n"
     ]
    },
    {
     "name": "stderr",
     "output_type": "stream",
     "text": [
      "C:\\Users\\liuc\\AppData\\Local\\Temp\\ipykernel_31204\\2272494464.py:12: DtypeWarning: Columns (38) have mixed types. Specify dtype option on import or set low_memory=False.\n",
      "  for chunk in pd.read_csv(path, chunksize=chunk_size):\n"
     ]
    },
    {
     "name": "stdout",
     "output_type": "stream",
     "text": [
      "Processed chunk, found 100000 rows after 2014\n"
     ]
    },
    {
     "name": "stderr",
     "output_type": "stream",
     "text": [
      "C:\\Users\\liuc\\AppData\\Local\\Temp\\ipykernel_31204\\2272494464.py:12: DtypeWarning: Columns (10,38) have mixed types. Specify dtype option on import or set low_memory=False.\n",
      "  for chunk in pd.read_csv(path, chunksize=chunk_size):\n"
     ]
    },
    {
     "name": "stdout",
     "output_type": "stream",
     "text": [
      "Processed chunk, found 100000 rows after 2014\n"
     ]
    },
    {
     "name": "stderr",
     "output_type": "stream",
     "text": [
      "C:\\Users\\liuc\\AppData\\Local\\Temp\\ipykernel_31204\\2272494464.py:12: DtypeWarning: Columns (38) have mixed types. Specify dtype option on import or set low_memory=False.\n",
      "  for chunk in pd.read_csv(path, chunksize=chunk_size):\n"
     ]
    },
    {
     "name": "stdout",
     "output_type": "stream",
     "text": [
      "Processed chunk, found 100000 rows after 2014\n"
     ]
    },
    {
     "name": "stderr",
     "output_type": "stream",
     "text": [
      "C:\\Users\\liuc\\AppData\\Local\\Temp\\ipykernel_31204\\2272494464.py:12: DtypeWarning: Columns (10,38) have mixed types. Specify dtype option on import or set low_memory=False.\n",
      "  for chunk in pd.read_csv(path, chunksize=chunk_size):\n"
     ]
    },
    {
     "name": "stdout",
     "output_type": "stream",
     "text": [
      "Processed chunk, found 100000 rows after 2014\n"
     ]
    },
    {
     "name": "stderr",
     "output_type": "stream",
     "text": [
      "C:\\Users\\liuc\\AppData\\Local\\Temp\\ipykernel_31204\\2272494464.py:12: DtypeWarning: Columns (38,74) have mixed types. Specify dtype option on import or set low_memory=False.\n",
      "  for chunk in pd.read_csv(path, chunksize=chunk_size):\n"
     ]
    },
    {
     "name": "stdout",
     "output_type": "stream",
     "text": [
      "Processed chunk, found 100000 rows after 2014\n"
     ]
    },
    {
     "name": "stderr",
     "output_type": "stream",
     "text": [
      "C:\\Users\\liuc\\AppData\\Local\\Temp\\ipykernel_31204\\2272494464.py:12: DtypeWarning: Columns (38) have mixed types. Specify dtype option on import or set low_memory=False.\n",
      "  for chunk in pd.read_csv(path, chunksize=chunk_size):\n"
     ]
    },
    {
     "name": "stdout",
     "output_type": "stream",
     "text": [
      "Processed chunk, found 100000 rows after 2014\n"
     ]
    },
    {
     "name": "stderr",
     "output_type": "stream",
     "text": [
      "C:\\Users\\liuc\\AppData\\Local\\Temp\\ipykernel_31204\\2272494464.py:12: DtypeWarning: Columns (38) have mixed types. Specify dtype option on import or set low_memory=False.\n",
      "  for chunk in pd.read_csv(path, chunksize=chunk_size):\n"
     ]
    },
    {
     "name": "stdout",
     "output_type": "stream",
     "text": [
      "Processed chunk, found 100000 rows after 2014\n"
     ]
    },
    {
     "name": "stderr",
     "output_type": "stream",
     "text": [
      "C:\\Users\\liuc\\AppData\\Local\\Temp\\ipykernel_31204\\2272494464.py:12: DtypeWarning: Columns (10,38) have mixed types. Specify dtype option on import or set low_memory=False.\n",
      "  for chunk in pd.read_csv(path, chunksize=chunk_size):\n"
     ]
    },
    {
     "name": "stdout",
     "output_type": "stream",
     "text": [
      "Processed chunk, found 100000 rows after 2014\n"
     ]
    },
    {
     "name": "stderr",
     "output_type": "stream",
     "text": [
      "C:\\Users\\liuc\\AppData\\Local\\Temp\\ipykernel_31204\\2272494464.py:12: DtypeWarning: Columns (10,38) have mixed types. Specify dtype option on import or set low_memory=False.\n",
      "  for chunk in pd.read_csv(path, chunksize=chunk_size):\n"
     ]
    },
    {
     "name": "stdout",
     "output_type": "stream",
     "text": [
      "Processed chunk, found 100000 rows after 2014\n"
     ]
    },
    {
     "name": "stderr",
     "output_type": "stream",
     "text": [
      "C:\\Users\\liuc\\AppData\\Local\\Temp\\ipykernel_31204\\2272494464.py:12: DtypeWarning: Columns (38) have mixed types. Specify dtype option on import or set low_memory=False.\n",
      "  for chunk in pd.read_csv(path, chunksize=chunk_size):\n"
     ]
    },
    {
     "name": "stdout",
     "output_type": "stream",
     "text": [
      "Processed chunk, found 100000 rows after 2014\n"
     ]
    },
    {
     "name": "stderr",
     "output_type": "stream",
     "text": [
      "C:\\Users\\liuc\\AppData\\Local\\Temp\\ipykernel_31204\\2272494464.py:12: DtypeWarning: Columns (10,38) have mixed types. Specify dtype option on import or set low_memory=False.\n",
      "  for chunk in pd.read_csv(path, chunksize=chunk_size):\n"
     ]
    },
    {
     "name": "stdout",
     "output_type": "stream",
     "text": [
      "Processed chunk, found 100000 rows after 2014\n"
     ]
    },
    {
     "name": "stderr",
     "output_type": "stream",
     "text": [
      "C:\\Users\\liuc\\AppData\\Local\\Temp\\ipykernel_31204\\2272494464.py:12: DtypeWarning: Columns (38) have mixed types. Specify dtype option on import or set low_memory=False.\n",
      "  for chunk in pd.read_csv(path, chunksize=chunk_size):\n"
     ]
    },
    {
     "name": "stdout",
     "output_type": "stream",
     "text": [
      "Processed chunk, found 100000 rows after 2014\n"
     ]
    },
    {
     "name": "stderr",
     "output_type": "stream",
     "text": [
      "C:\\Users\\liuc\\AppData\\Local\\Temp\\ipykernel_31204\\2272494464.py:12: DtypeWarning: Columns (10,38,68) have mixed types. Specify dtype option on import or set low_memory=False.\n",
      "  for chunk in pd.read_csv(path, chunksize=chunk_size):\n"
     ]
    },
    {
     "name": "stdout",
     "output_type": "stream",
     "text": [
      "Processed chunk, found 100000 rows after 2014\n"
     ]
    },
    {
     "name": "stderr",
     "output_type": "stream",
     "text": [
      "C:\\Users\\liuc\\AppData\\Local\\Temp\\ipykernel_31204\\2272494464.py:12: DtypeWarning: Columns (10,38) have mixed types. Specify dtype option on import or set low_memory=False.\n",
      "  for chunk in pd.read_csv(path, chunksize=chunk_size):\n"
     ]
    },
    {
     "name": "stdout",
     "output_type": "stream",
     "text": [
      "Processed chunk, found 100000 rows after 2014\n"
     ]
    },
    {
     "name": "stderr",
     "output_type": "stream",
     "text": [
      "C:\\Users\\liuc\\AppData\\Local\\Temp\\ipykernel_31204\\2272494464.py:12: DtypeWarning: Columns (38) have mixed types. Specify dtype option on import or set low_memory=False.\n",
      "  for chunk in pd.read_csv(path, chunksize=chunk_size):\n"
     ]
    },
    {
     "name": "stdout",
     "output_type": "stream",
     "text": [
      "Processed chunk, found 100000 rows after 2014\n"
     ]
    },
    {
     "name": "stderr",
     "output_type": "stream",
     "text": [
      "C:\\Users\\liuc\\AppData\\Local\\Temp\\ipykernel_31204\\2272494464.py:12: DtypeWarning: Columns (38) have mixed types. Specify dtype option on import or set low_memory=False.\n",
      "  for chunk in pd.read_csv(path, chunksize=chunk_size):\n"
     ]
    },
    {
     "name": "stdout",
     "output_type": "stream",
     "text": [
      "Processed chunk, found 100000 rows after 2014\n"
     ]
    },
    {
     "name": "stderr",
     "output_type": "stream",
     "text": [
      "C:\\Users\\liuc\\AppData\\Local\\Temp\\ipykernel_31204\\2272494464.py:12: DtypeWarning: Columns (10,38) have mixed types. Specify dtype option on import or set low_memory=False.\n",
      "  for chunk in pd.read_csv(path, chunksize=chunk_size):\n"
     ]
    },
    {
     "name": "stdout",
     "output_type": "stream",
     "text": [
      "Processed chunk, found 100000 rows after 2014\n"
     ]
    },
    {
     "name": "stderr",
     "output_type": "stream",
     "text": [
      "C:\\Users\\liuc\\AppData\\Local\\Temp\\ipykernel_31204\\2272494464.py:12: DtypeWarning: Columns (10,38,74) have mixed types. Specify dtype option on import or set low_memory=False.\n",
      "  for chunk in pd.read_csv(path, chunksize=chunk_size):\n"
     ]
    },
    {
     "name": "stdout",
     "output_type": "stream",
     "text": [
      "Processed chunk, found 100000 rows after 2014\n"
     ]
    },
    {
     "name": "stderr",
     "output_type": "stream",
     "text": [
      "C:\\Users\\liuc\\AppData\\Local\\Temp\\ipykernel_31204\\2272494464.py:12: DtypeWarning: Columns (38,68) have mixed types. Specify dtype option on import or set low_memory=False.\n",
      "  for chunk in pd.read_csv(path, chunksize=chunk_size):\n"
     ]
    },
    {
     "name": "stdout",
     "output_type": "stream",
     "text": [
      "Processed chunk, found 100000 rows after 2014\n"
     ]
    },
    {
     "name": "stderr",
     "output_type": "stream",
     "text": [
      "C:\\Users\\liuc\\AppData\\Local\\Temp\\ipykernel_31204\\2272494464.py:12: DtypeWarning: Columns (10,38) have mixed types. Specify dtype option on import or set low_memory=False.\n",
      "  for chunk in pd.read_csv(path, chunksize=chunk_size):\n"
     ]
    },
    {
     "name": "stdout",
     "output_type": "stream",
     "text": [
      "Processed chunk, found 100000 rows after 2014\n"
     ]
    },
    {
     "name": "stderr",
     "output_type": "stream",
     "text": [
      "C:\\Users\\liuc\\AppData\\Local\\Temp\\ipykernel_31204\\2272494464.py:12: DtypeWarning: Columns (3,38,68) have mixed types. Specify dtype option on import or set low_memory=False.\n",
      "  for chunk in pd.read_csv(path, chunksize=chunk_size):\n"
     ]
    },
    {
     "name": "stdout",
     "output_type": "stream",
     "text": [
      "Processed chunk, found 100000 rows after 2014\n"
     ]
    },
    {
     "name": "stderr",
     "output_type": "stream",
     "text": [
      "C:\\Users\\liuc\\AppData\\Local\\Temp\\ipykernel_31204\\2272494464.py:12: DtypeWarning: Columns (38) have mixed types. Specify dtype option on import or set low_memory=False.\n",
      "  for chunk in pd.read_csv(path, chunksize=chunk_size):\n"
     ]
    },
    {
     "name": "stdout",
     "output_type": "stream",
     "text": [
      "Processed chunk, found 100000 rows after 2014\n"
     ]
    },
    {
     "name": "stderr",
     "output_type": "stream",
     "text": [
      "C:\\Users\\liuc\\AppData\\Local\\Temp\\ipykernel_31204\\2272494464.py:12: DtypeWarning: Columns (38) have mixed types. Specify dtype option on import or set low_memory=False.\n",
      "  for chunk in pd.read_csv(path, chunksize=chunk_size):\n"
     ]
    },
    {
     "name": "stdout",
     "output_type": "stream",
     "text": [
      "Processed chunk, found 100000 rows after 2014\n"
     ]
    },
    {
     "name": "stderr",
     "output_type": "stream",
     "text": [
      "C:\\Users\\liuc\\AppData\\Local\\Temp\\ipykernel_31204\\2272494464.py:12: DtypeWarning: Columns (38) have mixed types. Specify dtype option on import or set low_memory=False.\n",
      "  for chunk in pd.read_csv(path, chunksize=chunk_size):\n"
     ]
    },
    {
     "name": "stdout",
     "output_type": "stream",
     "text": [
      "Processed chunk, found 100000 rows after 2014\n"
     ]
    },
    {
     "name": "stderr",
     "output_type": "stream",
     "text": [
      "C:\\Users\\liuc\\AppData\\Local\\Temp\\ipykernel_31204\\2272494464.py:12: DtypeWarning: Columns (38) have mixed types. Specify dtype option on import or set low_memory=False.\n",
      "  for chunk in pd.read_csv(path, chunksize=chunk_size):\n"
     ]
    },
    {
     "name": "stdout",
     "output_type": "stream",
     "text": [
      "Processed chunk, found 100000 rows after 2014\n"
     ]
    },
    {
     "name": "stderr",
     "output_type": "stream",
     "text": [
      "C:\\Users\\liuc\\AppData\\Local\\Temp\\ipykernel_31204\\2272494464.py:12: DtypeWarning: Columns (10,38) have mixed types. Specify dtype option on import or set low_memory=False.\n",
      "  for chunk in pd.read_csv(path, chunksize=chunk_size):\n"
     ]
    },
    {
     "name": "stdout",
     "output_type": "stream",
     "text": [
      "Processed chunk, found 100000 rows after 2014\n"
     ]
    },
    {
     "name": "stderr",
     "output_type": "stream",
     "text": [
      "C:\\Users\\liuc\\AppData\\Local\\Temp\\ipykernel_31204\\2272494464.py:12: DtypeWarning: Columns (38) have mixed types. Specify dtype option on import or set low_memory=False.\n",
      "  for chunk in pd.read_csv(path, chunksize=chunk_size):\n"
     ]
    },
    {
     "name": "stdout",
     "output_type": "stream",
     "text": [
      "Processed chunk, found 100000 rows after 2014\n"
     ]
    },
    {
     "name": "stderr",
     "output_type": "stream",
     "text": [
      "C:\\Users\\liuc\\AppData\\Local\\Temp\\ipykernel_31204\\2272494464.py:12: DtypeWarning: Columns (38) have mixed types. Specify dtype option on import or set low_memory=False.\n",
      "  for chunk in pd.read_csv(path, chunksize=chunk_size):\n"
     ]
    },
    {
     "name": "stdout",
     "output_type": "stream",
     "text": [
      "Processed chunk, found 100000 rows after 2014\n"
     ]
    },
    {
     "name": "stderr",
     "output_type": "stream",
     "text": [
      "C:\\Users\\liuc\\AppData\\Local\\Temp\\ipykernel_31204\\2272494464.py:12: DtypeWarning: Columns (10,38) have mixed types. Specify dtype option on import or set low_memory=False.\n",
      "  for chunk in pd.read_csv(path, chunksize=chunk_size):\n"
     ]
    },
    {
     "name": "stdout",
     "output_type": "stream",
     "text": [
      "Processed chunk, found 100000 rows after 2014\n"
     ]
    },
    {
     "name": "stderr",
     "output_type": "stream",
     "text": [
      "C:\\Users\\liuc\\AppData\\Local\\Temp\\ipykernel_31204\\2272494464.py:12: DtypeWarning: Columns (10,38) have mixed types. Specify dtype option on import or set low_memory=False.\n",
      "  for chunk in pd.read_csv(path, chunksize=chunk_size):\n"
     ]
    },
    {
     "name": "stdout",
     "output_type": "stream",
     "text": [
      "Processed chunk, found 100000 rows after 2014\n"
     ]
    },
    {
     "name": "stderr",
     "output_type": "stream",
     "text": [
      "C:\\Users\\liuc\\AppData\\Local\\Temp\\ipykernel_31204\\2272494464.py:12: DtypeWarning: Columns (38) have mixed types. Specify dtype option on import or set low_memory=False.\n",
      "  for chunk in pd.read_csv(path, chunksize=chunk_size):\n"
     ]
    },
    {
     "name": "stdout",
     "output_type": "stream",
     "text": [
      "Processed chunk, found 100000 rows after 2014\n"
     ]
    },
    {
     "name": "stderr",
     "output_type": "stream",
     "text": [
      "C:\\Users\\liuc\\AppData\\Local\\Temp\\ipykernel_31204\\2272494464.py:12: DtypeWarning: Columns (38) have mixed types. Specify dtype option on import or set low_memory=False.\n",
      "  for chunk in pd.read_csv(path, chunksize=chunk_size):\n"
     ]
    },
    {
     "name": "stdout",
     "output_type": "stream",
     "text": [
      "Processed chunk, found 100000 rows after 2014\n"
     ]
    },
    {
     "name": "stderr",
     "output_type": "stream",
     "text": [
      "C:\\Users\\liuc\\AppData\\Local\\Temp\\ipykernel_31204\\2272494464.py:12: DtypeWarning: Columns (10,38) have mixed types. Specify dtype option on import or set low_memory=False.\n",
      "  for chunk in pd.read_csv(path, chunksize=chunk_size):\n"
     ]
    },
    {
     "name": "stdout",
     "output_type": "stream",
     "text": [
      "Processed chunk, found 100000 rows after 2014\n"
     ]
    },
    {
     "name": "stderr",
     "output_type": "stream",
     "text": [
      "C:\\Users\\liuc\\AppData\\Local\\Temp\\ipykernel_31204\\2272494464.py:12: DtypeWarning: Columns (38) have mixed types. Specify dtype option on import or set low_memory=False.\n",
      "  for chunk in pd.read_csv(path, chunksize=chunk_size):\n"
     ]
    },
    {
     "name": "stdout",
     "output_type": "stream",
     "text": [
      "Processed chunk, found 100000 rows after 2014\n"
     ]
    },
    {
     "name": "stderr",
     "output_type": "stream",
     "text": [
      "C:\\Users\\liuc\\AppData\\Local\\Temp\\ipykernel_31204\\2272494464.py:12: DtypeWarning: Columns (10,38) have mixed types. Specify dtype option on import or set low_memory=False.\n",
      "  for chunk in pd.read_csv(path, chunksize=chunk_size):\n"
     ]
    },
    {
     "name": "stdout",
     "output_type": "stream",
     "text": [
      "Processed chunk, found 100000 rows after 2014\n"
     ]
    },
    {
     "name": "stderr",
     "output_type": "stream",
     "text": [
      "C:\\Users\\liuc\\AppData\\Local\\Temp\\ipykernel_31204\\2272494464.py:12: DtypeWarning: Columns (10,38) have mixed types. Specify dtype option on import or set low_memory=False.\n",
      "  for chunk in pd.read_csv(path, chunksize=chunk_size):\n"
     ]
    },
    {
     "name": "stdout",
     "output_type": "stream",
     "text": [
      "Processed chunk, found 100000 rows after 2014\n"
     ]
    },
    {
     "name": "stderr",
     "output_type": "stream",
     "text": [
      "C:\\Users\\liuc\\AppData\\Local\\Temp\\ipykernel_31204\\2272494464.py:12: DtypeWarning: Columns (38) have mixed types. Specify dtype option on import or set low_memory=False.\n",
      "  for chunk in pd.read_csv(path, chunksize=chunk_size):\n"
     ]
    },
    {
     "name": "stdout",
     "output_type": "stream",
     "text": [
      "Processed chunk, found 100000 rows after 2014\n"
     ]
    },
    {
     "name": "stderr",
     "output_type": "stream",
     "text": [
      "C:\\Users\\liuc\\AppData\\Local\\Temp\\ipykernel_31204\\2272494464.py:12: DtypeWarning: Columns (38) have mixed types. Specify dtype option on import or set low_memory=False.\n",
      "  for chunk in pd.read_csv(path, chunksize=chunk_size):\n"
     ]
    },
    {
     "name": "stdout",
     "output_type": "stream",
     "text": [
      "Processed chunk, found 100000 rows after 2014\n"
     ]
    },
    {
     "name": "stderr",
     "output_type": "stream",
     "text": [
      "C:\\Users\\liuc\\AppData\\Local\\Temp\\ipykernel_31204\\2272494464.py:12: DtypeWarning: Columns (10,38,74) have mixed types. Specify dtype option on import or set low_memory=False.\n",
      "  for chunk in pd.read_csv(path, chunksize=chunk_size):\n"
     ]
    },
    {
     "name": "stdout",
     "output_type": "stream",
     "text": [
      "Processed chunk, found 100000 rows after 2014\n"
     ]
    },
    {
     "name": "stderr",
     "output_type": "stream",
     "text": [
      "C:\\Users\\liuc\\AppData\\Local\\Temp\\ipykernel_31204\\2272494464.py:12: DtypeWarning: Columns (38) have mixed types. Specify dtype option on import or set low_memory=False.\n",
      "  for chunk in pd.read_csv(path, chunksize=chunk_size):\n"
     ]
    },
    {
     "name": "stdout",
     "output_type": "stream",
     "text": [
      "Processed chunk, found 100000 rows after 2014\n"
     ]
    },
    {
     "name": "stderr",
     "output_type": "stream",
     "text": [
      "C:\\Users\\liuc\\AppData\\Local\\Temp\\ipykernel_31204\\2272494464.py:12: DtypeWarning: Columns (38) have mixed types. Specify dtype option on import or set low_memory=False.\n",
      "  for chunk in pd.read_csv(path, chunksize=chunk_size):\n"
     ]
    },
    {
     "name": "stdout",
     "output_type": "stream",
     "text": [
      "Processed chunk, found 100000 rows after 2014\n"
     ]
    },
    {
     "name": "stderr",
     "output_type": "stream",
     "text": [
      "C:\\Users\\liuc\\AppData\\Local\\Temp\\ipykernel_31204\\2272494464.py:12: DtypeWarning: Columns (38) have mixed types. Specify dtype option on import or set low_memory=False.\n",
      "  for chunk in pd.read_csv(path, chunksize=chunk_size):\n"
     ]
    },
    {
     "name": "stdout",
     "output_type": "stream",
     "text": [
      "Processed chunk, found 100000 rows after 2014\n"
     ]
    },
    {
     "name": "stderr",
     "output_type": "stream",
     "text": [
      "C:\\Users\\liuc\\AppData\\Local\\Temp\\ipykernel_31204\\2272494464.py:12: DtypeWarning: Columns (10,38) have mixed types. Specify dtype option on import or set low_memory=False.\n",
      "  for chunk in pd.read_csv(path, chunksize=chunk_size):\n"
     ]
    },
    {
     "name": "stdout",
     "output_type": "stream",
     "text": [
      "Processed chunk, found 100000 rows after 2014\n"
     ]
    },
    {
     "name": "stderr",
     "output_type": "stream",
     "text": [
      "C:\\Users\\liuc\\AppData\\Local\\Temp\\ipykernel_31204\\2272494464.py:12: DtypeWarning: Columns (10,38) have mixed types. Specify dtype option on import or set low_memory=False.\n",
      "  for chunk in pd.read_csv(path, chunksize=chunk_size):\n"
     ]
    },
    {
     "name": "stdout",
     "output_type": "stream",
     "text": [
      "Processed chunk, found 100000 rows after 2014\n"
     ]
    },
    {
     "name": "stderr",
     "output_type": "stream",
     "text": [
      "C:\\Users\\liuc\\AppData\\Local\\Temp\\ipykernel_31204\\2272494464.py:12: DtypeWarning: Columns (10,38) have mixed types. Specify dtype option on import or set low_memory=False.\n",
      "  for chunk in pd.read_csv(path, chunksize=chunk_size):\n"
     ]
    },
    {
     "name": "stdout",
     "output_type": "stream",
     "text": [
      "Processed chunk, found 100000 rows after 2014\n"
     ]
    },
    {
     "name": "stderr",
     "output_type": "stream",
     "text": [
      "C:\\Users\\liuc\\AppData\\Local\\Temp\\ipykernel_31204\\2272494464.py:12: DtypeWarning: Columns (38) have mixed types. Specify dtype option on import or set low_memory=False.\n",
      "  for chunk in pd.read_csv(path, chunksize=chunk_size):\n"
     ]
    },
    {
     "name": "stdout",
     "output_type": "stream",
     "text": [
      "Processed chunk, found 100000 rows after 2014\n"
     ]
    },
    {
     "name": "stderr",
     "output_type": "stream",
     "text": [
      "C:\\Users\\liuc\\AppData\\Local\\Temp\\ipykernel_31204\\2272494464.py:12: DtypeWarning: Columns (10,38) have mixed types. Specify dtype option on import or set low_memory=False.\n",
      "  for chunk in pd.read_csv(path, chunksize=chunk_size):\n"
     ]
    },
    {
     "name": "stdout",
     "output_type": "stream",
     "text": [
      "Processed chunk, found 100000 rows after 2014\n"
     ]
    },
    {
     "name": "stderr",
     "output_type": "stream",
     "text": [
      "C:\\Users\\liuc\\AppData\\Local\\Temp\\ipykernel_31204\\2272494464.py:12: DtypeWarning: Columns (10,38) have mixed types. Specify dtype option on import or set low_memory=False.\n",
      "  for chunk in pd.read_csv(path, chunksize=chunk_size):\n"
     ]
    },
    {
     "name": "stdout",
     "output_type": "stream",
     "text": [
      "Processed chunk, found 100000 rows after 2014\n"
     ]
    },
    {
     "name": "stderr",
     "output_type": "stream",
     "text": [
      "C:\\Users\\liuc\\AppData\\Local\\Temp\\ipykernel_31204\\2272494464.py:12: DtypeWarning: Columns (38) have mixed types. Specify dtype option on import or set low_memory=False.\n",
      "  for chunk in pd.read_csv(path, chunksize=chunk_size):\n"
     ]
    },
    {
     "name": "stdout",
     "output_type": "stream",
     "text": [
      "Processed chunk, found 100000 rows after 2014\n"
     ]
    },
    {
     "name": "stderr",
     "output_type": "stream",
     "text": [
      "C:\\Users\\liuc\\AppData\\Local\\Temp\\ipykernel_31204\\2272494464.py:12: DtypeWarning: Columns (10,38) have mixed types. Specify dtype option on import or set low_memory=False.\n",
      "  for chunk in pd.read_csv(path, chunksize=chunk_size):\n"
     ]
    },
    {
     "name": "stdout",
     "output_type": "stream",
     "text": [
      "Processed chunk, found 100000 rows after 2014\n"
     ]
    },
    {
     "name": "stderr",
     "output_type": "stream",
     "text": [
      "C:\\Users\\liuc\\AppData\\Local\\Temp\\ipykernel_31204\\2272494464.py:12: DtypeWarning: Columns (10,38,74) have mixed types. Specify dtype option on import or set low_memory=False.\n",
      "  for chunk in pd.read_csv(path, chunksize=chunk_size):\n"
     ]
    },
    {
     "name": "stdout",
     "output_type": "stream",
     "text": [
      "Processed chunk, found 100000 rows after 2014\n"
     ]
    },
    {
     "name": "stderr",
     "output_type": "stream",
     "text": [
      "C:\\Users\\liuc\\AppData\\Local\\Temp\\ipykernel_31204\\2272494464.py:12: DtypeWarning: Columns (10,38) have mixed types. Specify dtype option on import or set low_memory=False.\n",
      "  for chunk in pd.read_csv(path, chunksize=chunk_size):\n"
     ]
    },
    {
     "name": "stdout",
     "output_type": "stream",
     "text": [
      "Processed chunk, found 100000 rows after 2014\n"
     ]
    },
    {
     "name": "stderr",
     "output_type": "stream",
     "text": [
      "C:\\Users\\liuc\\AppData\\Local\\Temp\\ipykernel_31204\\2272494464.py:12: DtypeWarning: Columns (10,38) have mixed types. Specify dtype option on import or set low_memory=False.\n",
      "  for chunk in pd.read_csv(path, chunksize=chunk_size):\n"
     ]
    },
    {
     "name": "stdout",
     "output_type": "stream",
     "text": [
      "Processed chunk, found 100000 rows after 2014\n"
     ]
    },
    {
     "name": "stderr",
     "output_type": "stream",
     "text": [
      "C:\\Users\\liuc\\AppData\\Local\\Temp\\ipykernel_31204\\2272494464.py:12: DtypeWarning: Columns (38) have mixed types. Specify dtype option on import or set low_memory=False.\n",
      "  for chunk in pd.read_csv(path, chunksize=chunk_size):\n"
     ]
    },
    {
     "name": "stdout",
     "output_type": "stream",
     "text": [
      "Processed chunk, found 100000 rows after 2014\n"
     ]
    },
    {
     "name": "stderr",
     "output_type": "stream",
     "text": [
      "C:\\Users\\liuc\\AppData\\Local\\Temp\\ipykernel_31204\\2272494464.py:12: DtypeWarning: Columns (10,38) have mixed types. Specify dtype option on import or set low_memory=False.\n",
      "  for chunk in pd.read_csv(path, chunksize=chunk_size):\n"
     ]
    },
    {
     "name": "stdout",
     "output_type": "stream",
     "text": [
      "Processed chunk, found 100000 rows after 2014\n"
     ]
    },
    {
     "name": "stderr",
     "output_type": "stream",
     "text": [
      "C:\\Users\\liuc\\AppData\\Local\\Temp\\ipykernel_31204\\2272494464.py:12: DtypeWarning: Columns (10,38) have mixed types. Specify dtype option on import or set low_memory=False.\n",
      "  for chunk in pd.read_csv(path, chunksize=chunk_size):\n"
     ]
    },
    {
     "name": "stdout",
     "output_type": "stream",
     "text": [
      "Processed chunk, found 100000 rows after 2014\n"
     ]
    },
    {
     "name": "stderr",
     "output_type": "stream",
     "text": [
      "C:\\Users\\liuc\\AppData\\Local\\Temp\\ipykernel_31204\\2272494464.py:12: DtypeWarning: Columns (10,38) have mixed types. Specify dtype option on import or set low_memory=False.\n",
      "  for chunk in pd.read_csv(path, chunksize=chunk_size):\n"
     ]
    },
    {
     "name": "stdout",
     "output_type": "stream",
     "text": [
      "Processed chunk, found 100000 rows after 2014\n"
     ]
    },
    {
     "name": "stderr",
     "output_type": "stream",
     "text": [
      "C:\\Users\\liuc\\AppData\\Local\\Temp\\ipykernel_31204\\2272494464.py:12: DtypeWarning: Columns (10,38) have mixed types. Specify dtype option on import or set low_memory=False.\n",
      "  for chunk in pd.read_csv(path, chunksize=chunk_size):\n"
     ]
    },
    {
     "name": "stdout",
     "output_type": "stream",
     "text": [
      "Processed chunk, found 100000 rows after 2014\n"
     ]
    },
    {
     "name": "stderr",
     "output_type": "stream",
     "text": [
      "C:\\Users\\liuc\\AppData\\Local\\Temp\\ipykernel_31204\\2272494464.py:12: DtypeWarning: Columns (10,38) have mixed types. Specify dtype option on import or set low_memory=False.\n",
      "  for chunk in pd.read_csv(path, chunksize=chunk_size):\n"
     ]
    },
    {
     "name": "stdout",
     "output_type": "stream",
     "text": [
      "Processed chunk, found 100000 rows after 2014\n"
     ]
    },
    {
     "name": "stderr",
     "output_type": "stream",
     "text": [
      "C:\\Users\\liuc\\AppData\\Local\\Temp\\ipykernel_31204\\2272494464.py:12: DtypeWarning: Columns (10) have mixed types. Specify dtype option on import or set low_memory=False.\n",
      "  for chunk in pd.read_csv(path, chunksize=chunk_size):\n"
     ]
    },
    {
     "name": "stdout",
     "output_type": "stream",
     "text": [
      "Processed chunk, found 100000 rows after 2014\n"
     ]
    },
    {
     "name": "stderr",
     "output_type": "stream",
     "text": [
      "C:\\Users\\liuc\\AppData\\Local\\Temp\\ipykernel_31204\\2272494464.py:12: DtypeWarning: Columns (38) have mixed types. Specify dtype option on import or set low_memory=False.\n",
      "  for chunk in pd.read_csv(path, chunksize=chunk_size):\n"
     ]
    },
    {
     "name": "stdout",
     "output_type": "stream",
     "text": [
      "Processed chunk, found 100000 rows after 2014\n"
     ]
    },
    {
     "name": "stderr",
     "output_type": "stream",
     "text": [
      "C:\\Users\\liuc\\AppData\\Local\\Temp\\ipykernel_31204\\2272494464.py:12: DtypeWarning: Columns (38) have mixed types. Specify dtype option on import or set low_memory=False.\n",
      "  for chunk in pd.read_csv(path, chunksize=chunk_size):\n"
     ]
    },
    {
     "name": "stdout",
     "output_type": "stream",
     "text": [
      "Processed chunk, found 100000 rows after 2014\n"
     ]
    },
    {
     "name": "stderr",
     "output_type": "stream",
     "text": [
      "C:\\Users\\liuc\\AppData\\Local\\Temp\\ipykernel_31204\\2272494464.py:12: DtypeWarning: Columns (38) have mixed types. Specify dtype option on import or set low_memory=False.\n",
      "  for chunk in pd.read_csv(path, chunksize=chunk_size):\n"
     ]
    },
    {
     "name": "stdout",
     "output_type": "stream",
     "text": [
      "Processed chunk, found 100000 rows after 2014\n"
     ]
    },
    {
     "name": "stderr",
     "output_type": "stream",
     "text": [
      "C:\\Users\\liuc\\AppData\\Local\\Temp\\ipykernel_31204\\2272494464.py:12: DtypeWarning: Columns (10,38) have mixed types. Specify dtype option on import or set low_memory=False.\n",
      "  for chunk in pd.read_csv(path, chunksize=chunk_size):\n"
     ]
    },
    {
     "name": "stdout",
     "output_type": "stream",
     "text": [
      "Processed chunk, found 100000 rows after 2014\n"
     ]
    },
    {
     "name": "stderr",
     "output_type": "stream",
     "text": [
      "C:\\Users\\liuc\\AppData\\Local\\Temp\\ipykernel_31204\\2272494464.py:12: DtypeWarning: Columns (38) have mixed types. Specify dtype option on import or set low_memory=False.\n",
      "  for chunk in pd.read_csv(path, chunksize=chunk_size):\n"
     ]
    },
    {
     "name": "stdout",
     "output_type": "stream",
     "text": [
      "Processed chunk, found 100000 rows after 2014\n"
     ]
    },
    {
     "name": "stderr",
     "output_type": "stream",
     "text": [
      "C:\\Users\\liuc\\AppData\\Local\\Temp\\ipykernel_31204\\2272494464.py:12: DtypeWarning: Columns (10,38) have mixed types. Specify dtype option on import or set low_memory=False.\n",
      "  for chunk in pd.read_csv(path, chunksize=chunk_size):\n"
     ]
    },
    {
     "name": "stdout",
     "output_type": "stream",
     "text": [
      "Processed chunk, found 100000 rows after 2014\n"
     ]
    },
    {
     "name": "stderr",
     "output_type": "stream",
     "text": [
      "C:\\Users\\liuc\\AppData\\Local\\Temp\\ipykernel_31204\\2272494464.py:12: DtypeWarning: Columns (10,38) have mixed types. Specify dtype option on import or set low_memory=False.\n",
      "  for chunk in pd.read_csv(path, chunksize=chunk_size):\n"
     ]
    },
    {
     "name": "stdout",
     "output_type": "stream",
     "text": [
      "Processed chunk, found 100000 rows after 2014\n"
     ]
    },
    {
     "name": "stderr",
     "output_type": "stream",
     "text": [
      "C:\\Users\\liuc\\AppData\\Local\\Temp\\ipykernel_31204\\2272494464.py:12: DtypeWarning: Columns (38) have mixed types. Specify dtype option on import or set low_memory=False.\n",
      "  for chunk in pd.read_csv(path, chunksize=chunk_size):\n"
     ]
    },
    {
     "name": "stdout",
     "output_type": "stream",
     "text": [
      "Processed chunk, found 100000 rows after 2014\n"
     ]
    },
    {
     "name": "stderr",
     "output_type": "stream",
     "text": [
      "C:\\Users\\liuc\\AppData\\Local\\Temp\\ipykernel_31204\\2272494464.py:12: DtypeWarning: Columns (10) have mixed types. Specify dtype option on import or set low_memory=False.\n",
      "  for chunk in pd.read_csv(path, chunksize=chunk_size):\n"
     ]
    },
    {
     "name": "stdout",
     "output_type": "stream",
     "text": [
      "Processed chunk, found 100000 rows after 2014\n"
     ]
    },
    {
     "name": "stderr",
     "output_type": "stream",
     "text": [
      "C:\\Users\\liuc\\AppData\\Local\\Temp\\ipykernel_31204\\2272494464.py:12: DtypeWarning: Columns (10,38) have mixed types. Specify dtype option on import or set low_memory=False.\n",
      "  for chunk in pd.read_csv(path, chunksize=chunk_size):\n"
     ]
    },
    {
     "name": "stdout",
     "output_type": "stream",
     "text": [
      "Processed chunk, found 100000 rows after 2014\n"
     ]
    },
    {
     "name": "stderr",
     "output_type": "stream",
     "text": [
      "C:\\Users\\liuc\\AppData\\Local\\Temp\\ipykernel_31204\\2272494464.py:12: DtypeWarning: Columns (38) have mixed types. Specify dtype option on import or set low_memory=False.\n",
      "  for chunk in pd.read_csv(path, chunksize=chunk_size):\n"
     ]
    },
    {
     "name": "stdout",
     "output_type": "stream",
     "text": [
      "Processed chunk, found 100000 rows after 2014\n"
     ]
    },
    {
     "name": "stderr",
     "output_type": "stream",
     "text": [
      "C:\\Users\\liuc\\AppData\\Local\\Temp\\ipykernel_31204\\2272494464.py:12: DtypeWarning: Columns (38) have mixed types. Specify dtype option on import or set low_memory=False.\n",
      "  for chunk in pd.read_csv(path, chunksize=chunk_size):\n"
     ]
    },
    {
     "name": "stdout",
     "output_type": "stream",
     "text": [
      "Processed chunk, found 100000 rows after 2014\n"
     ]
    },
    {
     "name": "stderr",
     "output_type": "stream",
     "text": [
      "C:\\Users\\liuc\\AppData\\Local\\Temp\\ipykernel_31204\\2272494464.py:12: DtypeWarning: Columns (10,38) have mixed types. Specify dtype option on import or set low_memory=False.\n",
      "  for chunk in pd.read_csv(path, chunksize=chunk_size):\n"
     ]
    },
    {
     "name": "stdout",
     "output_type": "stream",
     "text": [
      "Processed chunk, found 100000 rows after 2014\n"
     ]
    },
    {
     "name": "stderr",
     "output_type": "stream",
     "text": [
      "C:\\Users\\liuc\\AppData\\Local\\Temp\\ipykernel_31204\\2272494464.py:12: DtypeWarning: Columns (38) have mixed types. Specify dtype option on import or set low_memory=False.\n",
      "  for chunk in pd.read_csv(path, chunksize=chunk_size):\n"
     ]
    },
    {
     "name": "stdout",
     "output_type": "stream",
     "text": [
      "Processed chunk, found 100000 rows after 2014\n"
     ]
    },
    {
     "name": "stderr",
     "output_type": "stream",
     "text": [
      "C:\\Users\\liuc\\AppData\\Local\\Temp\\ipykernel_31204\\2272494464.py:12: DtypeWarning: Columns (10,38) have mixed types. Specify dtype option on import or set low_memory=False.\n",
      "  for chunk in pd.read_csv(path, chunksize=chunk_size):\n"
     ]
    },
    {
     "name": "stdout",
     "output_type": "stream",
     "text": [
      "Processed chunk, found 100000 rows after 2014\n"
     ]
    },
    {
     "name": "stderr",
     "output_type": "stream",
     "text": [
      "C:\\Users\\liuc\\AppData\\Local\\Temp\\ipykernel_31204\\2272494464.py:12: DtypeWarning: Columns (10,38) have mixed types. Specify dtype option on import or set low_memory=False.\n",
      "  for chunk in pd.read_csv(path, chunksize=chunk_size):\n"
     ]
    },
    {
     "name": "stdout",
     "output_type": "stream",
     "text": [
      "Processed chunk, found 100000 rows after 2014\n"
     ]
    },
    {
     "name": "stderr",
     "output_type": "stream",
     "text": [
      "C:\\Users\\liuc\\AppData\\Local\\Temp\\ipykernel_31204\\2272494464.py:12: DtypeWarning: Columns (10) have mixed types. Specify dtype option on import or set low_memory=False.\n",
      "  for chunk in pd.read_csv(path, chunksize=chunk_size):\n"
     ]
    },
    {
     "name": "stdout",
     "output_type": "stream",
     "text": [
      "Processed chunk, found 100000 rows after 2014\n"
     ]
    },
    {
     "name": "stderr",
     "output_type": "stream",
     "text": [
      "C:\\Users\\liuc\\AppData\\Local\\Temp\\ipykernel_31204\\2272494464.py:12: DtypeWarning: Columns (38) have mixed types. Specify dtype option on import or set low_memory=False.\n",
      "  for chunk in pd.read_csv(path, chunksize=chunk_size):\n"
     ]
    },
    {
     "name": "stdout",
     "output_type": "stream",
     "text": [
      "Processed chunk, found 100000 rows after 2014\n"
     ]
    },
    {
     "name": "stderr",
     "output_type": "stream",
     "text": [
      "C:\\Users\\liuc\\AppData\\Local\\Temp\\ipykernel_31204\\2272494464.py:12: DtypeWarning: Columns (38) have mixed types. Specify dtype option on import or set low_memory=False.\n",
      "  for chunk in pd.read_csv(path, chunksize=chunk_size):\n"
     ]
    },
    {
     "name": "stdout",
     "output_type": "stream",
     "text": [
      "Processed chunk, found 100000 rows after 2014\n"
     ]
    },
    {
     "name": "stderr",
     "output_type": "stream",
     "text": [
      "C:\\Users\\liuc\\AppData\\Local\\Temp\\ipykernel_31204\\2272494464.py:12: DtypeWarning: Columns (38,68) have mixed types. Specify dtype option on import or set low_memory=False.\n",
      "  for chunk in pd.read_csv(path, chunksize=chunk_size):\n"
     ]
    },
    {
     "name": "stdout",
     "output_type": "stream",
     "text": [
      "Processed chunk, found 100000 rows after 2014\n"
     ]
    },
    {
     "name": "stderr",
     "output_type": "stream",
     "text": [
      "C:\\Users\\liuc\\AppData\\Local\\Temp\\ipykernel_31204\\2272494464.py:12: DtypeWarning: Columns (38) have mixed types. Specify dtype option on import or set low_memory=False.\n",
      "  for chunk in pd.read_csv(path, chunksize=chunk_size):\n"
     ]
    },
    {
     "name": "stdout",
     "output_type": "stream",
     "text": [
      "Processed chunk, found 100000 rows after 2014\n"
     ]
    },
    {
     "name": "stderr",
     "output_type": "stream",
     "text": [
      "C:\\Users\\liuc\\AppData\\Local\\Temp\\ipykernel_31204\\2272494464.py:12: DtypeWarning: Columns (38,68) have mixed types. Specify dtype option on import or set low_memory=False.\n",
      "  for chunk in pd.read_csv(path, chunksize=chunk_size):\n"
     ]
    },
    {
     "name": "stdout",
     "output_type": "stream",
     "text": [
      "Processed chunk, found 100000 rows after 2014\n"
     ]
    },
    {
     "name": "stderr",
     "output_type": "stream",
     "text": [
      "C:\\Users\\liuc\\AppData\\Local\\Temp\\ipykernel_31204\\2272494464.py:12: DtypeWarning: Columns (38) have mixed types. Specify dtype option on import or set low_memory=False.\n",
      "  for chunk in pd.read_csv(path, chunksize=chunk_size):\n"
     ]
    },
    {
     "name": "stdout",
     "output_type": "stream",
     "text": [
      "Processed chunk, found 100000 rows after 2014\n"
     ]
    },
    {
     "name": "stderr",
     "output_type": "stream",
     "text": [
      "C:\\Users\\liuc\\AppData\\Local\\Temp\\ipykernel_31204\\2272494464.py:12: DtypeWarning: Columns (38) have mixed types. Specify dtype option on import or set low_memory=False.\n",
      "  for chunk in pd.read_csv(path, chunksize=chunk_size):\n"
     ]
    },
    {
     "name": "stdout",
     "output_type": "stream",
     "text": [
      "Processed chunk, found 100000 rows after 2014\n"
     ]
    },
    {
     "name": "stderr",
     "output_type": "stream",
     "text": [
      "C:\\Users\\liuc\\AppData\\Local\\Temp\\ipykernel_31204\\2272494464.py:12: DtypeWarning: Columns (10,38) have mixed types. Specify dtype option on import or set low_memory=False.\n",
      "  for chunk in pd.read_csv(path, chunksize=chunk_size):\n"
     ]
    },
    {
     "name": "stdout",
     "output_type": "stream",
     "text": [
      "Processed chunk, found 100000 rows after 2014\n"
     ]
    },
    {
     "name": "stderr",
     "output_type": "stream",
     "text": [
      "C:\\Users\\liuc\\AppData\\Local\\Temp\\ipykernel_31204\\2272494464.py:12: DtypeWarning: Columns (10) have mixed types. Specify dtype option on import or set low_memory=False.\n",
      "  for chunk in pd.read_csv(path, chunksize=chunk_size):\n"
     ]
    },
    {
     "name": "stdout",
     "output_type": "stream",
     "text": [
      "Processed chunk, found 100000 rows after 2014\n"
     ]
    },
    {
     "name": "stderr",
     "output_type": "stream",
     "text": [
      "C:\\Users\\liuc\\AppData\\Local\\Temp\\ipykernel_31204\\2272494464.py:12: DtypeWarning: Columns (38) have mixed types. Specify dtype option on import or set low_memory=False.\n",
      "  for chunk in pd.read_csv(path, chunksize=chunk_size):\n"
     ]
    },
    {
     "name": "stdout",
     "output_type": "stream",
     "text": [
      "Processed chunk, found 100000 rows after 2014\n"
     ]
    },
    {
     "name": "stderr",
     "output_type": "stream",
     "text": [
      "C:\\Users\\liuc\\AppData\\Local\\Temp\\ipykernel_31204\\2272494464.py:12: DtypeWarning: Columns (38) have mixed types. Specify dtype option on import or set low_memory=False.\n",
      "  for chunk in pd.read_csv(path, chunksize=chunk_size):\n"
     ]
    },
    {
     "name": "stdout",
     "output_type": "stream",
     "text": [
      "Processed chunk, found 100000 rows after 2014\n"
     ]
    },
    {
     "name": "stderr",
     "output_type": "stream",
     "text": [
      "C:\\Users\\liuc\\AppData\\Local\\Temp\\ipykernel_31204\\2272494464.py:12: DtypeWarning: Columns (38) have mixed types. Specify dtype option on import or set low_memory=False.\n",
      "  for chunk in pd.read_csv(path, chunksize=chunk_size):\n"
     ]
    },
    {
     "name": "stdout",
     "output_type": "stream",
     "text": [
      "Processed chunk, found 100000 rows after 2014\n"
     ]
    },
    {
     "name": "stderr",
     "output_type": "stream",
     "text": [
      "C:\\Users\\liuc\\AppData\\Local\\Temp\\ipykernel_31204\\2272494464.py:12: DtypeWarning: Columns (10,38) have mixed types. Specify dtype option on import or set low_memory=False.\n",
      "  for chunk in pd.read_csv(path, chunksize=chunk_size):\n"
     ]
    },
    {
     "name": "stdout",
     "output_type": "stream",
     "text": [
      "Processed chunk, found 100000 rows after 2014\n"
     ]
    },
    {
     "name": "stderr",
     "output_type": "stream",
     "text": [
      "C:\\Users\\liuc\\AppData\\Local\\Temp\\ipykernel_31204\\2272494464.py:12: DtypeWarning: Columns (38) have mixed types. Specify dtype option on import or set low_memory=False.\n",
      "  for chunk in pd.read_csv(path, chunksize=chunk_size):\n"
     ]
    },
    {
     "name": "stdout",
     "output_type": "stream",
     "text": [
      "Processed chunk, found 100000 rows after 2014\n"
     ]
    },
    {
     "name": "stderr",
     "output_type": "stream",
     "text": [
      "C:\\Users\\liuc\\AppData\\Local\\Temp\\ipykernel_31204\\2272494464.py:12: DtypeWarning: Columns (38,74) have mixed types. Specify dtype option on import or set low_memory=False.\n",
      "  for chunk in pd.read_csv(path, chunksize=chunk_size):\n"
     ]
    },
    {
     "name": "stdout",
     "output_type": "stream",
     "text": [
      "Processed chunk, found 100000 rows after 2014\n"
     ]
    },
    {
     "name": "stderr",
     "output_type": "stream",
     "text": [
      "C:\\Users\\liuc\\AppData\\Local\\Temp\\ipykernel_31204\\2272494464.py:12: DtypeWarning: Columns (38,74) have mixed types. Specify dtype option on import or set low_memory=False.\n",
      "  for chunk in pd.read_csv(path, chunksize=chunk_size):\n"
     ]
    },
    {
     "name": "stdout",
     "output_type": "stream",
     "text": [
      "Processed chunk, found 100000 rows after 2014\n"
     ]
    },
    {
     "name": "stderr",
     "output_type": "stream",
     "text": [
      "C:\\Users\\liuc\\AppData\\Local\\Temp\\ipykernel_31204\\2272494464.py:12: DtypeWarning: Columns (10) have mixed types. Specify dtype option on import or set low_memory=False.\n",
      "  for chunk in pd.read_csv(path, chunksize=chunk_size):\n"
     ]
    },
    {
     "name": "stdout",
     "output_type": "stream",
     "text": [
      "Processed chunk, found 100000 rows after 2014\n"
     ]
    },
    {
     "name": "stderr",
     "output_type": "stream",
     "text": [
      "C:\\Users\\liuc\\AppData\\Local\\Temp\\ipykernel_31204\\2272494464.py:12: DtypeWarning: Columns (10,38,74) have mixed types. Specify dtype option on import or set low_memory=False.\n",
      "  for chunk in pd.read_csv(path, chunksize=chunk_size):\n"
     ]
    },
    {
     "name": "stdout",
     "output_type": "stream",
     "text": [
      "Processed chunk, found 100000 rows after 2014\n"
     ]
    },
    {
     "name": "stderr",
     "output_type": "stream",
     "text": [
      "C:\\Users\\liuc\\AppData\\Local\\Temp\\ipykernel_31204\\2272494464.py:12: DtypeWarning: Columns (10,38) have mixed types. Specify dtype option on import or set low_memory=False.\n",
      "  for chunk in pd.read_csv(path, chunksize=chunk_size):\n"
     ]
    },
    {
     "name": "stdout",
     "output_type": "stream",
     "text": [
      "Processed chunk, found 100000 rows after 2014\n"
     ]
    },
    {
     "name": "stderr",
     "output_type": "stream",
     "text": [
      "C:\\Users\\liuc\\AppData\\Local\\Temp\\ipykernel_31204\\2272494464.py:12: DtypeWarning: Columns (38) have mixed types. Specify dtype option on import or set low_memory=False.\n",
      "  for chunk in pd.read_csv(path, chunksize=chunk_size):\n"
     ]
    },
    {
     "name": "stdout",
     "output_type": "stream",
     "text": [
      "Processed chunk, found 100000 rows after 2014\n"
     ]
    },
    {
     "name": "stderr",
     "output_type": "stream",
     "text": [
      "C:\\Users\\liuc\\AppData\\Local\\Temp\\ipykernel_31204\\2272494464.py:12: DtypeWarning: Columns (10,38) have mixed types. Specify dtype option on import or set low_memory=False.\n",
      "  for chunk in pd.read_csv(path, chunksize=chunk_size):\n"
     ]
    },
    {
     "name": "stdout",
     "output_type": "stream",
     "text": [
      "Processed chunk, found 100000 rows after 2014\n"
     ]
    },
    {
     "name": "stderr",
     "output_type": "stream",
     "text": [
      "C:\\Users\\liuc\\AppData\\Local\\Temp\\ipykernel_31204\\2272494464.py:12: DtypeWarning: Columns (10,38) have mixed types. Specify dtype option on import or set low_memory=False.\n",
      "  for chunk in pd.read_csv(path, chunksize=chunk_size):\n"
     ]
    },
    {
     "name": "stdout",
     "output_type": "stream",
     "text": [
      "Processed chunk, found 100000 rows after 2014\n"
     ]
    },
    {
     "name": "stderr",
     "output_type": "stream",
     "text": [
      "C:\\Users\\liuc\\AppData\\Local\\Temp\\ipykernel_31204\\2272494464.py:12: DtypeWarning: Columns (10,38) have mixed types. Specify dtype option on import or set low_memory=False.\n",
      "  for chunk in pd.read_csv(path, chunksize=chunk_size):\n"
     ]
    },
    {
     "name": "stdout",
     "output_type": "stream",
     "text": [
      "Processed chunk, found 100000 rows after 2014\n"
     ]
    },
    {
     "name": "stderr",
     "output_type": "stream",
     "text": [
      "C:\\Users\\liuc\\AppData\\Local\\Temp\\ipykernel_31204\\2272494464.py:12: DtypeWarning: Columns (10,38) have mixed types. Specify dtype option on import or set low_memory=False.\n",
      "  for chunk in pd.read_csv(path, chunksize=chunk_size):\n"
     ]
    },
    {
     "name": "stdout",
     "output_type": "stream",
     "text": [
      "Processed chunk, found 100000 rows after 2014\n"
     ]
    },
    {
     "name": "stderr",
     "output_type": "stream",
     "text": [
      "C:\\Users\\liuc\\AppData\\Local\\Temp\\ipykernel_31204\\2272494464.py:12: DtypeWarning: Columns (10,38) have mixed types. Specify dtype option on import or set low_memory=False.\n",
      "  for chunk in pd.read_csv(path, chunksize=chunk_size):\n"
     ]
    },
    {
     "name": "stdout",
     "output_type": "stream",
     "text": [
      "Processed chunk, found 100000 rows after 2014\n"
     ]
    },
    {
     "name": "stderr",
     "output_type": "stream",
     "text": [
      "C:\\Users\\liuc\\AppData\\Local\\Temp\\ipykernel_31204\\2272494464.py:12: DtypeWarning: Columns (10,38) have mixed types. Specify dtype option on import or set low_memory=False.\n",
      "  for chunk in pd.read_csv(path, chunksize=chunk_size):\n"
     ]
    },
    {
     "name": "stdout",
     "output_type": "stream",
     "text": [
      "Processed chunk, found 100000 rows after 2014\n"
     ]
    },
    {
     "name": "stderr",
     "output_type": "stream",
     "text": [
      "C:\\Users\\liuc\\AppData\\Local\\Temp\\ipykernel_31204\\2272494464.py:12: DtypeWarning: Columns (38) have mixed types. Specify dtype option on import or set low_memory=False.\n",
      "  for chunk in pd.read_csv(path, chunksize=chunk_size):\n"
     ]
    },
    {
     "name": "stdout",
     "output_type": "stream",
     "text": [
      "Processed chunk, found 100000 rows after 2014\n"
     ]
    },
    {
     "name": "stderr",
     "output_type": "stream",
     "text": [
      "C:\\Users\\liuc\\AppData\\Local\\Temp\\ipykernel_31204\\2272494464.py:12: DtypeWarning: Columns (10,38,74) have mixed types. Specify dtype option on import or set low_memory=False.\n",
      "  for chunk in pd.read_csv(path, chunksize=chunk_size):\n"
     ]
    },
    {
     "name": "stdout",
     "output_type": "stream",
     "text": [
      "Processed chunk, found 100000 rows after 2014\n"
     ]
    },
    {
     "name": "stderr",
     "output_type": "stream",
     "text": [
      "C:\\Users\\liuc\\AppData\\Local\\Temp\\ipykernel_31204\\2272494464.py:12: DtypeWarning: Columns (10,38) have mixed types. Specify dtype option on import or set low_memory=False.\n",
      "  for chunk in pd.read_csv(path, chunksize=chunk_size):\n"
     ]
    },
    {
     "name": "stdout",
     "output_type": "stream",
     "text": [
      "Processed chunk, found 100000 rows after 2014\n"
     ]
    },
    {
     "name": "stderr",
     "output_type": "stream",
     "text": [
      "C:\\Users\\liuc\\AppData\\Local\\Temp\\ipykernel_31204\\2272494464.py:12: DtypeWarning: Columns (38) have mixed types. Specify dtype option on import or set low_memory=False.\n",
      "  for chunk in pd.read_csv(path, chunksize=chunk_size):\n"
     ]
    },
    {
     "name": "stdout",
     "output_type": "stream",
     "text": [
      "Processed chunk, found 100000 rows after 2014\n"
     ]
    },
    {
     "name": "stderr",
     "output_type": "stream",
     "text": [
      "C:\\Users\\liuc\\AppData\\Local\\Temp\\ipykernel_31204\\2272494464.py:12: DtypeWarning: Columns (10,38) have mixed types. Specify dtype option on import or set low_memory=False.\n",
      "  for chunk in pd.read_csv(path, chunksize=chunk_size):\n"
     ]
    },
    {
     "name": "stdout",
     "output_type": "stream",
     "text": [
      "Processed chunk, found 100000 rows after 2014\n"
     ]
    },
    {
     "name": "stderr",
     "output_type": "stream",
     "text": [
      "C:\\Users\\liuc\\AppData\\Local\\Temp\\ipykernel_31204\\2272494464.py:12: DtypeWarning: Columns (10,38,68) have mixed types. Specify dtype option on import or set low_memory=False.\n",
      "  for chunk in pd.read_csv(path, chunksize=chunk_size):\n"
     ]
    },
    {
     "name": "stdout",
     "output_type": "stream",
     "text": [
      "Processed chunk, found 100000 rows after 2014\n",
      "Processed chunk, found 100000 rows after 2014\n"
     ]
    },
    {
     "name": "stderr",
     "output_type": "stream",
     "text": [
      "C:\\Users\\liuc\\AppData\\Local\\Temp\\ipykernel_31204\\2272494464.py:12: DtypeWarning: Columns (10) have mixed types. Specify dtype option on import or set low_memory=False.\n",
      "  for chunk in pd.read_csv(path, chunksize=chunk_size):\n"
     ]
    },
    {
     "name": "stdout",
     "output_type": "stream",
     "text": [
      "Processed chunk, found 100000 rows after 2014\n"
     ]
    },
    {
     "name": "stderr",
     "output_type": "stream",
     "text": [
      "C:\\Users\\liuc\\AppData\\Local\\Temp\\ipykernel_31204\\2272494464.py:12: DtypeWarning: Columns (10,38) have mixed types. Specify dtype option on import or set low_memory=False.\n",
      "  for chunk in pd.read_csv(path, chunksize=chunk_size):\n"
     ]
    },
    {
     "name": "stdout",
     "output_type": "stream",
     "text": [
      "Processed chunk, found 100000 rows after 2014\n"
     ]
    },
    {
     "name": "stderr",
     "output_type": "stream",
     "text": [
      "C:\\Users\\liuc\\AppData\\Local\\Temp\\ipykernel_31204\\2272494464.py:12: DtypeWarning: Columns (10,38) have mixed types. Specify dtype option on import or set low_memory=False.\n",
      "  for chunk in pd.read_csv(path, chunksize=chunk_size):\n"
     ]
    },
    {
     "name": "stdout",
     "output_type": "stream",
     "text": [
      "Processed chunk, found 100000 rows after 2014\n"
     ]
    },
    {
     "name": "stderr",
     "output_type": "stream",
     "text": [
      "C:\\Users\\liuc\\AppData\\Local\\Temp\\ipykernel_31204\\2272494464.py:12: DtypeWarning: Columns (10,38) have mixed types. Specify dtype option on import or set low_memory=False.\n",
      "  for chunk in pd.read_csv(path, chunksize=chunk_size):\n"
     ]
    },
    {
     "name": "stdout",
     "output_type": "stream",
     "text": [
      "Processed chunk, found 100000 rows after 2014\n"
     ]
    },
    {
     "name": "stderr",
     "output_type": "stream",
     "text": [
      "C:\\Users\\liuc\\AppData\\Local\\Temp\\ipykernel_31204\\2272494464.py:12: DtypeWarning: Columns (10) have mixed types. Specify dtype option on import or set low_memory=False.\n",
      "  for chunk in pd.read_csv(path, chunksize=chunk_size):\n"
     ]
    },
    {
     "name": "stdout",
     "output_type": "stream",
     "text": [
      "Processed chunk, found 100000 rows after 2014\n"
     ]
    },
    {
     "name": "stderr",
     "output_type": "stream",
     "text": [
      "C:\\Users\\liuc\\AppData\\Local\\Temp\\ipykernel_31204\\2272494464.py:12: DtypeWarning: Columns (38) have mixed types. Specify dtype option on import or set low_memory=False.\n",
      "  for chunk in pd.read_csv(path, chunksize=chunk_size):\n"
     ]
    },
    {
     "name": "stdout",
     "output_type": "stream",
     "text": [
      "Processed chunk, found 100000 rows after 2014\n"
     ]
    },
    {
     "name": "stderr",
     "output_type": "stream",
     "text": [
      "C:\\Users\\liuc\\AppData\\Local\\Temp\\ipykernel_31204\\2272494464.py:12: DtypeWarning: Columns (38) have mixed types. Specify dtype option on import or set low_memory=False.\n",
      "  for chunk in pd.read_csv(path, chunksize=chunk_size):\n"
     ]
    },
    {
     "name": "stdout",
     "output_type": "stream",
     "text": [
      "Processed chunk, found 100000 rows after 2014\n"
     ]
    },
    {
     "name": "stderr",
     "output_type": "stream",
     "text": [
      "C:\\Users\\liuc\\AppData\\Local\\Temp\\ipykernel_31204\\2272494464.py:12: DtypeWarning: Columns (10,38) have mixed types. Specify dtype option on import or set low_memory=False.\n",
      "  for chunk in pd.read_csv(path, chunksize=chunk_size):\n"
     ]
    },
    {
     "name": "stdout",
     "output_type": "stream",
     "text": [
      "Processed chunk, found 100000 rows after 2014\n"
     ]
    },
    {
     "name": "stderr",
     "output_type": "stream",
     "text": [
      "C:\\Users\\liuc\\AppData\\Local\\Temp\\ipykernel_31204\\2272494464.py:12: DtypeWarning: Columns (10,38) have mixed types. Specify dtype option on import or set low_memory=False.\n",
      "  for chunk in pd.read_csv(path, chunksize=chunk_size):\n"
     ]
    },
    {
     "name": "stdout",
     "output_type": "stream",
     "text": [
      "Processed chunk, found 100000 rows after 2014\n"
     ]
    },
    {
     "name": "stderr",
     "output_type": "stream",
     "text": [
      "C:\\Users\\liuc\\AppData\\Local\\Temp\\ipykernel_31204\\2272494464.py:12: DtypeWarning: Columns (10,38) have mixed types. Specify dtype option on import or set low_memory=False.\n",
      "  for chunk in pd.read_csv(path, chunksize=chunk_size):\n"
     ]
    },
    {
     "name": "stdout",
     "output_type": "stream",
     "text": [
      "Processed chunk, found 100000 rows after 2014\n"
     ]
    },
    {
     "name": "stderr",
     "output_type": "stream",
     "text": [
      "C:\\Users\\liuc\\AppData\\Local\\Temp\\ipykernel_31204\\2272494464.py:12: DtypeWarning: Columns (38) have mixed types. Specify dtype option on import or set low_memory=False.\n",
      "  for chunk in pd.read_csv(path, chunksize=chunk_size):\n"
     ]
    },
    {
     "name": "stdout",
     "output_type": "stream",
     "text": [
      "Processed chunk, found 100000 rows after 2014\n"
     ]
    },
    {
     "name": "stderr",
     "output_type": "stream",
     "text": [
      "C:\\Users\\liuc\\AppData\\Local\\Temp\\ipykernel_31204\\2272494464.py:12: DtypeWarning: Columns (38) have mixed types. Specify dtype option on import or set low_memory=False.\n",
      "  for chunk in pd.read_csv(path, chunksize=chunk_size):\n"
     ]
    },
    {
     "name": "stdout",
     "output_type": "stream",
     "text": [
      "Processed chunk, found 100000 rows after 2014\n"
     ]
    },
    {
     "name": "stderr",
     "output_type": "stream",
     "text": [
      "C:\\Users\\liuc\\AppData\\Local\\Temp\\ipykernel_31204\\2272494464.py:12: DtypeWarning: Columns (10) have mixed types. Specify dtype option on import or set low_memory=False.\n",
      "  for chunk in pd.read_csv(path, chunksize=chunk_size):\n"
     ]
    },
    {
     "name": "stdout",
     "output_type": "stream",
     "text": [
      "Processed chunk, found 100000 rows after 2014\n"
     ]
    },
    {
     "name": "stderr",
     "output_type": "stream",
     "text": [
      "C:\\Users\\liuc\\AppData\\Local\\Temp\\ipykernel_31204\\2272494464.py:12: DtypeWarning: Columns (38) have mixed types. Specify dtype option on import or set low_memory=False.\n",
      "  for chunk in pd.read_csv(path, chunksize=chunk_size):\n"
     ]
    },
    {
     "name": "stdout",
     "output_type": "stream",
     "text": [
      "Processed chunk, found 100000 rows after 2014\n"
     ]
    },
    {
     "name": "stderr",
     "output_type": "stream",
     "text": [
      "C:\\Users\\liuc\\AppData\\Local\\Temp\\ipykernel_31204\\2272494464.py:12: DtypeWarning: Columns (38) have mixed types. Specify dtype option on import or set low_memory=False.\n",
      "  for chunk in pd.read_csv(path, chunksize=chunk_size):\n"
     ]
    },
    {
     "name": "stdout",
     "output_type": "stream",
     "text": [
      "Processed chunk, found 100000 rows after 2014\n"
     ]
    },
    {
     "name": "stderr",
     "output_type": "stream",
     "text": [
      "C:\\Users\\liuc\\AppData\\Local\\Temp\\ipykernel_31204\\2272494464.py:12: DtypeWarning: Columns (10,38) have mixed types. Specify dtype option on import or set low_memory=False.\n",
      "  for chunk in pd.read_csv(path, chunksize=chunk_size):\n"
     ]
    },
    {
     "name": "stdout",
     "output_type": "stream",
     "text": [
      "Processed chunk, found 100000 rows after 2014\n"
     ]
    },
    {
     "name": "stderr",
     "output_type": "stream",
     "text": [
      "C:\\Users\\liuc\\AppData\\Local\\Temp\\ipykernel_31204\\2272494464.py:12: DtypeWarning: Columns (38) have mixed types. Specify dtype option on import or set low_memory=False.\n",
      "  for chunk in pd.read_csv(path, chunksize=chunk_size):\n"
     ]
    },
    {
     "name": "stdout",
     "output_type": "stream",
     "text": [
      "Processed chunk, found 100000 rows after 2014\n"
     ]
    },
    {
     "name": "stderr",
     "output_type": "stream",
     "text": [
      "C:\\Users\\liuc\\AppData\\Local\\Temp\\ipykernel_31204\\2272494464.py:12: DtypeWarning: Columns (10,38) have mixed types. Specify dtype option on import or set low_memory=False.\n",
      "  for chunk in pd.read_csv(path, chunksize=chunk_size):\n"
     ]
    },
    {
     "name": "stdout",
     "output_type": "stream",
     "text": [
      "Processed chunk, found 100000 rows after 2014\n"
     ]
    },
    {
     "name": "stderr",
     "output_type": "stream",
     "text": [
      "C:\\Users\\liuc\\AppData\\Local\\Temp\\ipykernel_31204\\2272494464.py:12: DtypeWarning: Columns (10,38) have mixed types. Specify dtype option on import or set low_memory=False.\n",
      "  for chunk in pd.read_csv(path, chunksize=chunk_size):\n"
     ]
    },
    {
     "name": "stdout",
     "output_type": "stream",
     "text": [
      "Processed chunk, found 100000 rows after 2014\n"
     ]
    },
    {
     "name": "stderr",
     "output_type": "stream",
     "text": [
      "C:\\Users\\liuc\\AppData\\Local\\Temp\\ipykernel_31204\\2272494464.py:12: DtypeWarning: Columns (10,38) have mixed types. Specify dtype option on import or set low_memory=False.\n",
      "  for chunk in pd.read_csv(path, chunksize=chunk_size):\n"
     ]
    },
    {
     "name": "stdout",
     "output_type": "stream",
     "text": [
      "Processed chunk, found 100000 rows after 2014\n"
     ]
    },
    {
     "name": "stderr",
     "output_type": "stream",
     "text": [
      "C:\\Users\\liuc\\AppData\\Local\\Temp\\ipykernel_31204\\2272494464.py:12: DtypeWarning: Columns (10,38) have mixed types. Specify dtype option on import or set low_memory=False.\n",
      "  for chunk in pd.read_csv(path, chunksize=chunk_size):\n"
     ]
    },
    {
     "name": "stdout",
     "output_type": "stream",
     "text": [
      "Processed chunk, found 100000 rows after 2014\n",
      "Processed chunk, found 100000 rows after 2014\n"
     ]
    },
    {
     "name": "stderr",
     "output_type": "stream",
     "text": [
      "C:\\Users\\liuc\\AppData\\Local\\Temp\\ipykernel_31204\\2272494464.py:12: DtypeWarning: Columns (38) have mixed types. Specify dtype option on import or set low_memory=False.\n",
      "  for chunk in pd.read_csv(path, chunksize=chunk_size):\n"
     ]
    },
    {
     "name": "stdout",
     "output_type": "stream",
     "text": [
      "Processed chunk, found 100000 rows after 2014\n"
     ]
    },
    {
     "name": "stderr",
     "output_type": "stream",
     "text": [
      "C:\\Users\\liuc\\AppData\\Local\\Temp\\ipykernel_31204\\2272494464.py:12: DtypeWarning: Columns (38,74) have mixed types. Specify dtype option on import or set low_memory=False.\n",
      "  for chunk in pd.read_csv(path, chunksize=chunk_size):\n"
     ]
    },
    {
     "name": "stdout",
     "output_type": "stream",
     "text": [
      "Processed chunk, found 100000 rows after 2014\n"
     ]
    },
    {
     "name": "stderr",
     "output_type": "stream",
     "text": [
      "C:\\Users\\liuc\\AppData\\Local\\Temp\\ipykernel_31204\\2272494464.py:12: DtypeWarning: Columns (38) have mixed types. Specify dtype option on import or set low_memory=False.\n",
      "  for chunk in pd.read_csv(path, chunksize=chunk_size):\n"
     ]
    },
    {
     "name": "stdout",
     "output_type": "stream",
     "text": [
      "Processed chunk, found 100000 rows after 2014\n"
     ]
    },
    {
     "name": "stderr",
     "output_type": "stream",
     "text": [
      "C:\\Users\\liuc\\AppData\\Local\\Temp\\ipykernel_31204\\2272494464.py:12: DtypeWarning: Columns (38,64,65) have mixed types. Specify dtype option on import or set low_memory=False.\n",
      "  for chunk in pd.read_csv(path, chunksize=chunk_size):\n"
     ]
    },
    {
     "name": "stdout",
     "output_type": "stream",
     "text": [
      "Processed chunk, found 100000 rows after 2014\n"
     ]
    },
    {
     "name": "stderr",
     "output_type": "stream",
     "text": [
      "C:\\Users\\liuc\\AppData\\Local\\Temp\\ipykernel_31204\\2272494464.py:12: DtypeWarning: Columns (10,38) have mixed types. Specify dtype option on import or set low_memory=False.\n",
      "  for chunk in pd.read_csv(path, chunksize=chunk_size):\n"
     ]
    },
    {
     "name": "stdout",
     "output_type": "stream",
     "text": [
      "Processed chunk, found 100000 rows after 2014\n"
     ]
    },
    {
     "name": "stderr",
     "output_type": "stream",
     "text": [
      "C:\\Users\\liuc\\AppData\\Local\\Temp\\ipykernel_31204\\2272494464.py:12: DtypeWarning: Columns (10,38,68) have mixed types. Specify dtype option on import or set low_memory=False.\n",
      "  for chunk in pd.read_csv(path, chunksize=chunk_size):\n"
     ]
    },
    {
     "name": "stdout",
     "output_type": "stream",
     "text": [
      "Processed chunk, found 100000 rows after 2014\n"
     ]
    },
    {
     "name": "stderr",
     "output_type": "stream",
     "text": [
      "C:\\Users\\liuc\\AppData\\Local\\Temp\\ipykernel_31204\\2272494464.py:12: DtypeWarning: Columns (10,38) have mixed types. Specify dtype option on import or set low_memory=False.\n",
      "  for chunk in pd.read_csv(path, chunksize=chunk_size):\n"
     ]
    },
    {
     "name": "stdout",
     "output_type": "stream",
     "text": [
      "Processed chunk, found 100000 rows after 2014\n",
      "Processed chunk, found 100000 rows after 2014\n"
     ]
    },
    {
     "name": "stderr",
     "output_type": "stream",
     "text": [
      "C:\\Users\\liuc\\AppData\\Local\\Temp\\ipykernel_31204\\2272494464.py:12: DtypeWarning: Columns (10,38) have mixed types. Specify dtype option on import or set low_memory=False.\n",
      "  for chunk in pd.read_csv(path, chunksize=chunk_size):\n"
     ]
    },
    {
     "name": "stdout",
     "output_type": "stream",
     "text": [
      "Processed chunk, found 100000 rows after 2014\n",
      "Processed chunk, found 100000 rows after 2014\n"
     ]
    },
    {
     "name": "stderr",
     "output_type": "stream",
     "text": [
      "C:\\Users\\liuc\\AppData\\Local\\Temp\\ipykernel_31204\\2272494464.py:12: DtypeWarning: Columns (10) have mixed types. Specify dtype option on import or set low_memory=False.\n",
      "  for chunk in pd.read_csv(path, chunksize=chunk_size):\n"
     ]
    },
    {
     "name": "stdout",
     "output_type": "stream",
     "text": [
      "Processed chunk, found 100000 rows after 2014\n"
     ]
    },
    {
     "name": "stderr",
     "output_type": "stream",
     "text": [
      "C:\\Users\\liuc\\AppData\\Local\\Temp\\ipykernel_31204\\2272494464.py:12: DtypeWarning: Columns (74) have mixed types. Specify dtype option on import or set low_memory=False.\n",
      "  for chunk in pd.read_csv(path, chunksize=chunk_size):\n"
     ]
    },
    {
     "name": "stdout",
     "output_type": "stream",
     "text": [
      "Processed chunk, found 100000 rows after 2014\n"
     ]
    },
    {
     "name": "stderr",
     "output_type": "stream",
     "text": [
      "C:\\Users\\liuc\\AppData\\Local\\Temp\\ipykernel_31204\\2272494464.py:12: DtypeWarning: Columns (10) have mixed types. Specify dtype option on import or set low_memory=False.\n",
      "  for chunk in pd.read_csv(path, chunksize=chunk_size):\n"
     ]
    },
    {
     "name": "stdout",
     "output_type": "stream",
     "text": [
      "Processed chunk, found 100000 rows after 2014\n"
     ]
    },
    {
     "name": "stderr",
     "output_type": "stream",
     "text": [
      "C:\\Users\\liuc\\AppData\\Local\\Temp\\ipykernel_31204\\2272494464.py:12: DtypeWarning: Columns (10) have mixed types. Specify dtype option on import or set low_memory=False.\n",
      "  for chunk in pd.read_csv(path, chunksize=chunk_size):\n"
     ]
    },
    {
     "name": "stdout",
     "output_type": "stream",
     "text": [
      "Processed chunk, found 100000 rows after 2014\n"
     ]
    },
    {
     "name": "stderr",
     "output_type": "stream",
     "text": [
      "C:\\Users\\liuc\\AppData\\Local\\Temp\\ipykernel_31204\\2272494464.py:12: DtypeWarning: Columns (10) have mixed types. Specify dtype option on import or set low_memory=False.\n",
      "  for chunk in pd.read_csv(path, chunksize=chunk_size):\n"
     ]
    },
    {
     "name": "stdout",
     "output_type": "stream",
     "text": [
      "Processed chunk, found 100000 rows after 2014\n"
     ]
    },
    {
     "name": "stderr",
     "output_type": "stream",
     "text": [
      "C:\\Users\\liuc\\AppData\\Local\\Temp\\ipykernel_31204\\2272494464.py:12: DtypeWarning: Columns (10) have mixed types. Specify dtype option on import or set low_memory=False.\n",
      "  for chunk in pd.read_csv(path, chunksize=chunk_size):\n"
     ]
    },
    {
     "name": "stdout",
     "output_type": "stream",
     "text": [
      "Processed chunk, found 100000 rows after 2014\n",
      "Processed chunk, found 100000 rows after 2014\n"
     ]
    },
    {
     "name": "stderr",
     "output_type": "stream",
     "text": [
      "C:\\Users\\liuc\\AppData\\Local\\Temp\\ipykernel_31204\\2272494464.py:12: DtypeWarning: Columns (10,74) have mixed types. Specify dtype option on import or set low_memory=False.\n",
      "  for chunk in pd.read_csv(path, chunksize=chunk_size):\n"
     ]
    },
    {
     "name": "stdout",
     "output_type": "stream",
     "text": [
      "Processed chunk, found 100000 rows after 2014\n"
     ]
    },
    {
     "name": "stderr",
     "output_type": "stream",
     "text": [
      "C:\\Users\\liuc\\AppData\\Local\\Temp\\ipykernel_31204\\2272494464.py:12: DtypeWarning: Columns (10) have mixed types. Specify dtype option on import or set low_memory=False.\n",
      "  for chunk in pd.read_csv(path, chunksize=chunk_size):\n"
     ]
    },
    {
     "name": "stdout",
     "output_type": "stream",
     "text": [
      "Processed chunk, found 100000 rows after 2014\n"
     ]
    },
    {
     "name": "stderr",
     "output_type": "stream",
     "text": [
      "C:\\Users\\liuc\\AppData\\Local\\Temp\\ipykernel_31204\\2272494464.py:12: DtypeWarning: Columns (10,74) have mixed types. Specify dtype option on import or set low_memory=False.\n",
      "  for chunk in pd.read_csv(path, chunksize=chunk_size):\n"
     ]
    },
    {
     "name": "stdout",
     "output_type": "stream",
     "text": [
      "Processed chunk, found 100000 rows after 2014\n"
     ]
    },
    {
     "name": "stderr",
     "output_type": "stream",
     "text": [
      "C:\\Users\\liuc\\AppData\\Local\\Temp\\ipykernel_31204\\2272494464.py:12: DtypeWarning: Columns (10) have mixed types. Specify dtype option on import or set low_memory=False.\n",
      "  for chunk in pd.read_csv(path, chunksize=chunk_size):\n"
     ]
    },
    {
     "name": "stdout",
     "output_type": "stream",
     "text": [
      "Processed chunk, found 100000 rows after 2014\n"
     ]
    },
    {
     "name": "stderr",
     "output_type": "stream",
     "text": [
      "C:\\Users\\liuc\\AppData\\Local\\Temp\\ipykernel_31204\\2272494464.py:12: DtypeWarning: Columns (10,74) have mixed types. Specify dtype option on import or set low_memory=False.\n",
      "  for chunk in pd.read_csv(path, chunksize=chunk_size):\n"
     ]
    },
    {
     "name": "stdout",
     "output_type": "stream",
     "text": [
      "Processed chunk, found 100000 rows after 2014\n"
     ]
    },
    {
     "name": "stderr",
     "output_type": "stream",
     "text": [
      "C:\\Users\\liuc\\AppData\\Local\\Temp\\ipykernel_31204\\2272494464.py:12: DtypeWarning: Columns (10,68,74) have mixed types. Specify dtype option on import or set low_memory=False.\n",
      "  for chunk in pd.read_csv(path, chunksize=chunk_size):\n"
     ]
    },
    {
     "name": "stdout",
     "output_type": "stream",
     "text": [
      "Processed chunk, found 100000 rows after 2014\n"
     ]
    },
    {
     "name": "stderr",
     "output_type": "stream",
     "text": [
      "C:\\Users\\liuc\\AppData\\Local\\Temp\\ipykernel_31204\\2272494464.py:12: DtypeWarning: Columns (10,74) have mixed types. Specify dtype option on import or set low_memory=False.\n",
      "  for chunk in pd.read_csv(path, chunksize=chunk_size):\n"
     ]
    },
    {
     "name": "stdout",
     "output_type": "stream",
     "text": [
      "Processed chunk, found 100000 rows after 2014\n"
     ]
    },
    {
     "name": "stderr",
     "output_type": "stream",
     "text": [
      "C:\\Users\\liuc\\AppData\\Local\\Temp\\ipykernel_31204\\2272494464.py:12: DtypeWarning: Columns (10,74) have mixed types. Specify dtype option on import or set low_memory=False.\n",
      "  for chunk in pd.read_csv(path, chunksize=chunk_size):\n"
     ]
    },
    {
     "name": "stdout",
     "output_type": "stream",
     "text": [
      "Processed chunk, found 100000 rows after 2014\n"
     ]
    },
    {
     "name": "stderr",
     "output_type": "stream",
     "text": [
      "C:\\Users\\liuc\\AppData\\Local\\Temp\\ipykernel_31204\\2272494464.py:12: DtypeWarning: Columns (10) have mixed types. Specify dtype option on import or set low_memory=False.\n",
      "  for chunk in pd.read_csv(path, chunksize=chunk_size):\n"
     ]
    },
    {
     "name": "stdout",
     "output_type": "stream",
     "text": [
      "Processed chunk, found 100000 rows after 2014\n"
     ]
    },
    {
     "name": "stderr",
     "output_type": "stream",
     "text": [
      "C:\\Users\\liuc\\AppData\\Local\\Temp\\ipykernel_31204\\2272494464.py:12: DtypeWarning: Columns (10) have mixed types. Specify dtype option on import or set low_memory=False.\n",
      "  for chunk in pd.read_csv(path, chunksize=chunk_size):\n"
     ]
    },
    {
     "name": "stdout",
     "output_type": "stream",
     "text": [
      "Processed chunk, found 100000 rows after 2014\n"
     ]
    },
    {
     "name": "stderr",
     "output_type": "stream",
     "text": [
      "C:\\Users\\liuc\\AppData\\Local\\Temp\\ipykernel_31204\\2272494464.py:12: DtypeWarning: Columns (10) have mixed types. Specify dtype option on import or set low_memory=False.\n",
      "  for chunk in pd.read_csv(path, chunksize=chunk_size):\n"
     ]
    },
    {
     "name": "stdout",
     "output_type": "stream",
     "text": [
      "Processed chunk, found 100000 rows after 2014\n"
     ]
    },
    {
     "name": "stderr",
     "output_type": "stream",
     "text": [
      "C:\\Users\\liuc\\AppData\\Local\\Temp\\ipykernel_31204\\2272494464.py:12: DtypeWarning: Columns (10) have mixed types. Specify dtype option on import or set low_memory=False.\n",
      "  for chunk in pd.read_csv(path, chunksize=chunk_size):\n"
     ]
    },
    {
     "name": "stdout",
     "output_type": "stream",
     "text": [
      "Processed chunk, found 100000 rows after 2014\n"
     ]
    },
    {
     "name": "stderr",
     "output_type": "stream",
     "text": [
      "C:\\Users\\liuc\\AppData\\Local\\Temp\\ipykernel_31204\\2272494464.py:12: DtypeWarning: Columns (10) have mixed types. Specify dtype option on import or set low_memory=False.\n",
      "  for chunk in pd.read_csv(path, chunksize=chunk_size):\n"
     ]
    },
    {
     "name": "stdout",
     "output_type": "stream",
     "text": [
      "Processed chunk, found 100000 rows after 2014\n"
     ]
    },
    {
     "name": "stderr",
     "output_type": "stream",
     "text": [
      "C:\\Users\\liuc\\AppData\\Local\\Temp\\ipykernel_31204\\2272494464.py:12: DtypeWarning: Columns (10) have mixed types. Specify dtype option on import or set low_memory=False.\n",
      "  for chunk in pd.read_csv(path, chunksize=chunk_size):\n"
     ]
    },
    {
     "name": "stdout",
     "output_type": "stream",
     "text": [
      "Processed chunk, found 100000 rows after 2014\n"
     ]
    },
    {
     "name": "stderr",
     "output_type": "stream",
     "text": [
      "C:\\Users\\liuc\\AppData\\Local\\Temp\\ipykernel_31204\\2272494464.py:12: DtypeWarning: Columns (10) have mixed types. Specify dtype option on import or set low_memory=False.\n",
      "  for chunk in pd.read_csv(path, chunksize=chunk_size):\n"
     ]
    },
    {
     "name": "stdout",
     "output_type": "stream",
     "text": [
      "Processed chunk, found 100000 rows after 2014\n"
     ]
    },
    {
     "name": "stderr",
     "output_type": "stream",
     "text": [
      "C:\\Users\\liuc\\AppData\\Local\\Temp\\ipykernel_31204\\2272494464.py:12: DtypeWarning: Columns (10,74) have mixed types. Specify dtype option on import or set low_memory=False.\n",
      "  for chunk in pd.read_csv(path, chunksize=chunk_size):\n"
     ]
    },
    {
     "name": "stdout",
     "output_type": "stream",
     "text": [
      "Processed chunk, found 100000 rows after 2014\n"
     ]
    },
    {
     "name": "stderr",
     "output_type": "stream",
     "text": [
      "C:\\Users\\liuc\\AppData\\Local\\Temp\\ipykernel_31204\\2272494464.py:12: DtypeWarning: Columns (10) have mixed types. Specify dtype option on import or set low_memory=False.\n",
      "  for chunk in pd.read_csv(path, chunksize=chunk_size):\n"
     ]
    },
    {
     "name": "stdout",
     "output_type": "stream",
     "text": [
      "Processed chunk, found 100000 rows after 2014\n",
      "Processed chunk, found 100000 rows after 2014\n"
     ]
    },
    {
     "name": "stderr",
     "output_type": "stream",
     "text": [
      "C:\\Users\\liuc\\AppData\\Local\\Temp\\ipykernel_31204\\2272494464.py:12: DtypeWarning: Columns (10,74) have mixed types. Specify dtype option on import or set low_memory=False.\n",
      "  for chunk in pd.read_csv(path, chunksize=chunk_size):\n"
     ]
    },
    {
     "name": "stdout",
     "output_type": "stream",
     "text": [
      "Processed chunk, found 100000 rows after 2014\n"
     ]
    },
    {
     "name": "stderr",
     "output_type": "stream",
     "text": [
      "C:\\Users\\liuc\\AppData\\Local\\Temp\\ipykernel_31204\\2272494464.py:12: DtypeWarning: Columns (10) have mixed types. Specify dtype option on import or set low_memory=False.\n",
      "  for chunk in pd.read_csv(path, chunksize=chunk_size):\n"
     ]
    },
    {
     "name": "stdout",
     "output_type": "stream",
     "text": [
      "Processed chunk, found 100000 rows after 2014\n"
     ]
    },
    {
     "name": "stderr",
     "output_type": "stream",
     "text": [
      "C:\\Users\\liuc\\AppData\\Local\\Temp\\ipykernel_31204\\2272494464.py:12: DtypeWarning: Columns (10) have mixed types. Specify dtype option on import or set low_memory=False.\n",
      "  for chunk in pd.read_csv(path, chunksize=chunk_size):\n"
     ]
    },
    {
     "name": "stdout",
     "output_type": "stream",
     "text": [
      "Processed chunk, found 100000 rows after 2014\n"
     ]
    },
    {
     "name": "stderr",
     "output_type": "stream",
     "text": [
      "C:\\Users\\liuc\\AppData\\Local\\Temp\\ipykernel_31204\\2272494464.py:12: DtypeWarning: Columns (10) have mixed types. Specify dtype option on import or set low_memory=False.\n",
      "  for chunk in pd.read_csv(path, chunksize=chunk_size):\n"
     ]
    },
    {
     "name": "stdout",
     "output_type": "stream",
     "text": [
      "Processed chunk, found 100000 rows after 2014\n"
     ]
    },
    {
     "name": "stderr",
     "output_type": "stream",
     "text": [
      "C:\\Users\\liuc\\AppData\\Local\\Temp\\ipykernel_31204\\2272494464.py:12: DtypeWarning: Columns (10,74) have mixed types. Specify dtype option on import or set low_memory=False.\n",
      "  for chunk in pd.read_csv(path, chunksize=chunk_size):\n"
     ]
    },
    {
     "name": "stdout",
     "output_type": "stream",
     "text": [
      "Processed chunk, found 100000 rows after 2014\n",
      "Processed chunk, found 100000 rows after 2014\n",
      "Processed chunk, found 100000 rows after 2014\n"
     ]
    },
    {
     "name": "stderr",
     "output_type": "stream",
     "text": [
      "C:\\Users\\liuc\\AppData\\Local\\Temp\\ipykernel_31204\\2272494464.py:12: DtypeWarning: Columns (10) have mixed types. Specify dtype option on import or set low_memory=False.\n",
      "  for chunk in pd.read_csv(path, chunksize=chunk_size):\n"
     ]
    },
    {
     "name": "stdout",
     "output_type": "stream",
     "text": [
      "Processed chunk, found 100000 rows after 2014\n"
     ]
    },
    {
     "name": "stderr",
     "output_type": "stream",
     "text": [
      "C:\\Users\\liuc\\AppData\\Local\\Temp\\ipykernel_31204\\2272494464.py:12: DtypeWarning: Columns (10) have mixed types. Specify dtype option on import or set low_memory=False.\n",
      "  for chunk in pd.read_csv(path, chunksize=chunk_size):\n"
     ]
    },
    {
     "name": "stdout",
     "output_type": "stream",
     "text": [
      "Processed chunk, found 100000 rows after 2014\n"
     ]
    },
    {
     "name": "stderr",
     "output_type": "stream",
     "text": [
      "C:\\Users\\liuc\\AppData\\Local\\Temp\\ipykernel_31204\\2272494464.py:12: DtypeWarning: Columns (10) have mixed types. Specify dtype option on import or set low_memory=False.\n",
      "  for chunk in pd.read_csv(path, chunksize=chunk_size):\n"
     ]
    },
    {
     "name": "stdout",
     "output_type": "stream",
     "text": [
      "Processed chunk, found 100000 rows after 2014\n"
     ]
    },
    {
     "name": "stderr",
     "output_type": "stream",
     "text": [
      "C:\\Users\\liuc\\AppData\\Local\\Temp\\ipykernel_31204\\2272494464.py:12: DtypeWarning: Columns (10,74) have mixed types. Specify dtype option on import or set low_memory=False.\n",
      "  for chunk in pd.read_csv(path, chunksize=chunk_size):\n"
     ]
    },
    {
     "name": "stdout",
     "output_type": "stream",
     "text": [
      "Processed chunk, found 100000 rows after 2014\n"
     ]
    },
    {
     "name": "stderr",
     "output_type": "stream",
     "text": [
      "C:\\Users\\liuc\\AppData\\Local\\Temp\\ipykernel_31204\\2272494464.py:12: DtypeWarning: Columns (10) have mixed types. Specify dtype option on import or set low_memory=False.\n",
      "  for chunk in pd.read_csv(path, chunksize=chunk_size):\n"
     ]
    },
    {
     "name": "stdout",
     "output_type": "stream",
     "text": [
      "Processed chunk, found 100000 rows after 2014\n"
     ]
    },
    {
     "name": "stderr",
     "output_type": "stream",
     "text": [
      "C:\\Users\\liuc\\AppData\\Local\\Temp\\ipykernel_31204\\2272494464.py:12: DtypeWarning: Columns (10) have mixed types. Specify dtype option on import or set low_memory=False.\n",
      "  for chunk in pd.read_csv(path, chunksize=chunk_size):\n"
     ]
    },
    {
     "name": "stdout",
     "output_type": "stream",
     "text": [
      "Processed chunk, found 100000 rows after 2014\n"
     ]
    },
    {
     "name": "stderr",
     "output_type": "stream",
     "text": [
      "C:\\Users\\liuc\\AppData\\Local\\Temp\\ipykernel_31204\\2272494464.py:12: DtypeWarning: Columns (10) have mixed types. Specify dtype option on import or set low_memory=False.\n",
      "  for chunk in pd.read_csv(path, chunksize=chunk_size):\n"
     ]
    },
    {
     "name": "stdout",
     "output_type": "stream",
     "text": [
      "Processed chunk, found 100000 rows after 2014\n",
      "Processed chunk, found 100000 rows after 2014\n"
     ]
    },
    {
     "name": "stderr",
     "output_type": "stream",
     "text": [
      "C:\\Users\\liuc\\AppData\\Local\\Temp\\ipykernel_31204\\2272494464.py:12: DtypeWarning: Columns (74) have mixed types. Specify dtype option on import or set low_memory=False.\n",
      "  for chunk in pd.read_csv(path, chunksize=chunk_size):\n"
     ]
    },
    {
     "name": "stdout",
     "output_type": "stream",
     "text": [
      "Processed chunk, found 100000 rows after 2014\n"
     ]
    },
    {
     "name": "stderr",
     "output_type": "stream",
     "text": [
      "C:\\Users\\liuc\\AppData\\Local\\Temp\\ipykernel_31204\\2272494464.py:12: DtypeWarning: Columns (74) have mixed types. Specify dtype option on import or set low_memory=False.\n",
      "  for chunk in pd.read_csv(path, chunksize=chunk_size):\n"
     ]
    },
    {
     "name": "stdout",
     "output_type": "stream",
     "text": [
      "Processed chunk, found 100000 rows after 2014\n"
     ]
    },
    {
     "name": "stderr",
     "output_type": "stream",
     "text": [
      "C:\\Users\\liuc\\AppData\\Local\\Temp\\ipykernel_31204\\2272494464.py:12: DtypeWarning: Columns (10,74) have mixed types. Specify dtype option on import or set low_memory=False.\n",
      "  for chunk in pd.read_csv(path, chunksize=chunk_size):\n"
     ]
    },
    {
     "name": "stdout",
     "output_type": "stream",
     "text": [
      "Processed chunk, found 100000 rows after 2014\n"
     ]
    },
    {
     "name": "stderr",
     "output_type": "stream",
     "text": [
      "C:\\Users\\liuc\\AppData\\Local\\Temp\\ipykernel_31204\\2272494464.py:12: DtypeWarning: Columns (10,74) have mixed types. Specify dtype option on import or set low_memory=False.\n",
      "  for chunk in pd.read_csv(path, chunksize=chunk_size):\n"
     ]
    },
    {
     "name": "stdout",
     "output_type": "stream",
     "text": [
      "Processed chunk, found 100000 rows after 2014\n"
     ]
    },
    {
     "name": "stderr",
     "output_type": "stream",
     "text": [
      "C:\\Users\\liuc\\AppData\\Local\\Temp\\ipykernel_31204\\2272494464.py:12: DtypeWarning: Columns (10,74) have mixed types. Specify dtype option on import or set low_memory=False.\n",
      "  for chunk in pd.read_csv(path, chunksize=chunk_size):\n"
     ]
    },
    {
     "name": "stdout",
     "output_type": "stream",
     "text": [
      "Processed chunk, found 100000 rows after 2014\n"
     ]
    },
    {
     "name": "stderr",
     "output_type": "stream",
     "text": [
      "C:\\Users\\liuc\\AppData\\Local\\Temp\\ipykernel_31204\\2272494464.py:12: DtypeWarning: Columns (10,74) have mixed types. Specify dtype option on import or set low_memory=False.\n",
      "  for chunk in pd.read_csv(path, chunksize=chunk_size):\n"
     ]
    },
    {
     "name": "stdout",
     "output_type": "stream",
     "text": [
      "Processed chunk, found 100000 rows after 2014\n"
     ]
    },
    {
     "name": "stderr",
     "output_type": "stream",
     "text": [
      "C:\\Users\\liuc\\AppData\\Local\\Temp\\ipykernel_31204\\2272494464.py:12: DtypeWarning: Columns (74) have mixed types. Specify dtype option on import or set low_memory=False.\n",
      "  for chunk in pd.read_csv(path, chunksize=chunk_size):\n"
     ]
    },
    {
     "name": "stdout",
     "output_type": "stream",
     "text": [
      "Processed chunk, found 100000 rows after 2014\n"
     ]
    },
    {
     "name": "stderr",
     "output_type": "stream",
     "text": [
      "C:\\Users\\liuc\\AppData\\Local\\Temp\\ipykernel_31204\\2272494464.py:12: DtypeWarning: Columns (74) have mixed types. Specify dtype option on import or set low_memory=False.\n",
      "  for chunk in pd.read_csv(path, chunksize=chunk_size):\n"
     ]
    },
    {
     "name": "stdout",
     "output_type": "stream",
     "text": [
      "Processed chunk, found 100000 rows after 2014\n"
     ]
    },
    {
     "name": "stderr",
     "output_type": "stream",
     "text": [
      "C:\\Users\\liuc\\AppData\\Local\\Temp\\ipykernel_31204\\2272494464.py:12: DtypeWarning: Columns (10,74) have mixed types. Specify dtype option on import or set low_memory=False.\n",
      "  for chunk in pd.read_csv(path, chunksize=chunk_size):\n"
     ]
    },
    {
     "name": "stdout",
     "output_type": "stream",
     "text": [
      "Processed chunk, found 100000 rows after 2014\n"
     ]
    },
    {
     "name": "stderr",
     "output_type": "stream",
     "text": [
      "C:\\Users\\liuc\\AppData\\Local\\Temp\\ipykernel_31204\\2272494464.py:12: DtypeWarning: Columns (74) have mixed types. Specify dtype option on import or set low_memory=False.\n",
      "  for chunk in pd.read_csv(path, chunksize=chunk_size):\n"
     ]
    },
    {
     "name": "stdout",
     "output_type": "stream",
     "text": [
      "Processed chunk, found 100000 rows after 2014\n"
     ]
    },
    {
     "name": "stderr",
     "output_type": "stream",
     "text": [
      "C:\\Users\\liuc\\AppData\\Local\\Temp\\ipykernel_31204\\2272494464.py:12: DtypeWarning: Columns (10,74) have mixed types. Specify dtype option on import or set low_memory=False.\n",
      "  for chunk in pd.read_csv(path, chunksize=chunk_size):\n"
     ]
    },
    {
     "name": "stdout",
     "output_type": "stream",
     "text": [
      "Processed chunk, found 100000 rows after 2014\n"
     ]
    },
    {
     "name": "stderr",
     "output_type": "stream",
     "text": [
      "C:\\Users\\liuc\\AppData\\Local\\Temp\\ipykernel_31204\\2272494464.py:12: DtypeWarning: Columns (10,74) have mixed types. Specify dtype option on import or set low_memory=False.\n",
      "  for chunk in pd.read_csv(path, chunksize=chunk_size):\n"
     ]
    },
    {
     "name": "stdout",
     "output_type": "stream",
     "text": [
      "Processed chunk, found 100000 rows after 2014\n"
     ]
    },
    {
     "name": "stderr",
     "output_type": "stream",
     "text": [
      "C:\\Users\\liuc\\AppData\\Local\\Temp\\ipykernel_31204\\2272494464.py:12: DtypeWarning: Columns (10,74) have mixed types. Specify dtype option on import or set low_memory=False.\n",
      "  for chunk in pd.read_csv(path, chunksize=chunk_size):\n"
     ]
    },
    {
     "name": "stdout",
     "output_type": "stream",
     "text": [
      "Processed chunk, found 100000 rows after 2014\n"
     ]
    },
    {
     "name": "stderr",
     "output_type": "stream",
     "text": [
      "C:\\Users\\liuc\\AppData\\Local\\Temp\\ipykernel_31204\\2272494464.py:12: DtypeWarning: Columns (74) have mixed types. Specify dtype option on import or set low_memory=False.\n",
      "  for chunk in pd.read_csv(path, chunksize=chunk_size):\n"
     ]
    },
    {
     "name": "stdout",
     "output_type": "stream",
     "text": [
      "Processed chunk, found 100000 rows after 2014\n"
     ]
    },
    {
     "name": "stderr",
     "output_type": "stream",
     "text": [
      "C:\\Users\\liuc\\AppData\\Local\\Temp\\ipykernel_31204\\2272494464.py:12: DtypeWarning: Columns (10,74) have mixed types. Specify dtype option on import or set low_memory=False.\n",
      "  for chunk in pd.read_csv(path, chunksize=chunk_size):\n"
     ]
    },
    {
     "name": "stdout",
     "output_type": "stream",
     "text": [
      "Processed chunk, found 100000 rows after 2014\n"
     ]
    },
    {
     "name": "stderr",
     "output_type": "stream",
     "text": [
      "C:\\Users\\liuc\\AppData\\Local\\Temp\\ipykernel_31204\\2272494464.py:12: DtypeWarning: Columns (10,74) have mixed types. Specify dtype option on import or set low_memory=False.\n",
      "  for chunk in pd.read_csv(path, chunksize=chunk_size):\n"
     ]
    },
    {
     "name": "stdout",
     "output_type": "stream",
     "text": [
      "Processed chunk, found 100000 rows after 2014\n"
     ]
    },
    {
     "name": "stderr",
     "output_type": "stream",
     "text": [
      "C:\\Users\\liuc\\AppData\\Local\\Temp\\ipykernel_31204\\2272494464.py:12: DtypeWarning: Columns (10,74) have mixed types. Specify dtype option on import or set low_memory=False.\n",
      "  for chunk in pd.read_csv(path, chunksize=chunk_size):\n"
     ]
    },
    {
     "name": "stdout",
     "output_type": "stream",
     "text": [
      "Processed chunk, found 100000 rows after 2014\n"
     ]
    },
    {
     "name": "stderr",
     "output_type": "stream",
     "text": [
      "C:\\Users\\liuc\\AppData\\Local\\Temp\\ipykernel_31204\\2272494464.py:12: DtypeWarning: Columns (10,74) have mixed types. Specify dtype option on import or set low_memory=False.\n",
      "  for chunk in pd.read_csv(path, chunksize=chunk_size):\n"
     ]
    },
    {
     "name": "stdout",
     "output_type": "stream",
     "text": [
      "Processed chunk, found 100000 rows after 2014\n"
     ]
    },
    {
     "name": "stderr",
     "output_type": "stream",
     "text": [
      "C:\\Users\\liuc\\AppData\\Local\\Temp\\ipykernel_31204\\2272494464.py:12: DtypeWarning: Columns (10,74) have mixed types. Specify dtype option on import or set low_memory=False.\n",
      "  for chunk in pd.read_csv(path, chunksize=chunk_size):\n"
     ]
    },
    {
     "name": "stdout",
     "output_type": "stream",
     "text": [
      "Processed chunk, found 100000 rows after 2014\n"
     ]
    },
    {
     "name": "stderr",
     "output_type": "stream",
     "text": [
      "C:\\Users\\liuc\\AppData\\Local\\Temp\\ipykernel_31204\\2272494464.py:12: DtypeWarning: Columns (10,74) have mixed types. Specify dtype option on import or set low_memory=False.\n",
      "  for chunk in pd.read_csv(path, chunksize=chunk_size):\n"
     ]
    },
    {
     "name": "stdout",
     "output_type": "stream",
     "text": [
      "Processed chunk, found 100000 rows after 2014\n"
     ]
    },
    {
     "name": "stderr",
     "output_type": "stream",
     "text": [
      "C:\\Users\\liuc\\AppData\\Local\\Temp\\ipykernel_31204\\2272494464.py:12: DtypeWarning: Columns (10,74) have mixed types. Specify dtype option on import or set low_memory=False.\n",
      "  for chunk in pd.read_csv(path, chunksize=chunk_size):\n"
     ]
    },
    {
     "name": "stdout",
     "output_type": "stream",
     "text": [
      "Processed chunk, found 100000 rows after 2014\n"
     ]
    },
    {
     "name": "stderr",
     "output_type": "stream",
     "text": [
      "C:\\Users\\liuc\\AppData\\Local\\Temp\\ipykernel_31204\\2272494464.py:12: DtypeWarning: Columns (74) have mixed types. Specify dtype option on import or set low_memory=False.\n",
      "  for chunk in pd.read_csv(path, chunksize=chunk_size):\n"
     ]
    },
    {
     "name": "stdout",
     "output_type": "stream",
     "text": [
      "Processed chunk, found 100000 rows after 2014\n"
     ]
    },
    {
     "name": "stderr",
     "output_type": "stream",
     "text": [
      "C:\\Users\\liuc\\AppData\\Local\\Temp\\ipykernel_31204\\2272494464.py:12: DtypeWarning: Columns (74) have mixed types. Specify dtype option on import or set low_memory=False.\n",
      "  for chunk in pd.read_csv(path, chunksize=chunk_size):\n"
     ]
    },
    {
     "name": "stdout",
     "output_type": "stream",
     "text": [
      "Processed chunk, found 100000 rows after 2014\n"
     ]
    },
    {
     "name": "stderr",
     "output_type": "stream",
     "text": [
      "C:\\Users\\liuc\\AppData\\Local\\Temp\\ipykernel_31204\\2272494464.py:12: DtypeWarning: Columns (10,74) have mixed types. Specify dtype option on import or set low_memory=False.\n",
      "  for chunk in pd.read_csv(path, chunksize=chunk_size):\n"
     ]
    },
    {
     "name": "stdout",
     "output_type": "stream",
     "text": [
      "Processed chunk, found 100000 rows after 2014\n"
     ]
    },
    {
     "name": "stderr",
     "output_type": "stream",
     "text": [
      "C:\\Users\\liuc\\AppData\\Local\\Temp\\ipykernel_31204\\2272494464.py:12: DtypeWarning: Columns (10,74) have mixed types. Specify dtype option on import or set low_memory=False.\n",
      "  for chunk in pd.read_csv(path, chunksize=chunk_size):\n"
     ]
    },
    {
     "name": "stdout",
     "output_type": "stream",
     "text": [
      "Processed chunk, found 100000 rows after 2014\n"
     ]
    },
    {
     "name": "stderr",
     "output_type": "stream",
     "text": [
      "C:\\Users\\liuc\\AppData\\Local\\Temp\\ipykernel_31204\\2272494464.py:12: DtypeWarning: Columns (10,74) have mixed types. Specify dtype option on import or set low_memory=False.\n",
      "  for chunk in pd.read_csv(path, chunksize=chunk_size):\n"
     ]
    },
    {
     "name": "stdout",
     "output_type": "stream",
     "text": [
      "Processed chunk, found 100000 rows after 2014\n"
     ]
    },
    {
     "name": "stderr",
     "output_type": "stream",
     "text": [
      "C:\\Users\\liuc\\AppData\\Local\\Temp\\ipykernel_31204\\2272494464.py:12: DtypeWarning: Columns (10,74) have mixed types. Specify dtype option on import or set low_memory=False.\n",
      "  for chunk in pd.read_csv(path, chunksize=chunk_size):\n"
     ]
    },
    {
     "name": "stdout",
     "output_type": "stream",
     "text": [
      "Processed chunk, found 100000 rows after 2014\n"
     ]
    },
    {
     "name": "stderr",
     "output_type": "stream",
     "text": [
      "C:\\Users\\liuc\\AppData\\Local\\Temp\\ipykernel_31204\\2272494464.py:12: DtypeWarning: Columns (10,74) have mixed types. Specify dtype option on import or set low_memory=False.\n",
      "  for chunk in pd.read_csv(path, chunksize=chunk_size):\n"
     ]
    },
    {
     "name": "stdout",
     "output_type": "stream",
     "text": [
      "Processed chunk, found 100000 rows after 2014\n"
     ]
    },
    {
     "name": "stderr",
     "output_type": "stream",
     "text": [
      "C:\\Users\\liuc\\AppData\\Local\\Temp\\ipykernel_31204\\2272494464.py:12: DtypeWarning: Columns (10,74) have mixed types. Specify dtype option on import or set low_memory=False.\n",
      "  for chunk in pd.read_csv(path, chunksize=chunk_size):\n"
     ]
    },
    {
     "name": "stdout",
     "output_type": "stream",
     "text": [
      "Processed chunk, found 100000 rows after 2014\n"
     ]
    },
    {
     "name": "stderr",
     "output_type": "stream",
     "text": [
      "C:\\Users\\liuc\\AppData\\Local\\Temp\\ipykernel_31204\\2272494464.py:12: DtypeWarning: Columns (10) have mixed types. Specify dtype option on import or set low_memory=False.\n",
      "  for chunk in pd.read_csv(path, chunksize=chunk_size):\n"
     ]
    },
    {
     "name": "stdout",
     "output_type": "stream",
     "text": [
      "Processed chunk, found 100000 rows after 2014\n"
     ]
    },
    {
     "name": "stderr",
     "output_type": "stream",
     "text": [
      "C:\\Users\\liuc\\AppData\\Local\\Temp\\ipykernel_31204\\2272494464.py:12: DtypeWarning: Columns (10,74) have mixed types. Specify dtype option on import or set low_memory=False.\n",
      "  for chunk in pd.read_csv(path, chunksize=chunk_size):\n"
     ]
    },
    {
     "name": "stdout",
     "output_type": "stream",
     "text": [
      "Processed chunk, found 100000 rows after 2014\n"
     ]
    },
    {
     "name": "stderr",
     "output_type": "stream",
     "text": [
      "C:\\Users\\liuc\\AppData\\Local\\Temp\\ipykernel_31204\\2272494464.py:12: DtypeWarning: Columns (74) have mixed types. Specify dtype option on import or set low_memory=False.\n",
      "  for chunk in pd.read_csv(path, chunksize=chunk_size):\n"
     ]
    },
    {
     "name": "stdout",
     "output_type": "stream",
     "text": [
      "Processed chunk, found 100000 rows after 2014\n"
     ]
    },
    {
     "name": "stderr",
     "output_type": "stream",
     "text": [
      "C:\\Users\\liuc\\AppData\\Local\\Temp\\ipykernel_31204\\2272494464.py:12: DtypeWarning: Columns (10,74) have mixed types. Specify dtype option on import or set low_memory=False.\n",
      "  for chunk in pd.read_csv(path, chunksize=chunk_size):\n"
     ]
    },
    {
     "name": "stdout",
     "output_type": "stream",
     "text": [
      "Processed chunk, found 100000 rows after 2014\n"
     ]
    },
    {
     "name": "stderr",
     "output_type": "stream",
     "text": [
      "C:\\Users\\liuc\\AppData\\Local\\Temp\\ipykernel_31204\\2272494464.py:12: DtypeWarning: Columns (10,74) have mixed types. Specify dtype option on import or set low_memory=False.\n",
      "  for chunk in pd.read_csv(path, chunksize=chunk_size):\n"
     ]
    },
    {
     "name": "stdout",
     "output_type": "stream",
     "text": [
      "Processed chunk, found 100000 rows after 2014\n"
     ]
    },
    {
     "name": "stderr",
     "output_type": "stream",
     "text": [
      "C:\\Users\\liuc\\AppData\\Local\\Temp\\ipykernel_31204\\2272494464.py:12: DtypeWarning: Columns (74) have mixed types. Specify dtype option on import or set low_memory=False.\n",
      "  for chunk in pd.read_csv(path, chunksize=chunk_size):\n"
     ]
    },
    {
     "name": "stdout",
     "output_type": "stream",
     "text": [
      "Processed chunk, found 100000 rows after 2014\n"
     ]
    },
    {
     "name": "stderr",
     "output_type": "stream",
     "text": [
      "C:\\Users\\liuc\\AppData\\Local\\Temp\\ipykernel_31204\\2272494464.py:12: DtypeWarning: Columns (74) have mixed types. Specify dtype option on import or set low_memory=False.\n",
      "  for chunk in pd.read_csv(path, chunksize=chunk_size):\n"
     ]
    },
    {
     "name": "stdout",
     "output_type": "stream",
     "text": [
      "Processed chunk, found 100000 rows after 2014\n"
     ]
    },
    {
     "name": "stderr",
     "output_type": "stream",
     "text": [
      "C:\\Users\\liuc\\AppData\\Local\\Temp\\ipykernel_31204\\2272494464.py:12: DtypeWarning: Columns (10,74) have mixed types. Specify dtype option on import or set low_memory=False.\n",
      "  for chunk in pd.read_csv(path, chunksize=chunk_size):\n"
     ]
    },
    {
     "name": "stdout",
     "output_type": "stream",
     "text": [
      "Processed chunk, found 100000 rows after 2014\n"
     ]
    },
    {
     "name": "stderr",
     "output_type": "stream",
     "text": [
      "C:\\Users\\liuc\\AppData\\Local\\Temp\\ipykernel_31204\\2272494464.py:12: DtypeWarning: Columns (10) have mixed types. Specify dtype option on import or set low_memory=False.\n",
      "  for chunk in pd.read_csv(path, chunksize=chunk_size):\n"
     ]
    },
    {
     "name": "stdout",
     "output_type": "stream",
     "text": [
      "Processed chunk, found 100000 rows after 2014\n"
     ]
    },
    {
     "name": "stderr",
     "output_type": "stream",
     "text": [
      "C:\\Users\\liuc\\AppData\\Local\\Temp\\ipykernel_31204\\2272494464.py:12: DtypeWarning: Columns (74) have mixed types. Specify dtype option on import or set low_memory=False.\n",
      "  for chunk in pd.read_csv(path, chunksize=chunk_size):\n"
     ]
    },
    {
     "name": "stdout",
     "output_type": "stream",
     "text": [
      "Processed chunk, found 100000 rows after 2014\n"
     ]
    },
    {
     "name": "stderr",
     "output_type": "stream",
     "text": [
      "C:\\Users\\liuc\\AppData\\Local\\Temp\\ipykernel_31204\\2272494464.py:12: DtypeWarning: Columns (10,74) have mixed types. Specify dtype option on import or set low_memory=False.\n",
      "  for chunk in pd.read_csv(path, chunksize=chunk_size):\n"
     ]
    },
    {
     "name": "stdout",
     "output_type": "stream",
     "text": [
      "Processed chunk, found 100000 rows after 2014\n"
     ]
    },
    {
     "name": "stderr",
     "output_type": "stream",
     "text": [
      "C:\\Users\\liuc\\AppData\\Local\\Temp\\ipykernel_31204\\2272494464.py:12: DtypeWarning: Columns (74) have mixed types. Specify dtype option on import or set low_memory=False.\n",
      "  for chunk in pd.read_csv(path, chunksize=chunk_size):\n"
     ]
    },
    {
     "name": "stdout",
     "output_type": "stream",
     "text": [
      "Processed chunk, found 100000 rows after 2014\n"
     ]
    },
    {
     "name": "stderr",
     "output_type": "stream",
     "text": [
      "C:\\Users\\liuc\\AppData\\Local\\Temp\\ipykernel_31204\\2272494464.py:12: DtypeWarning: Columns (10) have mixed types. Specify dtype option on import or set low_memory=False.\n",
      "  for chunk in pd.read_csv(path, chunksize=chunk_size):\n"
     ]
    },
    {
     "name": "stdout",
     "output_type": "stream",
     "text": [
      "Processed chunk, found 100000 rows after 2014\n"
     ]
    },
    {
     "name": "stderr",
     "output_type": "stream",
     "text": [
      "C:\\Users\\liuc\\AppData\\Local\\Temp\\ipykernel_31204\\2272494464.py:12: DtypeWarning: Columns (10,74) have mixed types. Specify dtype option on import or set low_memory=False.\n",
      "  for chunk in pd.read_csv(path, chunksize=chunk_size):\n"
     ]
    },
    {
     "name": "stdout",
     "output_type": "stream",
     "text": [
      "Processed chunk, found 100000 rows after 2014\n"
     ]
    },
    {
     "name": "stderr",
     "output_type": "stream",
     "text": [
      "C:\\Users\\liuc\\AppData\\Local\\Temp\\ipykernel_31204\\2272494464.py:12: DtypeWarning: Columns (10,74) have mixed types. Specify dtype option on import or set low_memory=False.\n",
      "  for chunk in pd.read_csv(path, chunksize=chunk_size):\n"
     ]
    },
    {
     "name": "stdout",
     "output_type": "stream",
     "text": [
      "Processed chunk, found 100000 rows after 2014\n"
     ]
    },
    {
     "name": "stderr",
     "output_type": "stream",
     "text": [
      "C:\\Users\\liuc\\AppData\\Local\\Temp\\ipykernel_31204\\2272494464.py:12: DtypeWarning: Columns (10,74) have mixed types. Specify dtype option on import or set low_memory=False.\n",
      "  for chunk in pd.read_csv(path, chunksize=chunk_size):\n"
     ]
    },
    {
     "name": "stdout",
     "output_type": "stream",
     "text": [
      "Processed chunk, found 100000 rows after 2014\n"
     ]
    },
    {
     "name": "stderr",
     "output_type": "stream",
     "text": [
      "C:\\Users\\liuc\\AppData\\Local\\Temp\\ipykernel_31204\\2272494464.py:12: DtypeWarning: Columns (10,74) have mixed types. Specify dtype option on import or set low_memory=False.\n",
      "  for chunk in pd.read_csv(path, chunksize=chunk_size):\n"
     ]
    },
    {
     "name": "stdout",
     "output_type": "stream",
     "text": [
      "Processed chunk, found 100000 rows after 2014\n"
     ]
    },
    {
     "name": "stderr",
     "output_type": "stream",
     "text": [
      "C:\\Users\\liuc\\AppData\\Local\\Temp\\ipykernel_31204\\2272494464.py:12: DtypeWarning: Columns (10,74) have mixed types. Specify dtype option on import or set low_memory=False.\n",
      "  for chunk in pd.read_csv(path, chunksize=chunk_size):\n"
     ]
    },
    {
     "name": "stdout",
     "output_type": "stream",
     "text": [
      "Processed chunk, found 100000 rows after 2014\n"
     ]
    },
    {
     "name": "stderr",
     "output_type": "stream",
     "text": [
      "C:\\Users\\liuc\\AppData\\Local\\Temp\\ipykernel_31204\\2272494464.py:12: DtypeWarning: Columns (10,74) have mixed types. Specify dtype option on import or set low_memory=False.\n",
      "  for chunk in pd.read_csv(path, chunksize=chunk_size):\n"
     ]
    },
    {
     "name": "stdout",
     "output_type": "stream",
     "text": [
      "Processed chunk, found 100000 rows after 2014\n"
     ]
    },
    {
     "name": "stderr",
     "output_type": "stream",
     "text": [
      "C:\\Users\\liuc\\AppData\\Local\\Temp\\ipykernel_31204\\2272494464.py:12: DtypeWarning: Columns (74) have mixed types. Specify dtype option on import or set low_memory=False.\n",
      "  for chunk in pd.read_csv(path, chunksize=chunk_size):\n"
     ]
    },
    {
     "name": "stdout",
     "output_type": "stream",
     "text": [
      "Processed chunk, found 100000 rows after 2014\n"
     ]
    },
    {
     "name": "stderr",
     "output_type": "stream",
     "text": [
      "C:\\Users\\liuc\\AppData\\Local\\Temp\\ipykernel_31204\\2272494464.py:12: DtypeWarning: Columns (10,74) have mixed types. Specify dtype option on import or set low_memory=False.\n",
      "  for chunk in pd.read_csv(path, chunksize=chunk_size):\n"
     ]
    },
    {
     "name": "stdout",
     "output_type": "stream",
     "text": [
      "Processed chunk, found 100000 rows after 2014\n"
     ]
    },
    {
     "name": "stderr",
     "output_type": "stream",
     "text": [
      "C:\\Users\\liuc\\AppData\\Local\\Temp\\ipykernel_31204\\2272494464.py:12: DtypeWarning: Columns (10,74) have mixed types. Specify dtype option on import or set low_memory=False.\n",
      "  for chunk in pd.read_csv(path, chunksize=chunk_size):\n"
     ]
    },
    {
     "name": "stdout",
     "output_type": "stream",
     "text": [
      "Processed chunk, found 100000 rows after 2014\n"
     ]
    },
    {
     "name": "stderr",
     "output_type": "stream",
     "text": [
      "C:\\Users\\liuc\\AppData\\Local\\Temp\\ipykernel_31204\\2272494464.py:12: DtypeWarning: Columns (10,74) have mixed types. Specify dtype option on import or set low_memory=False.\n",
      "  for chunk in pd.read_csv(path, chunksize=chunk_size):\n"
     ]
    },
    {
     "name": "stdout",
     "output_type": "stream",
     "text": [
      "Processed chunk, found 100000 rows after 2014\n"
     ]
    },
    {
     "name": "stderr",
     "output_type": "stream",
     "text": [
      "C:\\Users\\liuc\\AppData\\Local\\Temp\\ipykernel_31204\\2272494464.py:12: DtypeWarning: Columns (10,74) have mixed types. Specify dtype option on import or set low_memory=False.\n",
      "  for chunk in pd.read_csv(path, chunksize=chunk_size):\n"
     ]
    },
    {
     "name": "stdout",
     "output_type": "stream",
     "text": [
      "Processed chunk, found 100000 rows after 2014\n"
     ]
    },
    {
     "name": "stderr",
     "output_type": "stream",
     "text": [
      "C:\\Users\\liuc\\AppData\\Local\\Temp\\ipykernel_31204\\2272494464.py:12: DtypeWarning: Columns (10,74) have mixed types. Specify dtype option on import or set low_memory=False.\n",
      "  for chunk in pd.read_csv(path, chunksize=chunk_size):\n"
     ]
    },
    {
     "name": "stdout",
     "output_type": "stream",
     "text": [
      "Processed chunk, found 100000 rows after 2014\n"
     ]
    },
    {
     "name": "stderr",
     "output_type": "stream",
     "text": [
      "C:\\Users\\liuc\\AppData\\Local\\Temp\\ipykernel_31204\\2272494464.py:12: DtypeWarning: Columns (10,74) have mixed types. Specify dtype option on import or set low_memory=False.\n",
      "  for chunk in pd.read_csv(path, chunksize=chunk_size):\n"
     ]
    },
    {
     "name": "stdout",
     "output_type": "stream",
     "text": [
      "Processed chunk, found 100000 rows after 2014\n"
     ]
    },
    {
     "name": "stderr",
     "output_type": "stream",
     "text": [
      "C:\\Users\\liuc\\AppData\\Local\\Temp\\ipykernel_31204\\2272494464.py:12: DtypeWarning: Columns (10,74) have mixed types. Specify dtype option on import or set low_memory=False.\n",
      "  for chunk in pd.read_csv(path, chunksize=chunk_size):\n"
     ]
    },
    {
     "name": "stdout",
     "output_type": "stream",
     "text": [
      "Processed chunk, found 100000 rows after 2014\n"
     ]
    },
    {
     "name": "stderr",
     "output_type": "stream",
     "text": [
      "C:\\Users\\liuc\\AppData\\Local\\Temp\\ipykernel_31204\\2272494464.py:12: DtypeWarning: Columns (74) have mixed types. Specify dtype option on import or set low_memory=False.\n",
      "  for chunk in pd.read_csv(path, chunksize=chunk_size):\n"
     ]
    },
    {
     "name": "stdout",
     "output_type": "stream",
     "text": [
      "Processed chunk, found 100000 rows after 2014\n"
     ]
    },
    {
     "name": "stderr",
     "output_type": "stream",
     "text": [
      "C:\\Users\\liuc\\AppData\\Local\\Temp\\ipykernel_31204\\2272494464.py:12: DtypeWarning: Columns (10,74) have mixed types. Specify dtype option on import or set low_memory=False.\n",
      "  for chunk in pd.read_csv(path, chunksize=chunk_size):\n"
     ]
    },
    {
     "name": "stdout",
     "output_type": "stream",
     "text": [
      "Processed chunk, found 100000 rows after 2014\n"
     ]
    },
    {
     "name": "stderr",
     "output_type": "stream",
     "text": [
      "C:\\Users\\liuc\\AppData\\Local\\Temp\\ipykernel_31204\\2272494464.py:12: DtypeWarning: Columns (10,74) have mixed types. Specify dtype option on import or set low_memory=False.\n",
      "  for chunk in pd.read_csv(path, chunksize=chunk_size):\n"
     ]
    },
    {
     "name": "stdout",
     "output_type": "stream",
     "text": [
      "Processed chunk, found 100000 rows after 2014\n"
     ]
    },
    {
     "name": "stderr",
     "output_type": "stream",
     "text": [
      "C:\\Users\\liuc\\AppData\\Local\\Temp\\ipykernel_31204\\2272494464.py:12: DtypeWarning: Columns (10,74) have mixed types. Specify dtype option on import or set low_memory=False.\n",
      "  for chunk in pd.read_csv(path, chunksize=chunk_size):\n"
     ]
    },
    {
     "name": "stdout",
     "output_type": "stream",
     "text": [
      "Processed chunk, found 100000 rows after 2014\n"
     ]
    },
    {
     "name": "stderr",
     "output_type": "stream",
     "text": [
      "C:\\Users\\liuc\\AppData\\Local\\Temp\\ipykernel_31204\\2272494464.py:12: DtypeWarning: Columns (10,74) have mixed types. Specify dtype option on import or set low_memory=False.\n",
      "  for chunk in pd.read_csv(path, chunksize=chunk_size):\n"
     ]
    },
    {
     "name": "stdout",
     "output_type": "stream",
     "text": [
      "Processed chunk, found 100000 rows after 2014\n"
     ]
    },
    {
     "name": "stderr",
     "output_type": "stream",
     "text": [
      "C:\\Users\\liuc\\AppData\\Local\\Temp\\ipykernel_31204\\2272494464.py:12: DtypeWarning: Columns (10,74) have mixed types. Specify dtype option on import or set low_memory=False.\n",
      "  for chunk in pd.read_csv(path, chunksize=chunk_size):\n"
     ]
    },
    {
     "name": "stdout",
     "output_type": "stream",
     "text": [
      "Processed chunk, found 100000 rows after 2014\n"
     ]
    },
    {
     "name": "stderr",
     "output_type": "stream",
     "text": [
      "C:\\Users\\liuc\\AppData\\Local\\Temp\\ipykernel_31204\\2272494464.py:12: DtypeWarning: Columns (10,74) have mixed types. Specify dtype option on import or set low_memory=False.\n",
      "  for chunk in pd.read_csv(path, chunksize=chunk_size):\n"
     ]
    },
    {
     "name": "stdout",
     "output_type": "stream",
     "text": [
      "Processed chunk, found 100000 rows after 2014\n"
     ]
    },
    {
     "name": "stderr",
     "output_type": "stream",
     "text": [
      "C:\\Users\\liuc\\AppData\\Local\\Temp\\ipykernel_31204\\2272494464.py:12: DtypeWarning: Columns (10,74) have mixed types. Specify dtype option on import or set low_memory=False.\n",
      "  for chunk in pd.read_csv(path, chunksize=chunk_size):\n"
     ]
    },
    {
     "name": "stdout",
     "output_type": "stream",
     "text": [
      "Processed chunk, found 100000 rows after 2014\n"
     ]
    },
    {
     "name": "stderr",
     "output_type": "stream",
     "text": [
      "C:\\Users\\liuc\\AppData\\Local\\Temp\\ipykernel_31204\\2272494464.py:12: DtypeWarning: Columns (10,74) have mixed types. Specify dtype option on import or set low_memory=False.\n",
      "  for chunk in pd.read_csv(path, chunksize=chunk_size):\n"
     ]
    },
    {
     "name": "stdout",
     "output_type": "stream",
     "text": [
      "Processed chunk, found 100000 rows after 2014\n"
     ]
    },
    {
     "name": "stderr",
     "output_type": "stream",
     "text": [
      "C:\\Users\\liuc\\AppData\\Local\\Temp\\ipykernel_31204\\2272494464.py:12: DtypeWarning: Columns (10,74) have mixed types. Specify dtype option on import or set low_memory=False.\n",
      "  for chunk in pd.read_csv(path, chunksize=chunk_size):\n"
     ]
    },
    {
     "name": "stdout",
     "output_type": "stream",
     "text": [
      "Processed chunk, found 100000 rows after 2014\n"
     ]
    },
    {
     "name": "stderr",
     "output_type": "stream",
     "text": [
      "C:\\Users\\liuc\\AppData\\Local\\Temp\\ipykernel_31204\\2272494464.py:12: DtypeWarning: Columns (10,74) have mixed types. Specify dtype option on import or set low_memory=False.\n",
      "  for chunk in pd.read_csv(path, chunksize=chunk_size):\n"
     ]
    },
    {
     "name": "stdout",
     "output_type": "stream",
     "text": [
      "Processed chunk, found 100000 rows after 2014\n"
     ]
    },
    {
     "name": "stderr",
     "output_type": "stream",
     "text": [
      "C:\\Users\\liuc\\AppData\\Local\\Temp\\ipykernel_31204\\2272494464.py:12: DtypeWarning: Columns (10,74) have mixed types. Specify dtype option on import or set low_memory=False.\n",
      "  for chunk in pd.read_csv(path, chunksize=chunk_size):\n"
     ]
    },
    {
     "name": "stdout",
     "output_type": "stream",
     "text": [
      "Processed chunk, found 100000 rows after 2014\n"
     ]
    },
    {
     "name": "stderr",
     "output_type": "stream",
     "text": [
      "C:\\Users\\liuc\\AppData\\Local\\Temp\\ipykernel_31204\\2272494464.py:12: DtypeWarning: Columns (10,74) have mixed types. Specify dtype option on import or set low_memory=False.\n",
      "  for chunk in pd.read_csv(path, chunksize=chunk_size):\n"
     ]
    },
    {
     "name": "stdout",
     "output_type": "stream",
     "text": [
      "Processed chunk, found 100000 rows after 2014\n"
     ]
    },
    {
     "name": "stderr",
     "output_type": "stream",
     "text": [
      "C:\\Users\\liuc\\AppData\\Local\\Temp\\ipykernel_31204\\2272494464.py:12: DtypeWarning: Columns (10,74) have mixed types. Specify dtype option on import or set low_memory=False.\n",
      "  for chunk in pd.read_csv(path, chunksize=chunk_size):\n"
     ]
    },
    {
     "name": "stdout",
     "output_type": "stream",
     "text": [
      "Processed chunk, found 100000 rows after 2014\n"
     ]
    },
    {
     "name": "stderr",
     "output_type": "stream",
     "text": [
      "C:\\Users\\liuc\\AppData\\Local\\Temp\\ipykernel_31204\\2272494464.py:12: DtypeWarning: Columns (10,74) have mixed types. Specify dtype option on import or set low_memory=False.\n",
      "  for chunk in pd.read_csv(path, chunksize=chunk_size):\n"
     ]
    },
    {
     "name": "stdout",
     "output_type": "stream",
     "text": [
      "Processed chunk, found 100000 rows after 2014\n"
     ]
    },
    {
     "name": "stderr",
     "output_type": "stream",
     "text": [
      "C:\\Users\\liuc\\AppData\\Local\\Temp\\ipykernel_31204\\2272494464.py:12: DtypeWarning: Columns (10,74) have mixed types. Specify dtype option on import or set low_memory=False.\n",
      "  for chunk in pd.read_csv(path, chunksize=chunk_size):\n"
     ]
    },
    {
     "name": "stdout",
     "output_type": "stream",
     "text": [
      "Processed chunk, found 100000 rows after 2014\n"
     ]
    },
    {
     "name": "stderr",
     "output_type": "stream",
     "text": [
      "C:\\Users\\liuc\\AppData\\Local\\Temp\\ipykernel_31204\\2272494464.py:12: DtypeWarning: Columns (10,74) have mixed types. Specify dtype option on import or set low_memory=False.\n",
      "  for chunk in pd.read_csv(path, chunksize=chunk_size):\n"
     ]
    },
    {
     "name": "stdout",
     "output_type": "stream",
     "text": [
      "Processed chunk, found 100000 rows after 2014\n"
     ]
    },
    {
     "name": "stderr",
     "output_type": "stream",
     "text": [
      "C:\\Users\\liuc\\AppData\\Local\\Temp\\ipykernel_31204\\2272494464.py:12: DtypeWarning: Columns (10,74) have mixed types. Specify dtype option on import or set low_memory=False.\n",
      "  for chunk in pd.read_csv(path, chunksize=chunk_size):\n"
     ]
    },
    {
     "name": "stdout",
     "output_type": "stream",
     "text": [
      "Processed chunk, found 100000 rows after 2014\n"
     ]
    },
    {
     "name": "stderr",
     "output_type": "stream",
     "text": [
      "C:\\Users\\liuc\\AppData\\Local\\Temp\\ipykernel_31204\\2272494464.py:12: DtypeWarning: Columns (10,74) have mixed types. Specify dtype option on import or set low_memory=False.\n",
      "  for chunk in pd.read_csv(path, chunksize=chunk_size):\n"
     ]
    },
    {
     "name": "stdout",
     "output_type": "stream",
     "text": [
      "Processed chunk, found 100000 rows after 2014\n"
     ]
    },
    {
     "name": "stderr",
     "output_type": "stream",
     "text": [
      "C:\\Users\\liuc\\AppData\\Local\\Temp\\ipykernel_31204\\2272494464.py:12: DtypeWarning: Columns (10,74) have mixed types. Specify dtype option on import or set low_memory=False.\n",
      "  for chunk in pd.read_csv(path, chunksize=chunk_size):\n"
     ]
    },
    {
     "name": "stdout",
     "output_type": "stream",
     "text": [
      "Processed chunk, found 100000 rows after 2014\n"
     ]
    },
    {
     "name": "stderr",
     "output_type": "stream",
     "text": [
      "C:\\Users\\liuc\\AppData\\Local\\Temp\\ipykernel_31204\\2272494464.py:12: DtypeWarning: Columns (10,74) have mixed types. Specify dtype option on import or set low_memory=False.\n",
      "  for chunk in pd.read_csv(path, chunksize=chunk_size):\n"
     ]
    },
    {
     "name": "stdout",
     "output_type": "stream",
     "text": [
      "Processed chunk, found 100000 rows after 2014\n"
     ]
    },
    {
     "name": "stderr",
     "output_type": "stream",
     "text": [
      "C:\\Users\\liuc\\AppData\\Local\\Temp\\ipykernel_31204\\2272494464.py:12: DtypeWarning: Columns (10,74) have mixed types. Specify dtype option on import or set low_memory=False.\n",
      "  for chunk in pd.read_csv(path, chunksize=chunk_size):\n"
     ]
    },
    {
     "name": "stdout",
     "output_type": "stream",
     "text": [
      "Processed chunk, found 100000 rows after 2014\n"
     ]
    },
    {
     "name": "stderr",
     "output_type": "stream",
     "text": [
      "C:\\Users\\liuc\\AppData\\Local\\Temp\\ipykernel_31204\\2272494464.py:12: DtypeWarning: Columns (10,74) have mixed types. Specify dtype option on import or set low_memory=False.\n",
      "  for chunk in pd.read_csv(path, chunksize=chunk_size):\n"
     ]
    },
    {
     "name": "stdout",
     "output_type": "stream",
     "text": [
      "Processed chunk, found 100000 rows after 2014\n"
     ]
    },
    {
     "name": "stderr",
     "output_type": "stream",
     "text": [
      "C:\\Users\\liuc\\AppData\\Local\\Temp\\ipykernel_31204\\2272494464.py:12: DtypeWarning: Columns (10,39,74) have mixed types. Specify dtype option on import or set low_memory=False.\n",
      "  for chunk in pd.read_csv(path, chunksize=chunk_size):\n"
     ]
    },
    {
     "name": "stdout",
     "output_type": "stream",
     "text": [
      "Processed chunk, found 100000 rows after 2014\n"
     ]
    },
    {
     "name": "stderr",
     "output_type": "stream",
     "text": [
      "C:\\Users\\liuc\\AppData\\Local\\Temp\\ipykernel_31204\\2272494464.py:12: DtypeWarning: Columns (10,74) have mixed types. Specify dtype option on import or set low_memory=False.\n",
      "  for chunk in pd.read_csv(path, chunksize=chunk_size):\n"
     ]
    },
    {
     "name": "stdout",
     "output_type": "stream",
     "text": [
      "Processed chunk, found 100000 rows after 2014\n"
     ]
    },
    {
     "name": "stderr",
     "output_type": "stream",
     "text": [
      "C:\\Users\\liuc\\AppData\\Local\\Temp\\ipykernel_31204\\2272494464.py:12: DtypeWarning: Columns (10,74) have mixed types. Specify dtype option on import or set low_memory=False.\n",
      "  for chunk in pd.read_csv(path, chunksize=chunk_size):\n"
     ]
    },
    {
     "name": "stdout",
     "output_type": "stream",
     "text": [
      "Processed chunk, found 100000 rows after 2014\n"
     ]
    },
    {
     "name": "stderr",
     "output_type": "stream",
     "text": [
      "C:\\Users\\liuc\\AppData\\Local\\Temp\\ipykernel_31204\\2272494464.py:12: DtypeWarning: Columns (10) have mixed types. Specify dtype option on import or set low_memory=False.\n",
      "  for chunk in pd.read_csv(path, chunksize=chunk_size):\n"
     ]
    },
    {
     "name": "stdout",
     "output_type": "stream",
     "text": [
      "Processed chunk, found 100000 rows after 2014\n"
     ]
    },
    {
     "name": "stderr",
     "output_type": "stream",
     "text": [
      "C:\\Users\\liuc\\AppData\\Local\\Temp\\ipykernel_31204\\2272494464.py:12: DtypeWarning: Columns (10,74) have mixed types. Specify dtype option on import or set low_memory=False.\n",
      "  for chunk in pd.read_csv(path, chunksize=chunk_size):\n"
     ]
    },
    {
     "name": "stdout",
     "output_type": "stream",
     "text": [
      "Processed chunk, found 100000 rows after 2014\n"
     ]
    },
    {
     "name": "stderr",
     "output_type": "stream",
     "text": [
      "C:\\Users\\liuc\\AppData\\Local\\Temp\\ipykernel_31204\\2272494464.py:12: DtypeWarning: Columns (10,74) have mixed types. Specify dtype option on import or set low_memory=False.\n",
      "  for chunk in pd.read_csv(path, chunksize=chunk_size):\n"
     ]
    },
    {
     "name": "stdout",
     "output_type": "stream",
     "text": [
      "Processed chunk, found 100000 rows after 2014\n"
     ]
    },
    {
     "name": "stderr",
     "output_type": "stream",
     "text": [
      "C:\\Users\\liuc\\AppData\\Local\\Temp\\ipykernel_31204\\2272494464.py:12: DtypeWarning: Columns (10,74) have mixed types. Specify dtype option on import or set low_memory=False.\n",
      "  for chunk in pd.read_csv(path, chunksize=chunk_size):\n"
     ]
    },
    {
     "name": "stdout",
     "output_type": "stream",
     "text": [
      "Processed chunk, found 100000 rows after 2014\n"
     ]
    },
    {
     "name": "stderr",
     "output_type": "stream",
     "text": [
      "C:\\Users\\liuc\\AppData\\Local\\Temp\\ipykernel_31204\\2272494464.py:12: DtypeWarning: Columns (10) have mixed types. Specify dtype option on import or set low_memory=False.\n",
      "  for chunk in pd.read_csv(path, chunksize=chunk_size):\n"
     ]
    },
    {
     "name": "stdout",
     "output_type": "stream",
     "text": [
      "Processed chunk, found 100000 rows after 2014\n"
     ]
    },
    {
     "name": "stderr",
     "output_type": "stream",
     "text": [
      "C:\\Users\\liuc\\AppData\\Local\\Temp\\ipykernel_31204\\2272494464.py:12: DtypeWarning: Columns (10,74) have mixed types. Specify dtype option on import or set low_memory=False.\n",
      "  for chunk in pd.read_csv(path, chunksize=chunk_size):\n"
     ]
    },
    {
     "name": "stdout",
     "output_type": "stream",
     "text": [
      "Processed chunk, found 100000 rows after 2014\n"
     ]
    },
    {
     "name": "stderr",
     "output_type": "stream",
     "text": [
      "C:\\Users\\liuc\\AppData\\Local\\Temp\\ipykernel_31204\\2272494464.py:12: DtypeWarning: Columns (10,74) have mixed types. Specify dtype option on import or set low_memory=False.\n",
      "  for chunk in pd.read_csv(path, chunksize=chunk_size):\n"
     ]
    },
    {
     "name": "stdout",
     "output_type": "stream",
     "text": [
      "Processed chunk, found 100000 rows after 2014\n"
     ]
    },
    {
     "name": "stderr",
     "output_type": "stream",
     "text": [
      "C:\\Users\\liuc\\AppData\\Local\\Temp\\ipykernel_31204\\2272494464.py:12: DtypeWarning: Columns (10,74) have mixed types. Specify dtype option on import or set low_memory=False.\n",
      "  for chunk in pd.read_csv(path, chunksize=chunk_size):\n"
     ]
    },
    {
     "name": "stdout",
     "output_type": "stream",
     "text": [
      "Processed chunk, found 100000 rows after 2014\n"
     ]
    },
    {
     "name": "stderr",
     "output_type": "stream",
     "text": [
      "C:\\Users\\liuc\\AppData\\Local\\Temp\\ipykernel_31204\\2272494464.py:12: DtypeWarning: Columns (10,74) have mixed types. Specify dtype option on import or set low_memory=False.\n",
      "  for chunk in pd.read_csv(path, chunksize=chunk_size):\n"
     ]
    },
    {
     "name": "stdout",
     "output_type": "stream",
     "text": [
      "Processed chunk, found 100000 rows after 2014\n"
     ]
    },
    {
     "name": "stderr",
     "output_type": "stream",
     "text": [
      "C:\\Users\\liuc\\AppData\\Local\\Temp\\ipykernel_31204\\2272494464.py:12: DtypeWarning: Columns (10,74) have mixed types. Specify dtype option on import or set low_memory=False.\n",
      "  for chunk in pd.read_csv(path, chunksize=chunk_size):\n"
     ]
    },
    {
     "name": "stdout",
     "output_type": "stream",
     "text": [
      "Processed chunk, found 100000 rows after 2014\n"
     ]
    },
    {
     "name": "stderr",
     "output_type": "stream",
     "text": [
      "C:\\Users\\liuc\\AppData\\Local\\Temp\\ipykernel_31204\\2272494464.py:12: DtypeWarning: Columns (10,74) have mixed types. Specify dtype option on import or set low_memory=False.\n",
      "  for chunk in pd.read_csv(path, chunksize=chunk_size):\n"
     ]
    },
    {
     "name": "stdout",
     "output_type": "stream",
     "text": [
      "Processed chunk, found 100000 rows after 2014\n"
     ]
    },
    {
     "name": "stderr",
     "output_type": "stream",
     "text": [
      "C:\\Users\\liuc\\AppData\\Local\\Temp\\ipykernel_31204\\2272494464.py:12: DtypeWarning: Columns (10,74) have mixed types. Specify dtype option on import or set low_memory=False.\n",
      "  for chunk in pd.read_csv(path, chunksize=chunk_size):\n"
     ]
    },
    {
     "name": "stdout",
     "output_type": "stream",
     "text": [
      "Processed chunk, found 100000 rows after 2014\n"
     ]
    },
    {
     "name": "stderr",
     "output_type": "stream",
     "text": [
      "C:\\Users\\liuc\\AppData\\Local\\Temp\\ipykernel_31204\\2272494464.py:12: DtypeWarning: Columns (10,74) have mixed types. Specify dtype option on import or set low_memory=False.\n",
      "  for chunk in pd.read_csv(path, chunksize=chunk_size):\n"
     ]
    },
    {
     "name": "stdout",
     "output_type": "stream",
     "text": [
      "Processed chunk, found 100000 rows after 2014\n"
     ]
    },
    {
     "name": "stderr",
     "output_type": "stream",
     "text": [
      "C:\\Users\\liuc\\AppData\\Local\\Temp\\ipykernel_31204\\2272494464.py:12: DtypeWarning: Columns (10,74) have mixed types. Specify dtype option on import or set low_memory=False.\n",
      "  for chunk in pd.read_csv(path, chunksize=chunk_size):\n"
     ]
    },
    {
     "name": "stdout",
     "output_type": "stream",
     "text": [
      "Processed chunk, found 100000 rows after 2014\n"
     ]
    },
    {
     "name": "stderr",
     "output_type": "stream",
     "text": [
      "C:\\Users\\liuc\\AppData\\Local\\Temp\\ipykernel_31204\\2272494464.py:12: DtypeWarning: Columns (10,74) have mixed types. Specify dtype option on import or set low_memory=False.\n",
      "  for chunk in pd.read_csv(path, chunksize=chunk_size):\n"
     ]
    },
    {
     "name": "stdout",
     "output_type": "stream",
     "text": [
      "Processed chunk, found 100000 rows after 2014\n"
     ]
    },
    {
     "name": "stderr",
     "output_type": "stream",
     "text": [
      "C:\\Users\\liuc\\AppData\\Local\\Temp\\ipykernel_31204\\2272494464.py:12: DtypeWarning: Columns (74) have mixed types. Specify dtype option on import or set low_memory=False.\n",
      "  for chunk in pd.read_csv(path, chunksize=chunk_size):\n"
     ]
    },
    {
     "name": "stdout",
     "output_type": "stream",
     "text": [
      "Processed chunk, found 100000 rows after 2014\n"
     ]
    },
    {
     "name": "stderr",
     "output_type": "stream",
     "text": [
      "C:\\Users\\liuc\\AppData\\Local\\Temp\\ipykernel_31204\\2272494464.py:12: DtypeWarning: Columns (10,74) have mixed types. Specify dtype option on import or set low_memory=False.\n",
      "  for chunk in pd.read_csv(path, chunksize=chunk_size):\n"
     ]
    },
    {
     "name": "stdout",
     "output_type": "stream",
     "text": [
      "Processed chunk, found 100000 rows after 2014\n"
     ]
    },
    {
     "name": "stderr",
     "output_type": "stream",
     "text": [
      "C:\\Users\\liuc\\AppData\\Local\\Temp\\ipykernel_31204\\2272494464.py:12: DtypeWarning: Columns (10,74) have mixed types. Specify dtype option on import or set low_memory=False.\n",
      "  for chunk in pd.read_csv(path, chunksize=chunk_size):\n"
     ]
    },
    {
     "name": "stdout",
     "output_type": "stream",
     "text": [
      "Processed chunk, found 100000 rows after 2014\n"
     ]
    },
    {
     "name": "stderr",
     "output_type": "stream",
     "text": [
      "C:\\Users\\liuc\\AppData\\Local\\Temp\\ipykernel_31204\\2272494464.py:12: DtypeWarning: Columns (10,74) have mixed types. Specify dtype option on import or set low_memory=False.\n",
      "  for chunk in pd.read_csv(path, chunksize=chunk_size):\n"
     ]
    },
    {
     "name": "stdout",
     "output_type": "stream",
     "text": [
      "Processed chunk, found 100000 rows after 2014\n"
     ]
    },
    {
     "name": "stderr",
     "output_type": "stream",
     "text": [
      "C:\\Users\\liuc\\AppData\\Local\\Temp\\ipykernel_31204\\2272494464.py:12: DtypeWarning: Columns (10,74) have mixed types. Specify dtype option on import or set low_memory=False.\n",
      "  for chunk in pd.read_csv(path, chunksize=chunk_size):\n"
     ]
    },
    {
     "name": "stdout",
     "output_type": "stream",
     "text": [
      "Processed chunk, found 100000 rows after 2014\n"
     ]
    },
    {
     "name": "stderr",
     "output_type": "stream",
     "text": [
      "C:\\Users\\liuc\\AppData\\Local\\Temp\\ipykernel_31204\\2272494464.py:12: DtypeWarning: Columns (10,74) have mixed types. Specify dtype option on import or set low_memory=False.\n",
      "  for chunk in pd.read_csv(path, chunksize=chunk_size):\n"
     ]
    },
    {
     "name": "stdout",
     "output_type": "stream",
     "text": [
      "Processed chunk, found 100000 rows after 2014\n"
     ]
    },
    {
     "name": "stderr",
     "output_type": "stream",
     "text": [
      "C:\\Users\\liuc\\AppData\\Local\\Temp\\ipykernel_31204\\2272494464.py:12: DtypeWarning: Columns (10,74) have mixed types. Specify dtype option on import or set low_memory=False.\n",
      "  for chunk in pd.read_csv(path, chunksize=chunk_size):\n"
     ]
    },
    {
     "name": "stdout",
     "output_type": "stream",
     "text": [
      "Processed chunk, found 100000 rows after 2014\n"
     ]
    },
    {
     "name": "stderr",
     "output_type": "stream",
     "text": [
      "C:\\Users\\liuc\\AppData\\Local\\Temp\\ipykernel_31204\\2272494464.py:12: DtypeWarning: Columns (10,74) have mixed types. Specify dtype option on import or set low_memory=False.\n",
      "  for chunk in pd.read_csv(path, chunksize=chunk_size):\n"
     ]
    },
    {
     "name": "stdout",
     "output_type": "stream",
     "text": [
      "Processed chunk, found 100000 rows after 2014\n"
     ]
    },
    {
     "name": "stderr",
     "output_type": "stream",
     "text": [
      "C:\\Users\\liuc\\AppData\\Local\\Temp\\ipykernel_31204\\2272494464.py:12: DtypeWarning: Columns (10,74) have mixed types. Specify dtype option on import or set low_memory=False.\n",
      "  for chunk in pd.read_csv(path, chunksize=chunk_size):\n"
     ]
    },
    {
     "name": "stdout",
     "output_type": "stream",
     "text": [
      "Processed chunk, found 100000 rows after 2014\n"
     ]
    },
    {
     "name": "stderr",
     "output_type": "stream",
     "text": [
      "C:\\Users\\liuc\\AppData\\Local\\Temp\\ipykernel_31204\\2272494464.py:12: DtypeWarning: Columns (10,74) have mixed types. Specify dtype option on import or set low_memory=False.\n",
      "  for chunk in pd.read_csv(path, chunksize=chunk_size):\n"
     ]
    },
    {
     "name": "stdout",
     "output_type": "stream",
     "text": [
      "Processed chunk, found 100000 rows after 2014\n"
     ]
    },
    {
     "name": "stderr",
     "output_type": "stream",
     "text": [
      "C:\\Users\\liuc\\AppData\\Local\\Temp\\ipykernel_31204\\2272494464.py:12: DtypeWarning: Columns (10,74) have mixed types. Specify dtype option on import or set low_memory=False.\n",
      "  for chunk in pd.read_csv(path, chunksize=chunk_size):\n"
     ]
    },
    {
     "name": "stdout",
     "output_type": "stream",
     "text": [
      "Processed chunk, found 100000 rows after 2014\n"
     ]
    },
    {
     "name": "stderr",
     "output_type": "stream",
     "text": [
      "C:\\Users\\liuc\\AppData\\Local\\Temp\\ipykernel_31204\\2272494464.py:12: DtypeWarning: Columns (10,74) have mixed types. Specify dtype option on import or set low_memory=False.\n",
      "  for chunk in pd.read_csv(path, chunksize=chunk_size):\n"
     ]
    },
    {
     "name": "stdout",
     "output_type": "stream",
     "text": [
      "Processed chunk, found 100000 rows after 2014\n"
     ]
    },
    {
     "name": "stderr",
     "output_type": "stream",
     "text": [
      "C:\\Users\\liuc\\AppData\\Local\\Temp\\ipykernel_31204\\2272494464.py:12: DtypeWarning: Columns (10,74) have mixed types. Specify dtype option on import or set low_memory=False.\n",
      "  for chunk in pd.read_csv(path, chunksize=chunk_size):\n"
     ]
    },
    {
     "name": "stdout",
     "output_type": "stream",
     "text": [
      "Processed chunk, found 100000 rows after 2014\n"
     ]
    },
    {
     "name": "stderr",
     "output_type": "stream",
     "text": [
      "C:\\Users\\liuc\\AppData\\Local\\Temp\\ipykernel_31204\\2272494464.py:12: DtypeWarning: Columns (10,74) have mixed types. Specify dtype option on import or set low_memory=False.\n",
      "  for chunk in pd.read_csv(path, chunksize=chunk_size):\n"
     ]
    },
    {
     "name": "stdout",
     "output_type": "stream",
     "text": [
      "Processed chunk, found 100000 rows after 2014\n"
     ]
    },
    {
     "name": "stderr",
     "output_type": "stream",
     "text": [
      "C:\\Users\\liuc\\AppData\\Local\\Temp\\ipykernel_31204\\2272494464.py:12: DtypeWarning: Columns (10,74) have mixed types. Specify dtype option on import or set low_memory=False.\n",
      "  for chunk in pd.read_csv(path, chunksize=chunk_size):\n"
     ]
    },
    {
     "name": "stdout",
     "output_type": "stream",
     "text": [
      "Processed chunk, found 100000 rows after 2014\n"
     ]
    },
    {
     "name": "stderr",
     "output_type": "stream",
     "text": [
      "C:\\Users\\liuc\\AppData\\Local\\Temp\\ipykernel_31204\\2272494464.py:12: DtypeWarning: Columns (10,74) have mixed types. Specify dtype option on import or set low_memory=False.\n",
      "  for chunk in pd.read_csv(path, chunksize=chunk_size):\n"
     ]
    },
    {
     "name": "stdout",
     "output_type": "stream",
     "text": [
      "Processed chunk, found 100000 rows after 2014\n"
     ]
    },
    {
     "name": "stderr",
     "output_type": "stream",
     "text": [
      "C:\\Users\\liuc\\AppData\\Local\\Temp\\ipykernel_31204\\2272494464.py:12: DtypeWarning: Columns (10,74) have mixed types. Specify dtype option on import or set low_memory=False.\n",
      "  for chunk in pd.read_csv(path, chunksize=chunk_size):\n"
     ]
    },
    {
     "name": "stdout",
     "output_type": "stream",
     "text": [
      "Processed chunk, found 100000 rows after 2014\n"
     ]
    },
    {
     "name": "stderr",
     "output_type": "stream",
     "text": [
      "C:\\Users\\liuc\\AppData\\Local\\Temp\\ipykernel_31204\\2272494464.py:12: DtypeWarning: Columns (10,74) have mixed types. Specify dtype option on import or set low_memory=False.\n",
      "  for chunk in pd.read_csv(path, chunksize=chunk_size):\n"
     ]
    },
    {
     "name": "stdout",
     "output_type": "stream",
     "text": [
      "Processed chunk, found 100000 rows after 2014\n"
     ]
    },
    {
     "name": "stderr",
     "output_type": "stream",
     "text": [
      "C:\\Users\\liuc\\AppData\\Local\\Temp\\ipykernel_31204\\2272494464.py:12: DtypeWarning: Columns (10,74) have mixed types. Specify dtype option on import or set low_memory=False.\n",
      "  for chunk in pd.read_csv(path, chunksize=chunk_size):\n"
     ]
    },
    {
     "name": "stdout",
     "output_type": "stream",
     "text": [
      "Processed chunk, found 100000 rows after 2014\n"
     ]
    },
    {
     "name": "stderr",
     "output_type": "stream",
     "text": [
      "C:\\Users\\liuc\\AppData\\Local\\Temp\\ipykernel_31204\\2272494464.py:12: DtypeWarning: Columns (10,74) have mixed types. Specify dtype option on import or set low_memory=False.\n",
      "  for chunk in pd.read_csv(path, chunksize=chunk_size):\n"
     ]
    },
    {
     "name": "stdout",
     "output_type": "stream",
     "text": [
      "Processed chunk, found 100000 rows after 2014\n"
     ]
    },
    {
     "name": "stderr",
     "output_type": "stream",
     "text": [
      "C:\\Users\\liuc\\AppData\\Local\\Temp\\ipykernel_31204\\2272494464.py:12: DtypeWarning: Columns (10,74) have mixed types. Specify dtype option on import or set low_memory=False.\n",
      "  for chunk in pd.read_csv(path, chunksize=chunk_size):\n"
     ]
    },
    {
     "name": "stdout",
     "output_type": "stream",
     "text": [
      "Processed chunk, found 100000 rows after 2014\n"
     ]
    },
    {
     "name": "stderr",
     "output_type": "stream",
     "text": [
      "C:\\Users\\liuc\\AppData\\Local\\Temp\\ipykernel_31204\\2272494464.py:12: DtypeWarning: Columns (10,74) have mixed types. Specify dtype option on import or set low_memory=False.\n",
      "  for chunk in pd.read_csv(path, chunksize=chunk_size):\n"
     ]
    },
    {
     "name": "stdout",
     "output_type": "stream",
     "text": [
      "Processed chunk, found 100000 rows after 2014\n"
     ]
    },
    {
     "name": "stderr",
     "output_type": "stream",
     "text": [
      "C:\\Users\\liuc\\AppData\\Local\\Temp\\ipykernel_31204\\2272494464.py:12: DtypeWarning: Columns (10,74) have mixed types. Specify dtype option on import or set low_memory=False.\n",
      "  for chunk in pd.read_csv(path, chunksize=chunk_size):\n"
     ]
    },
    {
     "name": "stdout",
     "output_type": "stream",
     "text": [
      "Processed chunk, found 100000 rows after 2014\n"
     ]
    },
    {
     "name": "stderr",
     "output_type": "stream",
     "text": [
      "C:\\Users\\liuc\\AppData\\Local\\Temp\\ipykernel_31204\\2272494464.py:12: DtypeWarning: Columns (10,74) have mixed types. Specify dtype option on import or set low_memory=False.\n",
      "  for chunk in pd.read_csv(path, chunksize=chunk_size):\n"
     ]
    },
    {
     "name": "stdout",
     "output_type": "stream",
     "text": [
      "Processed chunk, found 100000 rows after 2014\n"
     ]
    },
    {
     "name": "stderr",
     "output_type": "stream",
     "text": [
      "C:\\Users\\liuc\\AppData\\Local\\Temp\\ipykernel_31204\\2272494464.py:12: DtypeWarning: Columns (10,74) have mixed types. Specify dtype option on import or set low_memory=False.\n",
      "  for chunk in pd.read_csv(path, chunksize=chunk_size):\n"
     ]
    },
    {
     "name": "stdout",
     "output_type": "stream",
     "text": [
      "Processed chunk, found 100000 rows after 2014\n"
     ]
    },
    {
     "name": "stderr",
     "output_type": "stream",
     "text": [
      "C:\\Users\\liuc\\AppData\\Local\\Temp\\ipykernel_31204\\2272494464.py:12: DtypeWarning: Columns (10,74) have mixed types. Specify dtype option on import or set low_memory=False.\n",
      "  for chunk in pd.read_csv(path, chunksize=chunk_size):\n"
     ]
    },
    {
     "name": "stdout",
     "output_type": "stream",
     "text": [
      "Processed chunk, found 100000 rows after 2014\n"
     ]
    },
    {
     "name": "stderr",
     "output_type": "stream",
     "text": [
      "C:\\Users\\liuc\\AppData\\Local\\Temp\\ipykernel_31204\\2272494464.py:12: DtypeWarning: Columns (10,74) have mixed types. Specify dtype option on import or set low_memory=False.\n",
      "  for chunk in pd.read_csv(path, chunksize=chunk_size):\n"
     ]
    },
    {
     "name": "stdout",
     "output_type": "stream",
     "text": [
      "Processed chunk, found 100000 rows after 2014\n"
     ]
    },
    {
     "name": "stderr",
     "output_type": "stream",
     "text": [
      "C:\\Users\\liuc\\AppData\\Local\\Temp\\ipykernel_31204\\2272494464.py:12: DtypeWarning: Columns (10,74) have mixed types. Specify dtype option on import or set low_memory=False.\n",
      "  for chunk in pd.read_csv(path, chunksize=chunk_size):\n"
     ]
    },
    {
     "name": "stdout",
     "output_type": "stream",
     "text": [
      "Processed chunk, found 100000 rows after 2014\n"
     ]
    },
    {
     "name": "stderr",
     "output_type": "stream",
     "text": [
      "C:\\Users\\liuc\\AppData\\Local\\Temp\\ipykernel_31204\\2272494464.py:12: DtypeWarning: Columns (10,74) have mixed types. Specify dtype option on import or set low_memory=False.\n",
      "  for chunk in pd.read_csv(path, chunksize=chunk_size):\n"
     ]
    },
    {
     "name": "stdout",
     "output_type": "stream",
     "text": [
      "Processed chunk, found 100000 rows after 2014\n"
     ]
    },
    {
     "name": "stderr",
     "output_type": "stream",
     "text": [
      "C:\\Users\\liuc\\AppData\\Local\\Temp\\ipykernel_31204\\2272494464.py:12: DtypeWarning: Columns (10,74) have mixed types. Specify dtype option on import or set low_memory=False.\n",
      "  for chunk in pd.read_csv(path, chunksize=chunk_size):\n"
     ]
    },
    {
     "name": "stdout",
     "output_type": "stream",
     "text": [
      "Processed chunk, found 100000 rows after 2014\n"
     ]
    },
    {
     "name": "stderr",
     "output_type": "stream",
     "text": [
      "C:\\Users\\liuc\\AppData\\Local\\Temp\\ipykernel_31204\\2272494464.py:12: DtypeWarning: Columns (10,74) have mixed types. Specify dtype option on import or set low_memory=False.\n",
      "  for chunk in pd.read_csv(path, chunksize=chunk_size):\n"
     ]
    },
    {
     "name": "stdout",
     "output_type": "stream",
     "text": [
      "Processed chunk, found 100000 rows after 2014\n"
     ]
    },
    {
     "name": "stderr",
     "output_type": "stream",
     "text": [
      "C:\\Users\\liuc\\AppData\\Local\\Temp\\ipykernel_31204\\2272494464.py:12: DtypeWarning: Columns (10,74) have mixed types. Specify dtype option on import or set low_memory=False.\n",
      "  for chunk in pd.read_csv(path, chunksize=chunk_size):\n"
     ]
    },
    {
     "name": "stdout",
     "output_type": "stream",
     "text": [
      "Processed chunk, found 100000 rows after 2014\n"
     ]
    },
    {
     "name": "stderr",
     "output_type": "stream",
     "text": [
      "C:\\Users\\liuc\\AppData\\Local\\Temp\\ipykernel_31204\\2272494464.py:12: DtypeWarning: Columns (10,74) have mixed types. Specify dtype option on import or set low_memory=False.\n",
      "  for chunk in pd.read_csv(path, chunksize=chunk_size):\n"
     ]
    },
    {
     "name": "stdout",
     "output_type": "stream",
     "text": [
      "Processed chunk, found 100000 rows after 2014\n"
     ]
    },
    {
     "name": "stderr",
     "output_type": "stream",
     "text": [
      "C:\\Users\\liuc\\AppData\\Local\\Temp\\ipykernel_31204\\2272494464.py:12: DtypeWarning: Columns (10,74) have mixed types. Specify dtype option on import or set low_memory=False.\n",
      "  for chunk in pd.read_csv(path, chunksize=chunk_size):\n"
     ]
    },
    {
     "name": "stdout",
     "output_type": "stream",
     "text": [
      "Processed chunk, found 100000 rows after 2014\n"
     ]
    },
    {
     "name": "stderr",
     "output_type": "stream",
     "text": [
      "C:\\Users\\liuc\\AppData\\Local\\Temp\\ipykernel_31204\\2272494464.py:12: DtypeWarning: Columns (10,74) have mixed types. Specify dtype option on import or set low_memory=False.\n",
      "  for chunk in pd.read_csv(path, chunksize=chunk_size):\n"
     ]
    },
    {
     "name": "stdout",
     "output_type": "stream",
     "text": [
      "Processed chunk, found 100000 rows after 2014\n"
     ]
    },
    {
     "name": "stderr",
     "output_type": "stream",
     "text": [
      "C:\\Users\\liuc\\AppData\\Local\\Temp\\ipykernel_31204\\2272494464.py:12: DtypeWarning: Columns (10,74) have mixed types. Specify dtype option on import or set low_memory=False.\n",
      "  for chunk in pd.read_csv(path, chunksize=chunk_size):\n"
     ]
    },
    {
     "name": "stdout",
     "output_type": "stream",
     "text": [
      "Processed chunk, found 100000 rows after 2014\n"
     ]
    },
    {
     "name": "stderr",
     "output_type": "stream",
     "text": [
      "C:\\Users\\liuc\\AppData\\Local\\Temp\\ipykernel_31204\\2272494464.py:12: DtypeWarning: Columns (10,74) have mixed types. Specify dtype option on import or set low_memory=False.\n",
      "  for chunk in pd.read_csv(path, chunksize=chunk_size):\n"
     ]
    },
    {
     "name": "stdout",
     "output_type": "stream",
     "text": [
      "Processed chunk, found 100000 rows after 2014\n"
     ]
    },
    {
     "name": "stderr",
     "output_type": "stream",
     "text": [
      "C:\\Users\\liuc\\AppData\\Local\\Temp\\ipykernel_31204\\2272494464.py:12: DtypeWarning: Columns (10,74) have mixed types. Specify dtype option on import or set low_memory=False.\n",
      "  for chunk in pd.read_csv(path, chunksize=chunk_size):\n"
     ]
    },
    {
     "name": "stdout",
     "output_type": "stream",
     "text": [
      "Processed chunk, found 100000 rows after 2014\n"
     ]
    },
    {
     "name": "stderr",
     "output_type": "stream",
     "text": [
      "C:\\Users\\liuc\\AppData\\Local\\Temp\\ipykernel_31204\\2272494464.py:12: DtypeWarning: Columns (10,74) have mixed types. Specify dtype option on import or set low_memory=False.\n",
      "  for chunk in pd.read_csv(path, chunksize=chunk_size):\n"
     ]
    },
    {
     "name": "stdout",
     "output_type": "stream",
     "text": [
      "Processed chunk, found 100000 rows after 2014\n"
     ]
    },
    {
     "name": "stderr",
     "output_type": "stream",
     "text": [
      "C:\\Users\\liuc\\AppData\\Local\\Temp\\ipykernel_31204\\2272494464.py:12: DtypeWarning: Columns (10,74) have mixed types. Specify dtype option on import or set low_memory=False.\n",
      "  for chunk in pd.read_csv(path, chunksize=chunk_size):\n"
     ]
    },
    {
     "name": "stdout",
     "output_type": "stream",
     "text": [
      "Processed chunk, found 100000 rows after 2014\n"
     ]
    },
    {
     "name": "stderr",
     "output_type": "stream",
     "text": [
      "C:\\Users\\liuc\\AppData\\Local\\Temp\\ipykernel_31204\\2272494464.py:12: DtypeWarning: Columns (10,74) have mixed types. Specify dtype option on import or set low_memory=False.\n",
      "  for chunk in pd.read_csv(path, chunksize=chunk_size):\n"
     ]
    },
    {
     "name": "stdout",
     "output_type": "stream",
     "text": [
      "Processed chunk, found 100000 rows after 2014\n"
     ]
    },
    {
     "name": "stderr",
     "output_type": "stream",
     "text": [
      "C:\\Users\\liuc\\AppData\\Local\\Temp\\ipykernel_31204\\2272494464.py:12: DtypeWarning: Columns (10,74) have mixed types. Specify dtype option on import or set low_memory=False.\n",
      "  for chunk in pd.read_csv(path, chunksize=chunk_size):\n"
     ]
    },
    {
     "name": "stdout",
     "output_type": "stream",
     "text": [
      "Processed chunk, found 100000 rows after 2014\n"
     ]
    },
    {
     "name": "stderr",
     "output_type": "stream",
     "text": [
      "C:\\Users\\liuc\\AppData\\Local\\Temp\\ipykernel_31204\\2272494464.py:12: DtypeWarning: Columns (10,74) have mixed types. Specify dtype option on import or set low_memory=False.\n",
      "  for chunk in pd.read_csv(path, chunksize=chunk_size):\n"
     ]
    },
    {
     "name": "stdout",
     "output_type": "stream",
     "text": [
      "Processed chunk, found 100000 rows after 2014\n"
     ]
    },
    {
     "name": "stderr",
     "output_type": "stream",
     "text": [
      "C:\\Users\\liuc\\AppData\\Local\\Temp\\ipykernel_31204\\2272494464.py:12: DtypeWarning: Columns (10,74) have mixed types. Specify dtype option on import or set low_memory=False.\n",
      "  for chunk in pd.read_csv(path, chunksize=chunk_size):\n"
     ]
    },
    {
     "name": "stdout",
     "output_type": "stream",
     "text": [
      "Processed chunk, found 100000 rows after 2014\n"
     ]
    },
    {
     "name": "stderr",
     "output_type": "stream",
     "text": [
      "C:\\Users\\liuc\\AppData\\Local\\Temp\\ipykernel_31204\\2272494464.py:12: DtypeWarning: Columns (10,74) have mixed types. Specify dtype option on import or set low_memory=False.\n",
      "  for chunk in pd.read_csv(path, chunksize=chunk_size):\n"
     ]
    },
    {
     "name": "stdout",
     "output_type": "stream",
     "text": [
      "Processed chunk, found 100000 rows after 2014\n"
     ]
    },
    {
     "name": "stderr",
     "output_type": "stream",
     "text": [
      "C:\\Users\\liuc\\AppData\\Local\\Temp\\ipykernel_31204\\2272494464.py:12: DtypeWarning: Columns (10) have mixed types. Specify dtype option on import or set low_memory=False.\n",
      "  for chunk in pd.read_csv(path, chunksize=chunk_size):\n"
     ]
    },
    {
     "name": "stdout",
     "output_type": "stream",
     "text": [
      "Processed chunk, found 100000 rows after 2014\n"
     ]
    },
    {
     "name": "stderr",
     "output_type": "stream",
     "text": [
      "C:\\Users\\liuc\\AppData\\Local\\Temp\\ipykernel_31204\\2272494464.py:12: DtypeWarning: Columns (10,74) have mixed types. Specify dtype option on import or set low_memory=False.\n",
      "  for chunk in pd.read_csv(path, chunksize=chunk_size):\n"
     ]
    },
    {
     "name": "stdout",
     "output_type": "stream",
     "text": [
      "Processed chunk, found 100000 rows after 2014\n"
     ]
    },
    {
     "name": "stderr",
     "output_type": "stream",
     "text": [
      "C:\\Users\\liuc\\AppData\\Local\\Temp\\ipykernel_31204\\2272494464.py:12: DtypeWarning: Columns (10,74) have mixed types. Specify dtype option on import or set low_memory=False.\n",
      "  for chunk in pd.read_csv(path, chunksize=chunk_size):\n"
     ]
    },
    {
     "name": "stdout",
     "output_type": "stream",
     "text": [
      "Processed chunk, found 100000 rows after 2014\n"
     ]
    },
    {
     "name": "stderr",
     "output_type": "stream",
     "text": [
      "C:\\Users\\liuc\\AppData\\Local\\Temp\\ipykernel_31204\\2272494464.py:12: DtypeWarning: Columns (10,74) have mixed types. Specify dtype option on import or set low_memory=False.\n",
      "  for chunk in pd.read_csv(path, chunksize=chunk_size):\n"
     ]
    },
    {
     "name": "stdout",
     "output_type": "stream",
     "text": [
      "Processed chunk, found 100000 rows after 2014\n"
     ]
    },
    {
     "name": "stderr",
     "output_type": "stream",
     "text": [
      "C:\\Users\\liuc\\AppData\\Local\\Temp\\ipykernel_31204\\2272494464.py:12: DtypeWarning: Columns (10,74) have mixed types. Specify dtype option on import or set low_memory=False.\n",
      "  for chunk in pd.read_csv(path, chunksize=chunk_size):\n"
     ]
    },
    {
     "name": "stdout",
     "output_type": "stream",
     "text": [
      "Processed chunk, found 100000 rows after 2014\n"
     ]
    },
    {
     "name": "stderr",
     "output_type": "stream",
     "text": [
      "C:\\Users\\liuc\\AppData\\Local\\Temp\\ipykernel_31204\\2272494464.py:12: DtypeWarning: Columns (10,74) have mixed types. Specify dtype option on import or set low_memory=False.\n",
      "  for chunk in pd.read_csv(path, chunksize=chunk_size):\n"
     ]
    },
    {
     "name": "stdout",
     "output_type": "stream",
     "text": [
      "Processed chunk, found 100000 rows after 2014\n"
     ]
    },
    {
     "name": "stderr",
     "output_type": "stream",
     "text": [
      "C:\\Users\\liuc\\AppData\\Local\\Temp\\ipykernel_31204\\2272494464.py:12: DtypeWarning: Columns (10,74) have mixed types. Specify dtype option on import or set low_memory=False.\n",
      "  for chunk in pd.read_csv(path, chunksize=chunk_size):\n"
     ]
    },
    {
     "name": "stdout",
     "output_type": "stream",
     "text": [
      "Processed chunk, found 100000 rows after 2014\n"
     ]
    },
    {
     "name": "stderr",
     "output_type": "stream",
     "text": [
      "C:\\Users\\liuc\\AppData\\Local\\Temp\\ipykernel_31204\\2272494464.py:12: DtypeWarning: Columns (10,74) have mixed types. Specify dtype option on import or set low_memory=False.\n",
      "  for chunk in pd.read_csv(path, chunksize=chunk_size):\n"
     ]
    },
    {
     "name": "stdout",
     "output_type": "stream",
     "text": [
      "Processed chunk, found 100000 rows after 2014\n"
     ]
    },
    {
     "name": "stderr",
     "output_type": "stream",
     "text": [
      "C:\\Users\\liuc\\AppData\\Local\\Temp\\ipykernel_31204\\2272494464.py:12: DtypeWarning: Columns (10,74) have mixed types. Specify dtype option on import or set low_memory=False.\n",
      "  for chunk in pd.read_csv(path, chunksize=chunk_size):\n"
     ]
    },
    {
     "name": "stdout",
     "output_type": "stream",
     "text": [
      "Processed chunk, found 100000 rows after 2014\n"
     ]
    },
    {
     "name": "stderr",
     "output_type": "stream",
     "text": [
      "C:\\Users\\liuc\\AppData\\Local\\Temp\\ipykernel_31204\\2272494464.py:12: DtypeWarning: Columns (10,74) have mixed types. Specify dtype option on import or set low_memory=False.\n",
      "  for chunk in pd.read_csv(path, chunksize=chunk_size):\n"
     ]
    },
    {
     "name": "stdout",
     "output_type": "stream",
     "text": [
      "Processed chunk, found 100000 rows after 2014\n"
     ]
    },
    {
     "name": "stderr",
     "output_type": "stream",
     "text": [
      "C:\\Users\\liuc\\AppData\\Local\\Temp\\ipykernel_31204\\2272494464.py:12: DtypeWarning: Columns (10,74) have mixed types. Specify dtype option on import or set low_memory=False.\n",
      "  for chunk in pd.read_csv(path, chunksize=chunk_size):\n"
     ]
    },
    {
     "name": "stdout",
     "output_type": "stream",
     "text": [
      "Processed chunk, found 100000 rows after 2014\n"
     ]
    },
    {
     "name": "stderr",
     "output_type": "stream",
     "text": [
      "C:\\Users\\liuc\\AppData\\Local\\Temp\\ipykernel_31204\\2272494464.py:12: DtypeWarning: Columns (10,74) have mixed types. Specify dtype option on import or set low_memory=False.\n",
      "  for chunk in pd.read_csv(path, chunksize=chunk_size):\n"
     ]
    },
    {
     "name": "stdout",
     "output_type": "stream",
     "text": [
      "Processed chunk, found 100000 rows after 2014\n"
     ]
    },
    {
     "name": "stderr",
     "output_type": "stream",
     "text": [
      "C:\\Users\\liuc\\AppData\\Local\\Temp\\ipykernel_31204\\2272494464.py:12: DtypeWarning: Columns (10,74) have mixed types. Specify dtype option on import or set low_memory=False.\n",
      "  for chunk in pd.read_csv(path, chunksize=chunk_size):\n"
     ]
    },
    {
     "name": "stdout",
     "output_type": "stream",
     "text": [
      "Processed chunk, found 100000 rows after 2014\n"
     ]
    },
    {
     "name": "stderr",
     "output_type": "stream",
     "text": [
      "C:\\Users\\liuc\\AppData\\Local\\Temp\\ipykernel_31204\\2272494464.py:12: DtypeWarning: Columns (10,74) have mixed types. Specify dtype option on import or set low_memory=False.\n",
      "  for chunk in pd.read_csv(path, chunksize=chunk_size):\n"
     ]
    },
    {
     "name": "stdout",
     "output_type": "stream",
     "text": [
      "Processed chunk, found 100000 rows after 2014\n"
     ]
    },
    {
     "name": "stderr",
     "output_type": "stream",
     "text": [
      "C:\\Users\\liuc\\AppData\\Local\\Temp\\ipykernel_31204\\2272494464.py:12: DtypeWarning: Columns (10,74) have mixed types. Specify dtype option on import or set low_memory=False.\n",
      "  for chunk in pd.read_csv(path, chunksize=chunk_size):\n"
     ]
    },
    {
     "name": "stdout",
     "output_type": "stream",
     "text": [
      "Processed chunk, found 100000 rows after 2014\n"
     ]
    },
    {
     "name": "stderr",
     "output_type": "stream",
     "text": [
      "C:\\Users\\liuc\\AppData\\Local\\Temp\\ipykernel_31204\\2272494464.py:12: DtypeWarning: Columns (10,74) have mixed types. Specify dtype option on import or set low_memory=False.\n",
      "  for chunk in pd.read_csv(path, chunksize=chunk_size):\n"
     ]
    },
    {
     "name": "stdout",
     "output_type": "stream",
     "text": [
      "Processed chunk, found 100000 rows after 2014\n"
     ]
    },
    {
     "name": "stderr",
     "output_type": "stream",
     "text": [
      "C:\\Users\\liuc\\AppData\\Local\\Temp\\ipykernel_31204\\2272494464.py:12: DtypeWarning: Columns (10,74) have mixed types. Specify dtype option on import or set low_memory=False.\n",
      "  for chunk in pd.read_csv(path, chunksize=chunk_size):\n"
     ]
    },
    {
     "name": "stdout",
     "output_type": "stream",
     "text": [
      "Processed chunk, found 100000 rows after 2014\n"
     ]
    },
    {
     "name": "stderr",
     "output_type": "stream",
     "text": [
      "C:\\Users\\liuc\\AppData\\Local\\Temp\\ipykernel_31204\\2272494464.py:12: DtypeWarning: Columns (10,74) have mixed types. Specify dtype option on import or set low_memory=False.\n",
      "  for chunk in pd.read_csv(path, chunksize=chunk_size):\n"
     ]
    },
    {
     "name": "stdout",
     "output_type": "stream",
     "text": [
      "Processed chunk, found 100000 rows after 2014\n"
     ]
    },
    {
     "name": "stderr",
     "output_type": "stream",
     "text": [
      "C:\\Users\\liuc\\AppData\\Local\\Temp\\ipykernel_31204\\2272494464.py:12: DtypeWarning: Columns (10,74) have mixed types. Specify dtype option on import or set low_memory=False.\n",
      "  for chunk in pd.read_csv(path, chunksize=chunk_size):\n"
     ]
    },
    {
     "name": "stdout",
     "output_type": "stream",
     "text": [
      "Processed chunk, found 100000 rows after 2014\n"
     ]
    },
    {
     "name": "stderr",
     "output_type": "stream",
     "text": [
      "C:\\Users\\liuc\\AppData\\Local\\Temp\\ipykernel_31204\\2272494464.py:12: DtypeWarning: Columns (10,74) have mixed types. Specify dtype option on import or set low_memory=False.\n",
      "  for chunk in pd.read_csv(path, chunksize=chunk_size):\n"
     ]
    },
    {
     "name": "stdout",
     "output_type": "stream",
     "text": [
      "Processed chunk, found 100000 rows after 2014\n"
     ]
    },
    {
     "name": "stderr",
     "output_type": "stream",
     "text": [
      "C:\\Users\\liuc\\AppData\\Local\\Temp\\ipykernel_31204\\2272494464.py:12: DtypeWarning: Columns (10,74) have mixed types. Specify dtype option on import or set low_memory=False.\n",
      "  for chunk in pd.read_csv(path, chunksize=chunk_size):\n"
     ]
    },
    {
     "name": "stdout",
     "output_type": "stream",
     "text": [
      "Processed chunk, found 100000 rows after 2014\n"
     ]
    },
    {
     "name": "stderr",
     "output_type": "stream",
     "text": [
      "C:\\Users\\liuc\\AppData\\Local\\Temp\\ipykernel_31204\\2272494464.py:12: DtypeWarning: Columns (10,74) have mixed types. Specify dtype option on import or set low_memory=False.\n",
      "  for chunk in pd.read_csv(path, chunksize=chunk_size):\n"
     ]
    },
    {
     "name": "stdout",
     "output_type": "stream",
     "text": [
      "Processed chunk, found 100000 rows after 2014\n"
     ]
    },
    {
     "name": "stderr",
     "output_type": "stream",
     "text": [
      "C:\\Users\\liuc\\AppData\\Local\\Temp\\ipykernel_31204\\2272494464.py:12: DtypeWarning: Columns (10,74) have mixed types. Specify dtype option on import or set low_memory=False.\n",
      "  for chunk in pd.read_csv(path, chunksize=chunk_size):\n"
     ]
    },
    {
     "name": "stdout",
     "output_type": "stream",
     "text": [
      "Processed chunk, found 100000 rows after 2014\n"
     ]
    },
    {
     "name": "stderr",
     "output_type": "stream",
     "text": [
      "C:\\Users\\liuc\\AppData\\Local\\Temp\\ipykernel_31204\\2272494464.py:12: DtypeWarning: Columns (10,74) have mixed types. Specify dtype option on import or set low_memory=False.\n",
      "  for chunk in pd.read_csv(path, chunksize=chunk_size):\n"
     ]
    },
    {
     "name": "stdout",
     "output_type": "stream",
     "text": [
      "Processed chunk, found 100000 rows after 2014\n"
     ]
    },
    {
     "name": "stderr",
     "output_type": "stream",
     "text": [
      "C:\\Users\\liuc\\AppData\\Local\\Temp\\ipykernel_31204\\2272494464.py:12: DtypeWarning: Columns (10,74) have mixed types. Specify dtype option on import or set low_memory=False.\n",
      "  for chunk in pd.read_csv(path, chunksize=chunk_size):\n"
     ]
    },
    {
     "name": "stdout",
     "output_type": "stream",
     "text": [
      "Processed chunk, found 100000 rows after 2014\n"
     ]
    },
    {
     "name": "stderr",
     "output_type": "stream",
     "text": [
      "C:\\Users\\liuc\\AppData\\Local\\Temp\\ipykernel_31204\\2272494464.py:12: DtypeWarning: Columns (10,74) have mixed types. Specify dtype option on import or set low_memory=False.\n",
      "  for chunk in pd.read_csv(path, chunksize=chunk_size):\n"
     ]
    },
    {
     "name": "stdout",
     "output_type": "stream",
     "text": [
      "Processed chunk, found 100000 rows after 2014\n"
     ]
    },
    {
     "name": "stderr",
     "output_type": "stream",
     "text": [
      "C:\\Users\\liuc\\AppData\\Local\\Temp\\ipykernel_31204\\2272494464.py:12: DtypeWarning: Columns (10,74) have mixed types. Specify dtype option on import or set low_memory=False.\n",
      "  for chunk in pd.read_csv(path, chunksize=chunk_size):\n"
     ]
    },
    {
     "name": "stdout",
     "output_type": "stream",
     "text": [
      "Processed chunk, found 100000 rows after 2014\n"
     ]
    },
    {
     "name": "stderr",
     "output_type": "stream",
     "text": [
      "C:\\Users\\liuc\\AppData\\Local\\Temp\\ipykernel_31204\\2272494464.py:12: DtypeWarning: Columns (10,74) have mixed types. Specify dtype option on import or set low_memory=False.\n",
      "  for chunk in pd.read_csv(path, chunksize=chunk_size):\n"
     ]
    },
    {
     "name": "stdout",
     "output_type": "stream",
     "text": [
      "Processed chunk, found 100000 rows after 2014\n"
     ]
    },
    {
     "name": "stderr",
     "output_type": "stream",
     "text": [
      "C:\\Users\\liuc\\AppData\\Local\\Temp\\ipykernel_31204\\2272494464.py:12: DtypeWarning: Columns (10,74) have mixed types. Specify dtype option on import or set low_memory=False.\n",
      "  for chunk in pd.read_csv(path, chunksize=chunk_size):\n"
     ]
    },
    {
     "name": "stdout",
     "output_type": "stream",
     "text": [
      "Processed chunk, found 100000 rows after 2014\n"
     ]
    },
    {
     "name": "stderr",
     "output_type": "stream",
     "text": [
      "C:\\Users\\liuc\\AppData\\Local\\Temp\\ipykernel_31204\\2272494464.py:12: DtypeWarning: Columns (10,74) have mixed types. Specify dtype option on import or set low_memory=False.\n",
      "  for chunk in pd.read_csv(path, chunksize=chunk_size):\n"
     ]
    },
    {
     "name": "stdout",
     "output_type": "stream",
     "text": [
      "Processed chunk, found 100000 rows after 2014\n"
     ]
    },
    {
     "name": "stderr",
     "output_type": "stream",
     "text": [
      "C:\\Users\\liuc\\AppData\\Local\\Temp\\ipykernel_31204\\2272494464.py:12: DtypeWarning: Columns (10,74) have mixed types. Specify dtype option on import or set low_memory=False.\n",
      "  for chunk in pd.read_csv(path, chunksize=chunk_size):\n"
     ]
    },
    {
     "name": "stdout",
     "output_type": "stream",
     "text": [
      "Processed chunk, found 100000 rows after 2014\n"
     ]
    },
    {
     "name": "stderr",
     "output_type": "stream",
     "text": [
      "C:\\Users\\liuc\\AppData\\Local\\Temp\\ipykernel_31204\\2272494464.py:12: DtypeWarning: Columns (10,74) have mixed types. Specify dtype option on import or set low_memory=False.\n",
      "  for chunk in pd.read_csv(path, chunksize=chunk_size):\n"
     ]
    },
    {
     "name": "stdout",
     "output_type": "stream",
     "text": [
      "Processed chunk, found 100000 rows after 2014\n"
     ]
    },
    {
     "name": "stderr",
     "output_type": "stream",
     "text": [
      "C:\\Users\\liuc\\AppData\\Local\\Temp\\ipykernel_31204\\2272494464.py:12: DtypeWarning: Columns (10,74) have mixed types. Specify dtype option on import or set low_memory=False.\n",
      "  for chunk in pd.read_csv(path, chunksize=chunk_size):\n"
     ]
    },
    {
     "name": "stdout",
     "output_type": "stream",
     "text": [
      "Processed chunk, found 100000 rows after 2014\n"
     ]
    },
    {
     "name": "stderr",
     "output_type": "stream",
     "text": [
      "C:\\Users\\liuc\\AppData\\Local\\Temp\\ipykernel_31204\\2272494464.py:12: DtypeWarning: Columns (10,74) have mixed types. Specify dtype option on import or set low_memory=False.\n",
      "  for chunk in pd.read_csv(path, chunksize=chunk_size):\n"
     ]
    },
    {
     "name": "stdout",
     "output_type": "stream",
     "text": [
      "Processed chunk, found 100000 rows after 2014\n"
     ]
    },
    {
     "name": "stderr",
     "output_type": "stream",
     "text": [
      "C:\\Users\\liuc\\AppData\\Local\\Temp\\ipykernel_31204\\2272494464.py:12: DtypeWarning: Columns (10,74) have mixed types. Specify dtype option on import or set low_memory=False.\n",
      "  for chunk in pd.read_csv(path, chunksize=chunk_size):\n"
     ]
    },
    {
     "name": "stdout",
     "output_type": "stream",
     "text": [
      "Processed chunk, found 100000 rows after 2014\n"
     ]
    },
    {
     "name": "stderr",
     "output_type": "stream",
     "text": [
      "C:\\Users\\liuc\\AppData\\Local\\Temp\\ipykernel_31204\\2272494464.py:12: DtypeWarning: Columns (10,74) have mixed types. Specify dtype option on import or set low_memory=False.\n",
      "  for chunk in pd.read_csv(path, chunksize=chunk_size):\n"
     ]
    },
    {
     "name": "stdout",
     "output_type": "stream",
     "text": [
      "Processed chunk, found 100000 rows after 2014\n"
     ]
    },
    {
     "name": "stderr",
     "output_type": "stream",
     "text": [
      "C:\\Users\\liuc\\AppData\\Local\\Temp\\ipykernel_31204\\2272494464.py:12: DtypeWarning: Columns (10,74) have mixed types. Specify dtype option on import or set low_memory=False.\n",
      "  for chunk in pd.read_csv(path, chunksize=chunk_size):\n"
     ]
    },
    {
     "name": "stdout",
     "output_type": "stream",
     "text": [
      "Processed chunk, found 100000 rows after 2014\n"
     ]
    },
    {
     "name": "stderr",
     "output_type": "stream",
     "text": [
      "C:\\Users\\liuc\\AppData\\Local\\Temp\\ipykernel_31204\\2272494464.py:12: DtypeWarning: Columns (10,74) have mixed types. Specify dtype option on import or set low_memory=False.\n",
      "  for chunk in pd.read_csv(path, chunksize=chunk_size):\n"
     ]
    },
    {
     "name": "stdout",
     "output_type": "stream",
     "text": [
      "Processed chunk, found 100000 rows after 2014\n"
     ]
    },
    {
     "name": "stderr",
     "output_type": "stream",
     "text": [
      "C:\\Users\\liuc\\AppData\\Local\\Temp\\ipykernel_31204\\2272494464.py:12: DtypeWarning: Columns (10,32,38,74) have mixed types. Specify dtype option on import or set low_memory=False.\n",
      "  for chunk in pd.read_csv(path, chunksize=chunk_size):\n"
     ]
    },
    {
     "name": "stdout",
     "output_type": "stream",
     "text": [
      "Processed chunk, found 34484 rows after 2014\n"
     ]
    },
    {
     "name": "stderr",
     "output_type": "stream",
     "text": [
      "C:\\Users\\liuc\\AppData\\Local\\Temp\\ipykernel_31204\\2272494464.py:12: DtypeWarning: Columns (10,38,39,54) have mixed types. Specify dtype option on import or set low_memory=False.\n",
      "  for chunk in pd.read_csv(path, chunksize=chunk_size):\n"
     ]
    },
    {
     "name": "stdout",
     "output_type": "stream",
     "text": [
      "Processed chunk, found 0 rows after 2014\n"
     ]
    },
    {
     "name": "stderr",
     "output_type": "stream",
     "text": [
      "C:\\Users\\liuc\\AppData\\Local\\Temp\\ipykernel_31204\\2272494464.py:12: DtypeWarning: Columns (32,38,39) have mixed types. Specify dtype option on import or set low_memory=False.\n",
      "  for chunk in pd.read_csv(path, chunksize=chunk_size):\n"
     ]
    },
    {
     "name": "stdout",
     "output_type": "stream",
     "text": [
      "Processed chunk, found 0 rows after 2014\n"
     ]
    },
    {
     "name": "stderr",
     "output_type": "stream",
     "text": [
      "C:\\Users\\liuc\\AppData\\Local\\Temp\\ipykernel_31204\\2272494464.py:12: DtypeWarning: Columns (10,38) have mixed types. Specify dtype option on import or set low_memory=False.\n",
      "  for chunk in pd.read_csv(path, chunksize=chunk_size):\n"
     ]
    },
    {
     "name": "stdout",
     "output_type": "stream",
     "text": [
      "Processed chunk, found 0 rows after 2014\n"
     ]
    },
    {
     "name": "stderr",
     "output_type": "stream",
     "text": [
      "C:\\Users\\liuc\\AppData\\Local\\Temp\\ipykernel_31204\\2272494464.py:12: DtypeWarning: Columns (3,10,38,39) have mixed types. Specify dtype option on import or set low_memory=False.\n",
      "  for chunk in pd.read_csv(path, chunksize=chunk_size):\n"
     ]
    },
    {
     "name": "stdout",
     "output_type": "stream",
     "text": [
      "Processed chunk, found 0 rows after 2014\n"
     ]
    },
    {
     "name": "stderr",
     "output_type": "stream",
     "text": [
      "C:\\Users\\liuc\\AppData\\Local\\Temp\\ipykernel_31204\\2272494464.py:12: DtypeWarning: Columns (38,54) have mixed types. Specify dtype option on import or set low_memory=False.\n",
      "  for chunk in pd.read_csv(path, chunksize=chunk_size):\n"
     ]
    },
    {
     "name": "stdout",
     "output_type": "stream",
     "text": [
      "Processed chunk, found 0 rows after 2014\n"
     ]
    },
    {
     "name": "stderr",
     "output_type": "stream",
     "text": [
      "C:\\Users\\liuc\\AppData\\Local\\Temp\\ipykernel_31204\\2272494464.py:12: DtypeWarning: Columns (10,38) have mixed types. Specify dtype option on import or set low_memory=False.\n",
      "  for chunk in pd.read_csv(path, chunksize=chunk_size):\n"
     ]
    },
    {
     "name": "stdout",
     "output_type": "stream",
     "text": [
      "Processed chunk, found 0 rows after 2014\n"
     ]
    },
    {
     "name": "stderr",
     "output_type": "stream",
     "text": [
      "C:\\Users\\liuc\\AppData\\Local\\Temp\\ipykernel_31204\\2272494464.py:12: DtypeWarning: Columns (32,38) have mixed types. Specify dtype option on import or set low_memory=False.\n",
      "  for chunk in pd.read_csv(path, chunksize=chunk_size):\n"
     ]
    },
    {
     "name": "stdout",
     "output_type": "stream",
     "text": [
      "Processed chunk, found 0 rows after 2014\n"
     ]
    },
    {
     "name": "stderr",
     "output_type": "stream",
     "text": [
      "C:\\Users\\liuc\\AppData\\Local\\Temp\\ipykernel_31204\\2272494464.py:12: DtypeWarning: Columns (8,10,38,39) have mixed types. Specify dtype option on import or set low_memory=False.\n",
      "  for chunk in pd.read_csv(path, chunksize=chunk_size):\n"
     ]
    },
    {
     "name": "stdout",
     "output_type": "stream",
     "text": [
      "Processed chunk, found 0 rows after 2014\n"
     ]
    },
    {
     "name": "stderr",
     "output_type": "stream",
     "text": [
      "C:\\Users\\liuc\\AppData\\Local\\Temp\\ipykernel_31204\\2272494464.py:12: DtypeWarning: Columns (32,38) have mixed types. Specify dtype option on import or set low_memory=False.\n",
      "  for chunk in pd.read_csv(path, chunksize=chunk_size):\n"
     ]
    },
    {
     "name": "stdout",
     "output_type": "stream",
     "text": [
      "Processed chunk, found 0 rows after 2014\n"
     ]
    },
    {
     "name": "stderr",
     "output_type": "stream",
     "text": [
      "C:\\Users\\liuc\\AppData\\Local\\Temp\\ipykernel_31204\\2272494464.py:12: DtypeWarning: Columns (32,38) have mixed types. Specify dtype option on import or set low_memory=False.\n",
      "  for chunk in pd.read_csv(path, chunksize=chunk_size):\n"
     ]
    },
    {
     "name": "stdout",
     "output_type": "stream",
     "text": [
      "Processed chunk, found 0 rows after 2014\n"
     ]
    },
    {
     "name": "stderr",
     "output_type": "stream",
     "text": [
      "C:\\Users\\liuc\\AppData\\Local\\Temp\\ipykernel_31204\\2272494464.py:12: DtypeWarning: Columns (10,32,38,39) have mixed types. Specify dtype option on import or set low_memory=False.\n",
      "  for chunk in pd.read_csv(path, chunksize=chunk_size):\n"
     ]
    },
    {
     "name": "stdout",
     "output_type": "stream",
     "text": [
      "Processed chunk, found 0 rows after 2014\n"
     ]
    },
    {
     "name": "stderr",
     "output_type": "stream",
     "text": [
      "C:\\Users\\liuc\\AppData\\Local\\Temp\\ipykernel_31204\\2272494464.py:12: DtypeWarning: Columns (10,38,39) have mixed types. Specify dtype option on import or set low_memory=False.\n",
      "  for chunk in pd.read_csv(path, chunksize=chunk_size):\n"
     ]
    },
    {
     "name": "stdout",
     "output_type": "stream",
     "text": [
      "Processed chunk, found 0 rows after 2014\n"
     ]
    },
    {
     "name": "stderr",
     "output_type": "stream",
     "text": [
      "C:\\Users\\liuc\\AppData\\Local\\Temp\\ipykernel_31204\\2272494464.py:12: DtypeWarning: Columns (32,38,39) have mixed types. Specify dtype option on import or set low_memory=False.\n",
      "  for chunk in pd.read_csv(path, chunksize=chunk_size):\n"
     ]
    },
    {
     "name": "stdout",
     "output_type": "stream",
     "text": [
      "Processed chunk, found 0 rows after 2014\n"
     ]
    },
    {
     "name": "stderr",
     "output_type": "stream",
     "text": [
      "C:\\Users\\liuc\\AppData\\Local\\Temp\\ipykernel_31204\\2272494464.py:12: DtypeWarning: Columns (32,38,39) have mixed types. Specify dtype option on import or set low_memory=False.\n",
      "  for chunk in pd.read_csv(path, chunksize=chunk_size):\n"
     ]
    },
    {
     "name": "stdout",
     "output_type": "stream",
     "text": [
      "Processed chunk, found 0 rows after 2014\n"
     ]
    },
    {
     "name": "stderr",
     "output_type": "stream",
     "text": [
      "C:\\Users\\liuc\\AppData\\Local\\Temp\\ipykernel_31204\\2272494464.py:12: DtypeWarning: Columns (32,38,54) have mixed types. Specify dtype option on import or set low_memory=False.\n",
      "  for chunk in pd.read_csv(path, chunksize=chunk_size):\n"
     ]
    },
    {
     "name": "stdout",
     "output_type": "stream",
     "text": [
      "Processed chunk, found 0 rows after 2014\n"
     ]
    },
    {
     "name": "stderr",
     "output_type": "stream",
     "text": [
      "C:\\Users\\liuc\\AppData\\Local\\Temp\\ipykernel_31204\\2272494464.py:12: DtypeWarning: Columns (10,32,38) have mixed types. Specify dtype option on import or set low_memory=False.\n",
      "  for chunk in pd.read_csv(path, chunksize=chunk_size):\n"
     ]
    },
    {
     "name": "stdout",
     "output_type": "stream",
     "text": [
      "Processed chunk, found 0 rows after 2014\n"
     ]
    },
    {
     "name": "stderr",
     "output_type": "stream",
     "text": [
      "C:\\Users\\liuc\\AppData\\Local\\Temp\\ipykernel_31204\\2272494464.py:12: DtypeWarning: Columns (32,38,39) have mixed types. Specify dtype option on import or set low_memory=False.\n",
      "  for chunk in pd.read_csv(path, chunksize=chunk_size):\n"
     ]
    },
    {
     "name": "stdout",
     "output_type": "stream",
     "text": [
      "Processed chunk, found 0 rows after 2014\n"
     ]
    },
    {
     "name": "stderr",
     "output_type": "stream",
     "text": [
      "C:\\Users\\liuc\\AppData\\Local\\Temp\\ipykernel_31204\\2272494464.py:12: DtypeWarning: Columns (3,10,38,39) have mixed types. Specify dtype option on import or set low_memory=False.\n",
      "  for chunk in pd.read_csv(path, chunksize=chunk_size):\n"
     ]
    },
    {
     "name": "stdout",
     "output_type": "stream",
     "text": [
      "Processed chunk, found 0 rows after 2014\n"
     ]
    },
    {
     "name": "stderr",
     "output_type": "stream",
     "text": [
      "C:\\Users\\liuc\\AppData\\Local\\Temp\\ipykernel_31204\\2272494464.py:12: DtypeWarning: Columns (38,39,54) have mixed types. Specify dtype option on import or set low_memory=False.\n",
      "  for chunk in pd.read_csv(path, chunksize=chunk_size):\n"
     ]
    },
    {
     "name": "stdout",
     "output_type": "stream",
     "text": [
      "Processed chunk, found 0 rows after 2014\n"
     ]
    },
    {
     "name": "stderr",
     "output_type": "stream",
     "text": [
      "C:\\Users\\liuc\\AppData\\Local\\Temp\\ipykernel_31204\\2272494464.py:12: DtypeWarning: Columns (32,38,39) have mixed types. Specify dtype option on import or set low_memory=False.\n",
      "  for chunk in pd.read_csv(path, chunksize=chunk_size):\n"
     ]
    },
    {
     "name": "stdout",
     "output_type": "stream",
     "text": [
      "Processed chunk, found 0 rows after 2014\n"
     ]
    },
    {
     "name": "stderr",
     "output_type": "stream",
     "text": [
      "C:\\Users\\liuc\\AppData\\Local\\Temp\\ipykernel_31204\\2272494464.py:12: DtypeWarning: Columns (38) have mixed types. Specify dtype option on import or set low_memory=False.\n",
      "  for chunk in pd.read_csv(path, chunksize=chunk_size):\n"
     ]
    },
    {
     "name": "stdout",
     "output_type": "stream",
     "text": [
      "Processed chunk, found 0 rows after 2014\n"
     ]
    },
    {
     "name": "stderr",
     "output_type": "stream",
     "text": [
      "C:\\Users\\liuc\\AppData\\Local\\Temp\\ipykernel_31204\\2272494464.py:12: DtypeWarning: Columns (10,38,74) have mixed types. Specify dtype option on import or set low_memory=False.\n",
      "  for chunk in pd.read_csv(path, chunksize=chunk_size):\n"
     ]
    },
    {
     "name": "stdout",
     "output_type": "stream",
     "text": [
      "Processed chunk, found 0 rows after 2014\n"
     ]
    },
    {
     "name": "stderr",
     "output_type": "stream",
     "text": [
      "C:\\Users\\liuc\\AppData\\Local\\Temp\\ipykernel_31204\\2272494464.py:12: DtypeWarning: Columns (32,38,39) have mixed types. Specify dtype option on import or set low_memory=False.\n",
      "  for chunk in pd.read_csv(path, chunksize=chunk_size):\n"
     ]
    },
    {
     "name": "stdout",
     "output_type": "stream",
     "text": [
      "Processed chunk, found 0 rows after 2014\n"
     ]
    },
    {
     "name": "stderr",
     "output_type": "stream",
     "text": [
      "C:\\Users\\liuc\\AppData\\Local\\Temp\\ipykernel_31204\\2272494464.py:12: DtypeWarning: Columns (10,38) have mixed types. Specify dtype option on import or set low_memory=False.\n",
      "  for chunk in pd.read_csv(path, chunksize=chunk_size):\n"
     ]
    },
    {
     "name": "stdout",
     "output_type": "stream",
     "text": [
      "Processed chunk, found 0 rows after 2014\n"
     ]
    },
    {
     "name": "stderr",
     "output_type": "stream",
     "text": [
      "C:\\Users\\liuc\\AppData\\Local\\Temp\\ipykernel_31204\\2272494464.py:12: DtypeWarning: Columns (10,32,38,39) have mixed types. Specify dtype option on import or set low_memory=False.\n",
      "  for chunk in pd.read_csv(path, chunksize=chunk_size):\n"
     ]
    },
    {
     "name": "stdout",
     "output_type": "stream",
     "text": [
      "Processed chunk, found 0 rows after 2014\n"
     ]
    },
    {
     "name": "stderr",
     "output_type": "stream",
     "text": [
      "C:\\Users\\liuc\\AppData\\Local\\Temp\\ipykernel_31204\\2272494464.py:12: DtypeWarning: Columns (10,38,39) have mixed types. Specify dtype option on import or set low_memory=False.\n",
      "  for chunk in pd.read_csv(path, chunksize=chunk_size):\n"
     ]
    },
    {
     "name": "stdout",
     "output_type": "stream",
     "text": [
      "Processed chunk, found 0 rows after 2014\n"
     ]
    },
    {
     "name": "stderr",
     "output_type": "stream",
     "text": [
      "C:\\Users\\liuc\\AppData\\Local\\Temp\\ipykernel_31204\\2272494464.py:12: DtypeWarning: Columns (10,38,39) have mixed types. Specify dtype option on import or set low_memory=False.\n",
      "  for chunk in pd.read_csv(path, chunksize=chunk_size):\n"
     ]
    },
    {
     "name": "stdout",
     "output_type": "stream",
     "text": [
      "Processed chunk, found 0 rows after 2014\n"
     ]
    },
    {
     "name": "stderr",
     "output_type": "stream",
     "text": [
      "C:\\Users\\liuc\\AppData\\Local\\Temp\\ipykernel_31204\\2272494464.py:12: DtypeWarning: Columns (32,38,39) have mixed types. Specify dtype option on import or set low_memory=False.\n",
      "  for chunk in pd.read_csv(path, chunksize=chunk_size):\n"
     ]
    },
    {
     "name": "stdout",
     "output_type": "stream",
     "text": [
      "Processed chunk, found 0 rows after 2014\n"
     ]
    },
    {
     "name": "stderr",
     "output_type": "stream",
     "text": [
      "C:\\Users\\liuc\\AppData\\Local\\Temp\\ipykernel_31204\\2272494464.py:12: DtypeWarning: Columns (10,38,39) have mixed types. Specify dtype option on import or set low_memory=False.\n",
      "  for chunk in pd.read_csv(path, chunksize=chunk_size):\n"
     ]
    },
    {
     "name": "stdout",
     "output_type": "stream",
     "text": [
      "Processed chunk, found 0 rows after 2014\n"
     ]
    },
    {
     "name": "stderr",
     "output_type": "stream",
     "text": [
      "C:\\Users\\liuc\\AppData\\Local\\Temp\\ipykernel_31204\\2272494464.py:12: DtypeWarning: Columns (38) have mixed types. Specify dtype option on import or set low_memory=False.\n",
      "  for chunk in pd.read_csv(path, chunksize=chunk_size):\n"
     ]
    },
    {
     "name": "stdout",
     "output_type": "stream",
     "text": [
      "Processed chunk, found 0 rows after 2014\n"
     ]
    },
    {
     "name": "stderr",
     "output_type": "stream",
     "text": [
      "C:\\Users\\liuc\\AppData\\Local\\Temp\\ipykernel_31204\\2272494464.py:12: DtypeWarning: Columns (32,38,39) have mixed types. Specify dtype option on import or set low_memory=False.\n",
      "  for chunk in pd.read_csv(path, chunksize=chunk_size):\n"
     ]
    },
    {
     "name": "stdout",
     "output_type": "stream",
     "text": [
      "Processed chunk, found 0 rows after 2014\n"
     ]
    },
    {
     "name": "stderr",
     "output_type": "stream",
     "text": [
      "C:\\Users\\liuc\\AppData\\Local\\Temp\\ipykernel_31204\\2272494464.py:12: DtypeWarning: Columns (3,10,38,39) have mixed types. Specify dtype option on import or set low_memory=False.\n",
      "  for chunk in pd.read_csv(path, chunksize=chunk_size):\n"
     ]
    },
    {
     "name": "stdout",
     "output_type": "stream",
     "text": [
      "Processed chunk, found 0 rows after 2014\n"
     ]
    },
    {
     "name": "stderr",
     "output_type": "stream",
     "text": [
      "C:\\Users\\liuc\\AppData\\Local\\Temp\\ipykernel_31204\\2272494464.py:12: DtypeWarning: Columns (38) have mixed types. Specify dtype option on import or set low_memory=False.\n",
      "  for chunk in pd.read_csv(path, chunksize=chunk_size):\n"
     ]
    },
    {
     "name": "stdout",
     "output_type": "stream",
     "text": [
      "Processed chunk, found 0 rows after 2014\n"
     ]
    },
    {
     "name": "stderr",
     "output_type": "stream",
     "text": [
      "C:\\Users\\liuc\\AppData\\Local\\Temp\\ipykernel_31204\\2272494464.py:12: DtypeWarning: Columns (38,39,54) have mixed types. Specify dtype option on import or set low_memory=False.\n",
      "  for chunk in pd.read_csv(path, chunksize=chunk_size):\n"
     ]
    },
    {
     "name": "stdout",
     "output_type": "stream",
     "text": [
      "Processed chunk, found 0 rows after 2014\n"
     ]
    },
    {
     "name": "stderr",
     "output_type": "stream",
     "text": [
      "C:\\Users\\liuc\\AppData\\Local\\Temp\\ipykernel_31204\\2272494464.py:12: DtypeWarning: Columns (38) have mixed types. Specify dtype option on import or set low_memory=False.\n",
      "  for chunk in pd.read_csv(path, chunksize=chunk_size):\n"
     ]
    },
    {
     "name": "stdout",
     "output_type": "stream",
     "text": [
      "Processed chunk, found 0 rows after 2014\n"
     ]
    },
    {
     "name": "stderr",
     "output_type": "stream",
     "text": [
      "C:\\Users\\liuc\\AppData\\Local\\Temp\\ipykernel_31204\\2272494464.py:12: DtypeWarning: Columns (38,39) have mixed types. Specify dtype option on import or set low_memory=False.\n",
      "  for chunk in pd.read_csv(path, chunksize=chunk_size):\n"
     ]
    },
    {
     "name": "stdout",
     "output_type": "stream",
     "text": [
      "Processed chunk, found 0 rows after 2014\n"
     ]
    },
    {
     "name": "stderr",
     "output_type": "stream",
     "text": [
      "C:\\Users\\liuc\\AppData\\Local\\Temp\\ipykernel_31204\\2272494464.py:12: DtypeWarning: Columns (10,32,38,39) have mixed types. Specify dtype option on import or set low_memory=False.\n",
      "  for chunk in pd.read_csv(path, chunksize=chunk_size):\n"
     ]
    },
    {
     "name": "stdout",
     "output_type": "stream",
     "text": [
      "Processed chunk, found 0 rows after 2014\n"
     ]
    },
    {
     "name": "stderr",
     "output_type": "stream",
     "text": [
      "C:\\Users\\liuc\\AppData\\Local\\Temp\\ipykernel_31204\\2272494464.py:12: DtypeWarning: Columns (10,38,39) have mixed types. Specify dtype option on import or set low_memory=False.\n",
      "  for chunk in pd.read_csv(path, chunksize=chunk_size):\n"
     ]
    },
    {
     "name": "stdout",
     "output_type": "stream",
     "text": [
      "Processed chunk, found 0 rows after 2014\n"
     ]
    },
    {
     "name": "stderr",
     "output_type": "stream",
     "text": [
      "C:\\Users\\liuc\\AppData\\Local\\Temp\\ipykernel_31204\\2272494464.py:12: DtypeWarning: Columns (32,38,39) have mixed types. Specify dtype option on import or set low_memory=False.\n",
      "  for chunk in pd.read_csv(path, chunksize=chunk_size):\n"
     ]
    },
    {
     "name": "stdout",
     "output_type": "stream",
     "text": [
      "Processed chunk, found 0 rows after 2014\n"
     ]
    },
    {
     "name": "stderr",
     "output_type": "stream",
     "text": [
      "C:\\Users\\liuc\\AppData\\Local\\Temp\\ipykernel_31204\\2272494464.py:12: DtypeWarning: Columns (10,38,39) have mixed types. Specify dtype option on import or set low_memory=False.\n",
      "  for chunk in pd.read_csv(path, chunksize=chunk_size):\n"
     ]
    },
    {
     "name": "stdout",
     "output_type": "stream",
     "text": [
      "Processed chunk, found 0 rows after 2014\n"
     ]
    },
    {
     "name": "stderr",
     "output_type": "stream",
     "text": [
      "C:\\Users\\liuc\\AppData\\Local\\Temp\\ipykernel_31204\\2272494464.py:12: DtypeWarning: Columns (10,38,39) have mixed types. Specify dtype option on import or set low_memory=False.\n",
      "  for chunk in pd.read_csv(path, chunksize=chunk_size):\n"
     ]
    },
    {
     "name": "stdout",
     "output_type": "stream",
     "text": [
      "Processed chunk, found 0 rows after 2014\n"
     ]
    },
    {
     "name": "stderr",
     "output_type": "stream",
     "text": [
      "C:\\Users\\liuc\\AppData\\Local\\Temp\\ipykernel_31204\\2272494464.py:12: DtypeWarning: Columns (32,38,54) have mixed types. Specify dtype option on import or set low_memory=False.\n",
      "  for chunk in pd.read_csv(path, chunksize=chunk_size):\n"
     ]
    },
    {
     "name": "stdout",
     "output_type": "stream",
     "text": [
      "Processed chunk, found 0 rows after 2014\n"
     ]
    },
    {
     "name": "stderr",
     "output_type": "stream",
     "text": [
      "C:\\Users\\liuc\\AppData\\Local\\Temp\\ipykernel_31204\\2272494464.py:12: DtypeWarning: Columns (10,38,39) have mixed types. Specify dtype option on import or set low_memory=False.\n",
      "  for chunk in pd.read_csv(path, chunksize=chunk_size):\n"
     ]
    },
    {
     "name": "stdout",
     "output_type": "stream",
     "text": [
      "Processed chunk, found 0 rows after 2014\n"
     ]
    },
    {
     "name": "stderr",
     "output_type": "stream",
     "text": [
      "C:\\Users\\liuc\\AppData\\Local\\Temp\\ipykernel_31204\\2272494464.py:12: DtypeWarning: Columns (10,38,39) have mixed types. Specify dtype option on import or set low_memory=False.\n",
      "  for chunk in pd.read_csv(path, chunksize=chunk_size):\n"
     ]
    },
    {
     "name": "stdout",
     "output_type": "stream",
     "text": [
      "Processed chunk, found 0 rows after 2014\n"
     ]
    },
    {
     "name": "stderr",
     "output_type": "stream",
     "text": [
      "C:\\Users\\liuc\\AppData\\Local\\Temp\\ipykernel_31204\\2272494464.py:12: DtypeWarning: Columns (38,39) have mixed types. Specify dtype option on import or set low_memory=False.\n",
      "  for chunk in pd.read_csv(path, chunksize=chunk_size):\n"
     ]
    },
    {
     "name": "stdout",
     "output_type": "stream",
     "text": [
      "Processed chunk, found 0 rows after 2014\n"
     ]
    },
    {
     "name": "stderr",
     "output_type": "stream",
     "text": [
      "C:\\Users\\liuc\\AppData\\Local\\Temp\\ipykernel_31204\\2272494464.py:12: DtypeWarning: Columns (3,10,38,39) have mixed types. Specify dtype option on import or set low_memory=False.\n",
      "  for chunk in pd.read_csv(path, chunksize=chunk_size):\n"
     ]
    },
    {
     "name": "stdout",
     "output_type": "stream",
     "text": [
      "Processed chunk, found 0 rows after 2014\n"
     ]
    },
    {
     "name": "stderr",
     "output_type": "stream",
     "text": [
      "C:\\Users\\liuc\\AppData\\Local\\Temp\\ipykernel_31204\\2272494464.py:12: DtypeWarning: Columns (32,38,39) have mixed types. Specify dtype option on import or set low_memory=False.\n",
      "  for chunk in pd.read_csv(path, chunksize=chunk_size):\n"
     ]
    },
    {
     "name": "stdout",
     "output_type": "stream",
     "text": [
      "Processed chunk, found 0 rows after 2014\n"
     ]
    },
    {
     "name": "stderr",
     "output_type": "stream",
     "text": [
      "C:\\Users\\liuc\\AppData\\Local\\Temp\\ipykernel_31204\\2272494464.py:12: DtypeWarning: Columns (38,39,54,74) have mixed types. Specify dtype option on import or set low_memory=False.\n",
      "  for chunk in pd.read_csv(path, chunksize=chunk_size):\n"
     ]
    },
    {
     "name": "stdout",
     "output_type": "stream",
     "text": [
      "Processed chunk, found 0 rows after 2014\n"
     ]
    },
    {
     "name": "stderr",
     "output_type": "stream",
     "text": [
      "C:\\Users\\liuc\\AppData\\Local\\Temp\\ipykernel_31204\\2272494464.py:12: DtypeWarning: Columns (10,38,39) have mixed types. Specify dtype option on import or set low_memory=False.\n",
      "  for chunk in pd.read_csv(path, chunksize=chunk_size):\n"
     ]
    },
    {
     "name": "stdout",
     "output_type": "stream",
     "text": [
      "Processed chunk, found 0 rows after 2014\n"
     ]
    },
    {
     "name": "stderr",
     "output_type": "stream",
     "text": [
      "C:\\Users\\liuc\\AppData\\Local\\Temp\\ipykernel_31204\\2272494464.py:12: DtypeWarning: Columns (10,38,39) have mixed types. Specify dtype option on import or set low_memory=False.\n",
      "  for chunk in pd.read_csv(path, chunksize=chunk_size):\n"
     ]
    },
    {
     "name": "stdout",
     "output_type": "stream",
     "text": [
      "Processed chunk, found 0 rows after 2014\n"
     ]
    },
    {
     "name": "stderr",
     "output_type": "stream",
     "text": [
      "C:\\Users\\liuc\\AppData\\Local\\Temp\\ipykernel_31204\\2272494464.py:12: DtypeWarning: Columns (38,39) have mixed types. Specify dtype option on import or set low_memory=False.\n",
      "  for chunk in pd.read_csv(path, chunksize=chunk_size):\n"
     ]
    },
    {
     "name": "stdout",
     "output_type": "stream",
     "text": [
      "Processed chunk, found 0 rows after 2014\n"
     ]
    },
    {
     "name": "stderr",
     "output_type": "stream",
     "text": [
      "C:\\Users\\liuc\\AppData\\Local\\Temp\\ipykernel_31204\\2272494464.py:12: DtypeWarning: Columns (10,32,38,39) have mixed types. Specify dtype option on import or set low_memory=False.\n",
      "  for chunk in pd.read_csv(path, chunksize=chunk_size):\n"
     ]
    },
    {
     "name": "stdout",
     "output_type": "stream",
     "text": [
      "Processed chunk, found 0 rows after 2014\n"
     ]
    },
    {
     "name": "stderr",
     "output_type": "stream",
     "text": [
      "C:\\Users\\liuc\\AppData\\Local\\Temp\\ipykernel_31204\\2272494464.py:12: DtypeWarning: Columns (38,39) have mixed types. Specify dtype option on import or set low_memory=False.\n",
      "  for chunk in pd.read_csv(path, chunksize=chunk_size):\n"
     ]
    },
    {
     "name": "stdout",
     "output_type": "stream",
     "text": [
      "Processed chunk, found 0 rows after 2014\n"
     ]
    },
    {
     "name": "stderr",
     "output_type": "stream",
     "text": [
      "C:\\Users\\liuc\\AppData\\Local\\Temp\\ipykernel_31204\\2272494464.py:12: DtypeWarning: Columns (32,38,39) have mixed types. Specify dtype option on import or set low_memory=False.\n",
      "  for chunk in pd.read_csv(path, chunksize=chunk_size):\n"
     ]
    },
    {
     "name": "stdout",
     "output_type": "stream",
     "text": [
      "Processed chunk, found 0 rows after 2014\n"
     ]
    },
    {
     "name": "stderr",
     "output_type": "stream",
     "text": [
      "C:\\Users\\liuc\\AppData\\Local\\Temp\\ipykernel_31204\\2272494464.py:12: DtypeWarning: Columns (38,39) have mixed types. Specify dtype option on import or set low_memory=False.\n",
      "  for chunk in pd.read_csv(path, chunksize=chunk_size):\n"
     ]
    },
    {
     "name": "stdout",
     "output_type": "stream",
     "text": [
      "Processed chunk, found 0 rows after 2014\n"
     ]
    },
    {
     "name": "stderr",
     "output_type": "stream",
     "text": [
      "C:\\Users\\liuc\\AppData\\Local\\Temp\\ipykernel_31204\\2272494464.py:12: DtypeWarning: Columns (10,38,39) have mixed types. Specify dtype option on import or set low_memory=False.\n",
      "  for chunk in pd.read_csv(path, chunksize=chunk_size):\n"
     ]
    },
    {
     "name": "stdout",
     "output_type": "stream",
     "text": [
      "Processed chunk, found 0 rows after 2014\n"
     ]
    },
    {
     "name": "stderr",
     "output_type": "stream",
     "text": [
      "C:\\Users\\liuc\\AppData\\Local\\Temp\\ipykernel_31204\\2272494464.py:12: DtypeWarning: Columns (32,38) have mixed types. Specify dtype option on import or set low_memory=False.\n",
      "  for chunk in pd.read_csv(path, chunksize=chunk_size):\n"
     ]
    },
    {
     "name": "stdout",
     "output_type": "stream",
     "text": [
      "Processed chunk, found 0 rows after 2014\n"
     ]
    },
    {
     "name": "stderr",
     "output_type": "stream",
     "text": [
      "C:\\Users\\liuc\\AppData\\Local\\Temp\\ipykernel_31204\\2272494464.py:12: DtypeWarning: Columns (32,38,39) have mixed types. Specify dtype option on import or set low_memory=False.\n",
      "  for chunk in pd.read_csv(path, chunksize=chunk_size):\n"
     ]
    },
    {
     "name": "stdout",
     "output_type": "stream",
     "text": [
      "Processed chunk, found 0 rows after 2014\n"
     ]
    },
    {
     "name": "stderr",
     "output_type": "stream",
     "text": [
      "C:\\Users\\liuc\\AppData\\Local\\Temp\\ipykernel_31204\\2272494464.py:12: DtypeWarning: Columns (10,38,39) have mixed types. Specify dtype option on import or set low_memory=False.\n",
      "  for chunk in pd.read_csv(path, chunksize=chunk_size):\n"
     ]
    },
    {
     "name": "stdout",
     "output_type": "stream",
     "text": [
      "Processed chunk, found 0 rows after 2014\n"
     ]
    },
    {
     "name": "stderr",
     "output_type": "stream",
     "text": [
      "C:\\Users\\liuc\\AppData\\Local\\Temp\\ipykernel_31204\\2272494464.py:12: DtypeWarning: Columns (10,32,38,39) have mixed types. Specify dtype option on import or set low_memory=False.\n",
      "  for chunk in pd.read_csv(path, chunksize=chunk_size):\n"
     ]
    },
    {
     "name": "stdout",
     "output_type": "stream",
     "text": [
      "Processed chunk, found 0 rows after 2014\n"
     ]
    },
    {
     "name": "stderr",
     "output_type": "stream",
     "text": [
      "C:\\Users\\liuc\\AppData\\Local\\Temp\\ipykernel_31204\\2272494464.py:12: DtypeWarning: Columns (38,39) have mixed types. Specify dtype option on import or set low_memory=False.\n",
      "  for chunk in pd.read_csv(path, chunksize=chunk_size):\n"
     ]
    },
    {
     "name": "stdout",
     "output_type": "stream",
     "text": [
      "Processed chunk, found 0 rows after 2014\n"
     ]
    },
    {
     "name": "stderr",
     "output_type": "stream",
     "text": [
      "C:\\Users\\liuc\\AppData\\Local\\Temp\\ipykernel_31204\\2272494464.py:12: DtypeWarning: Columns (8,10,32,38,39) have mixed types. Specify dtype option on import or set low_memory=False.\n",
      "  for chunk in pd.read_csv(path, chunksize=chunk_size):\n"
     ]
    },
    {
     "name": "stdout",
     "output_type": "stream",
     "text": [
      "Processed chunk, found 0 rows after 2014\n"
     ]
    },
    {
     "name": "stderr",
     "output_type": "stream",
     "text": [
      "C:\\Users\\liuc\\AppData\\Local\\Temp\\ipykernel_31204\\2272494464.py:12: DtypeWarning: Columns (38,39) have mixed types. Specify dtype option on import or set low_memory=False.\n",
      "  for chunk in pd.read_csv(path, chunksize=chunk_size):\n"
     ]
    },
    {
     "name": "stdout",
     "output_type": "stream",
     "text": [
      "Processed chunk, found 0 rows after 2014\n"
     ]
    },
    {
     "name": "stderr",
     "output_type": "stream",
     "text": [
      "C:\\Users\\liuc\\AppData\\Local\\Temp\\ipykernel_31204\\2272494464.py:12: DtypeWarning: Columns (10,38,39) have mixed types. Specify dtype option on import or set low_memory=False.\n",
      "  for chunk in pd.read_csv(path, chunksize=chunk_size):\n"
     ]
    },
    {
     "name": "stdout",
     "output_type": "stream",
     "text": [
      "Processed chunk, found 0 rows after 2014\n"
     ]
    },
    {
     "name": "stderr",
     "output_type": "stream",
     "text": [
      "C:\\Users\\liuc\\AppData\\Local\\Temp\\ipykernel_31204\\2272494464.py:12: DtypeWarning: Columns (10,32,38,39) have mixed types. Specify dtype option on import or set low_memory=False.\n",
      "  for chunk in pd.read_csv(path, chunksize=chunk_size):\n"
     ]
    },
    {
     "name": "stdout",
     "output_type": "stream",
     "text": [
      "Processed chunk, found 0 rows after 2014\n"
     ]
    },
    {
     "name": "stderr",
     "output_type": "stream",
     "text": [
      "C:\\Users\\liuc\\AppData\\Local\\Temp\\ipykernel_31204\\2272494464.py:12: DtypeWarning: Columns (38,39) have mixed types. Specify dtype option on import or set low_memory=False.\n",
      "  for chunk in pd.read_csv(path, chunksize=chunk_size):\n"
     ]
    },
    {
     "name": "stdout",
     "output_type": "stream",
     "text": [
      "Processed chunk, found 0 rows after 2014\n"
     ]
    },
    {
     "name": "stderr",
     "output_type": "stream",
     "text": [
      "C:\\Users\\liuc\\AppData\\Local\\Temp\\ipykernel_31204\\2272494464.py:12: DtypeWarning: Columns (10,32,38,39) have mixed types. Specify dtype option on import or set low_memory=False.\n",
      "  for chunk in pd.read_csv(path, chunksize=chunk_size):\n"
     ]
    },
    {
     "name": "stdout",
     "output_type": "stream",
     "text": [
      "Processed chunk, found 0 rows after 2014\n"
     ]
    },
    {
     "name": "stderr",
     "output_type": "stream",
     "text": [
      "C:\\Users\\liuc\\AppData\\Local\\Temp\\ipykernel_31204\\2272494464.py:12: DtypeWarning: Columns (8,10,38,39) have mixed types. Specify dtype option on import or set low_memory=False.\n",
      "  for chunk in pd.read_csv(path, chunksize=chunk_size):\n"
     ]
    },
    {
     "name": "stdout",
     "output_type": "stream",
     "text": [
      "Processed chunk, found 0 rows after 2014\n"
     ]
    },
    {
     "name": "stderr",
     "output_type": "stream",
     "text": [
      "C:\\Users\\liuc\\AppData\\Local\\Temp\\ipykernel_31204\\2272494464.py:12: DtypeWarning: Columns (10,38,39) have mixed types. Specify dtype option on import or set low_memory=False.\n",
      "  for chunk in pd.read_csv(path, chunksize=chunk_size):\n"
     ]
    },
    {
     "name": "stdout",
     "output_type": "stream",
     "text": [
      "Processed chunk, found 0 rows after 2014\n"
     ]
    },
    {
     "name": "stderr",
     "output_type": "stream",
     "text": [
      "C:\\Users\\liuc\\AppData\\Local\\Temp\\ipykernel_31204\\2272494464.py:12: DtypeWarning: Columns (10,32,38,39) have mixed types. Specify dtype option on import or set low_memory=False.\n",
      "  for chunk in pd.read_csv(path, chunksize=chunk_size):\n"
     ]
    },
    {
     "name": "stdout",
     "output_type": "stream",
     "text": [
      "Processed chunk, found 0 rows after 2014\n"
     ]
    },
    {
     "name": "stderr",
     "output_type": "stream",
     "text": [
      "C:\\Users\\liuc\\AppData\\Local\\Temp\\ipykernel_31204\\2272494464.py:12: DtypeWarning: Columns (10,38,39) have mixed types. Specify dtype option on import or set low_memory=False.\n",
      "  for chunk in pd.read_csv(path, chunksize=chunk_size):\n"
     ]
    },
    {
     "name": "stdout",
     "output_type": "stream",
     "text": [
      "Processed chunk, found 0 rows after 2014\n"
     ]
    },
    {
     "name": "stderr",
     "output_type": "stream",
     "text": [
      "C:\\Users\\liuc\\AppData\\Local\\Temp\\ipykernel_31204\\2272494464.py:12: DtypeWarning: Columns (38,39) have mixed types. Specify dtype option on import or set low_memory=False.\n",
      "  for chunk in pd.read_csv(path, chunksize=chunk_size):\n"
     ]
    },
    {
     "name": "stdout",
     "output_type": "stream",
     "text": [
      "Processed chunk, found 0 rows after 2014\n"
     ]
    },
    {
     "name": "stderr",
     "output_type": "stream",
     "text": [
      "C:\\Users\\liuc\\AppData\\Local\\Temp\\ipykernel_31204\\2272494464.py:12: DtypeWarning: Columns (10,32,38,39) have mixed types. Specify dtype option on import or set low_memory=False.\n",
      "  for chunk in pd.read_csv(path, chunksize=chunk_size):\n"
     ]
    },
    {
     "name": "stdout",
     "output_type": "stream",
     "text": [
      "Processed chunk, found 0 rows after 2014\n"
     ]
    },
    {
     "name": "stderr",
     "output_type": "stream",
     "text": [
      "C:\\Users\\liuc\\AppData\\Local\\Temp\\ipykernel_31204\\2272494464.py:12: DtypeWarning: Columns (10,38,39) have mixed types. Specify dtype option on import or set low_memory=False.\n",
      "  for chunk in pd.read_csv(path, chunksize=chunk_size):\n"
     ]
    },
    {
     "name": "stdout",
     "output_type": "stream",
     "text": [
      "Processed chunk, found 0 rows after 2014\n"
     ]
    },
    {
     "name": "stderr",
     "output_type": "stream",
     "text": [
      "C:\\Users\\liuc\\AppData\\Local\\Temp\\ipykernel_31204\\2272494464.py:12: DtypeWarning: Columns (38,39) have mixed types. Specify dtype option on import or set low_memory=False.\n",
      "  for chunk in pd.read_csv(path, chunksize=chunk_size):\n"
     ]
    },
    {
     "name": "stdout",
     "output_type": "stream",
     "text": [
      "Processed chunk, found 0 rows after 2014\n"
     ]
    },
    {
     "name": "stderr",
     "output_type": "stream",
     "text": [
      "C:\\Users\\liuc\\AppData\\Local\\Temp\\ipykernel_31204\\2272494464.py:12: DtypeWarning: Columns (32,38,39) have mixed types. Specify dtype option on import or set low_memory=False.\n",
      "  for chunk in pd.read_csv(path, chunksize=chunk_size):\n"
     ]
    },
    {
     "name": "stdout",
     "output_type": "stream",
     "text": [
      "Processed chunk, found 0 rows after 2014\n"
     ]
    },
    {
     "name": "stderr",
     "output_type": "stream",
     "text": [
      "C:\\Users\\liuc\\AppData\\Local\\Temp\\ipykernel_31204\\2272494464.py:12: DtypeWarning: Columns (38,39,54) have mixed types. Specify dtype option on import or set low_memory=False.\n",
      "  for chunk in pd.read_csv(path, chunksize=chunk_size):\n"
     ]
    },
    {
     "name": "stdout",
     "output_type": "stream",
     "text": [
      "Processed chunk, found 0 rows after 2014\n"
     ]
    },
    {
     "name": "stderr",
     "output_type": "stream",
     "text": [
      "C:\\Users\\liuc\\AppData\\Local\\Temp\\ipykernel_31204\\2272494464.py:12: DtypeWarning: Columns (38,39) have mixed types. Specify dtype option on import or set low_memory=False.\n",
      "  for chunk in pd.read_csv(path, chunksize=chunk_size):\n"
     ]
    },
    {
     "name": "stdout",
     "output_type": "stream",
     "text": [
      "Processed chunk, found 0 rows after 2014\n"
     ]
    },
    {
     "name": "stderr",
     "output_type": "stream",
     "text": [
      "C:\\Users\\liuc\\AppData\\Local\\Temp\\ipykernel_31204\\2272494464.py:12: DtypeWarning: Columns (38,39) have mixed types. Specify dtype option on import or set low_memory=False.\n",
      "  for chunk in pd.read_csv(path, chunksize=chunk_size):\n"
     ]
    },
    {
     "name": "stdout",
     "output_type": "stream",
     "text": [
      "Processed chunk, found 0 rows after 2014\n"
     ]
    },
    {
     "name": "stderr",
     "output_type": "stream",
     "text": [
      "C:\\Users\\liuc\\AppData\\Local\\Temp\\ipykernel_31204\\2272494464.py:12: DtypeWarning: Columns (10,38,39) have mixed types. Specify dtype option on import or set low_memory=False.\n",
      "  for chunk in pd.read_csv(path, chunksize=chunk_size):\n"
     ]
    },
    {
     "name": "stdout",
     "output_type": "stream",
     "text": [
      "Processed chunk, found 0 rows after 2014\n"
     ]
    },
    {
     "name": "stderr",
     "output_type": "stream",
     "text": [
      "C:\\Users\\liuc\\AppData\\Local\\Temp\\ipykernel_31204\\2272494464.py:12: DtypeWarning: Columns (10,38,39,54) have mixed types. Specify dtype option on import or set low_memory=False.\n",
      "  for chunk in pd.read_csv(path, chunksize=chunk_size):\n"
     ]
    },
    {
     "name": "stdout",
     "output_type": "stream",
     "text": [
      "Processed chunk, found 0 rows after 2014\n"
     ]
    },
    {
     "name": "stderr",
     "output_type": "stream",
     "text": [
      "C:\\Users\\liuc\\AppData\\Local\\Temp\\ipykernel_31204\\2272494464.py:12: DtypeWarning: Columns (10,38,39) have mixed types. Specify dtype option on import or set low_memory=False.\n",
      "  for chunk in pd.read_csv(path, chunksize=chunk_size):\n"
     ]
    },
    {
     "name": "stdout",
     "output_type": "stream",
     "text": [
      "Processed chunk, found 0 rows after 2014\n"
     ]
    },
    {
     "name": "stderr",
     "output_type": "stream",
     "text": [
      "C:\\Users\\liuc\\AppData\\Local\\Temp\\ipykernel_31204\\2272494464.py:12: DtypeWarning: Columns (10,38,39) have mixed types. Specify dtype option on import or set low_memory=False.\n",
      "  for chunk in pd.read_csv(path, chunksize=chunk_size):\n"
     ]
    },
    {
     "name": "stdout",
     "output_type": "stream",
     "text": [
      "Processed chunk, found 0 rows after 2014\n"
     ]
    },
    {
     "name": "stderr",
     "output_type": "stream",
     "text": [
      "C:\\Users\\liuc\\AppData\\Local\\Temp\\ipykernel_31204\\2272494464.py:12: DtypeWarning: Columns (38,39) have mixed types. Specify dtype option on import or set low_memory=False.\n",
      "  for chunk in pd.read_csv(path, chunksize=chunk_size):\n"
     ]
    },
    {
     "name": "stdout",
     "output_type": "stream",
     "text": [
      "Processed chunk, found 0 rows after 2014\n"
     ]
    },
    {
     "name": "stderr",
     "output_type": "stream",
     "text": [
      "C:\\Users\\liuc\\AppData\\Local\\Temp\\ipykernel_31204\\2272494464.py:12: DtypeWarning: Columns (10,38,39) have mixed types. Specify dtype option on import or set low_memory=False.\n",
      "  for chunk in pd.read_csv(path, chunksize=chunk_size):\n"
     ]
    },
    {
     "name": "stdout",
     "output_type": "stream",
     "text": [
      "Processed chunk, found 0 rows after 2014\n"
     ]
    },
    {
     "name": "stderr",
     "output_type": "stream",
     "text": [
      "C:\\Users\\liuc\\AppData\\Local\\Temp\\ipykernel_31204\\2272494464.py:12: DtypeWarning: Columns (8,10,32,38,39) have mixed types. Specify dtype option on import or set low_memory=False.\n",
      "  for chunk in pd.read_csv(path, chunksize=chunk_size):\n"
     ]
    },
    {
     "name": "stdout",
     "output_type": "stream",
     "text": [
      "Processed chunk, found 0 rows after 2014\n"
     ]
    },
    {
     "name": "stderr",
     "output_type": "stream",
     "text": [
      "C:\\Users\\liuc\\AppData\\Local\\Temp\\ipykernel_31204\\2272494464.py:12: DtypeWarning: Columns (38,39) have mixed types. Specify dtype option on import or set low_memory=False.\n",
      "  for chunk in pd.read_csv(path, chunksize=chunk_size):\n"
     ]
    },
    {
     "name": "stdout",
     "output_type": "stream",
     "text": [
      "Processed chunk, found 0 rows after 2014\n"
     ]
    },
    {
     "name": "stderr",
     "output_type": "stream",
     "text": [
      "C:\\Users\\liuc\\AppData\\Local\\Temp\\ipykernel_31204\\2272494464.py:12: DtypeWarning: Columns (10,38,39) have mixed types. Specify dtype option on import or set low_memory=False.\n",
      "  for chunk in pd.read_csv(path, chunksize=chunk_size):\n"
     ]
    },
    {
     "name": "stdout",
     "output_type": "stream",
     "text": [
      "Processed chunk, found 0 rows after 2014\n"
     ]
    },
    {
     "name": "stderr",
     "output_type": "stream",
     "text": [
      "C:\\Users\\liuc\\AppData\\Local\\Temp\\ipykernel_31204\\2272494464.py:12: DtypeWarning: Columns (38,39) have mixed types. Specify dtype option on import or set low_memory=False.\n",
      "  for chunk in pd.read_csv(path, chunksize=chunk_size):\n"
     ]
    },
    {
     "name": "stdout",
     "output_type": "stream",
     "text": [
      "Processed chunk, found 0 rows after 2014\n"
     ]
    },
    {
     "name": "stderr",
     "output_type": "stream",
     "text": [
      "C:\\Users\\liuc\\AppData\\Local\\Temp\\ipykernel_31204\\2272494464.py:12: DtypeWarning: Columns (8,38,39) have mixed types. Specify dtype option on import or set low_memory=False.\n",
      "  for chunk in pd.read_csv(path, chunksize=chunk_size):\n"
     ]
    },
    {
     "name": "stdout",
     "output_type": "stream",
     "text": [
      "Processed chunk, found 0 rows after 2014\n"
     ]
    },
    {
     "name": "stderr",
     "output_type": "stream",
     "text": [
      "C:\\Users\\liuc\\AppData\\Local\\Temp\\ipykernel_31204\\2272494464.py:12: DtypeWarning: Columns (8,10,38,39) have mixed types. Specify dtype option on import or set low_memory=False.\n",
      "  for chunk in pd.read_csv(path, chunksize=chunk_size):\n"
     ]
    },
    {
     "name": "stdout",
     "output_type": "stream",
     "text": [
      "Processed chunk, found 0 rows after 2014\n"
     ]
    },
    {
     "name": "stderr",
     "output_type": "stream",
     "text": [
      "C:\\Users\\liuc\\AppData\\Local\\Temp\\ipykernel_31204\\2272494464.py:12: DtypeWarning: Columns (10,38,39) have mixed types. Specify dtype option on import or set low_memory=False.\n",
      "  for chunk in pd.read_csv(path, chunksize=chunk_size):\n"
     ]
    },
    {
     "name": "stdout",
     "output_type": "stream",
     "text": [
      "Processed chunk, found 0 rows after 2014\n"
     ]
    },
    {
     "name": "stderr",
     "output_type": "stream",
     "text": [
      "C:\\Users\\liuc\\AppData\\Local\\Temp\\ipykernel_31204\\2272494464.py:12: DtypeWarning: Columns (38,39) have mixed types. Specify dtype option on import or set low_memory=False.\n",
      "  for chunk in pd.read_csv(path, chunksize=chunk_size):\n"
     ]
    },
    {
     "name": "stdout",
     "output_type": "stream",
     "text": [
      "Processed chunk, found 0 rows after 2014\n"
     ]
    },
    {
     "name": "stderr",
     "output_type": "stream",
     "text": [
      "C:\\Users\\liuc\\AppData\\Local\\Temp\\ipykernel_31204\\2272494464.py:12: DtypeWarning: Columns (38,39) have mixed types. Specify dtype option on import or set low_memory=False.\n",
      "  for chunk in pd.read_csv(path, chunksize=chunk_size):\n"
     ]
    },
    {
     "name": "stdout",
     "output_type": "stream",
     "text": [
      "Processed chunk, found 0 rows after 2014\n"
     ]
    },
    {
     "name": "stderr",
     "output_type": "stream",
     "text": [
      "C:\\Users\\liuc\\AppData\\Local\\Temp\\ipykernel_31204\\2272494464.py:12: DtypeWarning: Columns (38,39) have mixed types. Specify dtype option on import or set low_memory=False.\n",
      "  for chunk in pd.read_csv(path, chunksize=chunk_size):\n"
     ]
    },
    {
     "name": "stdout",
     "output_type": "stream",
     "text": [
      "Processed chunk, found 0 rows after 2014\n"
     ]
    },
    {
     "name": "stderr",
     "output_type": "stream",
     "text": [
      "C:\\Users\\liuc\\AppData\\Local\\Temp\\ipykernel_31204\\2272494464.py:12: DtypeWarning: Columns (38,39) have mixed types. Specify dtype option on import or set low_memory=False.\n",
      "  for chunk in pd.read_csv(path, chunksize=chunk_size):\n"
     ]
    },
    {
     "name": "stdout",
     "output_type": "stream",
     "text": [
      "Processed chunk, found 0 rows after 2014\n"
     ]
    },
    {
     "name": "stderr",
     "output_type": "stream",
     "text": [
      "C:\\Users\\liuc\\AppData\\Local\\Temp\\ipykernel_31204\\2272494464.py:12: DtypeWarning: Columns (38,39) have mixed types. Specify dtype option on import or set low_memory=False.\n",
      "  for chunk in pd.read_csv(path, chunksize=chunk_size):\n"
     ]
    },
    {
     "name": "stdout",
     "output_type": "stream",
     "text": [
      "Processed chunk, found 0 rows after 2014\n"
     ]
    },
    {
     "name": "stderr",
     "output_type": "stream",
     "text": [
      "C:\\Users\\liuc\\AppData\\Local\\Temp\\ipykernel_31204\\2272494464.py:12: DtypeWarning: Columns (38,39) have mixed types. Specify dtype option on import or set low_memory=False.\n",
      "  for chunk in pd.read_csv(path, chunksize=chunk_size):\n"
     ]
    },
    {
     "name": "stdout",
     "output_type": "stream",
     "text": [
      "Processed chunk, found 0 rows after 2014\n"
     ]
    },
    {
     "name": "stderr",
     "output_type": "stream",
     "text": [
      "C:\\Users\\liuc\\AppData\\Local\\Temp\\ipykernel_31204\\2272494464.py:12: DtypeWarning: Columns (38,39) have mixed types. Specify dtype option on import or set low_memory=False.\n",
      "  for chunk in pd.read_csv(path, chunksize=chunk_size):\n"
     ]
    },
    {
     "name": "stdout",
     "output_type": "stream",
     "text": [
      "Processed chunk, found 0 rows after 2014\n"
     ]
    },
    {
     "name": "stderr",
     "output_type": "stream",
     "text": [
      "C:\\Users\\liuc\\AppData\\Local\\Temp\\ipykernel_31204\\2272494464.py:12: DtypeWarning: Columns (38,39) have mixed types. Specify dtype option on import or set low_memory=False.\n",
      "  for chunk in pd.read_csv(path, chunksize=chunk_size):\n"
     ]
    },
    {
     "name": "stdout",
     "output_type": "stream",
     "text": [
      "Processed chunk, found 0 rows after 2014\n"
     ]
    },
    {
     "name": "stderr",
     "output_type": "stream",
     "text": [
      "C:\\Users\\liuc\\AppData\\Local\\Temp\\ipykernel_31204\\2272494464.py:12: DtypeWarning: Columns (38,39) have mixed types. Specify dtype option on import or set low_memory=False.\n",
      "  for chunk in pd.read_csv(path, chunksize=chunk_size):\n"
     ]
    },
    {
     "name": "stdout",
     "output_type": "stream",
     "text": [
      "Processed chunk, found 0 rows after 2014\n"
     ]
    },
    {
     "name": "stderr",
     "output_type": "stream",
     "text": [
      "C:\\Users\\liuc\\AppData\\Local\\Temp\\ipykernel_31204\\2272494464.py:12: DtypeWarning: Columns (10,38,39) have mixed types. Specify dtype option on import or set low_memory=False.\n",
      "  for chunk in pd.read_csv(path, chunksize=chunk_size):\n"
     ]
    },
    {
     "name": "stdout",
     "output_type": "stream",
     "text": [
      "Processed chunk, found 0 rows after 2014\n"
     ]
    },
    {
     "name": "stderr",
     "output_type": "stream",
     "text": [
      "C:\\Users\\liuc\\AppData\\Local\\Temp\\ipykernel_31204\\2272494464.py:12: DtypeWarning: Columns (38,39) have mixed types. Specify dtype option on import or set low_memory=False.\n",
      "  for chunk in pd.read_csv(path, chunksize=chunk_size):\n"
     ]
    },
    {
     "name": "stdout",
     "output_type": "stream",
     "text": [
      "Processed chunk, found 0 rows after 2014\n"
     ]
    },
    {
     "name": "stderr",
     "output_type": "stream",
     "text": [
      "C:\\Users\\liuc\\AppData\\Local\\Temp\\ipykernel_31204\\2272494464.py:12: DtypeWarning: Columns (38,39) have mixed types. Specify dtype option on import or set low_memory=False.\n",
      "  for chunk in pd.read_csv(path, chunksize=chunk_size):\n"
     ]
    },
    {
     "name": "stdout",
     "output_type": "stream",
     "text": [
      "Processed chunk, found 0 rows after 2014\n"
     ]
    },
    {
     "name": "stderr",
     "output_type": "stream",
     "text": [
      "C:\\Users\\liuc\\AppData\\Local\\Temp\\ipykernel_31204\\2272494464.py:12: DtypeWarning: Columns (38,39) have mixed types. Specify dtype option on import or set low_memory=False.\n",
      "  for chunk in pd.read_csv(path, chunksize=chunk_size):\n"
     ]
    },
    {
     "name": "stdout",
     "output_type": "stream",
     "text": [
      "Processed chunk, found 0 rows after 2014\n"
     ]
    },
    {
     "name": "stderr",
     "output_type": "stream",
     "text": [
      "C:\\Users\\liuc\\AppData\\Local\\Temp\\ipykernel_31204\\2272494464.py:12: DtypeWarning: Columns (38,39,68) have mixed types. Specify dtype option on import or set low_memory=False.\n",
      "  for chunk in pd.read_csv(path, chunksize=chunk_size):\n"
     ]
    },
    {
     "name": "stdout",
     "output_type": "stream",
     "text": [
      "Processed chunk, found 0 rows after 2014\n"
     ]
    },
    {
     "name": "stderr",
     "output_type": "stream",
     "text": [
      "C:\\Users\\liuc\\AppData\\Local\\Temp\\ipykernel_31204\\2272494464.py:12: DtypeWarning: Columns (38,39) have mixed types. Specify dtype option on import or set low_memory=False.\n",
      "  for chunk in pd.read_csv(path, chunksize=chunk_size):\n"
     ]
    },
    {
     "name": "stdout",
     "output_type": "stream",
     "text": [
      "Processed chunk, found 0 rows after 2014\n"
     ]
    },
    {
     "name": "stderr",
     "output_type": "stream",
     "text": [
      "C:\\Users\\liuc\\AppData\\Local\\Temp\\ipykernel_31204\\2272494464.py:12: DtypeWarning: Columns (38,39) have mixed types. Specify dtype option on import or set low_memory=False.\n",
      "  for chunk in pd.read_csv(path, chunksize=chunk_size):\n"
     ]
    },
    {
     "name": "stdout",
     "output_type": "stream",
     "text": [
      "Processed chunk, found 0 rows after 2014\n"
     ]
    },
    {
     "name": "stderr",
     "output_type": "stream",
     "text": [
      "C:\\Users\\liuc\\AppData\\Local\\Temp\\ipykernel_31204\\2272494464.py:12: DtypeWarning: Columns (10,38,39) have mixed types. Specify dtype option on import or set low_memory=False.\n",
      "  for chunk in pd.read_csv(path, chunksize=chunk_size):\n"
     ]
    },
    {
     "name": "stdout",
     "output_type": "stream",
     "text": [
      "Processed chunk, found 0 rows after 2014\n"
     ]
    },
    {
     "name": "stderr",
     "output_type": "stream",
     "text": [
      "C:\\Users\\liuc\\AppData\\Local\\Temp\\ipykernel_31204\\2272494464.py:12: DtypeWarning: Columns (38,39,74) have mixed types. Specify dtype option on import or set low_memory=False.\n",
      "  for chunk in pd.read_csv(path, chunksize=chunk_size):\n"
     ]
    },
    {
     "name": "stdout",
     "output_type": "stream",
     "text": [
      "Processed chunk, found 0 rows after 2014\n"
     ]
    },
    {
     "name": "stderr",
     "output_type": "stream",
     "text": [
      "C:\\Users\\liuc\\AppData\\Local\\Temp\\ipykernel_31204\\2272494464.py:12: DtypeWarning: Columns (10,38,39) have mixed types. Specify dtype option on import or set low_memory=False.\n",
      "  for chunk in pd.read_csv(path, chunksize=chunk_size):\n"
     ]
    },
    {
     "name": "stdout",
     "output_type": "stream",
     "text": [
      "Processed chunk, found 0 rows after 2014\n"
     ]
    },
    {
     "name": "stderr",
     "output_type": "stream",
     "text": [
      "C:\\Users\\liuc\\AppData\\Local\\Temp\\ipykernel_31204\\2272494464.py:12: DtypeWarning: Columns (38,39,54) have mixed types. Specify dtype option on import or set low_memory=False.\n",
      "  for chunk in pd.read_csv(path, chunksize=chunk_size):\n"
     ]
    },
    {
     "name": "stdout",
     "output_type": "stream",
     "text": [
      "Processed chunk, found 0 rows after 2014\n"
     ]
    },
    {
     "name": "stderr",
     "output_type": "stream",
     "text": [
      "C:\\Users\\liuc\\AppData\\Local\\Temp\\ipykernel_31204\\2272494464.py:12: DtypeWarning: Columns (10,38,39) have mixed types. Specify dtype option on import or set low_memory=False.\n",
      "  for chunk in pd.read_csv(path, chunksize=chunk_size):\n"
     ]
    },
    {
     "name": "stdout",
     "output_type": "stream",
     "text": [
      "Processed chunk, found 0 rows after 2014\n"
     ]
    },
    {
     "name": "stderr",
     "output_type": "stream",
     "text": [
      "C:\\Users\\liuc\\AppData\\Local\\Temp\\ipykernel_31204\\2272494464.py:12: DtypeWarning: Columns (10,38,39) have mixed types. Specify dtype option on import or set low_memory=False.\n",
      "  for chunk in pd.read_csv(path, chunksize=chunk_size):\n"
     ]
    },
    {
     "name": "stdout",
     "output_type": "stream",
     "text": [
      "Processed chunk, found 0 rows after 2014\n"
     ]
    },
    {
     "name": "stderr",
     "output_type": "stream",
     "text": [
      "C:\\Users\\liuc\\AppData\\Local\\Temp\\ipykernel_31204\\2272494464.py:12: DtypeWarning: Columns (38,39) have mixed types. Specify dtype option on import or set low_memory=False.\n",
      "  for chunk in pd.read_csv(path, chunksize=chunk_size):\n"
     ]
    },
    {
     "name": "stdout",
     "output_type": "stream",
     "text": [
      "Processed chunk, found 0 rows after 2014\n"
     ]
    },
    {
     "name": "stderr",
     "output_type": "stream",
     "text": [
      "C:\\Users\\liuc\\AppData\\Local\\Temp\\ipykernel_31204\\2272494464.py:12: DtypeWarning: Columns (38,39) have mixed types. Specify dtype option on import or set low_memory=False.\n",
      "  for chunk in pd.read_csv(path, chunksize=chunk_size):\n"
     ]
    },
    {
     "name": "stdout",
     "output_type": "stream",
     "text": [
      "Processed chunk, found 0 rows after 2014\n"
     ]
    },
    {
     "name": "stderr",
     "output_type": "stream",
     "text": [
      "C:\\Users\\liuc\\AppData\\Local\\Temp\\ipykernel_31204\\2272494464.py:12: DtypeWarning: Columns (10,38,39) have mixed types. Specify dtype option on import or set low_memory=False.\n",
      "  for chunk in pd.read_csv(path, chunksize=chunk_size):\n"
     ]
    },
    {
     "name": "stdout",
     "output_type": "stream",
     "text": [
      "Processed chunk, found 0 rows after 2014\n"
     ]
    },
    {
     "name": "stderr",
     "output_type": "stream",
     "text": [
      "C:\\Users\\liuc\\AppData\\Local\\Temp\\ipykernel_31204\\2272494464.py:12: DtypeWarning: Columns (38,39) have mixed types. Specify dtype option on import or set low_memory=False.\n",
      "  for chunk in pd.read_csv(path, chunksize=chunk_size):\n"
     ]
    },
    {
     "name": "stdout",
     "output_type": "stream",
     "text": [
      "Processed chunk, found 0 rows after 2014\n"
     ]
    },
    {
     "name": "stderr",
     "output_type": "stream",
     "text": [
      "C:\\Users\\liuc\\AppData\\Local\\Temp\\ipykernel_31204\\2272494464.py:12: DtypeWarning: Columns (10,38,39) have mixed types. Specify dtype option on import or set low_memory=False.\n",
      "  for chunk in pd.read_csv(path, chunksize=chunk_size):\n"
     ]
    },
    {
     "name": "stdout",
     "output_type": "stream",
     "text": [
      "Processed chunk, found 0 rows after 2014\n"
     ]
    },
    {
     "name": "stderr",
     "output_type": "stream",
     "text": [
      "C:\\Users\\liuc\\AppData\\Local\\Temp\\ipykernel_31204\\2272494464.py:12: DtypeWarning: Columns (38,39) have mixed types. Specify dtype option on import or set low_memory=False.\n",
      "  for chunk in pd.read_csv(path, chunksize=chunk_size):\n"
     ]
    },
    {
     "name": "stdout",
     "output_type": "stream",
     "text": [
      "Processed chunk, found 0 rows after 2014\n"
     ]
    },
    {
     "name": "stderr",
     "output_type": "stream",
     "text": [
      "C:\\Users\\liuc\\AppData\\Local\\Temp\\ipykernel_31204\\2272494464.py:12: DtypeWarning: Columns (38,39) have mixed types. Specify dtype option on import or set low_memory=False.\n",
      "  for chunk in pd.read_csv(path, chunksize=chunk_size):\n"
     ]
    },
    {
     "name": "stdout",
     "output_type": "stream",
     "text": [
      "Processed chunk, found 0 rows after 2014\n"
     ]
    },
    {
     "name": "stderr",
     "output_type": "stream",
     "text": [
      "C:\\Users\\liuc\\AppData\\Local\\Temp\\ipykernel_31204\\2272494464.py:12: DtypeWarning: Columns (38,39) have mixed types. Specify dtype option on import or set low_memory=False.\n",
      "  for chunk in pd.read_csv(path, chunksize=chunk_size):\n"
     ]
    },
    {
     "name": "stdout",
     "output_type": "stream",
     "text": [
      "Processed chunk, found 0 rows after 2014\n"
     ]
    },
    {
     "name": "stderr",
     "output_type": "stream",
     "text": [
      "C:\\Users\\liuc\\AppData\\Local\\Temp\\ipykernel_31204\\2272494464.py:12: DtypeWarning: Columns (38,39) have mixed types. Specify dtype option on import or set low_memory=False.\n",
      "  for chunk in pd.read_csv(path, chunksize=chunk_size):\n"
     ]
    },
    {
     "name": "stdout",
     "output_type": "stream",
     "text": [
      "Processed chunk, found 0 rows after 2014\n"
     ]
    },
    {
     "name": "stderr",
     "output_type": "stream",
     "text": [
      "C:\\Users\\liuc\\AppData\\Local\\Temp\\ipykernel_31204\\2272494464.py:12: DtypeWarning: Columns (10,38,39) have mixed types. Specify dtype option on import or set low_memory=False.\n",
      "  for chunk in pd.read_csv(path, chunksize=chunk_size):\n"
     ]
    },
    {
     "name": "stdout",
     "output_type": "stream",
     "text": [
      "Processed chunk, found 0 rows after 2014\n"
     ]
    },
    {
     "name": "stderr",
     "output_type": "stream",
     "text": [
      "C:\\Users\\liuc\\AppData\\Local\\Temp\\ipykernel_31204\\2272494464.py:12: DtypeWarning: Columns (38,39,74) have mixed types. Specify dtype option on import or set low_memory=False.\n",
      "  for chunk in pd.read_csv(path, chunksize=chunk_size):\n"
     ]
    },
    {
     "name": "stdout",
     "output_type": "stream",
     "text": [
      "Processed chunk, found 0 rows after 2014\n"
     ]
    },
    {
     "name": "stderr",
     "output_type": "stream",
     "text": [
      "C:\\Users\\liuc\\AppData\\Local\\Temp\\ipykernel_31204\\2272494464.py:12: DtypeWarning: Columns (38,39) have mixed types. Specify dtype option on import or set low_memory=False.\n",
      "  for chunk in pd.read_csv(path, chunksize=chunk_size):\n"
     ]
    },
    {
     "name": "stdout",
     "output_type": "stream",
     "text": [
      "Processed chunk, found 0 rows after 2014\n"
     ]
    },
    {
     "name": "stderr",
     "output_type": "stream",
     "text": [
      "C:\\Users\\liuc\\AppData\\Local\\Temp\\ipykernel_31204\\2272494464.py:12: DtypeWarning: Columns (38,39) have mixed types. Specify dtype option on import or set low_memory=False.\n",
      "  for chunk in pd.read_csv(path, chunksize=chunk_size):\n"
     ]
    },
    {
     "name": "stdout",
     "output_type": "stream",
     "text": [
      "Processed chunk, found 0 rows after 2014\n"
     ]
    },
    {
     "name": "stderr",
     "output_type": "stream",
     "text": [
      "C:\\Users\\liuc\\AppData\\Local\\Temp\\ipykernel_31204\\2272494464.py:12: DtypeWarning: Columns (38,39) have mixed types. Specify dtype option on import or set low_memory=False.\n",
      "  for chunk in pd.read_csv(path, chunksize=chunk_size):\n"
     ]
    },
    {
     "name": "stdout",
     "output_type": "stream",
     "text": [
      "Processed chunk, found 0 rows after 2014\n"
     ]
    },
    {
     "name": "stderr",
     "output_type": "stream",
     "text": [
      "C:\\Users\\liuc\\AppData\\Local\\Temp\\ipykernel_31204\\2272494464.py:12: DtypeWarning: Columns (10,38,39) have mixed types. Specify dtype option on import or set low_memory=False.\n",
      "  for chunk in pd.read_csv(path, chunksize=chunk_size):\n"
     ]
    },
    {
     "name": "stdout",
     "output_type": "stream",
     "text": [
      "Processed chunk, found 0 rows after 2014\n"
     ]
    },
    {
     "name": "stderr",
     "output_type": "stream",
     "text": [
      "C:\\Users\\liuc\\AppData\\Local\\Temp\\ipykernel_31204\\2272494464.py:12: DtypeWarning: Columns (38,39) have mixed types. Specify dtype option on import or set low_memory=False.\n",
      "  for chunk in pd.read_csv(path, chunksize=chunk_size):\n"
     ]
    },
    {
     "name": "stdout",
     "output_type": "stream",
     "text": [
      "Processed chunk, found 0 rows after 2014\n"
     ]
    },
    {
     "name": "stderr",
     "output_type": "stream",
     "text": [
      "C:\\Users\\liuc\\AppData\\Local\\Temp\\ipykernel_31204\\2272494464.py:12: DtypeWarning: Columns (10,38,39) have mixed types. Specify dtype option on import or set low_memory=False.\n",
      "  for chunk in pd.read_csv(path, chunksize=chunk_size):\n"
     ]
    },
    {
     "name": "stdout",
     "output_type": "stream",
     "text": [
      "Processed chunk, found 0 rows after 2014\n"
     ]
    },
    {
     "name": "stderr",
     "output_type": "stream",
     "text": [
      "C:\\Users\\liuc\\AppData\\Local\\Temp\\ipykernel_31204\\2272494464.py:12: DtypeWarning: Columns (38,39) have mixed types. Specify dtype option on import or set low_memory=False.\n",
      "  for chunk in pd.read_csv(path, chunksize=chunk_size):\n"
     ]
    },
    {
     "name": "stdout",
     "output_type": "stream",
     "text": [
      "Processed chunk, found 0 rows after 2014\n"
     ]
    },
    {
     "name": "stderr",
     "output_type": "stream",
     "text": [
      "C:\\Users\\liuc\\AppData\\Local\\Temp\\ipykernel_31204\\2272494464.py:12: DtypeWarning: Columns (38,39) have mixed types. Specify dtype option on import or set low_memory=False.\n",
      "  for chunk in pd.read_csv(path, chunksize=chunk_size):\n"
     ]
    },
    {
     "name": "stdout",
     "output_type": "stream",
     "text": [
      "Processed chunk, found 0 rows after 2014\n"
     ]
    },
    {
     "name": "stderr",
     "output_type": "stream",
     "text": [
      "C:\\Users\\liuc\\AppData\\Local\\Temp\\ipykernel_31204\\2272494464.py:12: DtypeWarning: Columns (10,38,39) have mixed types. Specify dtype option on import or set low_memory=False.\n",
      "  for chunk in pd.read_csv(path, chunksize=chunk_size):\n"
     ]
    },
    {
     "name": "stdout",
     "output_type": "stream",
     "text": [
      "Processed chunk, found 0 rows after 2014\n"
     ]
    },
    {
     "name": "stderr",
     "output_type": "stream",
     "text": [
      "C:\\Users\\liuc\\AppData\\Local\\Temp\\ipykernel_31204\\2272494464.py:12: DtypeWarning: Columns (8,10,38,39) have mixed types. Specify dtype option on import or set low_memory=False.\n",
      "  for chunk in pd.read_csv(path, chunksize=chunk_size):\n"
     ]
    },
    {
     "name": "stdout",
     "output_type": "stream",
     "text": [
      "Processed chunk, found 0 rows after 2014\n"
     ]
    },
    {
     "name": "stderr",
     "output_type": "stream",
     "text": [
      "C:\\Users\\liuc\\AppData\\Local\\Temp\\ipykernel_31204\\2272494464.py:12: DtypeWarning: Columns (10,38,39) have mixed types. Specify dtype option on import or set low_memory=False.\n",
      "  for chunk in pd.read_csv(path, chunksize=chunk_size):\n"
     ]
    },
    {
     "name": "stdout",
     "output_type": "stream",
     "text": [
      "Processed chunk, found 0 rows after 2014\n"
     ]
    },
    {
     "name": "stderr",
     "output_type": "stream",
     "text": [
      "C:\\Users\\liuc\\AppData\\Local\\Temp\\ipykernel_31204\\2272494464.py:12: DtypeWarning: Columns (38,39) have mixed types. Specify dtype option on import or set low_memory=False.\n",
      "  for chunk in pd.read_csv(path, chunksize=chunk_size):\n"
     ]
    },
    {
     "name": "stdout",
     "output_type": "stream",
     "text": [
      "Processed chunk, found 0 rows after 2014\n"
     ]
    },
    {
     "name": "stderr",
     "output_type": "stream",
     "text": [
      "C:\\Users\\liuc\\AppData\\Local\\Temp\\ipykernel_31204\\2272494464.py:12: DtypeWarning: Columns (38,39) have mixed types. Specify dtype option on import or set low_memory=False.\n",
      "  for chunk in pd.read_csv(path, chunksize=chunk_size):\n"
     ]
    },
    {
     "name": "stdout",
     "output_type": "stream",
     "text": [
      "Processed chunk, found 0 rows after 2014\n"
     ]
    },
    {
     "name": "stderr",
     "output_type": "stream",
     "text": [
      "C:\\Users\\liuc\\AppData\\Local\\Temp\\ipykernel_31204\\2272494464.py:12: DtypeWarning: Columns (38,39) have mixed types. Specify dtype option on import or set low_memory=False.\n",
      "  for chunk in pd.read_csv(path, chunksize=chunk_size):\n"
     ]
    },
    {
     "name": "stdout",
     "output_type": "stream",
     "text": [
      "Processed chunk, found 0 rows after 2014\n"
     ]
    },
    {
     "name": "stderr",
     "output_type": "stream",
     "text": [
      "C:\\Users\\liuc\\AppData\\Local\\Temp\\ipykernel_31204\\2272494464.py:12: DtypeWarning: Columns (38,39) have mixed types. Specify dtype option on import or set low_memory=False.\n",
      "  for chunk in pd.read_csv(path, chunksize=chunk_size):\n"
     ]
    },
    {
     "name": "stdout",
     "output_type": "stream",
     "text": [
      "Processed chunk, found 0 rows after 2014\n"
     ]
    },
    {
     "name": "stderr",
     "output_type": "stream",
     "text": [
      "C:\\Users\\liuc\\AppData\\Local\\Temp\\ipykernel_31204\\2272494464.py:12: DtypeWarning: Columns (38,39) have mixed types. Specify dtype option on import or set low_memory=False.\n",
      "  for chunk in pd.read_csv(path, chunksize=chunk_size):\n"
     ]
    },
    {
     "name": "stdout",
     "output_type": "stream",
     "text": [
      "Processed chunk, found 0 rows after 2014\n"
     ]
    },
    {
     "name": "stderr",
     "output_type": "stream",
     "text": [
      "C:\\Users\\liuc\\AppData\\Local\\Temp\\ipykernel_31204\\2272494464.py:12: DtypeWarning: Columns (38,39) have mixed types. Specify dtype option on import or set low_memory=False.\n",
      "  for chunk in pd.read_csv(path, chunksize=chunk_size):\n"
     ]
    },
    {
     "name": "stdout",
     "output_type": "stream",
     "text": [
      "Processed chunk, found 0 rows after 2014\n"
     ]
    },
    {
     "name": "stderr",
     "output_type": "stream",
     "text": [
      "C:\\Users\\liuc\\AppData\\Local\\Temp\\ipykernel_31204\\2272494464.py:12: DtypeWarning: Columns (38,39) have mixed types. Specify dtype option on import or set low_memory=False.\n",
      "  for chunk in pd.read_csv(path, chunksize=chunk_size):\n"
     ]
    },
    {
     "name": "stdout",
     "output_type": "stream",
     "text": [
      "Processed chunk, found 0 rows after 2014\n"
     ]
    },
    {
     "name": "stderr",
     "output_type": "stream",
     "text": [
      "C:\\Users\\liuc\\AppData\\Local\\Temp\\ipykernel_31204\\2272494464.py:12: DtypeWarning: Columns (38,39) have mixed types. Specify dtype option on import or set low_memory=False.\n",
      "  for chunk in pd.read_csv(path, chunksize=chunk_size):\n"
     ]
    },
    {
     "name": "stdout",
     "output_type": "stream",
     "text": [
      "Processed chunk, found 0 rows after 2014\n"
     ]
    },
    {
     "name": "stderr",
     "output_type": "stream",
     "text": [
      "C:\\Users\\liuc\\AppData\\Local\\Temp\\ipykernel_31204\\2272494464.py:12: DtypeWarning: Columns (38,39) have mixed types. Specify dtype option on import or set low_memory=False.\n",
      "  for chunk in pd.read_csv(path, chunksize=chunk_size):\n"
     ]
    },
    {
     "name": "stdout",
     "output_type": "stream",
     "text": [
      "Processed chunk, found 0 rows after 2014\n"
     ]
    },
    {
     "name": "stderr",
     "output_type": "stream",
     "text": [
      "C:\\Users\\liuc\\AppData\\Local\\Temp\\ipykernel_31204\\2272494464.py:12: DtypeWarning: Columns (38,39) have mixed types. Specify dtype option on import or set low_memory=False.\n",
      "  for chunk in pd.read_csv(path, chunksize=chunk_size):\n"
     ]
    },
    {
     "name": "stdout",
     "output_type": "stream",
     "text": [
      "Processed chunk, found 0 rows after 2014\n"
     ]
    },
    {
     "name": "stderr",
     "output_type": "stream",
     "text": [
      "C:\\Users\\liuc\\AppData\\Local\\Temp\\ipykernel_31204\\2272494464.py:12: DtypeWarning: Columns (38,39) have mixed types. Specify dtype option on import or set low_memory=False.\n",
      "  for chunk in pd.read_csv(path, chunksize=chunk_size):\n"
     ]
    },
    {
     "name": "stdout",
     "output_type": "stream",
     "text": [
      "Processed chunk, found 0 rows after 2014\n"
     ]
    },
    {
     "name": "stderr",
     "output_type": "stream",
     "text": [
      "C:\\Users\\liuc\\AppData\\Local\\Temp\\ipykernel_31204\\2272494464.py:12: DtypeWarning: Columns (38,39) have mixed types. Specify dtype option on import or set low_memory=False.\n",
      "  for chunk in pd.read_csv(path, chunksize=chunk_size):\n"
     ]
    },
    {
     "name": "stdout",
     "output_type": "stream",
     "text": [
      "Processed chunk, found 0 rows after 2014\n"
     ]
    },
    {
     "name": "stderr",
     "output_type": "stream",
     "text": [
      "C:\\Users\\liuc\\AppData\\Local\\Temp\\ipykernel_31204\\2272494464.py:12: DtypeWarning: Columns (10,38,39) have mixed types. Specify dtype option on import or set low_memory=False.\n",
      "  for chunk in pd.read_csv(path, chunksize=chunk_size):\n"
     ]
    },
    {
     "name": "stdout",
     "output_type": "stream",
     "text": [
      "Processed chunk, found 0 rows after 2014\n"
     ]
    },
    {
     "name": "stderr",
     "output_type": "stream",
     "text": [
      "C:\\Users\\liuc\\AppData\\Local\\Temp\\ipykernel_31204\\2272494464.py:12: DtypeWarning: Columns (38,39,74) have mixed types. Specify dtype option on import or set low_memory=False.\n",
      "  for chunk in pd.read_csv(path, chunksize=chunk_size):\n"
     ]
    },
    {
     "name": "stdout",
     "output_type": "stream",
     "text": [
      "Processed chunk, found 0 rows after 2014\n"
     ]
    },
    {
     "name": "stderr",
     "output_type": "stream",
     "text": [
      "C:\\Users\\liuc\\AppData\\Local\\Temp\\ipykernel_31204\\2272494464.py:12: DtypeWarning: Columns (38,39) have mixed types. Specify dtype option on import or set low_memory=False.\n",
      "  for chunk in pd.read_csv(path, chunksize=chunk_size):\n"
     ]
    },
    {
     "name": "stdout",
     "output_type": "stream",
     "text": [
      "Processed chunk, found 0 rows after 2014\n"
     ]
    },
    {
     "name": "stderr",
     "output_type": "stream",
     "text": [
      "C:\\Users\\liuc\\AppData\\Local\\Temp\\ipykernel_31204\\2272494464.py:12: DtypeWarning: Columns (10,38,39) have mixed types. Specify dtype option on import or set low_memory=False.\n",
      "  for chunk in pd.read_csv(path, chunksize=chunk_size):\n"
     ]
    },
    {
     "name": "stdout",
     "output_type": "stream",
     "text": [
      "Processed chunk, found 0 rows after 2014\n"
     ]
    },
    {
     "name": "stderr",
     "output_type": "stream",
     "text": [
      "C:\\Users\\liuc\\AppData\\Local\\Temp\\ipykernel_31204\\2272494464.py:12: DtypeWarning: Columns (38,39) have mixed types. Specify dtype option on import or set low_memory=False.\n",
      "  for chunk in pd.read_csv(path, chunksize=chunk_size):\n"
     ]
    },
    {
     "name": "stdout",
     "output_type": "stream",
     "text": [
      "Processed chunk, found 0 rows after 2014\n"
     ]
    },
    {
     "name": "stderr",
     "output_type": "stream",
     "text": [
      "C:\\Users\\liuc\\AppData\\Local\\Temp\\ipykernel_31204\\2272494464.py:12: DtypeWarning: Columns (38,39) have mixed types. Specify dtype option on import or set low_memory=False.\n",
      "  for chunk in pd.read_csv(path, chunksize=chunk_size):\n"
     ]
    },
    {
     "name": "stdout",
     "output_type": "stream",
     "text": [
      "Processed chunk, found 0 rows after 2014\n"
     ]
    },
    {
     "name": "stderr",
     "output_type": "stream",
     "text": [
      "C:\\Users\\liuc\\AppData\\Local\\Temp\\ipykernel_31204\\2272494464.py:12: DtypeWarning: Columns (10,38,39) have mixed types. Specify dtype option on import or set low_memory=False.\n",
      "  for chunk in pd.read_csv(path, chunksize=chunk_size):\n"
     ]
    },
    {
     "name": "stdout",
     "output_type": "stream",
     "text": [
      "Processed chunk, found 0 rows after 2014\n"
     ]
    },
    {
     "name": "stderr",
     "output_type": "stream",
     "text": [
      "C:\\Users\\liuc\\AppData\\Local\\Temp\\ipykernel_31204\\2272494464.py:12: DtypeWarning: Columns (10,38,39) have mixed types. Specify dtype option on import or set low_memory=False.\n",
      "  for chunk in pd.read_csv(path, chunksize=chunk_size):\n"
     ]
    },
    {
     "name": "stdout",
     "output_type": "stream",
     "text": [
      "Processed chunk, found 0 rows after 2014\n"
     ]
    },
    {
     "name": "stderr",
     "output_type": "stream",
     "text": [
      "C:\\Users\\liuc\\AppData\\Local\\Temp\\ipykernel_31204\\2272494464.py:12: DtypeWarning: Columns (38,39) have mixed types. Specify dtype option on import or set low_memory=False.\n",
      "  for chunk in pd.read_csv(path, chunksize=chunk_size):\n"
     ]
    },
    {
     "name": "stdout",
     "output_type": "stream",
     "text": [
      "Processed chunk, found 0 rows after 2014\n"
     ]
    },
    {
     "name": "stderr",
     "output_type": "stream",
     "text": [
      "C:\\Users\\liuc\\AppData\\Local\\Temp\\ipykernel_31204\\2272494464.py:12: DtypeWarning: Columns (38,39) have mixed types. Specify dtype option on import or set low_memory=False.\n",
      "  for chunk in pd.read_csv(path, chunksize=chunk_size):\n"
     ]
    },
    {
     "name": "stdout",
     "output_type": "stream",
     "text": [
      "Processed chunk, found 0 rows after 2014\n"
     ]
    },
    {
     "name": "stderr",
     "output_type": "stream",
     "text": [
      "C:\\Users\\liuc\\AppData\\Local\\Temp\\ipykernel_31204\\2272494464.py:12: DtypeWarning: Columns (38,39,68) have mixed types. Specify dtype option on import or set low_memory=False.\n",
      "  for chunk in pd.read_csv(path, chunksize=chunk_size):\n"
     ]
    },
    {
     "name": "stdout",
     "output_type": "stream",
     "text": [
      "Processed chunk, found 0 rows after 2014\n"
     ]
    },
    {
     "name": "stderr",
     "output_type": "stream",
     "text": [
      "C:\\Users\\liuc\\AppData\\Local\\Temp\\ipykernel_31204\\2272494464.py:12: DtypeWarning: Columns (38) have mixed types. Specify dtype option on import or set low_memory=False.\n",
      "  for chunk in pd.read_csv(path, chunksize=chunk_size):\n"
     ]
    },
    {
     "name": "stdout",
     "output_type": "stream",
     "text": [
      "Processed chunk, found 0 rows after 2014\n"
     ]
    },
    {
     "name": "stderr",
     "output_type": "stream",
     "text": [
      "C:\\Users\\liuc\\AppData\\Local\\Temp\\ipykernel_31204\\2272494464.py:12: DtypeWarning: Columns (38,39) have mixed types. Specify dtype option on import or set low_memory=False.\n",
      "  for chunk in pd.read_csv(path, chunksize=chunk_size):\n"
     ]
    },
    {
     "name": "stdout",
     "output_type": "stream",
     "text": [
      "Processed chunk, found 0 rows after 2014\n"
     ]
    },
    {
     "name": "stderr",
     "output_type": "stream",
     "text": [
      "C:\\Users\\liuc\\AppData\\Local\\Temp\\ipykernel_31204\\2272494464.py:12: DtypeWarning: Columns (10,38,39) have mixed types. Specify dtype option on import or set low_memory=False.\n",
      "  for chunk in pd.read_csv(path, chunksize=chunk_size):\n"
     ]
    },
    {
     "name": "stdout",
     "output_type": "stream",
     "text": [
      "Processed chunk, found 0 rows after 2014\n"
     ]
    },
    {
     "name": "stderr",
     "output_type": "stream",
     "text": [
      "C:\\Users\\liuc\\AppData\\Local\\Temp\\ipykernel_31204\\2272494464.py:12: DtypeWarning: Columns (38,39) have mixed types. Specify dtype option on import or set low_memory=False.\n",
      "  for chunk in pd.read_csv(path, chunksize=chunk_size):\n"
     ]
    },
    {
     "name": "stdout",
     "output_type": "stream",
     "text": [
      "Processed chunk, found 0 rows after 2014\n"
     ]
    },
    {
     "name": "stderr",
     "output_type": "stream",
     "text": [
      "C:\\Users\\liuc\\AppData\\Local\\Temp\\ipykernel_31204\\2272494464.py:12: DtypeWarning: Columns (38,39) have mixed types. Specify dtype option on import or set low_memory=False.\n",
      "  for chunk in pd.read_csv(path, chunksize=chunk_size):\n"
     ]
    },
    {
     "name": "stdout",
     "output_type": "stream",
     "text": [
      "Processed chunk, found 0 rows after 2014\n"
     ]
    },
    {
     "name": "stderr",
     "output_type": "stream",
     "text": [
      "C:\\Users\\liuc\\AppData\\Local\\Temp\\ipykernel_31204\\2272494464.py:12: DtypeWarning: Columns (10,38,39) have mixed types. Specify dtype option on import or set low_memory=False.\n",
      "  for chunk in pd.read_csv(path, chunksize=chunk_size):\n"
     ]
    },
    {
     "name": "stdout",
     "output_type": "stream",
     "text": [
      "Processed chunk, found 0 rows after 2014\n"
     ]
    },
    {
     "name": "stderr",
     "output_type": "stream",
     "text": [
      "C:\\Users\\liuc\\AppData\\Local\\Temp\\ipykernel_31204\\2272494464.py:12: DtypeWarning: Columns (10,38,39) have mixed types. Specify dtype option on import or set low_memory=False.\n",
      "  for chunk in pd.read_csv(path, chunksize=chunk_size):\n"
     ]
    },
    {
     "name": "stdout",
     "output_type": "stream",
     "text": [
      "Processed chunk, found 0 rows after 2014\n"
     ]
    },
    {
     "name": "stderr",
     "output_type": "stream",
     "text": [
      "C:\\Users\\liuc\\AppData\\Local\\Temp\\ipykernel_31204\\2272494464.py:12: DtypeWarning: Columns (38,39) have mixed types. Specify dtype option on import or set low_memory=False.\n",
      "  for chunk in pd.read_csv(path, chunksize=chunk_size):\n"
     ]
    },
    {
     "name": "stdout",
     "output_type": "stream",
     "text": [
      "Processed chunk, found 0 rows after 2014\n"
     ]
    },
    {
     "name": "stderr",
     "output_type": "stream",
     "text": [
      "C:\\Users\\liuc\\AppData\\Local\\Temp\\ipykernel_31204\\2272494464.py:12: DtypeWarning: Columns (38,39) have mixed types. Specify dtype option on import or set low_memory=False.\n",
      "  for chunk in pd.read_csv(path, chunksize=chunk_size):\n"
     ]
    },
    {
     "name": "stdout",
     "output_type": "stream",
     "text": [
      "Processed chunk, found 0 rows after 2014\n"
     ]
    },
    {
     "name": "stderr",
     "output_type": "stream",
     "text": [
      "C:\\Users\\liuc\\AppData\\Local\\Temp\\ipykernel_31204\\2272494464.py:12: DtypeWarning: Columns (10,38,39) have mixed types. Specify dtype option on import or set low_memory=False.\n",
      "  for chunk in pd.read_csv(path, chunksize=chunk_size):\n"
     ]
    },
    {
     "name": "stdout",
     "output_type": "stream",
     "text": [
      "Processed chunk, found 0 rows after 2014\n"
     ]
    },
    {
     "name": "stderr",
     "output_type": "stream",
     "text": [
      "C:\\Users\\liuc\\AppData\\Local\\Temp\\ipykernel_31204\\2272494464.py:12: DtypeWarning: Columns (38,39) have mixed types. Specify dtype option on import or set low_memory=False.\n",
      "  for chunk in pd.read_csv(path, chunksize=chunk_size):\n"
     ]
    },
    {
     "name": "stdout",
     "output_type": "stream",
     "text": [
      "Processed chunk, found 0 rows after 2014\n"
     ]
    },
    {
     "name": "stderr",
     "output_type": "stream",
     "text": [
      "C:\\Users\\liuc\\AppData\\Local\\Temp\\ipykernel_31204\\2272494464.py:12: DtypeWarning: Columns (10,38,39) have mixed types. Specify dtype option on import or set low_memory=False.\n",
      "  for chunk in pd.read_csv(path, chunksize=chunk_size):\n"
     ]
    },
    {
     "name": "stdout",
     "output_type": "stream",
     "text": [
      "Processed chunk, found 0 rows after 2014\n"
     ]
    },
    {
     "name": "stderr",
     "output_type": "stream",
     "text": [
      "C:\\Users\\liuc\\AppData\\Local\\Temp\\ipykernel_31204\\2272494464.py:12: DtypeWarning: Columns (10,38,39) have mixed types. Specify dtype option on import or set low_memory=False.\n",
      "  for chunk in pd.read_csv(path, chunksize=chunk_size):\n"
     ]
    },
    {
     "name": "stdout",
     "output_type": "stream",
     "text": [
      "Processed chunk, found 0 rows after 2014\n"
     ]
    },
    {
     "name": "stderr",
     "output_type": "stream",
     "text": [
      "C:\\Users\\liuc\\AppData\\Local\\Temp\\ipykernel_31204\\2272494464.py:12: DtypeWarning: Columns (38,39) have mixed types. Specify dtype option on import or set low_memory=False.\n",
      "  for chunk in pd.read_csv(path, chunksize=chunk_size):\n"
     ]
    },
    {
     "name": "stdout",
     "output_type": "stream",
     "text": [
      "Processed chunk, found 0 rows after 2014\n"
     ]
    },
    {
     "name": "stderr",
     "output_type": "stream",
     "text": [
      "C:\\Users\\liuc\\AppData\\Local\\Temp\\ipykernel_31204\\2272494464.py:12: DtypeWarning: Columns (10,38,39) have mixed types. Specify dtype option on import or set low_memory=False.\n",
      "  for chunk in pd.read_csv(path, chunksize=chunk_size):\n"
     ]
    },
    {
     "name": "stdout",
     "output_type": "stream",
     "text": [
      "Processed chunk, found 0 rows after 2014\n"
     ]
    },
    {
     "name": "stderr",
     "output_type": "stream",
     "text": [
      "C:\\Users\\liuc\\AppData\\Local\\Temp\\ipykernel_31204\\2272494464.py:12: DtypeWarning: Columns (38,39) have mixed types. Specify dtype option on import or set low_memory=False.\n",
      "  for chunk in pd.read_csv(path, chunksize=chunk_size):\n"
     ]
    },
    {
     "name": "stdout",
     "output_type": "stream",
     "text": [
      "Processed chunk, found 0 rows after 2014\n"
     ]
    },
    {
     "name": "stderr",
     "output_type": "stream",
     "text": [
      "C:\\Users\\liuc\\AppData\\Local\\Temp\\ipykernel_31204\\2272494464.py:12: DtypeWarning: Columns (10,38,74) have mixed types. Specify dtype option on import or set low_memory=False.\n",
      "  for chunk in pd.read_csv(path, chunksize=chunk_size):\n"
     ]
    },
    {
     "name": "stdout",
     "output_type": "stream",
     "text": [
      "Processed chunk, found 0 rows after 2014\n"
     ]
    },
    {
     "name": "stderr",
     "output_type": "stream",
     "text": [
      "C:\\Users\\liuc\\AppData\\Local\\Temp\\ipykernel_31204\\2272494464.py:12: DtypeWarning: Columns (10,38,39) have mixed types. Specify dtype option on import or set low_memory=False.\n",
      "  for chunk in pd.read_csv(path, chunksize=chunk_size):\n"
     ]
    },
    {
     "name": "stdout",
     "output_type": "stream",
     "text": [
      "Processed chunk, found 0 rows after 2014\n"
     ]
    },
    {
     "name": "stderr",
     "output_type": "stream",
     "text": [
      "C:\\Users\\liuc\\AppData\\Local\\Temp\\ipykernel_31204\\2272494464.py:12: DtypeWarning: Columns (38,39) have mixed types. Specify dtype option on import or set low_memory=False.\n",
      "  for chunk in pd.read_csv(path, chunksize=chunk_size):\n"
     ]
    },
    {
     "name": "stdout",
     "output_type": "stream",
     "text": [
      "Processed chunk, found 0 rows after 2014\n"
     ]
    },
    {
     "name": "stderr",
     "output_type": "stream",
     "text": [
      "C:\\Users\\liuc\\AppData\\Local\\Temp\\ipykernel_31204\\2272494464.py:12: DtypeWarning: Columns (10,38,39) have mixed types. Specify dtype option on import or set low_memory=False.\n",
      "  for chunk in pd.read_csv(path, chunksize=chunk_size):\n"
     ]
    },
    {
     "name": "stdout",
     "output_type": "stream",
     "text": [
      "Processed chunk, found 0 rows after 2014\n"
     ]
    },
    {
     "name": "stderr",
     "output_type": "stream",
     "text": [
      "C:\\Users\\liuc\\AppData\\Local\\Temp\\ipykernel_31204\\2272494464.py:12: DtypeWarning: Columns (10,38,39) have mixed types. Specify dtype option on import or set low_memory=False.\n",
      "  for chunk in pd.read_csv(path, chunksize=chunk_size):\n"
     ]
    },
    {
     "name": "stdout",
     "output_type": "stream",
     "text": [
      "Processed chunk, found 0 rows after 2014\n"
     ]
    },
    {
     "name": "stderr",
     "output_type": "stream",
     "text": [
      "C:\\Users\\liuc\\AppData\\Local\\Temp\\ipykernel_31204\\2272494464.py:12: DtypeWarning: Columns (38) have mixed types. Specify dtype option on import or set low_memory=False.\n",
      "  for chunk in pd.read_csv(path, chunksize=chunk_size):\n"
     ]
    },
    {
     "name": "stdout",
     "output_type": "stream",
     "text": [
      "Processed chunk, found 0 rows after 2014\n"
     ]
    },
    {
     "name": "stderr",
     "output_type": "stream",
     "text": [
      "C:\\Users\\liuc\\AppData\\Local\\Temp\\ipykernel_31204\\2272494464.py:12: DtypeWarning: Columns (38,39) have mixed types. Specify dtype option on import or set low_memory=False.\n",
      "  for chunk in pd.read_csv(path, chunksize=chunk_size):\n"
     ]
    },
    {
     "name": "stdout",
     "output_type": "stream",
     "text": [
      "Processed chunk, found 0 rows after 2014\n"
     ]
    },
    {
     "name": "stderr",
     "output_type": "stream",
     "text": [
      "C:\\Users\\liuc\\AppData\\Local\\Temp\\ipykernel_31204\\2272494464.py:12: DtypeWarning: Columns (38,39) have mixed types. Specify dtype option on import or set low_memory=False.\n",
      "  for chunk in pd.read_csv(path, chunksize=chunk_size):\n"
     ]
    },
    {
     "name": "stdout",
     "output_type": "stream",
     "text": [
      "Processed chunk, found 0 rows after 2014\n"
     ]
    },
    {
     "name": "stderr",
     "output_type": "stream",
     "text": [
      "C:\\Users\\liuc\\AppData\\Local\\Temp\\ipykernel_31204\\2272494464.py:12: DtypeWarning: Columns (38,39) have mixed types. Specify dtype option on import or set low_memory=False.\n",
      "  for chunk in pd.read_csv(path, chunksize=chunk_size):\n"
     ]
    },
    {
     "name": "stdout",
     "output_type": "stream",
     "text": [
      "Processed chunk, found 0 rows after 2014\n"
     ]
    },
    {
     "name": "stderr",
     "output_type": "stream",
     "text": [
      "C:\\Users\\liuc\\AppData\\Local\\Temp\\ipykernel_31204\\2272494464.py:12: DtypeWarning: Columns (38,39) have mixed types. Specify dtype option on import or set low_memory=False.\n",
      "  for chunk in pd.read_csv(path, chunksize=chunk_size):\n"
     ]
    },
    {
     "name": "stdout",
     "output_type": "stream",
     "text": [
      "Processed chunk, found 0 rows after 2014\n"
     ]
    },
    {
     "name": "stderr",
     "output_type": "stream",
     "text": [
      "C:\\Users\\liuc\\AppData\\Local\\Temp\\ipykernel_31204\\2272494464.py:12: DtypeWarning: Columns (38) have mixed types. Specify dtype option on import or set low_memory=False.\n",
      "  for chunk in pd.read_csv(path, chunksize=chunk_size):\n"
     ]
    },
    {
     "name": "stdout",
     "output_type": "stream",
     "text": [
      "Processed chunk, found 0 rows after 2014\n"
     ]
    },
    {
     "name": "stderr",
     "output_type": "stream",
     "text": [
      "C:\\Users\\liuc\\AppData\\Local\\Temp\\ipykernel_31204\\2272494464.py:12: DtypeWarning: Columns (38) have mixed types. Specify dtype option on import or set low_memory=False.\n",
      "  for chunk in pd.read_csv(path, chunksize=chunk_size):\n"
     ]
    },
    {
     "name": "stdout",
     "output_type": "stream",
     "text": [
      "Processed chunk, found 0 rows after 2014\n"
     ]
    },
    {
     "name": "stderr",
     "output_type": "stream",
     "text": [
      "C:\\Users\\liuc\\AppData\\Local\\Temp\\ipykernel_31204\\2272494464.py:12: DtypeWarning: Columns (38) have mixed types. Specify dtype option on import or set low_memory=False.\n",
      "  for chunk in pd.read_csv(path, chunksize=chunk_size):\n"
     ]
    },
    {
     "name": "stdout",
     "output_type": "stream",
     "text": [
      "Processed chunk, found 0 rows after 2014\n"
     ]
    },
    {
     "name": "stderr",
     "output_type": "stream",
     "text": [
      "C:\\Users\\liuc\\AppData\\Local\\Temp\\ipykernel_31204\\2272494464.py:12: DtypeWarning: Columns (38) have mixed types. Specify dtype option on import or set low_memory=False.\n",
      "  for chunk in pd.read_csv(path, chunksize=chunk_size):\n"
     ]
    },
    {
     "name": "stdout",
     "output_type": "stream",
     "text": [
      "Processed chunk, found 0 rows after 2014\n"
     ]
    },
    {
     "name": "stderr",
     "output_type": "stream",
     "text": [
      "C:\\Users\\liuc\\AppData\\Local\\Temp\\ipykernel_31204\\2272494464.py:12: DtypeWarning: Columns (38,39) have mixed types. Specify dtype option on import or set low_memory=False.\n",
      "  for chunk in pd.read_csv(path, chunksize=chunk_size):\n"
     ]
    },
    {
     "name": "stdout",
     "output_type": "stream",
     "text": [
      "Processed chunk, found 0 rows after 2014\n"
     ]
    },
    {
     "name": "stderr",
     "output_type": "stream",
     "text": [
      "C:\\Users\\liuc\\AppData\\Local\\Temp\\ipykernel_31204\\2272494464.py:12: DtypeWarning: Columns (38) have mixed types. Specify dtype option on import or set low_memory=False.\n",
      "  for chunk in pd.read_csv(path, chunksize=chunk_size):\n"
     ]
    },
    {
     "name": "stdout",
     "output_type": "stream",
     "text": [
      "Processed chunk, found 0 rows after 2014\n"
     ]
    },
    {
     "name": "stderr",
     "output_type": "stream",
     "text": [
      "C:\\Users\\liuc\\AppData\\Local\\Temp\\ipykernel_31204\\2272494464.py:12: DtypeWarning: Columns (38,74) have mixed types. Specify dtype option on import or set low_memory=False.\n",
      "  for chunk in pd.read_csv(path, chunksize=chunk_size):\n"
     ]
    },
    {
     "name": "stdout",
     "output_type": "stream",
     "text": [
      "Processed chunk, found 0 rows after 2014\n"
     ]
    },
    {
     "name": "stderr",
     "output_type": "stream",
     "text": [
      "C:\\Users\\liuc\\AppData\\Local\\Temp\\ipykernel_31204\\2272494464.py:12: DtypeWarning: Columns (38) have mixed types. Specify dtype option on import or set low_memory=False.\n",
      "  for chunk in pd.read_csv(path, chunksize=chunk_size):\n"
     ]
    },
    {
     "name": "stdout",
     "output_type": "stream",
     "text": [
      "Processed chunk, found 0 rows after 2014\n"
     ]
    },
    {
     "name": "stderr",
     "output_type": "stream",
     "text": [
      "C:\\Users\\liuc\\AppData\\Local\\Temp\\ipykernel_31204\\2272494464.py:12: DtypeWarning: Columns (10,38) have mixed types. Specify dtype option on import or set low_memory=False.\n",
      "  for chunk in pd.read_csv(path, chunksize=chunk_size):\n"
     ]
    },
    {
     "name": "stdout",
     "output_type": "stream",
     "text": [
      "Processed chunk, found 0 rows after 2014\n"
     ]
    },
    {
     "name": "stderr",
     "output_type": "stream",
     "text": [
      "C:\\Users\\liuc\\AppData\\Local\\Temp\\ipykernel_31204\\2272494464.py:12: DtypeWarning: Columns (38) have mixed types. Specify dtype option on import or set low_memory=False.\n",
      "  for chunk in pd.read_csv(path, chunksize=chunk_size):\n"
     ]
    },
    {
     "name": "stdout",
     "output_type": "stream",
     "text": [
      "Processed chunk, found 0 rows after 2014\n"
     ]
    },
    {
     "name": "stderr",
     "output_type": "stream",
     "text": [
      "C:\\Users\\liuc\\AppData\\Local\\Temp\\ipykernel_31204\\2272494464.py:12: DtypeWarning: Columns (38) have mixed types. Specify dtype option on import or set low_memory=False.\n",
      "  for chunk in pd.read_csv(path, chunksize=chunk_size):\n"
     ]
    },
    {
     "name": "stdout",
     "output_type": "stream",
     "text": [
      "Processed chunk, found 0 rows after 2014\n"
     ]
    },
    {
     "name": "stderr",
     "output_type": "stream",
     "text": [
      "C:\\Users\\liuc\\AppData\\Local\\Temp\\ipykernel_31204\\2272494464.py:12: DtypeWarning: Columns (38) have mixed types. Specify dtype option on import or set low_memory=False.\n",
      "  for chunk in pd.read_csv(path, chunksize=chunk_size):\n"
     ]
    },
    {
     "name": "stdout",
     "output_type": "stream",
     "text": [
      "Processed chunk, found 0 rows after 2014\n"
     ]
    },
    {
     "name": "stderr",
     "output_type": "stream",
     "text": [
      "C:\\Users\\liuc\\AppData\\Local\\Temp\\ipykernel_31204\\2272494464.py:12: DtypeWarning: Columns (38) have mixed types. Specify dtype option on import or set low_memory=False.\n",
      "  for chunk in pd.read_csv(path, chunksize=chunk_size):\n"
     ]
    },
    {
     "name": "stdout",
     "output_type": "stream",
     "text": [
      "Processed chunk, found 0 rows after 2014\n"
     ]
    },
    {
     "name": "stderr",
     "output_type": "stream",
     "text": [
      "C:\\Users\\liuc\\AppData\\Local\\Temp\\ipykernel_31204\\2272494464.py:12: DtypeWarning: Columns (10,38) have mixed types. Specify dtype option on import or set low_memory=False.\n",
      "  for chunk in pd.read_csv(path, chunksize=chunk_size):\n"
     ]
    },
    {
     "name": "stdout",
     "output_type": "stream",
     "text": [
      "Processed chunk, found 0 rows after 2014\n"
     ]
    },
    {
     "name": "stderr",
     "output_type": "stream",
     "text": [
      "C:\\Users\\liuc\\AppData\\Local\\Temp\\ipykernel_31204\\2272494464.py:12: DtypeWarning: Columns (38) have mixed types. Specify dtype option on import or set low_memory=False.\n",
      "  for chunk in pd.read_csv(path, chunksize=chunk_size):\n"
     ]
    },
    {
     "name": "stdout",
     "output_type": "stream",
     "text": [
      "Processed chunk, found 0 rows after 2014\n"
     ]
    },
    {
     "name": "stderr",
     "output_type": "stream",
     "text": [
      "C:\\Users\\liuc\\AppData\\Local\\Temp\\ipykernel_31204\\2272494464.py:12: DtypeWarning: Columns (38) have mixed types. Specify dtype option on import or set low_memory=False.\n",
      "  for chunk in pd.read_csv(path, chunksize=chunk_size):\n"
     ]
    },
    {
     "name": "stdout",
     "output_type": "stream",
     "text": [
      "Processed chunk, found 0 rows after 2014\n"
     ]
    },
    {
     "name": "stderr",
     "output_type": "stream",
     "text": [
      "C:\\Users\\liuc\\AppData\\Local\\Temp\\ipykernel_31204\\2272494464.py:12: DtypeWarning: Columns (38) have mixed types. Specify dtype option on import or set low_memory=False.\n",
      "  for chunk in pd.read_csv(path, chunksize=chunk_size):\n"
     ]
    },
    {
     "name": "stdout",
     "output_type": "stream",
     "text": [
      "Processed chunk, found 0 rows after 2014\n"
     ]
    },
    {
     "name": "stderr",
     "output_type": "stream",
     "text": [
      "C:\\Users\\liuc\\AppData\\Local\\Temp\\ipykernel_31204\\2272494464.py:12: DtypeWarning: Columns (38,74) have mixed types. Specify dtype option on import or set low_memory=False.\n",
      "  for chunk in pd.read_csv(path, chunksize=chunk_size):\n"
     ]
    },
    {
     "name": "stdout",
     "output_type": "stream",
     "text": [
      "Processed chunk, found 0 rows after 2014\n"
     ]
    },
    {
     "name": "stderr",
     "output_type": "stream",
     "text": [
      "C:\\Users\\liuc\\AppData\\Local\\Temp\\ipykernel_31204\\2272494464.py:12: DtypeWarning: Columns (38) have mixed types. Specify dtype option on import or set low_memory=False.\n",
      "  for chunk in pd.read_csv(path, chunksize=chunk_size):\n"
     ]
    },
    {
     "name": "stdout",
     "output_type": "stream",
     "text": [
      "Processed chunk, found 0 rows after 2014\n"
     ]
    },
    {
     "name": "stderr",
     "output_type": "stream",
     "text": [
      "C:\\Users\\liuc\\AppData\\Local\\Temp\\ipykernel_31204\\2272494464.py:12: DtypeWarning: Columns (38) have mixed types. Specify dtype option on import or set low_memory=False.\n",
      "  for chunk in pd.read_csv(path, chunksize=chunk_size):\n"
     ]
    },
    {
     "name": "stdout",
     "output_type": "stream",
     "text": [
      "Processed chunk, found 0 rows after 2014\n"
     ]
    },
    {
     "name": "stderr",
     "output_type": "stream",
     "text": [
      "C:\\Users\\liuc\\AppData\\Local\\Temp\\ipykernel_31204\\2272494464.py:12: DtypeWarning: Columns (38) have mixed types. Specify dtype option on import or set low_memory=False.\n",
      "  for chunk in pd.read_csv(path, chunksize=chunk_size):\n"
     ]
    },
    {
     "name": "stdout",
     "output_type": "stream",
     "text": [
      "Processed chunk, found 0 rows after 2014\n"
     ]
    },
    {
     "name": "stderr",
     "output_type": "stream",
     "text": [
      "C:\\Users\\liuc\\AppData\\Local\\Temp\\ipykernel_31204\\2272494464.py:12: DtypeWarning: Columns (38) have mixed types. Specify dtype option on import or set low_memory=False.\n",
      "  for chunk in pd.read_csv(path, chunksize=chunk_size):\n"
     ]
    },
    {
     "name": "stdout",
     "output_type": "stream",
     "text": [
      "Processed chunk, found 0 rows after 2014\n"
     ]
    },
    {
     "name": "stderr",
     "output_type": "stream",
     "text": [
      "C:\\Users\\liuc\\AppData\\Local\\Temp\\ipykernel_31204\\2272494464.py:12: DtypeWarning: Columns (10,38) have mixed types. Specify dtype option on import or set low_memory=False.\n",
      "  for chunk in pd.read_csv(path, chunksize=chunk_size):\n"
     ]
    },
    {
     "name": "stdout",
     "output_type": "stream",
     "text": [
      "Processed chunk, found 0 rows after 2014\n"
     ]
    },
    {
     "name": "stderr",
     "output_type": "stream",
     "text": [
      "C:\\Users\\liuc\\AppData\\Local\\Temp\\ipykernel_31204\\2272494464.py:12: DtypeWarning: Columns (38) have mixed types. Specify dtype option on import or set low_memory=False.\n",
      "  for chunk in pd.read_csv(path, chunksize=chunk_size):\n"
     ]
    },
    {
     "name": "stdout",
     "output_type": "stream",
     "text": [
      "Processed chunk, found 0 rows after 2014\n"
     ]
    },
    {
     "name": "stderr",
     "output_type": "stream",
     "text": [
      "C:\\Users\\liuc\\AppData\\Local\\Temp\\ipykernel_31204\\2272494464.py:12: DtypeWarning: Columns (38,74) have mixed types. Specify dtype option on import or set low_memory=False.\n",
      "  for chunk in pd.read_csv(path, chunksize=chunk_size):\n"
     ]
    },
    {
     "name": "stdout",
     "output_type": "stream",
     "text": [
      "Processed chunk, found 0 rows after 2014\n"
     ]
    },
    {
     "name": "stderr",
     "output_type": "stream",
     "text": [
      "C:\\Users\\liuc\\AppData\\Local\\Temp\\ipykernel_31204\\2272494464.py:12: DtypeWarning: Columns (38) have mixed types. Specify dtype option on import or set low_memory=False.\n",
      "  for chunk in pd.read_csv(path, chunksize=chunk_size):\n"
     ]
    },
    {
     "name": "stdout",
     "output_type": "stream",
     "text": [
      "Processed chunk, found 0 rows after 2014\n"
     ]
    },
    {
     "name": "stderr",
     "output_type": "stream",
     "text": [
      "C:\\Users\\liuc\\AppData\\Local\\Temp\\ipykernel_31204\\2272494464.py:12: DtypeWarning: Columns (38) have mixed types. Specify dtype option on import or set low_memory=False.\n",
      "  for chunk in pd.read_csv(path, chunksize=chunk_size):\n"
     ]
    },
    {
     "name": "stdout",
     "output_type": "stream",
     "text": [
      "Processed chunk, found 0 rows after 2014\n"
     ]
    },
    {
     "name": "stderr",
     "output_type": "stream",
     "text": [
      "C:\\Users\\liuc\\AppData\\Local\\Temp\\ipykernel_31204\\2272494464.py:12: DtypeWarning: Columns (10,38) have mixed types. Specify dtype option on import or set low_memory=False.\n",
      "  for chunk in pd.read_csv(path, chunksize=chunk_size):\n"
     ]
    },
    {
     "name": "stdout",
     "output_type": "stream",
     "text": [
      "Processed chunk, found 0 rows after 2014\n"
     ]
    },
    {
     "name": "stderr",
     "output_type": "stream",
     "text": [
      "C:\\Users\\liuc\\AppData\\Local\\Temp\\ipykernel_31204\\2272494464.py:12: DtypeWarning: Columns (38) have mixed types. Specify dtype option on import or set low_memory=False.\n",
      "  for chunk in pd.read_csv(path, chunksize=chunk_size):\n"
     ]
    },
    {
     "name": "stdout",
     "output_type": "stream",
     "text": [
      "Processed chunk, found 0 rows after 2014\n"
     ]
    },
    {
     "name": "stderr",
     "output_type": "stream",
     "text": [
      "C:\\Users\\liuc\\AppData\\Local\\Temp\\ipykernel_31204\\2272494464.py:12: DtypeWarning: Columns (10,38,68) have mixed types. Specify dtype option on import or set low_memory=False.\n",
      "  for chunk in pd.read_csv(path, chunksize=chunk_size):\n"
     ]
    },
    {
     "name": "stdout",
     "output_type": "stream",
     "text": [
      "Processed chunk, found 0 rows after 2014\n"
     ]
    },
    {
     "name": "stderr",
     "output_type": "stream",
     "text": [
      "C:\\Users\\liuc\\AppData\\Local\\Temp\\ipykernel_31204\\2272494464.py:12: DtypeWarning: Columns (38) have mixed types. Specify dtype option on import or set low_memory=False.\n",
      "  for chunk in pd.read_csv(path, chunksize=chunk_size):\n"
     ]
    },
    {
     "name": "stdout",
     "output_type": "stream",
     "text": [
      "Processed chunk, found 0 rows after 2014\n"
     ]
    },
    {
     "name": "stderr",
     "output_type": "stream",
     "text": [
      "C:\\Users\\liuc\\AppData\\Local\\Temp\\ipykernel_31204\\2272494464.py:12: DtypeWarning: Columns (38) have mixed types. Specify dtype option on import or set low_memory=False.\n",
      "  for chunk in pd.read_csv(path, chunksize=chunk_size):\n"
     ]
    },
    {
     "name": "stdout",
     "output_type": "stream",
     "text": [
      "Processed chunk, found 0 rows after 2014\n"
     ]
    },
    {
     "name": "stderr",
     "output_type": "stream",
     "text": [
      "C:\\Users\\liuc\\AppData\\Local\\Temp\\ipykernel_31204\\2272494464.py:12: DtypeWarning: Columns (38) have mixed types. Specify dtype option on import or set low_memory=False.\n",
      "  for chunk in pd.read_csv(path, chunksize=chunk_size):\n"
     ]
    },
    {
     "name": "stdout",
     "output_type": "stream",
     "text": [
      "Processed chunk, found 0 rows after 2014\n"
     ]
    },
    {
     "name": "stderr",
     "output_type": "stream",
     "text": [
      "C:\\Users\\liuc\\AppData\\Local\\Temp\\ipykernel_31204\\2272494464.py:12: DtypeWarning: Columns (38) have mixed types. Specify dtype option on import or set low_memory=False.\n",
      "  for chunk in pd.read_csv(path, chunksize=chunk_size):\n"
     ]
    },
    {
     "name": "stdout",
     "output_type": "stream",
     "text": [
      "Processed chunk, found 0 rows after 2014\n"
     ]
    },
    {
     "name": "stderr",
     "output_type": "stream",
     "text": [
      "C:\\Users\\liuc\\AppData\\Local\\Temp\\ipykernel_31204\\2272494464.py:12: DtypeWarning: Columns (38) have mixed types. Specify dtype option on import or set low_memory=False.\n",
      "  for chunk in pd.read_csv(path, chunksize=chunk_size):\n"
     ]
    },
    {
     "name": "stdout",
     "output_type": "stream",
     "text": [
      "Processed chunk, found 0 rows after 2014\n"
     ]
    },
    {
     "name": "stderr",
     "output_type": "stream",
     "text": [
      "C:\\Users\\liuc\\AppData\\Local\\Temp\\ipykernel_31204\\2272494464.py:12: DtypeWarning: Columns (10,38) have mixed types. Specify dtype option on import or set low_memory=False.\n",
      "  for chunk in pd.read_csv(path, chunksize=chunk_size):\n"
     ]
    },
    {
     "name": "stdout",
     "output_type": "stream",
     "text": [
      "Processed chunk, found 0 rows after 2014\n"
     ]
    },
    {
     "name": "stderr",
     "output_type": "stream",
     "text": [
      "C:\\Users\\liuc\\AppData\\Local\\Temp\\ipykernel_31204\\2272494464.py:12: DtypeWarning: Columns (38) have mixed types. Specify dtype option on import or set low_memory=False.\n",
      "  for chunk in pd.read_csv(path, chunksize=chunk_size):\n"
     ]
    },
    {
     "name": "stdout",
     "output_type": "stream",
     "text": [
      "Processed chunk, found 0 rows after 2014\n"
     ]
    },
    {
     "name": "stderr",
     "output_type": "stream",
     "text": [
      "C:\\Users\\liuc\\AppData\\Local\\Temp\\ipykernel_31204\\2272494464.py:12: DtypeWarning: Columns (38) have mixed types. Specify dtype option on import or set low_memory=False.\n",
      "  for chunk in pd.read_csv(path, chunksize=chunk_size):\n"
     ]
    },
    {
     "name": "stdout",
     "output_type": "stream",
     "text": [
      "Processed chunk, found 0 rows after 2014\n"
     ]
    },
    {
     "name": "stderr",
     "output_type": "stream",
     "text": [
      "C:\\Users\\liuc\\AppData\\Local\\Temp\\ipykernel_31204\\2272494464.py:12: DtypeWarning: Columns (10,38) have mixed types. Specify dtype option on import or set low_memory=False.\n",
      "  for chunk in pd.read_csv(path, chunksize=chunk_size):\n"
     ]
    },
    {
     "name": "stdout",
     "output_type": "stream",
     "text": [
      "Processed chunk, found 0 rows after 2014\n"
     ]
    },
    {
     "name": "stderr",
     "output_type": "stream",
     "text": [
      "C:\\Users\\liuc\\AppData\\Local\\Temp\\ipykernel_31204\\2272494464.py:12: DtypeWarning: Columns (10,38) have mixed types. Specify dtype option on import or set low_memory=False.\n",
      "  for chunk in pd.read_csv(path, chunksize=chunk_size):\n"
     ]
    },
    {
     "name": "stdout",
     "output_type": "stream",
     "text": [
      "Processed chunk, found 0 rows after 2014\n"
     ]
    },
    {
     "name": "stderr",
     "output_type": "stream",
     "text": [
      "C:\\Users\\liuc\\AppData\\Local\\Temp\\ipykernel_31204\\2272494464.py:12: DtypeWarning: Columns (10,38) have mixed types. Specify dtype option on import or set low_memory=False.\n",
      "  for chunk in pd.read_csv(path, chunksize=chunk_size):\n"
     ]
    },
    {
     "name": "stdout",
     "output_type": "stream",
     "text": [
      "Processed chunk, found 0 rows after 2014\n"
     ]
    },
    {
     "name": "stderr",
     "output_type": "stream",
     "text": [
      "C:\\Users\\liuc\\AppData\\Local\\Temp\\ipykernel_31204\\2272494464.py:12: DtypeWarning: Columns (10,38) have mixed types. Specify dtype option on import or set low_memory=False.\n",
      "  for chunk in pd.read_csv(path, chunksize=chunk_size):\n"
     ]
    },
    {
     "name": "stdout",
     "output_type": "stream",
     "text": [
      "Processed chunk, found 0 rows after 2014\n"
     ]
    },
    {
     "name": "stderr",
     "output_type": "stream",
     "text": [
      "C:\\Users\\liuc\\AppData\\Local\\Temp\\ipykernel_31204\\2272494464.py:12: DtypeWarning: Columns (38) have mixed types. Specify dtype option on import or set low_memory=False.\n",
      "  for chunk in pd.read_csv(path, chunksize=chunk_size):\n"
     ]
    },
    {
     "name": "stdout",
     "output_type": "stream",
     "text": [
      "Processed chunk, found 0 rows after 2014\n"
     ]
    },
    {
     "name": "stderr",
     "output_type": "stream",
     "text": [
      "C:\\Users\\liuc\\AppData\\Local\\Temp\\ipykernel_31204\\2272494464.py:12: DtypeWarning: Columns (10,38) have mixed types. Specify dtype option on import or set low_memory=False.\n",
      "  for chunk in pd.read_csv(path, chunksize=chunk_size):\n"
     ]
    },
    {
     "name": "stdout",
     "output_type": "stream",
     "text": [
      "Processed chunk, found 0 rows after 2014\n"
     ]
    },
    {
     "name": "stderr",
     "output_type": "stream",
     "text": [
      "C:\\Users\\liuc\\AppData\\Local\\Temp\\ipykernel_31204\\2272494464.py:12: DtypeWarning: Columns (10,38) have mixed types. Specify dtype option on import or set low_memory=False.\n",
      "  for chunk in pd.read_csv(path, chunksize=chunk_size):\n"
     ]
    },
    {
     "name": "stdout",
     "output_type": "stream",
     "text": [
      "Processed chunk, found 0 rows after 2014\n"
     ]
    },
    {
     "name": "stderr",
     "output_type": "stream",
     "text": [
      "C:\\Users\\liuc\\AppData\\Local\\Temp\\ipykernel_31204\\2272494464.py:12: DtypeWarning: Columns (10,38) have mixed types. Specify dtype option on import or set low_memory=False.\n",
      "  for chunk in pd.read_csv(path, chunksize=chunk_size):\n"
     ]
    },
    {
     "name": "stdout",
     "output_type": "stream",
     "text": [
      "Processed chunk, found 0 rows after 2014\n"
     ]
    },
    {
     "name": "stderr",
     "output_type": "stream",
     "text": [
      "C:\\Users\\liuc\\AppData\\Local\\Temp\\ipykernel_31204\\2272494464.py:12: DtypeWarning: Columns (38) have mixed types. Specify dtype option on import or set low_memory=False.\n",
      "  for chunk in pd.read_csv(path, chunksize=chunk_size):\n"
     ]
    },
    {
     "name": "stdout",
     "output_type": "stream",
     "text": [
      "Processed chunk, found 37769 rows after 2014\n",
      "Processed chunk, found 100000 rows after 2014\n"
     ]
    },
    {
     "name": "stderr",
     "output_type": "stream",
     "text": [
      "C:\\Users\\liuc\\AppData\\Local\\Temp\\ipykernel_31204\\2272494464.py:12: DtypeWarning: Columns (10) have mixed types. Specify dtype option on import or set low_memory=False.\n",
      "  for chunk in pd.read_csv(path, chunksize=chunk_size):\n"
     ]
    },
    {
     "name": "stdout",
     "output_type": "stream",
     "text": [
      "Processed chunk, found 100000 rows after 2014\n"
     ]
    },
    {
     "name": "stderr",
     "output_type": "stream",
     "text": [
      "C:\\Users\\liuc\\AppData\\Local\\Temp\\ipykernel_31204\\2272494464.py:12: DtypeWarning: Columns (10,38) have mixed types. Specify dtype option on import or set low_memory=False.\n",
      "  for chunk in pd.read_csv(path, chunksize=chunk_size):\n"
     ]
    },
    {
     "name": "stdout",
     "output_type": "stream",
     "text": [
      "Processed chunk, found 100000 rows after 2014\n"
     ]
    },
    {
     "name": "stderr",
     "output_type": "stream",
     "text": [
      "C:\\Users\\liuc\\AppData\\Local\\Temp\\ipykernel_31204\\2272494464.py:12: DtypeWarning: Columns (38) have mixed types. Specify dtype option on import or set low_memory=False.\n",
      "  for chunk in pd.read_csv(path, chunksize=chunk_size):\n"
     ]
    },
    {
     "name": "stdout",
     "output_type": "stream",
     "text": [
      "Processed chunk, found 100000 rows after 2014\n"
     ]
    },
    {
     "name": "stderr",
     "output_type": "stream",
     "text": [
      "C:\\Users\\liuc\\AppData\\Local\\Temp\\ipykernel_31204\\2272494464.py:12: DtypeWarning: Columns (10,38) have mixed types. Specify dtype option on import or set low_memory=False.\n",
      "  for chunk in pd.read_csv(path, chunksize=chunk_size):\n"
     ]
    },
    {
     "name": "stdout",
     "output_type": "stream",
     "text": [
      "Processed chunk, found 100000 rows after 2014\n"
     ]
    },
    {
     "name": "stderr",
     "output_type": "stream",
     "text": [
      "C:\\Users\\liuc\\AppData\\Local\\Temp\\ipykernel_31204\\2272494464.py:12: DtypeWarning: Columns (10,38) have mixed types. Specify dtype option on import or set low_memory=False.\n",
      "  for chunk in pd.read_csv(path, chunksize=chunk_size):\n"
     ]
    },
    {
     "name": "stdout",
     "output_type": "stream",
     "text": [
      "Processed chunk, found 100000 rows after 2014\n"
     ]
    },
    {
     "name": "stderr",
     "output_type": "stream",
     "text": [
      "C:\\Users\\liuc\\AppData\\Local\\Temp\\ipykernel_31204\\2272494464.py:12: DtypeWarning: Columns (38,68) have mixed types. Specify dtype option on import or set low_memory=False.\n",
      "  for chunk in pd.read_csv(path, chunksize=chunk_size):\n"
     ]
    },
    {
     "name": "stdout",
     "output_type": "stream",
     "text": [
      "Processed chunk, found 100000 rows after 2014\n"
     ]
    },
    {
     "name": "stderr",
     "output_type": "stream",
     "text": [
      "C:\\Users\\liuc\\AppData\\Local\\Temp\\ipykernel_31204\\2272494464.py:12: DtypeWarning: Columns (38) have mixed types. Specify dtype option on import or set low_memory=False.\n",
      "  for chunk in pd.read_csv(path, chunksize=chunk_size):\n"
     ]
    },
    {
     "name": "stdout",
     "output_type": "stream",
     "text": [
      "Processed chunk, found 100000 rows after 2014\n"
     ]
    },
    {
     "name": "stderr",
     "output_type": "stream",
     "text": [
      "C:\\Users\\liuc\\AppData\\Local\\Temp\\ipykernel_31204\\2272494464.py:12: DtypeWarning: Columns (10,38) have mixed types. Specify dtype option on import or set low_memory=False.\n",
      "  for chunk in pd.read_csv(path, chunksize=chunk_size):\n"
     ]
    },
    {
     "name": "stdout",
     "output_type": "stream",
     "text": [
      "Processed chunk, found 100000 rows after 2014\n",
      "Processed chunk, found 94889 rows after 2014\n",
      "Total rows loaded: 47967142\n"
     ]
    }
   ],
   "source": [
    "import pandas as pd\n",
    "\n",
    "path = r\"C:\\Users\\liuc\\Downloads\\FimaNfipPoliciesV2.csv\"\n",
    "\n",
    "# Use string comparison - ISO dates are sortable as strings\n",
    "cutoff_date = '2014-01-01T00:00:00.000Z'\n",
    "\n",
    "# Process in chunks to handle 28 GB file\n",
    "chunk_list = []\n",
    "chunk_size = 100000  # Adjust based on your available memory\n",
    "\n",
    "for chunk in pd.read_csv(path, chunksize=chunk_size):\n",
    "    # String comparison is much faster than parsing dates\n",
    "    filtered_chunk = chunk[chunk['policyEffectiveDate'] >= cutoff_date]\n",
    "    chunk_list.append(filtered_chunk)\n",
    "    \n",
    "    # Optional: Print progress\n",
    "    print(f\"Processed chunk, found {len(filtered_chunk)} rows after 2014\")\n",
    "\n",
    "# Combine all chunks\n",
    "df = pd.concat(chunk_list, ignore_index=True)\n",
    "\n",
    "# Now parse dates only once for the filtered dataset\n",
    "df['policyEffectiveDate'] = pd.to_datetime(df['policyEffectiveDate'])\n",
    "\n",
    "print(f\"Total rows loaded: {len(df)}\")"
   ]
  },
  {
   "cell_type": "code",
   "execution_count": null,
   "id": "c1e17b52",
   "metadata": {},
   "outputs": [],
   "source": []
  },
  {
   "cell_type": "code",
   "execution_count": 2,
   "id": "79eb8a8a",
   "metadata": {},
   "outputs": [
    {
     "name": "stdout",
     "output_type": "stream",
     "text": [
      "Processing rows 0–1,000,000...\n",
      "Processing rows 1,000,000–2,000,000...\n",
      "Processing rows 2,000,000–3,000,000...\n",
      "Processing rows 3,000,000–4,000,000...\n",
      "Processing rows 4,000,000–5,000,000...\n",
      "Processing rows 5,000,000–6,000,000...\n",
      "Processing rows 6,000,000–7,000,000...\n",
      "Processing rows 7,000,000–8,000,000...\n",
      "Processing rows 8,000,000–9,000,000...\n",
      "Processing rows 9,000,000–10,000,000...\n",
      "Processing rows 10,000,000–11,000,000...\n",
      "Processing rows 11,000,000–12,000,000...\n",
      "Processing rows 12,000,000–13,000,000...\n",
      "Processing rows 13,000,000–14,000,000...\n",
      "Processing rows 14,000,000–15,000,000...\n",
      "Processing rows 15,000,000–16,000,000...\n",
      "Processing rows 16,000,000–17,000,000...\n",
      "Processing rows 17,000,000–18,000,000...\n",
      "Processing rows 18,000,000–19,000,000...\n",
      "Processing rows 19,000,000–20,000,000...\n",
      "Processing rows 20,000,000–21,000,000...\n",
      "Processing rows 21,000,000–22,000,000...\n",
      "Processing rows 22,000,000–23,000,000...\n",
      "Processing rows 23,000,000–24,000,000...\n",
      "Processing rows 24,000,000–25,000,000...\n",
      "Processing rows 25,000,000–26,000,000...\n",
      "Processing rows 26,000,000–27,000,000...\n",
      "Processing rows 27,000,000–28,000,000...\n",
      "Processing rows 28,000,000–29,000,000...\n",
      "Processing rows 29,000,000–30,000,000...\n",
      "Processing rows 30,000,000–31,000,000...\n",
      "Processing rows 31,000,000–32,000,000...\n",
      "Processing rows 32,000,000–33,000,000...\n",
      "Processing rows 33,000,000–34,000,000...\n",
      "Processing rows 34,000,000–35,000,000...\n",
      "Processing rows 35,000,000–36,000,000...\n",
      "Processing rows 36,000,000–37,000,000...\n",
      "Processing rows 37,000,000–38,000,000...\n",
      "Processing rows 38,000,000–39,000,000...\n",
      "Processing rows 39,000,000–40,000,000...\n",
      "Processing rows 40,000,000–41,000,000...\n",
      "Processing rows 41,000,000–42,000,000...\n",
      "Processing rows 42,000,000–43,000,000...\n",
      "Processing rows 43,000,000–44,000,000...\n",
      "Processing rows 44,000,000–45,000,000...\n",
      "Processing rows 45,000,000–46,000,000...\n",
      "Processing rows 46,000,000–47,000,000...\n",
      "Processing rows 47,000,000–47,967,142...\n",
      "Combining all chunk aggregates...\n"
     ]
    }
   ],
   "source": [
    "import pandas as pd\n",
    "import numpy as np\n",
    "\n",
    "# =====================================================\n",
    "# 1. Define columns needed\n",
    "# =====================================================\n",
    "cols_needed = [\n",
    "    'countyCode', 'policyEffectiveDate', 'cancellationDateOfFloodPolicy',\n",
    "    'policyCount', 'id',\n",
    "    'totalBuildingInsuranceCoverage', 'totalContentsInsuranceCoverage',\n",
    "    'totalInsurancePremiumOfThePolicy', 'buildingReplacementCost',\n",
    "    'postFIRMConstructionIndicator', 'elevatedBuildingIndicator',\n",
    "    'agricultureStructureIndicator', 'primaryResidenceIndicator',\n",
    "    'smallBusinessIndicatorBuilding', 'floodproofedIndicator',\n",
    "    'buildingDescriptionCode', 'ratedFloodZone', 'occupancyType'\n",
    "]\n",
    "\n",
    "df = df[[c for c in cols_needed if c in df.columns]].copy()\n",
    "\n",
    "# =====================================================\n",
    "# 2. Preprocessing\n",
    "# =====================================================\n",
    "df['policyEffectiveDate'] = pd.to_datetime(df['policyEffectiveDate'], errors='coerce')\n",
    "if 'cancellationDateOfFloodPolicy' in df.columns:\n",
    "    df['cancellationDateOfFloodPolicy'] = pd.to_datetime(df['cancellationDateOfFloodPolicy'], errors='coerce')\n",
    "\n",
    "df['year'] = df['policyEffectiveDate'].dt.year\n",
    "df['quarter'] = df['policyEffectiveDate'].dt.quarter\n",
    "\n",
    "# Downcast numeric columns\n",
    "float_cols = [\n",
    "    'totalBuildingInsuranceCoverage', 'totalContentsInsuranceCoverage',\n",
    "    'totalInsurancePremiumOfThePolicy', 'buildingReplacementCost',\n",
    "    'postFIRMConstructionIndicator', 'elevatedBuildingIndicator',\n",
    "    'agricultureStructureIndicator', 'primaryResidenceIndicator',\n",
    "    'smallBusinessIndicatorBuilding', 'floodproofedIndicator'\n",
    "]\n",
    "for col in float_cols:\n",
    "    if col in df.columns:\n",
    "        df[col] = pd.to_numeric(df[col], errors='coerce', downcast='float')\n",
    "\n",
    "if 'countyCode' in df.columns:\n",
    "    df['countyCode'] = pd.to_numeric(df['countyCode'], errors='coerce', downcast='integer')\n",
    "\n",
    "# Coverage-to-value ratio at policy level\n",
    "if {'totalBuildingInsuranceCoverage', 'buildingReplacementCost'} <= set(df.columns):\n",
    "    df['coverage_to_value'] = np.where(\n",
    "        df['buildingReplacementCost'] > 0,\n",
    "        df['totalBuildingInsuranceCoverage'] / df['buildingReplacementCost'],\n",
    "        np.nan\n",
    "    )\n",
    "\n",
    "# Mapping for readable building type names\n",
    "building_desc_map = {\n",
    "    1: 'main_house', 2: 'detached_guest', 3: 'detached_garage',\n",
    "    4: 'agricultural', 5: 'warehouse', 6: 'recreation_building',\n",
    "    7: 'shed', 8: 'other', 9: 'barn', 10: 'apartment_building',\n",
    "    11: 'apartment_unit', 12: 'cooperative_building', 13: 'cooperative_unit',\n",
    "    14: 'commercial_building', 15: 'condo_building', 16: 'condo_unit',\n",
    "    17: 'house_of_worship', 18: 'mobile_home', 19: 'travel_trailer', 20: 'townhouse'\n",
    "}\n",
    "if 'buildingDescriptionCode' in df.columns:\n",
    "    df['buildingDesc'] = df['buildingDescriptionCode'].map(building_desc_map).fillna(df['buildingDescriptionCode'].astype(str))\n",
    "\n",
    "# =====================================================\n",
    "# 3. Helper functions\n",
    "# =====================================================\n",
    "def expand_categorical_counts(chunk, col, prefix):\n",
    "    temp = (\n",
    "        chunk.groupby(['countyCode', 'year', 'quarter', col])\n",
    "        .size()\n",
    "        .unstack(fill_value=0)\n",
    "    )\n",
    "    temp.columns = [f\"{prefix}_{str(c)}_count\" for c in temp.columns]\n",
    "    return temp.reset_index()\n",
    "\n",
    "def expand_cross_tab(chunk, indicator, cat, prefix):\n",
    "    \"\"\"\n",
    "    Computes counts of TRUE indicator by category (e.g., floodproofed Commercial buildings)\n",
    "    \"\"\"\n",
    "    temp = (\n",
    "        chunk.loc[chunk[indicator] == 1]\n",
    "        .groupby(['countyCode', 'year', 'quarter', cat])\n",
    "        .size()\n",
    "        .unstack(fill_value=0)\n",
    "    )\n",
    "    temp.columns = [f\"{prefix}_{str(c)}_true_count\" for c in temp.columns]\n",
    "    return temp.reset_index()\n",
    "\n",
    "# =====================================================\n",
    "# 4. Chunked aggregation\n",
    "# =====================================================\n",
    "def aggregate_chunk(chunk):\n",
    "    group_cols = ['countyCode', 'year', 'quarter']\n",
    "\n",
    "    # === Numeric aggregations ===\n",
    "    agg_dict = {\n",
    "        'policyCount': 'sum',\n",
    "        'id': 'count',\n",
    "        'totalBuildingInsuranceCoverage': ['sum', 'mean'],\n",
    "        'totalContentsInsuranceCoverage': ['sum', 'mean'],\n",
    "        'totalInsurancePremiumOfThePolicy': ['sum', 'mean'],\n",
    "        'buildingReplacementCost': ['median'],\n",
    "        'coverage_to_value': 'mean',\n",
    "        # Key indicators (overall means)\n",
    "        'postFIRMConstructionIndicator': 'mean',\n",
    "        'elevatedBuildingIndicator': 'mean',\n",
    "        'agricultureStructureIndicator': 'mean',\n",
    "        'primaryResidenceIndicator': 'mean',\n",
    "        'smallBusinessIndicatorBuilding': 'mean',\n",
    "        'floodproofedIndicator': 'mean'\n",
    "    }\n",
    "\n",
    "    grouped = chunk.groupby(group_cols, observed=True)\n",
    "    agg_chunk = grouped.agg(agg_dict)\n",
    "    agg_chunk.columns = ['_'.join(col) if isinstance(col, tuple) else col for col in agg_chunk.columns]\n",
    "    agg_chunk = agg_chunk.reset_index()\n",
    "\n",
    "    # === Cancellation rate ===\n",
    "    if 'cancellationDateOfFloodPolicy' in chunk.columns:\n",
    "        cancel_rate = grouped['cancellationDateOfFloodPolicy'].apply(lambda x: x.notna().mean()).reset_index(name='cancellation_rate')\n",
    "        agg_chunk = agg_chunk.merge(cancel_rate, on=group_cols, how='left')\n",
    "\n",
    "    # === Category counts ===\n",
    "    if 'buildingDesc' in chunk.columns:\n",
    "        bld_counts = expand_categorical_counts(chunk, 'buildingDesc', 'buildingDesc')\n",
    "        agg_chunk = agg_chunk.merge(bld_counts, on=group_cols, how='left')\n",
    "\n",
    "    if 'ratedFloodZone' in chunk.columns:\n",
    "        flood_counts = expand_categorical_counts(chunk, 'ratedFloodZone', 'floodZone')\n",
    "        agg_chunk = agg_chunk.merge(flood_counts, on=group_cols, how='left')\n",
    "\n",
    "    if 'occupancyType' in chunk.columns:\n",
    "        occ_counts = expand_categorical_counts(chunk, 'occupancyType', 'occupancyType')\n",
    "        agg_chunk = agg_chunk.merge(occ_counts, on=group_cols, how='left')\n",
    "\n",
    "    # === Cross-tab expansions ===\n",
    "    if {'floodproofedIndicator', 'buildingDesc'} <= set(chunk.columns):\n",
    "        floodproof_x_bld = expand_cross_tab(chunk, 'floodproofedIndicator', 'buildingDesc', 'floodproofed')\n",
    "        agg_chunk = agg_chunk.merge(floodproof_x_bld, on=group_cols, how='left')\n",
    "\n",
    "    if {'elevatedBuildingIndicator', 'ratedFloodZone'} <= set(chunk.columns):\n",
    "        elev_x_zone = expand_cross_tab(chunk, 'elevatedBuildingIndicator', 'ratedFloodZone', 'elevated')\n",
    "        agg_chunk = agg_chunk.merge(elev_x_zone, on=group_cols, how='left')\n",
    "\n",
    "    if {'smallBusinessIndicatorBuilding', 'buildingDesc'} <= set(chunk.columns):\n",
    "        smallbiz_x_bld = expand_cross_tab(chunk, 'smallBusinessIndicatorBuilding', 'buildingDesc', 'smallbiz')\n",
    "        agg_chunk = agg_chunk.merge(smallbiz_x_bld, on=group_cols, how='left')\n",
    "\n",
    "    return agg_chunk\n",
    "\n",
    "# =====================================================\n",
    "# 5. Process in chunks\n",
    "# =====================================================\n",
    "chunk_size = 1_000_000\n",
    "n_rows = len(df)\n",
    "agg_chunks = []\n",
    "\n",
    "for start in range(0, n_rows, chunk_size):\n",
    "    end = min(start + chunk_size, n_rows)\n",
    "    print(f\"Processing rows {start:,}–{end:,}...\")\n",
    "    chunk = df.iloc[start:end].copy()\n",
    "    agg_chunks.append(aggregate_chunk(chunk))\n",
    "    del chunk\n",
    "\n",
    "# =====================================================\n",
    "# 6. Combine results\n",
    "# =====================================================\n",
    "print(\"Combining all chunk aggregates...\")\n",
    "full_agg = pd.concat(agg_chunks, ignore_index=True)\n",
    "group_cols = ['countyCode', 'year', 'quarter']\n",
    "\n",
    "agg_dict_final = {}\n",
    "for col in full_agg.columns:\n",
    "    if col in group_cols:\n",
    "        continue\n",
    "    if col.endswith(('_sum', '_count', '_true_count')) or col == 'id_count':\n",
    "        agg_dict_final[col] = 'sum'\n",
    "    elif col.endswith(('_mean', '_median', '_rate')):\n",
    "        agg_dict_final[col] = 'mean'\n",
    "    else:\n",
    "        agg_dict_final[col] = 'first'\n",
    "\n",
    "agg_df = full_agg.groupby(group_cols, as_index=False).agg(agg_dict_final)\n",
    "\n",
    "# === Premium-to-coverage ratio ===\n",
    "if 'totalInsurancePremiumOfThePolicy_mean' in agg_df.columns:\n",
    "    total_cov = agg_df.get('totalBuildingInsuranceCoverage_mean', 0) + agg_df.get('totalContentsInsuranceCoverage_mean', 0)\n",
    "    agg_df['premium_to_coverage_ratio'] = np.where(\n",
    "        total_cov > 0,\n",
    "        agg_df['totalInsurancePremiumOfThePolicy_mean'] / total_cov,\n",
    "        np.nan\n",
    "    )\n",
    "\n"
   ]
  },
  {
   "cell_type": "code",
   "execution_count": 4,
   "id": "e6770e47",
   "metadata": {},
   "outputs": [
    {
     "data": {
      "text/html": [
       "<div>\n",
       "<style scoped>\n",
       "    .dataframe tbody tr th:only-of-type {\n",
       "        vertical-align: middle;\n",
       "    }\n",
       "\n",
       "    .dataframe tbody tr th {\n",
       "        vertical-align: top;\n",
       "    }\n",
       "\n",
       "    .dataframe thead th {\n",
       "        text-align: right;\n",
       "    }\n",
       "</style>\n",
       "<table border=\"1\" class=\"dataframe\">\n",
       "  <thead>\n",
       "    <tr style=\"text-align: right;\">\n",
       "      <th></th>\n",
       "      <th>countyCode</th>\n",
       "      <th>year</th>\n",
       "      <th>quarter</th>\n",
       "      <th>policyCount_sum</th>\n",
       "      <th>id_count</th>\n",
       "      <th>totalBuildingInsuranceCoverage_sum</th>\n",
       "      <th>totalBuildingInsuranceCoverage_mean</th>\n",
       "      <th>totalContentsInsuranceCoverage_sum</th>\n",
       "      <th>totalContentsInsuranceCoverage_mean</th>\n",
       "      <th>totalInsurancePremiumOfThePolicy_sum</th>\n",
       "      <th>...</th>\n",
       "      <th>occupancyType_14.0_count</th>\n",
       "      <th>occupancyType_15.0_count</th>\n",
       "      <th>occupancyType_16.0_count</th>\n",
       "      <th>occupancyType_17.0_count</th>\n",
       "      <th>occupancyType_18.0_count</th>\n",
       "      <th>occupancyType_19.0_count</th>\n",
       "      <th>buildingDesc_34.0_count</th>\n",
       "      <th>buildingDesc_condo_unit_count</th>\n",
       "      <th>floodZone_V30_count</th>\n",
       "      <th>premium_to_coverage_ratio</th>\n",
       "    </tr>\n",
       "  </thead>\n",
       "  <tbody>\n",
       "    <tr>\n",
       "      <th>0</th>\n",
       "      <td>0.0</td>\n",
       "      <td>2014</td>\n",
       "      <td>2</td>\n",
       "      <td>6</td>\n",
       "      <td>6</td>\n",
       "      <td>1277600.0</td>\n",
       "      <td>217740.000000</td>\n",
       "      <td>0.0</td>\n",
       "      <td>0.000000</td>\n",
       "      <td>9944.0</td>\n",
       "      <td>...</td>\n",
       "      <td>0.0</td>\n",
       "      <td>0.0</td>\n",
       "      <td>0.0</td>\n",
       "      <td>0.0</td>\n",
       "      <td>0.0</td>\n",
       "      <td>0.0</td>\n",
       "      <td>0.0</td>\n",
       "      <td>0.0</td>\n",
       "      <td>0.0</td>\n",
       "      <td>0.007256</td>\n",
       "    </tr>\n",
       "    <tr>\n",
       "      <th>1</th>\n",
       "      <td>0.0</td>\n",
       "      <td>2014</td>\n",
       "      <td>3</td>\n",
       "      <td>2</td>\n",
       "      <td>2</td>\n",
       "      <td>745600.0</td>\n",
       "      <td>372800.000000</td>\n",
       "      <td>0.0</td>\n",
       "      <td>0.000000</td>\n",
       "      <td>6486.0</td>\n",
       "      <td>...</td>\n",
       "      <td>0.0</td>\n",
       "      <td>0.0</td>\n",
       "      <td>0.0</td>\n",
       "      <td>0.0</td>\n",
       "      <td>0.0</td>\n",
       "      <td>0.0</td>\n",
       "      <td>0.0</td>\n",
       "      <td>0.0</td>\n",
       "      <td>0.0</td>\n",
       "      <td>0.008699</td>\n",
       "    </tr>\n",
       "    <tr>\n",
       "      <th>2</th>\n",
       "      <td>0.0</td>\n",
       "      <td>2015</td>\n",
       "      <td>2</td>\n",
       "      <td>6</td>\n",
       "      <td>6</td>\n",
       "      <td>1277600.0</td>\n",
       "      <td>212933.333333</td>\n",
       "      <td>0.0</td>\n",
       "      <td>0.000000</td>\n",
       "      <td>10243.0</td>\n",
       "      <td>...</td>\n",
       "      <td>0.0</td>\n",
       "      <td>0.0</td>\n",
       "      <td>0.0</td>\n",
       "      <td>0.0</td>\n",
       "      <td>0.0</td>\n",
       "      <td>0.0</td>\n",
       "      <td>0.0</td>\n",
       "      <td>0.0</td>\n",
       "      <td>0.0</td>\n",
       "      <td>0.008017</td>\n",
       "    </tr>\n",
       "    <tr>\n",
       "      <th>3</th>\n",
       "      <td>0.0</td>\n",
       "      <td>2015</td>\n",
       "      <td>3</td>\n",
       "      <td>3</td>\n",
       "      <td>3</td>\n",
       "      <td>906400.0</td>\n",
       "      <td>302133.333333</td>\n",
       "      <td>0.0</td>\n",
       "      <td>0.000000</td>\n",
       "      <td>7777.0</td>\n",
       "      <td>...</td>\n",
       "      <td>0.0</td>\n",
       "      <td>0.0</td>\n",
       "      <td>0.0</td>\n",
       "      <td>0.0</td>\n",
       "      <td>0.0</td>\n",
       "      <td>0.0</td>\n",
       "      <td>0.0</td>\n",
       "      <td>0.0</td>\n",
       "      <td>0.0</td>\n",
       "      <td>0.008580</td>\n",
       "    </tr>\n",
       "    <tr>\n",
       "      <th>4</th>\n",
       "      <td>0.0</td>\n",
       "      <td>2016</td>\n",
       "      <td>2</td>\n",
       "      <td>7</td>\n",
       "      <td>7</td>\n",
       "      <td>1438700.0</td>\n",
       "      <td>180441.666667</td>\n",
       "      <td>0.0</td>\n",
       "      <td>0.000000</td>\n",
       "      <td>9811.0</td>\n",
       "      <td>...</td>\n",
       "      <td>0.0</td>\n",
       "      <td>0.0</td>\n",
       "      <td>0.0</td>\n",
       "      <td>0.0</td>\n",
       "      <td>0.0</td>\n",
       "      <td>0.0</td>\n",
       "      <td>0.0</td>\n",
       "      <td>0.0</td>\n",
       "      <td>0.0</td>\n",
       "      <td>0.008642</td>\n",
       "    </tr>\n",
       "    <tr>\n",
       "      <th>...</th>\n",
       "      <td>...</td>\n",
       "      <td>...</td>\n",
       "      <td>...</td>\n",
       "      <td>...</td>\n",
       "      <td>...</td>\n",
       "      <td>...</td>\n",
       "      <td>...</td>\n",
       "      <td>...</td>\n",
       "      <td>...</td>\n",
       "      <td>...</td>\n",
       "      <td>...</td>\n",
       "      <td>...</td>\n",
       "      <td>...</td>\n",
       "      <td>...</td>\n",
       "      <td>...</td>\n",
       "      <td>...</td>\n",
       "      <td>...</td>\n",
       "      <td>...</td>\n",
       "      <td>...</td>\n",
       "      <td>...</td>\n",
       "      <td>...</td>\n",
       "    </tr>\n",
       "    <tr>\n",
       "      <th>139622</th>\n",
       "      <td>78030.0</td>\n",
       "      <td>2024</td>\n",
       "      <td>3</td>\n",
       "      <td>119</td>\n",
       "      <td>107</td>\n",
       "      <td>22842000.0</td>\n",
       "      <td>223738.363636</td>\n",
       "      <td>5981000.0</td>\n",
       "      <td>57332.792969</td>\n",
       "      <td>29297.0</td>\n",
       "      <td>...</td>\n",
       "      <td>0.0</td>\n",
       "      <td>1.0</td>\n",
       "      <td>7.0</td>\n",
       "      <td>0.0</td>\n",
       "      <td>31.0</td>\n",
       "      <td>2.0</td>\n",
       "      <td>0.0</td>\n",
       "      <td>0.0</td>\n",
       "      <td>0.0</td>\n",
       "      <td>0.000996</td>\n",
       "    </tr>\n",
       "    <tr>\n",
       "      <th>139623</th>\n",
       "      <td>78030.0</td>\n",
       "      <td>2024</td>\n",
       "      <td>4</td>\n",
       "      <td>76</td>\n",
       "      <td>76</td>\n",
       "      <td>16153000.0</td>\n",
       "      <td>211637.487923</td>\n",
       "      <td>7076000.0</td>\n",
       "      <td>80386.179688</td>\n",
       "      <td>21456.0</td>\n",
       "      <td>...</td>\n",
       "      <td>0.0</td>\n",
       "      <td>0.0</td>\n",
       "      <td>5.0</td>\n",
       "      <td>0.0</td>\n",
       "      <td>23.0</td>\n",
       "      <td>3.0</td>\n",
       "      <td>0.0</td>\n",
       "      <td>0.0</td>\n",
       "      <td>0.0</td>\n",
       "      <td>0.000952</td>\n",
       "    </tr>\n",
       "    <tr>\n",
       "      <th>139624</th>\n",
       "      <td>78030.0</td>\n",
       "      <td>2025</td>\n",
       "      <td>1</td>\n",
       "      <td>51</td>\n",
       "      <td>51</td>\n",
       "      <td>9260000.0</td>\n",
       "      <td>181808.875129</td>\n",
       "      <td>1790000.0</td>\n",
       "      <td>33835.429688</td>\n",
       "      <td>13853.0</td>\n",
       "      <td>...</td>\n",
       "      <td>0.0</td>\n",
       "      <td>0.0</td>\n",
       "      <td>3.0</td>\n",
       "      <td>0.0</td>\n",
       "      <td>7.0</td>\n",
       "      <td>1.0</td>\n",
       "      <td>0.0</td>\n",
       "      <td>0.0</td>\n",
       "      <td>0.0</td>\n",
       "      <td>0.001257</td>\n",
       "    </tr>\n",
       "    <tr>\n",
       "      <th>139625</th>\n",
       "      <td>78030.0</td>\n",
       "      <td>2025</td>\n",
       "      <td>2</td>\n",
       "      <td>199</td>\n",
       "      <td>77</td>\n",
       "      <td>45672000.0</td>\n",
       "      <td>656490.652075</td>\n",
       "      <td>6028000.0</td>\n",
       "      <td>79450.976562</td>\n",
       "      <td>22972.0</td>\n",
       "      <td>...</td>\n",
       "      <td>0.0</td>\n",
       "      <td>10.0</td>\n",
       "      <td>3.0</td>\n",
       "      <td>0.0</td>\n",
       "      <td>22.0</td>\n",
       "      <td>0.0</td>\n",
       "      <td>0.0</td>\n",
       "      <td>0.0</td>\n",
       "      <td>0.0</td>\n",
       "      <td>0.000413</td>\n",
       "    </tr>\n",
       "    <tr>\n",
       "      <th>139626</th>\n",
       "      <td>78030.0</td>\n",
       "      <td>2025</td>\n",
       "      <td>3</td>\n",
       "      <td>83</td>\n",
       "      <td>83</td>\n",
       "      <td>14501000.0</td>\n",
       "      <td>177031.274281</td>\n",
       "      <td>4632000.0</td>\n",
       "      <td>52247.863281</td>\n",
       "      <td>37464.0</td>\n",
       "      <td>...</td>\n",
       "      <td>0.0</td>\n",
       "      <td>0.0</td>\n",
       "      <td>6.0</td>\n",
       "      <td>0.0</td>\n",
       "      <td>20.0</td>\n",
       "      <td>3.0</td>\n",
       "      <td>0.0</td>\n",
       "      <td>0.0</td>\n",
       "      <td>0.0</td>\n",
       "      <td>0.002048</td>\n",
       "    </tr>\n",
       "  </tbody>\n",
       "</table>\n",
       "<p>139627 rows × 217 columns</p>\n",
       "</div>"
      ],
      "text/plain": [
       "        countyCode  year  quarter  policyCount_sum  id_count  \\\n",
       "0              0.0  2014        2                6         6   \n",
       "1              0.0  2014        3                2         2   \n",
       "2              0.0  2015        2                6         6   \n",
       "3              0.0  2015        3                3         3   \n",
       "4              0.0  2016        2                7         7   \n",
       "...            ...   ...      ...              ...       ...   \n",
       "139622     78030.0  2024        3              119       107   \n",
       "139623     78030.0  2024        4               76        76   \n",
       "139624     78030.0  2025        1               51        51   \n",
       "139625     78030.0  2025        2              199        77   \n",
       "139626     78030.0  2025        3               83        83   \n",
       "\n",
       "        totalBuildingInsuranceCoverage_sum  \\\n",
       "0                                1277600.0   \n",
       "1                                 745600.0   \n",
       "2                                1277600.0   \n",
       "3                                 906400.0   \n",
       "4                                1438700.0   \n",
       "...                                    ...   \n",
       "139622                          22842000.0   \n",
       "139623                          16153000.0   \n",
       "139624                           9260000.0   \n",
       "139625                          45672000.0   \n",
       "139626                          14501000.0   \n",
       "\n",
       "        totalBuildingInsuranceCoverage_mean  \\\n",
       "0                             217740.000000   \n",
       "1                             372800.000000   \n",
       "2                             212933.333333   \n",
       "3                             302133.333333   \n",
       "4                             180441.666667   \n",
       "...                                     ...   \n",
       "139622                        223738.363636   \n",
       "139623                        211637.487923   \n",
       "139624                        181808.875129   \n",
       "139625                        656490.652075   \n",
       "139626                        177031.274281   \n",
       "\n",
       "        totalContentsInsuranceCoverage_sum  \\\n",
       "0                                      0.0   \n",
       "1                                      0.0   \n",
       "2                                      0.0   \n",
       "3                                      0.0   \n",
       "4                                      0.0   \n",
       "...                                    ...   \n",
       "139622                           5981000.0   \n",
       "139623                           7076000.0   \n",
       "139624                           1790000.0   \n",
       "139625                           6028000.0   \n",
       "139626                           4632000.0   \n",
       "\n",
       "        totalContentsInsuranceCoverage_mean  \\\n",
       "0                                  0.000000   \n",
       "1                                  0.000000   \n",
       "2                                  0.000000   \n",
       "3                                  0.000000   \n",
       "4                                  0.000000   \n",
       "...                                     ...   \n",
       "139622                         57332.792969   \n",
       "139623                         80386.179688   \n",
       "139624                         33835.429688   \n",
       "139625                         79450.976562   \n",
       "139626                         52247.863281   \n",
       "\n",
       "        totalInsurancePremiumOfThePolicy_sum  ...  occupancyType_14.0_count  \\\n",
       "0                                     9944.0  ...                       0.0   \n",
       "1                                     6486.0  ...                       0.0   \n",
       "2                                    10243.0  ...                       0.0   \n",
       "3                                     7777.0  ...                       0.0   \n",
       "4                                     9811.0  ...                       0.0   \n",
       "...                                      ...  ...                       ...   \n",
       "139622                               29297.0  ...                       0.0   \n",
       "139623                               21456.0  ...                       0.0   \n",
       "139624                               13853.0  ...                       0.0   \n",
       "139625                               22972.0  ...                       0.0   \n",
       "139626                               37464.0  ...                       0.0   \n",
       "\n",
       "        occupancyType_15.0_count  occupancyType_16.0_count  \\\n",
       "0                            0.0                       0.0   \n",
       "1                            0.0                       0.0   \n",
       "2                            0.0                       0.0   \n",
       "3                            0.0                       0.0   \n",
       "4                            0.0                       0.0   \n",
       "...                          ...                       ...   \n",
       "139622                       1.0                       7.0   \n",
       "139623                       0.0                       5.0   \n",
       "139624                       0.0                       3.0   \n",
       "139625                      10.0                       3.0   \n",
       "139626                       0.0                       6.0   \n",
       "\n",
       "        occupancyType_17.0_count  occupancyType_18.0_count  \\\n",
       "0                            0.0                       0.0   \n",
       "1                            0.0                       0.0   \n",
       "2                            0.0                       0.0   \n",
       "3                            0.0                       0.0   \n",
       "4                            0.0                       0.0   \n",
       "...                          ...                       ...   \n",
       "139622                       0.0                      31.0   \n",
       "139623                       0.0                      23.0   \n",
       "139624                       0.0                       7.0   \n",
       "139625                       0.0                      22.0   \n",
       "139626                       0.0                      20.0   \n",
       "\n",
       "        occupancyType_19.0_count  buildingDesc_34.0_count  \\\n",
       "0                            0.0                      0.0   \n",
       "1                            0.0                      0.0   \n",
       "2                            0.0                      0.0   \n",
       "3                            0.0                      0.0   \n",
       "4                            0.0                      0.0   \n",
       "...                          ...                      ...   \n",
       "139622                       2.0                      0.0   \n",
       "139623                       3.0                      0.0   \n",
       "139624                       1.0                      0.0   \n",
       "139625                       0.0                      0.0   \n",
       "139626                       3.0                      0.0   \n",
       "\n",
       "        buildingDesc_condo_unit_count  floodZone_V30_count  \\\n",
       "0                                 0.0                  0.0   \n",
       "1                                 0.0                  0.0   \n",
       "2                                 0.0                  0.0   \n",
       "3                                 0.0                  0.0   \n",
       "4                                 0.0                  0.0   \n",
       "...                               ...                  ...   \n",
       "139622                            0.0                  0.0   \n",
       "139623                            0.0                  0.0   \n",
       "139624                            0.0                  0.0   \n",
       "139625                            0.0                  0.0   \n",
       "139626                            0.0                  0.0   \n",
       "\n",
       "        premium_to_coverage_ratio  \n",
       "0                        0.007256  \n",
       "1                        0.008699  \n",
       "2                        0.008017  \n",
       "3                        0.008580  \n",
       "4                        0.008642  \n",
       "...                           ...  \n",
       "139622                   0.000996  \n",
       "139623                   0.000952  \n",
       "139624                   0.001257  \n",
       "139625                   0.000413  \n",
       "139626                   0.002048  \n",
       "\n",
       "[139627 rows x 217 columns]"
      ]
     },
     "execution_count": 4,
     "metadata": {},
     "output_type": "execute_result"
    }
   ],
   "source": [
    "agg_df"
   ]
  },
  {
   "cell_type": "code",
   "execution_count": 5,
   "id": "5030e41c",
   "metadata": {},
   "outputs": [],
   "source": [
    "output_path = r\"C:\\Users\\liuc\\Downloads\\nfip_county_quarter_fema2.csv\"  # change if needed\n",
    "agg_df.to_csv(output_path, index=False)"
   ]
  }
 ],
 "metadata": {
  "kernelspec": {
   "display_name": "Python 3",
   "language": "python",
   "name": "python3"
  },
  "language_info": {
   "codemirror_mode": {
    "name": "ipython",
    "version": 3
   },
   "file_extension": ".py",
   "mimetype": "text/x-python",
   "name": "python",
   "nbconvert_exporter": "python",
   "pygments_lexer": "ipython3",
   "version": "3.11.9"
  }
 },
 "nbformat": 4,
 "nbformat_minor": 5
}
